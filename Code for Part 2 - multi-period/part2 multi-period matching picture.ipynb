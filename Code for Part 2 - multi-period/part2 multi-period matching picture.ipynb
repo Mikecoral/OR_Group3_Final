{
 "cells": [
  {
   "cell_type": "markdown",
   "id": "750e3d89",
   "metadata": {},
   "source": [
    "# Updated map function to show the matching situation"
   ]
  },
  {
   "cell_type": "code",
   "execution_count": 1,
   "id": "7af6698a",
   "metadata": {},
   "outputs": [],
   "source": [
    "import plotly.graph_objects as go\n",
    "from PIL import Image\n",
    "import requests\n",
    "from io import BytesIO #try 1\n",
    "\n",
    "def update_show_map(buildings, building_names, building_coordinates, demand, \n",
    "                   truck_coordinates, placed_trucks=[], matched_pairs=[], \n",
    "                   truck_types={}, day_data=None, model=None):\n",
    "    \"\"\"Updated map showing function with better integration with optimization results\"\"\"\n",
    "    y_max = 550\n",
    "\n",
    "    # Collect all coordinates of trucks\n",
    "    truck_spot_x = [value[0] for key, value in truck_coordinates.items()]\n",
    "    truck_spot_y = [y_max - value[1] for key, value in truck_coordinates.items()]\n",
    "    trucks = [key for key in truck_coordinates.keys()]\n",
    "\n",
    "    # Data of buildings\n",
    "    building_x = [value[0] for key, value in building_coordinates.items()]\n",
    "    building_y = [y_max - value[1] for key, value in building_coordinates.items()]\n",
    "    demand_values = [demand[key] for key in building_coordinates.keys()]\n",
    "    building_names_list = [building_names[key] for key in building_coordinates.keys()]\n",
    "\n",
    "    # Adjust the size of demand nodes\n",
    "    demand_size = [d/2 for d in demand_values]\n",
    "\n",
    "    # Prepare the deployed truck data\n",
    "    placed_truck_data = []\n",
    "    if placed_trucks and day_data and model:\n",
    "        for truck_spot in placed_trucks:\n",
    "            if truck_spot in truck_coordinates:\n",
    "                # Find which truck type is deployed here\n",
    "                deployed_type = None\n",
    "                for k in truck_types:\n",
    "                    if (k, truck_spot, day_data['current_day']) in model._vars['x']:\n",
    "                        if model._vars['x'][k, truck_spot, day_data['current_day']].X > 0.5:\n",
    "                            deployed_type = k\n",
    "                            break\n",
    "                \n",
    "                if deployed_type is not None:\n",
    "                    # Determine if this is a new or maintained deployment\n",
    "                    if day_data['current_day'] == day_data['days'][0]:\n",
    "                        status = 'New'\n",
    "                    else:\n",
    "                        prev_day = day_data['days'][day_data['days'].index(day_data['current_day'])-1]\n",
    "                        if (deployed_type, truck_spot, prev_day) in model._vars['x']:\n",
    "                            prev_deployed = model._vars['x'][deployed_type, truck_spot, prev_day].X > 0.5\n",
    "                            status = 'New' if not prev_deployed else 'Maintained'\n",
    "                        else:\n",
    "                            status = 'New'\n",
    "                    \n",
    "                    placed_truck_data.append({\n",
    "                        'x': truck_coordinates[truck_spot][0],\n",
    "                        'y': y_max - truck_coordinates[truck_spot][1],\n",
    "                        'name': truck_spot,\n",
    "                        'type': ['Small', 'Medium', 'Large'][deployed_type],\n",
    "                        'status': status\n",
    "                    })\n",
    "\n",
    "    map = Image.open('map.png')\n",
    "    fig = go.Figure()\n",
    "\n",
    "    # Add matching lines based on optimization results\n",
    "    if matched_pairs and day_data and model:\n",
    "        for building, truck_spot in matched_pairs:\n",
    "            if building in building_coordinates and truck_spot in truck_coordinates:\n",
    "                t = day_data['current_day']\n",
    "                if (building, truck_spot, t) in model._vars['y']:\n",
    "                    if model._vars['y'][building, truck_spot, t].X > 0.5:\n",
    "                        x0 = building_coordinates[building][0]\n",
    "                        y0 = y_max - building_coordinates[building][1]\n",
    "                        x1 = truck_coordinates[truck_spot][0]\n",
    "                        y1 = y_max - truck_coordinates[truck_spot][1]\n",
    "                        \n",
    "                        fig.add_trace(\n",
    "                            go.Scatter(\n",
    "                                x=[x0, x1],\n",
    "                                y=[y0, y1],\n",
    "                                mode='lines',\n",
    "                                line=dict(color='rgba(150, 150, 150, 1)', width=1.5),\n",
    "                                hoverinfo='none',\n",
    "                                showlegend=False\n",
    "                            )\n",
    "                        )\n",
    "\n",
    "    # Add demand nodes\n",
    "    fig.add_trace(\n",
    "        go.Scatter(\n",
    "            x=building_x, \n",
    "            y=building_y,\n",
    "            hovertemplate=[f\"{name}<br>Demand: {demand}\" \n",
    "                          for name, demand in zip(building_names_list, demand_values)],\n",
    "            name=\"Demand Point\",\n",
    "            mode='markers',\n",
    "            marker=dict(\n",
    "                color='red',\n",
    "                opacity=0.7,\n",
    "                size=demand_size,\n",
    "                line=dict(width=0)\n",
    "            )\n",
    "        )\n",
    "    )\n",
    "\n",
    "    # Add available truck locations\n",
    "    fig.add_trace(\n",
    "        go.Scatter(\n",
    "            x=truck_spot_x, \n",
    "            y=truck_spot_y,\n",
    "            hovertemplate=trucks,\n",
    "            name=\"Available Location\",\n",
    "            mode='markers',\n",
    "            marker=dict(\n",
    "                color='rgba(135, 206, 250, 0.3)',\n",
    "                line=dict(color='darkblue', width=1),\n",
    "                size=10,\n",
    "                symbol='circle'\n",
    "            )\n",
    "        )\n",
    "    )\n",
    "\n",
    "    # Add deployed trucks with proper categorization\n",
    "    if placed_truck_data:\n",
    "        # Group by truck type\n",
    "        truck_categories = {\n",
    "            'Small': {'symbol': 'triangle-up', 'data': []},\n",
    "            'Medium': {'symbol': 'square', 'data': []},\n",
    "            'Large': {'symbol': 'circle', 'data': []}\n",
    "        }\n",
    "        \n",
    "        for truck in placed_truck_data:\n",
    "            truck_categories[truck['type']]['data'].append(truck)\n",
    "        \n",
    "        # Add traces for each category\n",
    "        for category, info in truck_categories.items():\n",
    "            if info['data']:\n",
    "                fig.add_trace(\n",
    "                    go.Scatter(\n",
    "                        x=[t['x'] for t in info['data']],\n",
    "                        y=[t['y'] for t in info['data']],\n",
    "                        hovertemplate=[f\"{t['name']}<br>{t['type']} ({t['status']})\" \n",
    "                                      for t in info['data']],\n",
    "                        name=f\"{category} Trucks\",\n",
    "                        mode='markers',\n",
    "                        marker=dict(\n",
    "                            color=['green' if t['status'] == 'New' else 'blue' \n",
    "                                  for t in info['data']],\n",
    "                            symbol=info['symbol'],\n",
    "                            size=12,\n",
    "                            line=dict(width=1, color='black')\n",
    "                        )\n",
    "                    )\n",
    "                )\n",
    "\n",
    "    # Add base map image\n",
    "    fig.add_layout_image(\n",
    "        dict(\n",
    "            source=map,\n",
    "            xref=\"x\",\n",
    "            yref=\"y\",\n",
    "            x=0,\n",
    "            y=550,\n",
    "            sizex=500,\n",
    "            sizey=550,\n",
    "            sizing=\"stretch\",\n",
    "            opacity=0.9,\n",
    "            layer=\"below\"\n",
    "        )\n",
    "    )\n",
    "\n",
    "    # Update layout\n",
    "    fig.update_layout(\n",
    "        template=\"simple_white\",\n",
    "        title=f\"Burrito Map - Day {day_data['current_day'] if day_data else ''}\",\n",
    "        showlegend=True,\n",
    "        legend=dict(\n",
    "            orientation=\"h\",\n",
    "            yanchor=\"bottom\",\n",
    "            y=1.02,\n",
    "            xanchor=\"right\",\n",
    "            x=1\n",
    "        )\n",
    "    )\n",
    "    \n",
    "    fig.update_xaxes(range=[0, 500], visible=False)\n",
    "    fig.update_yaxes(range=[0, 550], visible=False, scaleanchor=\"x\", scaleratio=1)\n",
    "\n",
    "    fig.show()"
   ]
  },
  {
   "cell_type": "code",
   "execution_count": 2,
   "id": "bee5f696",
   "metadata": {},
   "outputs": [],
   "source": [
    "import os\n",
    "import pandas as pd\n",
    "import gurobipy as gp\n",
    "from gurobipy import GRB\n",
    "from itertools import product\n",
    "import time\n",
    "\n",
    "# ================== Enhanced Data Loading Function ==================\n",
    "def load_multi_period_data(base_path='./Data', days=7):\n",
    "    \"\"\"More robust data loading function\"\"\"\n",
    "    all_data = {}\n",
    "    all_truck_spots = set()\n",
    "    \n",
    "    # First collect all possible truck locations\n",
    "    for day in range(1, days+1):\n",
    "        day_folder = f\"day_{day}\"\n",
    "        truck_path = f\"{base_path}/{day_folder}/round1-day{day}_truck_node_data.csv\"\n",
    "        if os.path.exists(truck_path):\n",
    "            df_truck = pd.read_csv(truck_path)\n",
    "            all_truck_spots.update(df_truck['index'].unique())\n",
    "    \n",
    "    for day in range(1, days+1):\n",
    "        day_key = f'day{day}'\n",
    "        day_data = {}\n",
    "        day_folder = f\"day_{day}\"\n",
    "        print(f\"\\nLoading {day_key} data...\")\n",
    "        \n",
    "        try:\n",
    "            # 1. Problem data\n",
    "            problem_path = f\"{base_path}/{day_folder}/round1-day{day}_problem_data.csv\"\n",
    "            df_problem = pd.read_csv(problem_path)\n",
    "            day_data.update({\n",
    "                'burrito_price': float(df_problem['burrito_price'][0]),\n",
    "                'ingredient_cost': float(df_problem['ingredient_cost'][0]),\n",
    "                'truck_cost': float(df_problem['truck_cost'][0])\n",
    "            })\n",
    "            print(f\"  Problem data loaded successfully | Price: ₲{day_data['burrito_price']} Cost: ₲{day_data['ingredient_cost']}\")\n",
    "\n",
    "            # 2. Truck locations (using complete set)\n",
    "            truck_path = f\"{base_path}/{day_folder}/round1-day{day}_truck_node_data.csv\"\n",
    "            df_truck = pd.read_csv(truck_path)\n",
    "            day_data['truck_coordinates'] = {\n",
    "                spot: (float(df_truck[df_truck['index']==spot]['x'].iloc[0]), \n",
    "                      float(df_truck[df_truck['index']==spot]['y'].iloc[0]))\n",
    "                for spot in all_truck_spots if spot in df_truck['index'].values\n",
    "            }\n",
    "            day_data['truck_spots'] = list(all_truck_spots)  # Using complete set\n",
    "            print(f\"  Truck locations | Total: {len(day_data['truck_spots'])} Actually available: {len(day_data['truck_coordinates'])}\")\n",
    "\n",
    "            # 3. Demand data\n",
    "            demand_path = f\"{base_path}/{day_folder}/round1-day{day}_demand_node_data.csv\"\n",
    "            df_demand = pd.read_csv(demand_path)\n",
    "            buildings_data = {\n",
    "                row['index']: [row['name'], (float(row['x']), float(row['y'])), float(row['demand'])]\n",
    "                for _, row in df_demand.iterrows()\n",
    "            }\n",
    "            day_data['buildings'], day_data['building_names'], day_data['building_coords'], day_data['demand'] = gp.multidict(buildings_data)\n",
    "            print(f\"  Demand nodes | Total: {len(day_data['buildings'])}\")\n",
    "\n",
    "            # 4. Distance and preference scores\n",
    "            pairs_path = f\"{base_path}/{day_folder}/round1-day{day}_demand_truck_data.csv\"\n",
    "            df_pairs = pd.read_csv(pairs_path)\n",
    "            \n",
    "            # Build valid pairs dictionary\n",
    "            pairs_dict = {}\n",
    "            for _, row in df_pairs.iterrows():\n",
    "                i = row['demand_node_index']\n",
    "                j = row['truck_node_index']\n",
    "                if j in all_truck_spots and float(row['scaled_demand']) > 0:\n",
    "                    pairs_dict[(i,j)] = [float(row['distance']), float(row['scaled_demand'])]\n",
    "            \n",
    "            # Safely create multidict\n",
    "            if pairs_dict:\n",
    "                day_data['pairs'], day_data['distance'], day_data['scaled_demand'] = gp.multidict(pairs_dict)\n",
    "                print(f\"  Valid customer-location pairs | Count: {len(day_data['pairs'])}\")\n",
    "            else:\n",
    "                day_data['pairs'], day_data['distance'], day_data['scaled_demand'] = [], [], []\n",
    "                print(\"  Warning: No valid customer-location pairs found\")\n",
    "            \n",
    "            all_data[day_key] = day_data\n",
    "            \n",
    "        except Exception as e:\n",
    "            print(f\"  Failed to load {day_key} data: {str(e)}\")\n",
    "            raise\n",
    "    \n",
    "    return all_data"
   ]
  },
  {
   "cell_type": "code",
   "execution_count": 3,
   "id": "91d9ac93",
   "metadata": {},
   "outputs": [
    {
     "name": "stdout",
     "output_type": "stream",
     "text": [
      "Start loading data...\n",
      "\n",
      "Loading day1 data...\n",
      "  Problem data loaded successfully | Price: ₲10.0 Cost: ₲5.0\n",
      "  Truck locations | Total: 56 Actually available: 15\n",
      "  Demand nodes | Total: 15\n",
      "  Valid customer-location pairs | Count: 100\n",
      "\n",
      "Loading day2 data...\n",
      "  Problem data loaded successfully | Price: ₲10.0 Cost: ₲5.0\n",
      "  Truck locations | Total: 56 Actually available: 20\n",
      "  Demand nodes | Total: 29\n",
      "  Valid customer-location pairs | Count: 275\n",
      "\n",
      "Loading day3 data...\n",
      "  Problem data loaded successfully | Price: ₲10.0 Cost: ₲7.0\n",
      "  Truck locations | Total: 56 Actually available: 20\n",
      "  Demand nodes | Total: 29\n",
      "  Valid customer-location pairs | Count: 273\n",
      "\n",
      "Loading day4 data...\n",
      "  Problem data loaded successfully | Price: ₲10.0 Cost: ₲5.0\n",
      "  Truck locations | Total: 56 Actually available: 20\n",
      "  Demand nodes | Total: 29\n",
      "  Valid customer-location pairs | Count: 43\n",
      "\n",
      "Loading day5 data...\n",
      "  Problem data loaded successfully | Price: ₲10.0 Cost: ₲5.0\n",
      "  Truck locations | Total: 56 Actually available: 56\n",
      "  Demand nodes | Total: 54\n",
      "  Valid customer-location pairs | Count: 1055\n",
      "\n",
      "Loading day6 data...\n",
      "  Problem data loaded successfully | Price: ₲10.0 Cost: ₲5.0\n",
      "  Truck locations | Total: 56 Actually available: 15\n",
      "  Demand nodes | Total: 15\n",
      "  Valid customer-location pairs | Count: 100\n",
      "\n",
      "Loading day7 data...\n",
      "  Problem data loaded successfully | Price: ₲10.0 Cost: ₲5.0\n",
      "  Truck locations | Total: 56 Actually available: 20\n",
      "  Demand nodes | Total: 29\n",
      "  Valid customer-location pairs | Count: 275\n",
      "Set parameter LicenseID to value 2652059\n",
      "Set parameter OutputFlag to value 1\n",
      "\n",
      "==================================================\n",
      "Starting to build multi-period model (Total 7 days)\n",
      "Truck types: 3 | Max distance: 500m\n",
      "==================================================\n",
      "\n",
      "Creating decision variables...\n",
      "Variables created | Time: 0.01s\n",
      "  - Deployment variables x: 1176\n",
      "  - Service variables y: 2121\n",
      "  - State change variables u: 1008\n",
      "\n",
      "Building objective function...\n",
      "Objective function built | Time: 0.01s\n",
      "\n",
      "Building constraints...\n",
      "  - State transition constraints...\n",
      "  - Day day1 constraints...\n",
      "  - Day day2 constraints...\n",
      "  - Day day3 constraints...\n",
      "  - Day day4 constraints...\n",
      "  - Day day5 constraints...\n",
      "  - Day day6 constraints...\n",
      "  - Day day7 constraints...\n",
      "Constraints built | Total constraints: 0 | Time: 0.12s\n",
      "\n",
      "Writing LP file...\n",
      "\n",
      "Start solving...\n",
      "Gurobi Optimizer version 12.0.1 build v12.0.1rc0 (win64 - Windows 11.0 (26100.2))\n",
      "\n",
      "CPU model: AMD Ryzen 7 7840HS w/ Radeon 780M Graphics, instruction set [SSE2|AVX|AVX2|AVX512]\n",
      "Thread count: 8 physical cores, 16 logical processors, using up to 16 threads\n",
      "\n",
      "Optimize a model with 8806 rows, 4305 columns and 27939 nonzeros\n",
      "Model fingerprint: 0x6478705b\n",
      "Variable types: 0 continuous, 4305 integer (4305 binary)\n",
      "Coefficient statistics:\n",
      "  Matrix range     [1e+00, 3e+02]\n",
      "  Objective range  [3e+00, 4e+02]\n",
      "  Bounds range     [1e+00, 1e+00]\n",
      "  RHS range        [1e+00, 5e+02]\n",
      "Found heuristic solution: objective -0.0000000\n",
      "Presolve removed 5627 rows and 1428 columns\n",
      "Presolve time: 0.04s\n",
      "Presolved: 3179 rows, 2877 columns, 15300 nonzeros\n",
      "Variable types: 0 continuous, 2877 integer (2877 binary)\n",
      "\n",
      "Root relaxation: objective 1.903749e+04, 1393 iterations, 0.03 seconds (0.04 work units)\n",
      "\n",
      "    Nodes    |    Current Node    |     Objective Bounds      |     Work\n",
      " Expl Unexpl |  Obj  Depth IntInf | Incumbent    BestBd   Gap | It/Node Time\n",
      "\n",
      "     0     0 19037.4862    0  283   -0.00000 19037.4862      -     -    0s\n",
      "H    0     0                    1847.0000000 19037.4862   931%     -    0s\n",
      "H    0     0                    5954.0000000 19037.4862   220%     -    0s\n",
      "H    0     0                    14563.000000 19037.4862  30.7%     -    0s\n",
      "H    0     0                    16119.000000 19037.4862  18.1%     -    0s\n",
      "H    0     0                    16489.000000 19037.4862  15.5%     -    0s\n",
      "H    0     0                    17184.000000 19037.4862  10.8%     -    0s\n",
      "H    0     0                    17429.000000 19037.4862  9.23%     -    0s\n",
      "H    0     0                    17681.000000 19037.4862  7.67%     -    0s\n",
      "H    0     0                    17711.000000 19037.4862  7.49%     -    0s\n",
      "H    0     0                    18041.000000 19037.4862  5.52%     -    0s\n",
      "H    0     0                    18066.000000 19037.4862  5.38%     -    0s\n",
      "H    0     0                    18081.000000 19037.4862  5.29%     -    0s\n",
      "H    0     0                    18126.000000 19037.4569  5.03%     -    0s\n",
      "     0     0 18841.9100    0  404 18126.0000 18841.9100  3.95%     -    0s\n",
      "H    0     0                    18136.000000 18841.9100  3.89%     -    0s\n",
      "H    0     0                    18167.000000 18672.1642  2.78%     -    0s\n",
      "     0     0 18672.1642    0  436 18167.0000 18672.1642  2.78%     -    0s\n",
      "     0     0 18658.3439    0  390 18167.0000 18658.3439  2.70%     -    0s\n",
      "     0     0 18657.5843    0  395 18167.0000 18657.5843  2.70%     -    0s\n",
      "     0     0 18657.3785    0  395 18167.0000 18657.3785  2.70%     -    0s\n",
      "     0     0 18657.3627    0  396 18167.0000 18657.3627  2.70%     -    0s\n",
      "H    0     0                    18182.000000 18568.7725  2.13%     -    0s\n",
      "     0     0 18568.7725    0  453 18182.0000 18568.7725  2.13%     -    0s\n",
      "     0     0 18518.2213    0  492 18182.0000 18518.2213  1.85%     -    0s\n",
      "     0     0 18515.7068    0  451 18182.0000 18515.7068  1.84%     -    0s\n",
      "     0     0 18514.2386    0  449 18182.0000 18514.2386  1.83%     -    0s\n",
      "     0     0 18513.7061    0  448 18182.0000 18513.7061  1.82%     -    0s\n",
      "     0     0 18477.0671    0  415 18182.0000 18477.0671  1.62%     -    0s\n",
      "     0     0 18439.0602    0  545 18182.0000 18439.0602  1.41%     -    0s\n",
      "     0     0 18434.8373    0  550 18182.0000 18434.8373  1.39%     -    0s\n",
      "     0     0 18432.1236    0  481 18182.0000 18432.1236  1.38%     -    0s\n",
      "     0     0 18431.7756    0  515 18182.0000 18431.7756  1.37%     -    0s\n",
      "     0     0 18431.7693    0  521 18182.0000 18431.7693  1.37%     -    0s\n",
      "     0     0 18418.7216    0  541 18182.0000 18418.7216  1.30%     -    1s\n",
      "     0     0 18414.2676    0  535 18182.0000 18414.2676  1.28%     -    1s\n",
      "     0     0 18413.1988    0  532 18182.0000 18413.1988  1.27%     -    1s\n",
      "     0     0 18412.5188    0  455 18182.0000 18412.5188  1.27%     -    1s\n",
      "     0     0 18412.4637    0  483 18182.0000 18412.4637  1.27%     -    1s\n",
      "     0     0 18405.5396    0  573 18182.0000 18405.5396  1.23%     -    1s\n",
      "     0     0 18404.3197    0  568 18182.0000 18404.3197  1.22%     -    1s\n",
      "     0     0 18403.9408    0  535 18182.0000 18403.9408  1.22%     -    1s\n",
      "     0     0 18403.8739    0  586 18182.0000 18403.8739  1.22%     -    1s\n",
      "     0     0 18399.5772    0  544 18182.0000 18399.5772  1.20%     -    1s\n",
      "H    0     0                    18192.000000 18399.5772  1.14%     -    1s\n",
      "H    0     0                    18207.000000 18399.5772  1.06%     -    1s\n",
      "     0     0 18398.2419    0  541 18207.0000 18398.2419  1.05%     -    1s\n",
      "     0     0 18398.0648    0  553 18207.0000 18398.0648  1.05%     -    1s\n",
      "     0     0 18396.1282    0  541 18207.0000 18396.1282  1.04%     -    1s\n",
      "     0     0 18395.7290    0  538 18207.0000 18395.7290  1.04%     -    1s\n",
      "     0     0 18395.7231    0  540 18207.0000 18395.7231  1.04%     -    1s\n",
      "H    0     0                    18212.000000 18395.7231  1.01%     -    1s\n",
      "     0     0 18395.1752    0  526 18212.0000 18395.1752  1.01%     -    1s\n",
      "     0     0 18395.1291    0  523 18212.0000 18395.1291  1.01%     -    1s\n",
      "     0     0 18395.0940    0  531 18212.0000 18395.0940  1.01%     -    1s\n",
      "     0     0 18394.9464    0  531 18212.0000 18394.9464  1.00%     -    1s\n",
      "H    0     0                    18227.000000 18394.8919  0.92%     -    1s\n",
      "     0     2 18394.8919    0  531 18227.0000 18394.8919  0.92%     -    1s\n",
      "H  386   364                    18230.000000 18375.4634  0.80%   103    3s\n",
      "H  402   391                    18235.000000 18375.4634  0.77%   103    3s\n",
      "H  443   401                    18239.000000 18375.4634  0.75%  99.3    3s\n",
      "H  448   401                    18250.000000 18375.4634  0.69%  98.7    3s\n",
      "H  617   465                    18255.000000 18365.2116  0.60%  97.2    3s\n",
      "H 1029   440                    18292.000000 18359.0517  0.37%  86.2    4s\n",
      "  1929   502     cutoff   12      18292.0000 18332.8554  0.22%  77.9    5s\n",
      "* 3395   289              18    18304.000004 18314.4477  0.06%  70.4    6s\n",
      "\n",
      "Cutting planes:\n",
      "  Gomory: 4\n",
      "  Lift-and-project: 4\n",
      "  Cover: 35\n",
      "  MIR: 82\n",
      "  StrongCG: 52\n",
      "  GUB cover: 43\n",
      "  Zero half: 15\n",
      "  Mod-K: 4\n",
      "  RLT: 33\n",
      "\n",
      "Explored 3834 nodes (255780 simplex iterations) in 6.40 seconds (9.02 work units)\n",
      "Thread count was 16 (of 16 available processors)\n",
      "\n",
      "Solution count 10: 18304 18292 18255 ... 18207\n",
      "No other solutions better than 18304\n",
      "\n",
      "Optimal solution found (tolerance 1.00e-04)\n",
      "Warning: max constraint violation (4.0081e-06) exceeds tolerance\n",
      "Best objective 1.830400000876e+04, best bound 1.830400000876e+04, gap 0.0000%\n",
      "Solving completed | Status: 2 | Time: 6.41s\n",
      "\n",
      "==================================================\n",
      "Optimal solution (Total profit: ₲18304.00)\n",
      "==================================================\n",
      "\n",
      "Day day1:\n",
      "  - Deployed trucks: 4 (New)\n",
      "  - Daily profit: ₲710.00 (Revenue: ₲1560.00, Cost: ₲850.00)\n",
      "    * Location truck33: Small (New)\n",
      "    * Location truck8: Small (New)\n",
      "    * Location truck37: Small (New)\n",
      "    * Location truck17: Medium (New)\n"
     ]
    },
    {
     "data": {
      "application/vnd.plotly.v1+json": {
       "config": {
        "plotlyServerURL": "https://plot.ly"
       },
       "data": [
        {
         "hoverinfo": "none",
         "line": {
          "color": "rgba(150, 150, 150, 1)",
          "width": 1.5
         },
         "mode": "lines",
         "showlegend": false,
         "type": "scatter",
         "x": [
          190.72068753836712,
          164.62860650705954
         ],
         "y": [
          477.338898163606,
          419.5826377295492
         ]
        },
        {
         "hoverinfo": "none",
         "line": {
          "color": "rgba(150, 150, 150, 1)",
          "width": 1.5
         },
         "mode": "lines",
         "showlegend": false,
         "type": "scatter",
         "x": [
          284.8385512584408,
          310.62001227747083
         ],
         "y": [
          361.20534223706176,
          327.9799666110183
         ]
        },
        {
         "hoverinfo": "none",
         "line": {
          "color": "rgba(150, 150, 150, 1)",
          "width": 1.5
         },
         "mode": "lines",
         "showlegend": false,
         "type": "scatter",
         "x": [
          256.57213014119094,
          164.62860650705954
         ],
         "y": [
          391.9465776293823,
          419.5826377295492
         ]
        },
        {
         "hoverinfo": "none",
         "line": {
          "color": "rgba(150, 150, 150, 1)",
          "width": 1.5
         },
         "mode": "lines",
         "showlegend": false,
         "type": "scatter",
         "x": [
          213.70656844689995,
          310.62001227747083
         ],
         "y": [
          389.46243739565944,
          327.9799666110183
         ]
        },
        {
         "hoverinfo": "none",
         "line": {
          "color": "rgba(150, 150, 150, 1)",
          "width": 1.5
         },
         "mode": "lines",
         "showlegend": false,
         "type": "scatter",
         "x": [
          129.21792510742787,
          164.62860650705954
         ],
         "y": [
          381.38898163606007,
          419.5826377295492
         ]
        },
        {
         "hoverinfo": "none",
         "line": {
          "color": "rgba(150, 150, 150, 1)",
          "width": 1.5
         },
         "mode": "lines",
         "showlegend": false,
         "type": "scatter",
         "x": [
          68.02578268876611,
          164.62860650705954
         ],
         "y": [
          320.21702838063436,
          419.5826377295492
         ]
        },
        {
         "hoverinfo": "none",
         "line": {
          "color": "rgba(150, 150, 150, 1)",
          "width": 1.5
         },
         "mode": "lines",
         "showlegend": false,
         "type": "scatter",
         "x": [
          187.6144874155924,
          310.62001227747083
         ],
         "y": [
          327.3589315525876,
          327.9799666110183
         ]
        },
        {
         "hoverinfo": "none",
         "line": {
          "color": "rgba(150, 150, 150, 1)",
          "width": 1.5
         },
         "mode": "lines",
         "showlegend": false,
         "type": "scatter",
         "x": [
          342.92449355432785,
          310.62001227747083
         ],
         "y": [
          318.6644407345576,
          327.9799666110183
         ]
        },
        {
         "hoverinfo": "none",
         "line": {
          "color": "rgba(150, 150, 150, 1)",
          "width": 1.5
         },
         "mode": "lines",
         "showlegend": false,
         "type": "scatter",
         "x": [
          356.2811540822591,
          393.2449355432781
         ],
         "y": [
          232.9616026711185,
          172.72120200333887
         ]
        },
        {
         "hoverinfo": "none",
         "line": {
          "color": "rgba(150, 150, 150, 1)",
          "width": 1.5
         },
         "mode": "lines",
         "showlegend": false,
         "type": "scatter",
         "x": [
          267.1332105586249,
          209.35788827501537
         ],
         "y": [
          187.93656093489147,
          151.60601001669448
         ]
        },
        {
         "hoverinfo": "none",
         "line": {
          "color": "rgba(150, 150, 150, 1)",
          "width": 1.5
         },
         "mode": "lines",
         "showlegend": false,
         "type": "scatter",
         "x": [
          359.3873542050338,
          393.2449355432781
         ],
         "y": [
          186.0734557595993,
          172.72120200333887
         ]
        },
        {
         "hoverinfo": "none",
         "line": {
          "color": "rgba(150, 150, 150, 1)",
          "width": 1.5
         },
         "mode": "lines",
         "showlegend": false,
         "type": "scatter",
         "x": [
          416.2308164518109,
          393.2449355432781
         ],
         "y": [
          107.20200333889812,
          172.72120200333887
         ]
        },
        {
         "hoverinfo": "none",
         "line": {
          "color": "rgba(150, 150, 150, 1)",
          "width": 1.5
         },
         "mode": "lines",
         "showlegend": false,
         "type": "scatter",
         "x": [
          375.2289748311848,
          393.2449355432781
         ],
         "y": [
          58.761268781302135,
          172.72120200333887
         ]
        },
        {
         "hoverinfo": "none",
         "line": {
          "color": "rgba(150, 150, 150, 1)",
          "width": 1.5
         },
         "mode": "lines",
         "showlegend": false,
         "type": "scatter",
         "x": [
          233.89686924493557,
          209.35788827501537
         ],
         "y": [
          69.31886477462433,
          151.60601001669448
         ]
        },
        {
         "hoverinfo": "none",
         "line": {
          "color": "rgba(150, 150, 150, 1)",
          "width": 1.5
         },
         "mode": "lines",
         "showlegend": false,
         "type": "scatter",
         "x": [
          391.38121546961327,
          310.62001227747083
         ],
         "y": [
          364,
          327.9799666110183
         ]
        },
        {
         "hovertemplate": [
          "ReLU Realty<br>Demand: 30.0",
          "Reinforcement Learning Puppy Training<br>Demand: 5.0",
          "KKT Air Conditioning<br>Demand: 50.0",
          "George's Basic Diet Solutions<br>Demand: 35.0",
          "Rothberg Tower<br>Demand: 30.0",
          "Multimodal Distribution Center<br>Demand: 5.0",
          "Callback Cat Café<br>Demand: 50.0",
          "Vertex Tower<br>Demand: 10.0",
          "Nonlinear Thinking Center<br>Demand: 5.0",
          "Interior Point Decorating<br>Demand: 40.0",
          "Scheduling Station<br>Demand: 5.0",
          "Multi-Threads Thrift Store<br>Demand: 50.0",
          "Land & Harcourt's B&B<br>Demand: 25.0",
          "K-Fold Parking Validation<br>Demand: 30.0",
          "Farkas' Lemma-nade<br>Demand: 50.0"
         ],
         "marker": {
          "color": "red",
          "line": {
           "width": 0
          },
          "opacity": 0.7,
          "size": [
           15,
           2.5,
           25,
           17.5,
           15,
           2.5,
           25,
           5,
           2.5,
           20,
           2.5,
           25,
           12.5,
           15,
           25
          ]
         },
         "mode": "markers",
         "name": "Demand Point",
         "type": "scatter",
         "x": [
          190.72068753836712,
          284.8385512584408,
          256.57213014119094,
          213.70656844689995,
          129.21792510742787,
          68.02578268876611,
          187.6144874155924,
          342.92449355432785,
          356.2811540822591,
          267.1332105586249,
          359.3873542050338,
          416.2308164518109,
          375.2289748311848,
          233.89686924493557,
          391.38121546961327
         ],
         "y": [
          477.338898163606,
          361.20534223706176,
          391.9465776293823,
          389.46243739565944,
          381.38898163606007,
          320.21702838063436,
          327.3589315525876,
          318.6644407345576,
          232.9616026711185,
          187.93656093489147,
          186.0734557595993,
          107.20200333889812,
          58.761268781302135,
          69.31886477462433,
          364
         ]
        },
        {
         "hovertemplate": [
          "truck33",
          "truck34",
          "truck43",
          "truck49",
          "truck1",
          "truck8",
          "truck6",
          "truck36",
          "truck54",
          "truck29",
          "truck37",
          "truck35",
          "truck7",
          "truck17",
          "truck27"
         ],
         "marker": {
          "color": "rgba(135, 206, 250, 0.3)",
          "line": {
           "color": "darkblue",
           "width": 1
          },
          "size": 10,
          "symbol": "circle"
         },
         "mode": "markers",
         "name": "Available Location",
         "type": "scatter",
         "x": [
          393.2449355432781,
          337.9545733578883,
          290.42971147943524,
          492.6433394720688,
          112.75506445672193,
          164.62860650705954,
          56.22222222222222,
          303.16513198281154,
          320.5598526703499,
          296.0208717004297,
          209.35788827501537,
          288.8766114180479,
          113.0656844689994,
          310.62001227747083,
          173.94720687538367
         ],
         "y": [
          172.72120200333887,
          154.71118530884797,
          43.235392320534174,
          70.25041736227041,
          491.9332220367279,
          419.5826377295492,
          420.51419031719536,
          135.14858096828038,
          276.4340567612688,
          199.1151919866444,
          151.60601001669448,
          164.6477462437395,
          418.9616026711185,
          327.9799666110183,
          209.67278797996659
         ]
        },
        {
         "hovertemplate": [
          "truck37<br>Small (New)",
          "truck8<br>Small (New)",
          "truck33<br>Small (New)"
         ],
         "marker": {
          "color": [
           "green",
           "green",
           "green"
          ],
          "line": {
           "color": "black",
           "width": 1
          },
          "size": 12,
          "symbol": "triangle-up"
         },
         "mode": "markers",
         "name": "Small Trucks",
         "type": "scatter",
         "x": [
          209.35788827501537,
          164.62860650705954,
          393.2449355432781
         ],
         "y": [
          151.60601001669448,
          419.5826377295492,
          172.72120200333887
         ]
        },
        {
         "hovertemplate": [
          "truck17<br>Medium (New)"
         ],
         "marker": {
          "color": [
           "green"
          ],
          "line": {
           "color": "black",
           "width": 1
          },
          "size": 12,
          "symbol": "square"
         },
         "mode": "markers",
         "name": "Medium Trucks",
         "type": "scatter",
         "x": [
          310.62001227747083
         ],
         "y": [
          327.9799666110183
         ]
        }
       ],
       "layout": {
        "images": [
         {
          "layer": "below",
          "opacity": 0.9,
          "sizex": 500,
          "sizey": 550,
          "sizing": "stretch",
          "source": "data:image/png;base64,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",
          "x": 0,
          "xref": "x",
          "y": 550,
          "yref": "y"
         }
        ],
        "legend": {
         "orientation": "h",
         "x": 1,
         "xanchor": "right",
         "y": 1.02,
         "yanchor": "bottom"
        },
        "showlegend": true,
        "template": {
         "data": {
          "bar": [
           {
            "error_x": {
             "color": "rgb(36,36,36)"
            },
            "error_y": {
             "color": "rgb(36,36,36)"
            },
            "marker": {
             "line": {
              "color": "white",
              "width": 0.5
             },
             "pattern": {
              "fillmode": "overlay",
              "size": 10,
              "solidity": 0.2
             }
            },
            "type": "bar"
           }
          ],
          "barpolar": [
           {
            "marker": {
             "line": {
              "color": "white",
              "width": 0.5
             },
             "pattern": {
              "fillmode": "overlay",
              "size": 10,
              "solidity": 0.2
             }
            },
            "type": "barpolar"
           }
          ],
          "carpet": [
           {
            "aaxis": {
             "endlinecolor": "rgb(36,36,36)",
             "gridcolor": "white",
             "linecolor": "white",
             "minorgridcolor": "white",
             "startlinecolor": "rgb(36,36,36)"
            },
            "baxis": {
             "endlinecolor": "rgb(36,36,36)",
             "gridcolor": "white",
             "linecolor": "white",
             "minorgridcolor": "white",
             "startlinecolor": "rgb(36,36,36)"
            },
            "type": "carpet"
           }
          ],
          "choropleth": [
           {
            "colorbar": {
             "outlinewidth": 1,
             "tickcolor": "rgb(36,36,36)",
             "ticks": "outside"
            },
            "type": "choropleth"
           }
          ],
          "contour": [
           {
            "colorbar": {
             "outlinewidth": 1,
             "tickcolor": "rgb(36,36,36)",
             "ticks": "outside"
            },
            "colorscale": [
             [
              0,
              "#440154"
             ],
             [
              0.1111111111111111,
              "#482878"
             ],
             [
              0.2222222222222222,
              "#3e4989"
             ],
             [
              0.3333333333333333,
              "#31688e"
             ],
             [
              0.4444444444444444,
              "#26828e"
             ],
             [
              0.5555555555555556,
              "#1f9e89"
             ],
             [
              0.6666666666666666,
              "#35b779"
             ],
             [
              0.7777777777777778,
              "#6ece58"
             ],
             [
              0.8888888888888888,
              "#b5de2b"
             ],
             [
              1,
              "#fde725"
             ]
            ],
            "type": "contour"
           }
          ],
          "contourcarpet": [
           {
            "colorbar": {
             "outlinewidth": 1,
             "tickcolor": "rgb(36,36,36)",
             "ticks": "outside"
            },
            "type": "contourcarpet"
           }
          ],
          "heatmap": [
           {
            "colorbar": {
             "outlinewidth": 1,
             "tickcolor": "rgb(36,36,36)",
             "ticks": "outside"
            },
            "colorscale": [
             [
              0,
              "#440154"
             ],
             [
              0.1111111111111111,
              "#482878"
             ],
             [
              0.2222222222222222,
              "#3e4989"
             ],
             [
              0.3333333333333333,
              "#31688e"
             ],
             [
              0.4444444444444444,
              "#26828e"
             ],
             [
              0.5555555555555556,
              "#1f9e89"
             ],
             [
              0.6666666666666666,
              "#35b779"
             ],
             [
              0.7777777777777778,
              "#6ece58"
             ],
             [
              0.8888888888888888,
              "#b5de2b"
             ],
             [
              1,
              "#fde725"
             ]
            ],
            "type": "heatmap"
           }
          ],
          "histogram": [
           {
            "marker": {
             "line": {
              "color": "white",
              "width": 0.6
             }
            },
            "type": "histogram"
           }
          ],
          "histogram2d": [
           {
            "colorbar": {
             "outlinewidth": 1,
             "tickcolor": "rgb(36,36,36)",
             "ticks": "outside"
            },
            "colorscale": [
             [
              0,
              "#440154"
             ],
             [
              0.1111111111111111,
              "#482878"
             ],
             [
              0.2222222222222222,
              "#3e4989"
             ],
             [
              0.3333333333333333,
              "#31688e"
             ],
             [
              0.4444444444444444,
              "#26828e"
             ],
             [
              0.5555555555555556,
              "#1f9e89"
             ],
             [
              0.6666666666666666,
              "#35b779"
             ],
             [
              0.7777777777777778,
              "#6ece58"
             ],
             [
              0.8888888888888888,
              "#b5de2b"
             ],
             [
              1,
              "#fde725"
             ]
            ],
            "type": "histogram2d"
           }
          ],
          "histogram2dcontour": [
           {
            "colorbar": {
             "outlinewidth": 1,
             "tickcolor": "rgb(36,36,36)",
             "ticks": "outside"
            },
            "colorscale": [
             [
              0,
              "#440154"
             ],
             [
              0.1111111111111111,
              "#482878"
             ],
             [
              0.2222222222222222,
              "#3e4989"
             ],
             [
              0.3333333333333333,
              "#31688e"
             ],
             [
              0.4444444444444444,
              "#26828e"
             ],
             [
              0.5555555555555556,
              "#1f9e89"
             ],
             [
              0.6666666666666666,
              "#35b779"
             ],
             [
              0.7777777777777778,
              "#6ece58"
             ],
             [
              0.8888888888888888,
              "#b5de2b"
             ],
             [
              1,
              "#fde725"
             ]
            ],
            "type": "histogram2dcontour"
           }
          ],
          "mesh3d": [
           {
            "colorbar": {
             "outlinewidth": 1,
             "tickcolor": "rgb(36,36,36)",
             "ticks": "outside"
            },
            "type": "mesh3d"
           }
          ],
          "parcoords": [
           {
            "line": {
             "colorbar": {
              "outlinewidth": 1,
              "tickcolor": "rgb(36,36,36)",
              "ticks": "outside"
             }
            },
            "type": "parcoords"
           }
          ],
          "pie": [
           {
            "automargin": true,
            "type": "pie"
           }
          ],
          "scatter": [
           {
            "fillpattern": {
             "fillmode": "overlay",
             "size": 10,
             "solidity": 0.2
            },
            "type": "scatter"
           }
          ],
          "scatter3d": [
           {
            "line": {
             "colorbar": {
              "outlinewidth": 1,
              "tickcolor": "rgb(36,36,36)",
              "ticks": "outside"
             }
            },
            "marker": {
             "colorbar": {
              "outlinewidth": 1,
              "tickcolor": "rgb(36,36,36)",
              "ticks": "outside"
             }
            },
            "type": "scatter3d"
           }
          ],
          "scattercarpet": [
           {
            "marker": {
             "colorbar": {
              "outlinewidth": 1,
              "tickcolor": "rgb(36,36,36)",
              "ticks": "outside"
             }
            },
            "type": "scattercarpet"
           }
          ],
          "scattergeo": [
           {
            "marker": {
             "colorbar": {
              "outlinewidth": 1,
              "tickcolor": "rgb(36,36,36)",
              "ticks": "outside"
             }
            },
            "type": "scattergeo"
           }
          ],
          "scattergl": [
           {
            "marker": {
             "colorbar": {
              "outlinewidth": 1,
              "tickcolor": "rgb(36,36,36)",
              "ticks": "outside"
             }
            },
            "type": "scattergl"
           }
          ],
          "scattermap": [
           {
            "marker": {
             "colorbar": {
              "outlinewidth": 1,
              "tickcolor": "rgb(36,36,36)",
              "ticks": "outside"
             }
            },
            "type": "scattermap"
           }
          ],
          "scattermapbox": [
           {
            "marker": {
             "colorbar": {
              "outlinewidth": 1,
              "tickcolor": "rgb(36,36,36)",
              "ticks": "outside"
             }
            },
            "type": "scattermapbox"
           }
          ],
          "scatterpolar": [
           {
            "marker": {
             "colorbar": {
              "outlinewidth": 1,
              "tickcolor": "rgb(36,36,36)",
              "ticks": "outside"
             }
            },
            "type": "scatterpolar"
           }
          ],
          "scatterpolargl": [
           {
            "marker": {
             "colorbar": {
              "outlinewidth": 1,
              "tickcolor": "rgb(36,36,36)",
              "ticks": "outside"
             }
            },
            "type": "scatterpolargl"
           }
          ],
          "scatterternary": [
           {
            "marker": {
             "colorbar": {
              "outlinewidth": 1,
              "tickcolor": "rgb(36,36,36)",
              "ticks": "outside"
             }
            },
            "type": "scatterternary"
           }
          ],
          "surface": [
           {
            "colorbar": {
             "outlinewidth": 1,
             "tickcolor": "rgb(36,36,36)",
             "ticks": "outside"
            },
            "colorscale": [
             [
              0,
              "#440154"
             ],
             [
              0.1111111111111111,
              "#482878"
             ],
             [
              0.2222222222222222,
              "#3e4989"
             ],
             [
              0.3333333333333333,
              "#31688e"
             ],
             [
              0.4444444444444444,
              "#26828e"
             ],
             [
              0.5555555555555556,
              "#1f9e89"
             ],
             [
              0.6666666666666666,
              "#35b779"
             ],
             [
              0.7777777777777778,
              "#6ece58"
             ],
             [
              0.8888888888888888,
              "#b5de2b"
             ],
             [
              1,
              "#fde725"
             ]
            ],
            "type": "surface"
           }
          ],
          "table": [
           {
            "cells": {
             "fill": {
              "color": "rgb(237,237,237)"
             },
             "line": {
              "color": "white"
             }
            },
            "header": {
             "fill": {
              "color": "rgb(217,217,217)"
             },
             "line": {
              "color": "white"
             }
            },
            "type": "table"
           }
          ]
         },
         "layout": {
          "annotationdefaults": {
           "arrowhead": 0,
           "arrowwidth": 1
          },
          "autotypenumbers": "strict",
          "coloraxis": {
           "colorbar": {
            "outlinewidth": 1,
            "tickcolor": "rgb(36,36,36)",
            "ticks": "outside"
           }
          },
          "colorscale": {
           "diverging": [
            [
             0,
             "rgb(103,0,31)"
            ],
            [
             0.1,
             "rgb(178,24,43)"
            ],
            [
             0.2,
             "rgb(214,96,77)"
            ],
            [
             0.3,
             "rgb(244,165,130)"
            ],
            [
             0.4,
             "rgb(253,219,199)"
            ],
            [
             0.5,
             "rgb(247,247,247)"
            ],
            [
             0.6,
             "rgb(209,229,240)"
            ],
            [
             0.7,
             "rgb(146,197,222)"
            ],
            [
             0.8,
             "rgb(67,147,195)"
            ],
            [
             0.9,
             "rgb(33,102,172)"
            ],
            [
             1,
             "rgb(5,48,97)"
            ]
           ],
           "sequential": [
            [
             0,
             "#440154"
            ],
            [
             0.1111111111111111,
             "#482878"
            ],
            [
             0.2222222222222222,
             "#3e4989"
            ],
            [
             0.3333333333333333,
             "#31688e"
            ],
            [
             0.4444444444444444,
             "#26828e"
            ],
            [
             0.5555555555555556,
             "#1f9e89"
            ],
            [
             0.6666666666666666,
             "#35b779"
            ],
            [
             0.7777777777777778,
             "#6ece58"
            ],
            [
             0.8888888888888888,
             "#b5de2b"
            ],
            [
             1,
             "#fde725"
            ]
           ],
           "sequentialminus": [
            [
             0,
             "#440154"
            ],
            [
             0.1111111111111111,
             "#482878"
            ],
            [
             0.2222222222222222,
             "#3e4989"
            ],
            [
             0.3333333333333333,
             "#31688e"
            ],
            [
             0.4444444444444444,
             "#26828e"
            ],
            [
             0.5555555555555556,
             "#1f9e89"
            ],
            [
             0.6666666666666666,
             "#35b779"
            ],
            [
             0.7777777777777778,
             "#6ece58"
            ],
            [
             0.8888888888888888,
             "#b5de2b"
            ],
            [
             1,
             "#fde725"
            ]
           ]
          },
          "colorway": [
           "#1F77B4",
           "#FF7F0E",
           "#2CA02C",
           "#D62728",
           "#9467BD",
           "#8C564B",
           "#E377C2",
           "#7F7F7F",
           "#BCBD22",
           "#17BECF"
          ],
          "font": {
           "color": "rgb(36,36,36)"
          },
          "geo": {
           "bgcolor": "white",
           "lakecolor": "white",
           "landcolor": "white",
           "showlakes": true,
           "showland": true,
           "subunitcolor": "white"
          },
          "hoverlabel": {
           "align": "left"
          },
          "hovermode": "closest",
          "mapbox": {
           "style": "light"
          },
          "paper_bgcolor": "white",
          "plot_bgcolor": "white",
          "polar": {
           "angularaxis": {
            "gridcolor": "rgb(232,232,232)",
            "linecolor": "rgb(36,36,36)",
            "showgrid": false,
            "showline": true,
            "ticks": "outside"
           },
           "bgcolor": "white",
           "radialaxis": {
            "gridcolor": "rgb(232,232,232)",
            "linecolor": "rgb(36,36,36)",
            "showgrid": false,
            "showline": true,
            "ticks": "outside"
           }
          },
          "scene": {
           "xaxis": {
            "backgroundcolor": "white",
            "gridcolor": "rgb(232,232,232)",
            "gridwidth": 2,
            "linecolor": "rgb(36,36,36)",
            "showbackground": true,
            "showgrid": false,
            "showline": true,
            "ticks": "outside",
            "zeroline": false,
            "zerolinecolor": "rgb(36,36,36)"
           },
           "yaxis": {
            "backgroundcolor": "white",
            "gridcolor": "rgb(232,232,232)",
            "gridwidth": 2,
            "linecolor": "rgb(36,36,36)",
            "showbackground": true,
            "showgrid": false,
            "showline": true,
            "ticks": "outside",
            "zeroline": false,
            "zerolinecolor": "rgb(36,36,36)"
           },
           "zaxis": {
            "backgroundcolor": "white",
            "gridcolor": "rgb(232,232,232)",
            "gridwidth": 2,
            "linecolor": "rgb(36,36,36)",
            "showbackground": true,
            "showgrid": false,
            "showline": true,
            "ticks": "outside",
            "zeroline": false,
            "zerolinecolor": "rgb(36,36,36)"
           }
          },
          "shapedefaults": {
           "fillcolor": "black",
           "line": {
            "width": 0
           },
           "opacity": 0.3
          },
          "ternary": {
           "aaxis": {
            "gridcolor": "rgb(232,232,232)",
            "linecolor": "rgb(36,36,36)",
            "showgrid": false,
            "showline": true,
            "ticks": "outside"
           },
           "baxis": {
            "gridcolor": "rgb(232,232,232)",
            "linecolor": "rgb(36,36,36)",
            "showgrid": false,
            "showline": true,
            "ticks": "outside"
           },
           "bgcolor": "white",
           "caxis": {
            "gridcolor": "rgb(232,232,232)",
            "linecolor": "rgb(36,36,36)",
            "showgrid": false,
            "showline": true,
            "ticks": "outside"
           }
          },
          "title": {
           "x": 0.05
          },
          "xaxis": {
           "automargin": true,
           "gridcolor": "rgb(232,232,232)",
           "linecolor": "rgb(36,36,36)",
           "showgrid": false,
           "showline": true,
           "ticks": "outside",
           "title": {
            "standoff": 15
           },
           "zeroline": false,
           "zerolinecolor": "rgb(36,36,36)"
          },
          "yaxis": {
           "automargin": true,
           "gridcolor": "rgb(232,232,232)",
           "linecolor": "rgb(36,36,36)",
           "showgrid": false,
           "showline": true,
           "ticks": "outside",
           "title": {
            "standoff": 15
           },
           "zeroline": false,
           "zerolinecolor": "rgb(36,36,36)"
          }
         }
        },
        "title": {
         "text": "Burrito Map - Day day1"
        },
        "xaxis": {
         "range": [
          0,
          500
         ],
         "visible": false
        },
        "yaxis": {
         "range": [
          0,
          550
         ],
         "scaleanchor": "x",
         "scaleratio": 1,
         "visible": false
        }
       }
      }
     },
     "metadata": {},
     "output_type": "display_data"
    },
    {
     "name": "stdout",
     "output_type": "stream",
     "text": [
      "\n",
      "Day day2:\n",
      "  - Deployed trucks: 8 (5 new, 3 maintained)\n",
      "  - Daily profit: ₲3470.00 (Revenue: ₲5290.00, Cost: ₲1820.00)\n",
      "    * Location truck8: Small (Maintained)\n",
      "    * Location truck29: Small (New)\n",
      "    * Location truck37: Small (Maintained)\n",
      "    * Location truck23: Small (New)\n",
      "    * Location truck17: Medium (Maintained)\n",
      "    * Location truck33: Large (New)\n",
      "    * Location truck45: Large (New)\n",
      "    * Location truck15: Large (New)\n"
     ]
    },
    {
     "data": {
      "application/vnd.plotly.v1+json": {
       "config": {
        "plotlyServerURL": "https://plot.ly"
       },
       "data": [
        {
         "hoverinfo": "none",
         "line": {
          "color": "rgba(150, 150, 150, 1)",
          "width": 1.5
         },
         "mode": "lines",
         "showlegend": false,
         "type": "scatter",
         "x": [
          190.72068753836712,
          164.62860650705954
         ],
         "y": [
          477.338898163606,
          419.5826377295492
         ]
        },
        {
         "hoverinfo": "none",
         "line": {
          "color": "rgba(150, 150, 150, 1)",
          "width": 1.5
         },
         "mode": "lines",
         "showlegend": false,
         "type": "scatter",
         "x": [
          454.7476979742173,
          310.62001227747083
         ],
         "y": [
          368.96828046744577,
          327.9799666110183
         ]
        },
        {
         "hoverinfo": "none",
         "line": {
          "color": "rgba(150, 150, 150, 1)",
          "width": 1.5
         },
         "mode": "lines",
         "showlegend": false,
         "type": "scatter",
         "x": [
          284.8385512584408,
          210.60036832412524
         ],
         "y": [
          361.20534223706176,
          342.8848080133556
         ]
        },
        {
         "hoverinfo": "none",
         "line": {
          "color": "rgba(150, 150, 150, 1)",
          "width": 1.5
         },
         "mode": "lines",
         "showlegend": false,
         "type": "scatter",
         "x": [
          256.57213014119094,
          210.60036832412524
         ],
         "y": [
          391.9465776293823,
          342.8848080133556
         ]
        },
        {
         "hoverinfo": "none",
         "line": {
          "color": "rgba(150, 150, 150, 1)",
          "width": 1.5
         },
         "mode": "lines",
         "showlegend": false,
         "type": "scatter",
         "x": [
          315.2793124616329,
          310.62001227747083
         ],
         "y": [
          386.35726210350583,
          327.9799666110183
         ]
        },
        {
         "hoverinfo": "none",
         "line": {
          "color": "rgba(150, 150, 150, 1)",
          "width": 1.5
         },
         "mode": "lines",
         "showlegend": false,
         "type": "scatter",
         "x": [
          213.70656844689995,
          210.60036832412524
         ],
         "y": [
          389.46243739565944,
          342.8848080133556
         ]
        },
        {
         "hoverinfo": "none",
         "line": {
          "color": "rgba(150, 150, 150, 1)",
          "width": 1.5
         },
         "mode": "lines",
         "showlegend": false,
         "type": "scatter",
         "x": [
          176.7427869858809,
          164.62860650705954
         ],
         "y": [
          363.0684474123539,
          419.5826377295492
         ]
        },
        {
         "hoverinfo": "none",
         "line": {
          "color": "rgba(150, 150, 150, 1)",
          "width": 1.5
         },
         "mode": "lines",
         "showlegend": false,
         "type": "scatter",
         "x": [
          129.21792510742787,
          128.59668508287294
         ],
         "y": [
          381.38898163606007,
          286.0601001669449
         ]
        },
        {
         "hoverinfo": "none",
         "line": {
          "color": "rgba(150, 150, 150, 1)",
          "width": 1.5
         },
         "mode": "lines",
         "showlegend": false,
         "type": "scatter",
         "x": [
          68.02578268876611,
          128.59668508287294
         ],
         "y": [
          320.21702838063436,
          286.0601001669449
         ]
        },
        {
         "hoverinfo": "none",
         "line": {
          "color": "rgba(150, 150, 150, 1)",
          "width": 1.5
         },
         "mode": "lines",
         "showlegend": false,
         "type": "scatter",
         "x": [
          187.6144874155924,
          210.60036832412524
         ],
         "y": [
          327.3589315525876,
          342.8848080133556
         ]
        },
        {
         "hoverinfo": "none",
         "line": {
          "color": "rgba(150, 150, 150, 1)",
          "width": 1.5
         },
         "mode": "lines",
         "showlegend": false,
         "type": "scatter",
         "x": [
          152.2038060159607,
          128.59668508287294
         ],
         "y": [
          304.6911519198664,
          286.0601001669449
         ]
        },
        {
         "hoverinfo": "none",
         "line": {
          "color": "rgba(150, 150, 150, 1)",
          "width": 1.5
         },
         "mode": "lines",
         "showlegend": false,
         "type": "scatter",
         "x": [
          239.48802946593003,
          210.60036832412524
         ],
         "y": [
          303.1385642737896,
          342.8848080133556
         ]
        },
        {
         "hoverinfo": "none",
         "line": {
          "color": "rgba(150, 150, 150, 1)",
          "width": 1.5
         },
         "mode": "lines",
         "showlegend": false,
         "type": "scatter",
         "x": [
          295.71025168815225,
          310.62001227747083
         ],
         "y": [
          309.03839732888144,
          327.9799666110183
         ]
        },
        {
         "hoverinfo": "none",
         "line": {
          "color": "rgba(150, 150, 150, 1)",
          "width": 1.5
         },
         "mode": "lines",
         "showlegend": false,
         "type": "scatter",
         "x": [
          342.92449355432785,
          310.62001227747083
         ],
         "y": [
          318.6644407345576,
          327.9799666110183
         ]
        },
        {
         "hoverinfo": "none",
         "line": {
          "color": "rgba(150, 150, 150, 1)",
          "width": 1.5
         },
         "mode": "lines",
         "showlegend": false,
         "type": "scatter",
         "x": [
          460.96009821976673,
          393.2449355432781
         ],
         "y": [
          247.86644407345574,
          172.72120200333887
         ]
        },
        {
         "hoverinfo": "none",
         "line": {
          "color": "rgba(150, 150, 150, 1)",
          "width": 1.5
         },
         "mode": "lines",
         "showlegend": false,
         "type": "scatter",
         "x": [
          356.2811540822591,
          393.2449355432781
         ],
         "y": [
          232.9616026711185,
          172.72120200333887
         ]
        },
        {
         "hoverinfo": "none",
         "line": {
          "color": "rgba(150, 150, 150, 1)",
          "width": 1.5
         },
         "mode": "lines",
         "showlegend": false,
         "type": "scatter",
         "x": [
          279.55801104972375,
          296.0208717004297
         ],
         "y": [
          251.59265442404006,
          199.1151919866444
         ]
        },
        {
         "hoverinfo": "none",
         "line": {
          "color": "rgba(150, 150, 150, 1)",
          "width": 1.5
         },
         "mode": "lines",
         "showlegend": false,
         "type": "scatter",
         "x": [
          267.1332105586249,
          296.0208717004297
         ],
         "y": [
          187.93656093489147,
          199.1151919866444
         ]
        },
        {
         "hoverinfo": "none",
         "line": {
          "color": "rgba(150, 150, 150, 1)",
          "width": 1.5
         },
         "mode": "lines",
         "showlegend": false,
         "type": "scatter",
         "x": [
          359.3873542050338,
          393.2449355432781
         ],
         "y": [
          186.0734557595993,
          172.72120200333887
         ]
        },
        {
         "hoverinfo": "none",
         "line": {
          "color": "rgba(150, 150, 150, 1)",
          "width": 1.5
         },
         "mode": "lines",
         "showlegend": false,
         "type": "scatter",
         "x": [
          315.90055248618785,
          395.4192756292204
         ],
         "y": [
          104.71786310517518,
          54.724540901502394
         ]
        },
        {
         "hoverinfo": "none",
         "line": {
          "color": "rgba(150, 150, 150, 1)",
          "width": 1.5
         },
         "mode": "lines",
         "showlegend": false,
         "type": "scatter",
         "x": [
          416.2308164518109,
          393.2449355432781
         ],
         "y": [
          107.20200333889812,
          172.72120200333887
         ]
        },
        {
         "hoverinfo": "none",
         "line": {
          "color": "rgba(150, 150, 150, 1)",
          "width": 1.5
         },
         "mode": "lines",
         "showlegend": false,
         "type": "scatter",
         "x": [
          451.3308778391652,
          395.4192756292204
         ],
         "y": [
          76.77128547579298,
          54.724540901502394
         ]
        },
        {
         "hoverinfo": "none",
         "line": {
          "color": "rgba(150, 150, 150, 1)",
          "width": 1.5
         },
         "mode": "lines",
         "showlegend": false,
         "type": "scatter",
         "x": [
          375.2289748311848,
          395.4192756292204
         ],
         "y": [
          58.761268781302135,
          54.724540901502394
         ]
        },
        {
         "hoverinfo": "none",
         "line": {
          "color": "rgba(150, 150, 150, 1)",
          "width": 1.5
         },
         "mode": "lines",
         "showlegend": false,
         "type": "scatter",
         "x": [
          233.89686924493557,
          209.35788827501537
         ],
         "y": [
          69.31886477462433,
          151.60601001669448
         ]
        },
        {
         "hoverinfo": "none",
         "line": {
          "color": "rgba(150, 150, 150, 1)",
          "width": 1.5
         },
         "mode": "lines",
         "showlegend": false,
         "type": "scatter",
         "x": [
          193.82688766114185,
          209.35788827501537
         ],
         "y": [
          103.47579298831391,
          151.60601001669448
         ]
        },
        {
         "hoverinfo": "none",
         "line": {
          "color": "rgba(150, 150, 150, 1)",
          "width": 1.5
         },
         "mode": "lines",
         "showlegend": false,
         "type": "scatter",
         "x": [
          375.2289748311848,
          395.4192756292204
         ],
         "y": [
          152.53756260434062,
          54.724540901502394
         ]
        },
        {
         "hoverinfo": "none",
         "line": {
          "color": "rgba(150, 150, 150, 1)",
          "width": 1.5
         },
         "mode": "lines",
         "showlegend": false,
         "type": "scatter",
         "x": [
          392.0024554941682,
          296.0208717004297
         ],
         "y": [
          293.8230383973288,
          199.1151919866444
         ]
        },
        {
         "hoverinfo": "none",
         "line": {
          "color": "rgba(150, 150, 150, 1)",
          "width": 1.5
         },
         "mode": "lines",
         "showlegend": false,
         "type": "scatter",
         "x": [
          391.38121546961327,
          310.62001227747083
         ],
         "y": [
          364,
          327.9799666110183
         ]
        },
        {
         "hoverinfo": "none",
         "line": {
          "color": "rgba(150, 150, 150, 1)",
          "width": 1.5
         },
         "mode": "lines",
         "showlegend": false,
         "type": "scatter",
         "x": [
          278.62615101289134,
          164.62860650705954
         ],
         "y": [
          444.42404006677793,
          419.5826377295492
         ]
        },
        {
         "hovertemplate": [
          "ReLU Realty<br>Demand: 25.0",
          "Lift and Project Gym<br>Demand: 25.0",
          "Reinforcement Learning Puppy Training<br>Demand: 15.0",
          "KKT Air Conditioning<br>Demand: 70.0",
          "Linear Regression Psychology Services<br>Demand: 10.0",
          "George's Basic Diet Solutions<br>Demand: 10.0",
          "MILP Mart<br>Demand: 35.0",
          "Rothberg Tower<br>Demand: 20.0",
          "Multimodal Distribution Center<br>Demand: 35.0",
          "Callback Cat Café<br>Demand: 65.0",
          "Toy Problems 'ᴙ' Us<br>Demand: 45.0",
          "Complex Complex<br>Demand: 30.0",
          "Gurobi Polytope<br>Demand: 15.0",
          "Vertex Tower<br>Demand: 45.0",
          "Fourier Transform Towers<br>Demand: 35.0",
          "Nonlinear Thinking Center<br>Demand: 75.0",
          "Bixby Hall<br>Demand: 40.0",
          "Interior Point Decorating<br>Demand: 50.0",
          "Scheduling Station<br>Demand: 60.0",
          "Numerical Issues Zoo<br>Demand: 70.0",
          "Multi-Threads Thrift Store<br>Demand: 30.0",
          "Bin Packing Post Office<br>Demand: 15.0",
          "Land & Harcourt's B&B<br>Demand: 45.0",
          "K-Fold Parking Validation<br>Demand: 60.0",
          "Bias & Variance Courthouse<br>Demand: 60.0",
          "Logistic Regression Couriers<br>Demand: 70.0",
          "Cutting Plane Woodworks<br>Demand: 50.0",
          "Farkas' Lemma-nade<br>Demand: 65.0",
          "Gu Library<br>Demand: 50.0"
         ],
         "marker": {
          "color": "red",
          "line": {
           "width": 0
          },
          "opacity": 0.7,
          "size": [
           12.5,
           12.5,
           7.5,
           35,
           5,
           5,
           17.5,
           10,
           17.5,
           32.5,
           22.5,
           15,
           7.5,
           22.5,
           17.5,
           37.5,
           20,
           25,
           30,
           35,
           15,
           7.5,
           22.5,
           30,
           30,
           35,
           25,
           32.5,
           25
          ]
         },
         "mode": "markers",
         "name": "Demand Point",
         "type": "scatter",
         "x": [
          190.72068753836712,
          454.7476979742173,
          284.8385512584408,
          256.57213014119094,
          315.2793124616329,
          213.70656844689995,
          176.7427869858809,
          129.21792510742787,
          68.02578268876611,
          187.6144874155924,
          152.2038060159607,
          239.48802946593003,
          295.71025168815225,
          342.92449355432785,
          460.96009821976673,
          356.2811540822591,
          279.55801104972375,
          267.1332105586249,
          359.3873542050338,
          315.90055248618785,
          416.2308164518109,
          451.3308778391652,
          375.2289748311848,
          233.89686924493557,
          193.82688766114185,
          375.2289748311848,
          392.0024554941682,
          391.38121546961327,
          278.62615101289134
         ],
         "y": [
          477.338898163606,
          368.96828046744577,
          361.20534223706176,
          391.9465776293823,
          386.35726210350583,
          389.46243739565944,
          363.0684474123539,
          381.38898163606007,
          320.21702838063436,
          327.3589315525876,
          304.6911519198664,
          303.1385642737896,
          309.03839732888144,
          318.6644407345576,
          247.86644407345574,
          232.9616026711185,
          251.59265442404006,
          187.93656093489147,
          186.0734557595993,
          104.71786310517518,
          107.20200333889812,
          76.77128547579298,
          58.761268781302135,
          69.31886477462433,
          103.47579298831391,
          152.53756260434062,
          293.8230383973288,
          364,
          444.42404006677793
         ]
        },
        {
         "hovertemplate": [
          "truck33",
          "truck34",
          "truck43",
          "truck49",
          "truck1",
          "truck8",
          "truck6",
          "truck53",
          "truck44",
          "truck45",
          "truck36",
          "truck54",
          "truck29",
          "truck37",
          "truck35",
          "truck7",
          "truck17",
          "truck15",
          "truck27",
          "truck23"
         ],
         "marker": {
          "color": "rgba(135, 206, 250, 0.3)",
          "line": {
           "color": "darkblue",
           "width": 1
          },
          "size": 10,
          "symbol": "circle"
         },
         "mode": "markers",
         "name": "Available Location",
         "type": "scatter",
         "x": [
          393.2449355432781,
          337.9545733578883,
          290.42971147943524,
          492.6433394720688,
          112.75506445672193,
          164.62860650705954,
          56.22222222222222,
          209.35788827501537,
          315.5899324739104,
          395.4192756292204,
          303.16513198281154,
          320.5598526703499,
          296.0208717004297,
          209.35788827501537,
          288.8766114180479,
          113.0656844689994,
          310.62001227747083,
          210.60036832412524,
          173.94720687538367,
          128.59668508287294
         ],
         "y": [
          172.72120200333887,
          154.71118530884797,
          43.235392320534174,
          70.25041736227041,
          491.9332220367279,
          419.5826377295492,
          420.51419031719536,
          269.9131886477462,
          254.07679465776295,
          54.724540901502394,
          135.14858096828038,
          276.4340567612688,
          199.1151919866444,
          151.60601001669448,
          164.6477462437395,
          418.9616026711185,
          327.9799666110183,
          342.8848080133556,
          209.67278797996659,
          286.0601001669449
         ]
        },
        {
         "hovertemplate": [
          "truck29<br>Small (New)",
          "truck8<br>Small (Maintained)",
          "truck37<br>Small (Maintained)",
          "truck23<br>Small (New)"
         ],
         "marker": {
          "color": [
           "green",
           "blue",
           "blue",
           "green"
          ],
          "line": {
           "color": "black",
           "width": 1
          },
          "size": 12,
          "symbol": "triangle-up"
         },
         "mode": "markers",
         "name": "Small Trucks",
         "type": "scatter",
         "x": [
          296.0208717004297,
          164.62860650705954,
          209.35788827501537,
          128.59668508287294
         ],
         "y": [
          199.1151919866444,
          419.5826377295492,
          151.60601001669448,
          286.0601001669449
         ]
        },
        {
         "hovertemplate": [
          "truck17<br>Medium (Maintained)"
         ],
         "marker": {
          "color": [
           "blue"
          ],
          "line": {
           "color": "black",
           "width": 1
          },
          "size": 12,
          "symbol": "square"
         },
         "mode": "markers",
         "name": "Medium Trucks",
         "type": "scatter",
         "x": [
          310.62001227747083
         ],
         "y": [
          327.9799666110183
         ]
        },
        {
         "hovertemplate": [
          "truck33<br>Large (New)",
          "truck15<br>Large (New)",
          "truck45<br>Large (New)"
         ],
         "marker": {
          "color": [
           "green",
           "green",
           "green"
          ],
          "line": {
           "color": "black",
           "width": 1
          },
          "size": 12,
          "symbol": "circle"
         },
         "mode": "markers",
         "name": "Large Trucks",
         "type": "scatter",
         "x": [
          393.2449355432781,
          210.60036832412524,
          395.4192756292204
         ],
         "y": [
          172.72120200333887,
          342.8848080133556,
          54.724540901502394
         ]
        }
       ],
       "layout": {
        "images": [
         {
          "layer": "below",
          "opacity": 0.9,
          "sizex": 500,
          "sizey": 550,
          "sizing": "stretch",
          "source": "data:image/png;base64,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",
          "x": 0,
          "xref": "x",
          "y": 550,
          "yref": "y"
         }
        ],
        "legend": {
         "orientation": "h",
         "x": 1,
         "xanchor": "right",
         "y": 1.02,
         "yanchor": "bottom"
        },
        "showlegend": true,
        "template": {
         "data": {
          "bar": [
           {
            "error_x": {
             "color": "rgb(36,36,36)"
            },
            "error_y": {
             "color": "rgb(36,36,36)"
            },
            "marker": {
             "line": {
              "color": "white",
              "width": 0.5
             },
             "pattern": {
              "fillmode": "overlay",
              "size": 10,
              "solidity": 0.2
             }
            },
            "type": "bar"
           }
          ],
          "barpolar": [
           {
            "marker": {
             "line": {
              "color": "white",
              "width": 0.5
             },
             "pattern": {
              "fillmode": "overlay",
              "size": 10,
              "solidity": 0.2
             }
            },
            "type": "barpolar"
           }
          ],
          "carpet": [
           {
            "aaxis": {
             "endlinecolor": "rgb(36,36,36)",
             "gridcolor": "white",
             "linecolor": "white",
             "minorgridcolor": "white",
             "startlinecolor": "rgb(36,36,36)"
            },
            "baxis": {
             "endlinecolor": "rgb(36,36,36)",
             "gridcolor": "white",
             "linecolor": "white",
             "minorgridcolor": "white",
             "startlinecolor": "rgb(36,36,36)"
            },
            "type": "carpet"
           }
          ],
          "choropleth": [
           {
            "colorbar": {
             "outlinewidth": 1,
             "tickcolor": "rgb(36,36,36)",
             "ticks": "outside"
            },
            "type": "choropleth"
           }
          ],
          "contour": [
           {
            "colorbar": {
             "outlinewidth": 1,
             "tickcolor": "rgb(36,36,36)",
             "ticks": "outside"
            },
            "colorscale": [
             [
              0,
              "#440154"
             ],
             [
              0.1111111111111111,
              "#482878"
             ],
             [
              0.2222222222222222,
              "#3e4989"
             ],
             [
              0.3333333333333333,
              "#31688e"
             ],
             [
              0.4444444444444444,
              "#26828e"
             ],
             [
              0.5555555555555556,
              "#1f9e89"
             ],
             [
              0.6666666666666666,
              "#35b779"
             ],
             [
              0.7777777777777778,
              "#6ece58"
             ],
             [
              0.8888888888888888,
              "#b5de2b"
             ],
             [
              1,
              "#fde725"
             ]
            ],
            "type": "contour"
           }
          ],
          "contourcarpet": [
           {
            "colorbar": {
             "outlinewidth": 1,
             "tickcolor": "rgb(36,36,36)",
             "ticks": "outside"
            },
            "type": "contourcarpet"
           }
          ],
          "heatmap": [
           {
            "colorbar": {
             "outlinewidth": 1,
             "tickcolor": "rgb(36,36,36)",
             "ticks": "outside"
            },
            "colorscale": [
             [
              0,
              "#440154"
             ],
             [
              0.1111111111111111,
              "#482878"
             ],
             [
              0.2222222222222222,
              "#3e4989"
             ],
             [
              0.3333333333333333,
              "#31688e"
             ],
             [
              0.4444444444444444,
              "#26828e"
             ],
             [
              0.5555555555555556,
              "#1f9e89"
             ],
             [
              0.6666666666666666,
              "#35b779"
             ],
             [
              0.7777777777777778,
              "#6ece58"
             ],
             [
              0.8888888888888888,
              "#b5de2b"
             ],
             [
              1,
              "#fde725"
             ]
            ],
            "type": "heatmap"
           }
          ],
          "histogram": [
           {
            "marker": {
             "line": {
              "color": "white",
              "width": 0.6
             }
            },
            "type": "histogram"
           }
          ],
          "histogram2d": [
           {
            "colorbar": {
             "outlinewidth": 1,
             "tickcolor": "rgb(36,36,36)",
             "ticks": "outside"
            },
            "colorscale": [
             [
              0,
              "#440154"
             ],
             [
              0.1111111111111111,
              "#482878"
             ],
             [
              0.2222222222222222,
              "#3e4989"
             ],
             [
              0.3333333333333333,
              "#31688e"
             ],
             [
              0.4444444444444444,
              "#26828e"
             ],
             [
              0.5555555555555556,
              "#1f9e89"
             ],
             [
              0.6666666666666666,
              "#35b779"
             ],
             [
              0.7777777777777778,
              "#6ece58"
             ],
             [
              0.8888888888888888,
              "#b5de2b"
             ],
             [
              1,
              "#fde725"
             ]
            ],
            "type": "histogram2d"
           }
          ],
          "histogram2dcontour": [
           {
            "colorbar": {
             "outlinewidth": 1,
             "tickcolor": "rgb(36,36,36)",
             "ticks": "outside"
            },
            "colorscale": [
             [
              0,
              "#440154"
             ],
             [
              0.1111111111111111,
              "#482878"
             ],
             [
              0.2222222222222222,
              "#3e4989"
             ],
             [
              0.3333333333333333,
              "#31688e"
             ],
             [
              0.4444444444444444,
              "#26828e"
             ],
             [
              0.5555555555555556,
              "#1f9e89"
             ],
             [
              0.6666666666666666,
              "#35b779"
             ],
             [
              0.7777777777777778,
              "#6ece58"
             ],
             [
              0.8888888888888888,
              "#b5de2b"
             ],
             [
              1,
              "#fde725"
             ]
            ],
            "type": "histogram2dcontour"
           }
          ],
          "mesh3d": [
           {
            "colorbar": {
             "outlinewidth": 1,
             "tickcolor": "rgb(36,36,36)",
             "ticks": "outside"
            },
            "type": "mesh3d"
           }
          ],
          "parcoords": [
           {
            "line": {
             "colorbar": {
              "outlinewidth": 1,
              "tickcolor": "rgb(36,36,36)",
              "ticks": "outside"
             }
            },
            "type": "parcoords"
           }
          ],
          "pie": [
           {
            "automargin": true,
            "type": "pie"
           }
          ],
          "scatter": [
           {
            "fillpattern": {
             "fillmode": "overlay",
             "size": 10,
             "solidity": 0.2
            },
            "type": "scatter"
           }
          ],
          "scatter3d": [
           {
            "line": {
             "colorbar": {
              "outlinewidth": 1,
              "tickcolor": "rgb(36,36,36)",
              "ticks": "outside"
             }
            },
            "marker": {
             "colorbar": {
              "outlinewidth": 1,
              "tickcolor": "rgb(36,36,36)",
              "ticks": "outside"
             }
            },
            "type": "scatter3d"
           }
          ],
          "scattercarpet": [
           {
            "marker": {
             "colorbar": {
              "outlinewidth": 1,
              "tickcolor": "rgb(36,36,36)",
              "ticks": "outside"
             }
            },
            "type": "scattercarpet"
           }
          ],
          "scattergeo": [
           {
            "marker": {
             "colorbar": {
              "outlinewidth": 1,
              "tickcolor": "rgb(36,36,36)",
              "ticks": "outside"
             }
            },
            "type": "scattergeo"
           }
          ],
          "scattergl": [
           {
            "marker": {
             "colorbar": {
              "outlinewidth": 1,
              "tickcolor": "rgb(36,36,36)",
              "ticks": "outside"
             }
            },
            "type": "scattergl"
           }
          ],
          "scattermap": [
           {
            "marker": {
             "colorbar": {
              "outlinewidth": 1,
              "tickcolor": "rgb(36,36,36)",
              "ticks": "outside"
             }
            },
            "type": "scattermap"
           }
          ],
          "scattermapbox": [
           {
            "marker": {
             "colorbar": {
              "outlinewidth": 1,
              "tickcolor": "rgb(36,36,36)",
              "ticks": "outside"
             }
            },
            "type": "scattermapbox"
           }
          ],
          "scatterpolar": [
           {
            "marker": {
             "colorbar": {
              "outlinewidth": 1,
              "tickcolor": "rgb(36,36,36)",
              "ticks": "outside"
             }
            },
            "type": "scatterpolar"
           }
          ],
          "scatterpolargl": [
           {
            "marker": {
             "colorbar": {
              "outlinewidth": 1,
              "tickcolor": "rgb(36,36,36)",
              "ticks": "outside"
             }
            },
            "type": "scatterpolargl"
           }
          ],
          "scatterternary": [
           {
            "marker": {
             "colorbar": {
              "outlinewidth": 1,
              "tickcolor": "rgb(36,36,36)",
              "ticks": "outside"
             }
            },
            "type": "scatterternary"
           }
          ],
          "surface": [
           {
            "colorbar": {
             "outlinewidth": 1,
             "tickcolor": "rgb(36,36,36)",
             "ticks": "outside"
            },
            "colorscale": [
             [
              0,
              "#440154"
             ],
             [
              0.1111111111111111,
              "#482878"
             ],
             [
              0.2222222222222222,
              "#3e4989"
             ],
             [
              0.3333333333333333,
              "#31688e"
             ],
             [
              0.4444444444444444,
              "#26828e"
             ],
             [
              0.5555555555555556,
              "#1f9e89"
             ],
             [
              0.6666666666666666,
              "#35b779"
             ],
             [
              0.7777777777777778,
              "#6ece58"
             ],
             [
              0.8888888888888888,
              "#b5de2b"
             ],
             [
              1,
              "#fde725"
             ]
            ],
            "type": "surface"
           }
          ],
          "table": [
           {
            "cells": {
             "fill": {
              "color": "rgb(237,237,237)"
             },
             "line": {
              "color": "white"
             }
            },
            "header": {
             "fill": {
              "color": "rgb(217,217,217)"
             },
             "line": {
              "color": "white"
             }
            },
            "type": "table"
           }
          ]
         },
         "layout": {
          "annotationdefaults": {
           "arrowhead": 0,
           "arrowwidth": 1
          },
          "autotypenumbers": "strict",
          "coloraxis": {
           "colorbar": {
            "outlinewidth": 1,
            "tickcolor": "rgb(36,36,36)",
            "ticks": "outside"
           }
          },
          "colorscale": {
           "diverging": [
            [
             0,
             "rgb(103,0,31)"
            ],
            [
             0.1,
             "rgb(178,24,43)"
            ],
            [
             0.2,
             "rgb(214,96,77)"
            ],
            [
             0.3,
             "rgb(244,165,130)"
            ],
            [
             0.4,
             "rgb(253,219,199)"
            ],
            [
             0.5,
             "rgb(247,247,247)"
            ],
            [
             0.6,
             "rgb(209,229,240)"
            ],
            [
             0.7,
             "rgb(146,197,222)"
            ],
            [
             0.8,
             "rgb(67,147,195)"
            ],
            [
             0.9,
             "rgb(33,102,172)"
            ],
            [
             1,
             "rgb(5,48,97)"
            ]
           ],
           "sequential": [
            [
             0,
             "#440154"
            ],
            [
             0.1111111111111111,
             "#482878"
            ],
            [
             0.2222222222222222,
             "#3e4989"
            ],
            [
             0.3333333333333333,
             "#31688e"
            ],
            [
             0.4444444444444444,
             "#26828e"
            ],
            [
             0.5555555555555556,
             "#1f9e89"
            ],
            [
             0.6666666666666666,
             "#35b779"
            ],
            [
             0.7777777777777778,
             "#6ece58"
            ],
            [
             0.8888888888888888,
             "#b5de2b"
            ],
            [
             1,
             "#fde725"
            ]
           ],
           "sequentialminus": [
            [
             0,
             "#440154"
            ],
            [
             0.1111111111111111,
             "#482878"
            ],
            [
             0.2222222222222222,
             "#3e4989"
            ],
            [
             0.3333333333333333,
             "#31688e"
            ],
            [
             0.4444444444444444,
             "#26828e"
            ],
            [
             0.5555555555555556,
             "#1f9e89"
            ],
            [
             0.6666666666666666,
             "#35b779"
            ],
            [
             0.7777777777777778,
             "#6ece58"
            ],
            [
             0.8888888888888888,
             "#b5de2b"
            ],
            [
             1,
             "#fde725"
            ]
           ]
          },
          "colorway": [
           "#1F77B4",
           "#FF7F0E",
           "#2CA02C",
           "#D62728",
           "#9467BD",
           "#8C564B",
           "#E377C2",
           "#7F7F7F",
           "#BCBD22",
           "#17BECF"
          ],
          "font": {
           "color": "rgb(36,36,36)"
          },
          "geo": {
           "bgcolor": "white",
           "lakecolor": "white",
           "landcolor": "white",
           "showlakes": true,
           "showland": true,
           "subunitcolor": "white"
          },
          "hoverlabel": {
           "align": "left"
          },
          "hovermode": "closest",
          "mapbox": {
           "style": "light"
          },
          "paper_bgcolor": "white",
          "plot_bgcolor": "white",
          "polar": {
           "angularaxis": {
            "gridcolor": "rgb(232,232,232)",
            "linecolor": "rgb(36,36,36)",
            "showgrid": false,
            "showline": true,
            "ticks": "outside"
           },
           "bgcolor": "white",
           "radialaxis": {
            "gridcolor": "rgb(232,232,232)",
            "linecolor": "rgb(36,36,36)",
            "showgrid": false,
            "showline": true,
            "ticks": "outside"
           }
          },
          "scene": {
           "xaxis": {
            "backgroundcolor": "white",
            "gridcolor": "rgb(232,232,232)",
            "gridwidth": 2,
            "linecolor": "rgb(36,36,36)",
            "showbackground": true,
            "showgrid": false,
            "showline": true,
            "ticks": "outside",
            "zeroline": false,
            "zerolinecolor": "rgb(36,36,36)"
           },
           "yaxis": {
            "backgroundcolor": "white",
            "gridcolor": "rgb(232,232,232)",
            "gridwidth": 2,
            "linecolor": "rgb(36,36,36)",
            "showbackground": true,
            "showgrid": false,
            "showline": true,
            "ticks": "outside",
            "zeroline": false,
            "zerolinecolor": "rgb(36,36,36)"
           },
           "zaxis": {
            "backgroundcolor": "white",
            "gridcolor": "rgb(232,232,232)",
            "gridwidth": 2,
            "linecolor": "rgb(36,36,36)",
            "showbackground": true,
            "showgrid": false,
            "showline": true,
            "ticks": "outside",
            "zeroline": false,
            "zerolinecolor": "rgb(36,36,36)"
           }
          },
          "shapedefaults": {
           "fillcolor": "black",
           "line": {
            "width": 0
           },
           "opacity": 0.3
          },
          "ternary": {
           "aaxis": {
            "gridcolor": "rgb(232,232,232)",
            "linecolor": "rgb(36,36,36)",
            "showgrid": false,
            "showline": true,
            "ticks": "outside"
           },
           "baxis": {
            "gridcolor": "rgb(232,232,232)",
            "linecolor": "rgb(36,36,36)",
            "showgrid": false,
            "showline": true,
            "ticks": "outside"
           },
           "bgcolor": "white",
           "caxis": {
            "gridcolor": "rgb(232,232,232)",
            "linecolor": "rgb(36,36,36)",
            "showgrid": false,
            "showline": true,
            "ticks": "outside"
           }
          },
          "title": {
           "x": 0.05
          },
          "xaxis": {
           "automargin": true,
           "gridcolor": "rgb(232,232,232)",
           "linecolor": "rgb(36,36,36)",
           "showgrid": false,
           "showline": true,
           "ticks": "outside",
           "title": {
            "standoff": 15
           },
           "zeroline": false,
           "zerolinecolor": "rgb(36,36,36)"
          },
          "yaxis": {
           "automargin": true,
           "gridcolor": "rgb(232,232,232)",
           "linecolor": "rgb(36,36,36)",
           "showgrid": false,
           "showline": true,
           "ticks": "outside",
           "title": {
            "standoff": 15
           },
           "zeroline": false,
           "zerolinecolor": "rgb(36,36,36)"
          }
         }
        },
        "title": {
         "text": "Burrito Map - Day day2"
        },
        "xaxis": {
         "range": [
          0,
          500
         ],
         "visible": false
        },
        "yaxis": {
         "range": [
          0,
          550
         ],
         "scaleanchor": "x",
         "scaleratio": 1,
         "visible": false
        }
       }
      }
     },
     "metadata": {},
     "output_type": "display_data"
    },
    {
     "name": "stdout",
     "output_type": "stream",
     "text": [
      "\n",
      "Day day3:\n",
      "  - Deployed trucks: 7 (0 new, 7 maintained)\n",
      "  - Daily profit: ₲1549.00 (Revenue: ₲2949.00, Cost: ₲1400.00)\n",
      "    * Location truck8: Small (Maintained)\n",
      "    * Location truck37: Small (Maintained)\n",
      "    * Location truck23: Small (Maintained)\n",
      "    * Location truck17: Medium (Maintained)\n",
      "    * Location truck33: Large (Maintained)\n",
      "    * Location truck45: Large (Maintained)\n",
      "    * Location truck15: Large (Maintained)\n"
     ]
    },
    {
     "data": {
      "application/vnd.plotly.v1+json": {
       "config": {
        "plotlyServerURL": "https://plot.ly"
       },
       "data": [
        {
         "hoverinfo": "none",
         "line": {
          "color": "rgba(150, 150, 150, 1)",
          "width": 1.5
         },
         "mode": "lines",
         "showlegend": false,
         "type": "scatter",
         "x": [
          190.72068753836712,
          164.62860650705954
         ],
         "y": [
          477.338898163606,
          419.5826377295492
         ]
        },
        {
         "hoverinfo": "none",
         "line": {
          "color": "rgba(150, 150, 150, 1)",
          "width": 1.5
         },
         "mode": "lines",
         "showlegend": false,
         "type": "scatter",
         "x": [
          454.7476979742173,
          310.62001227747083
         ],
         "y": [
          368.96828046744577,
          327.9799666110183
         ]
        },
        {
         "hoverinfo": "none",
         "line": {
          "color": "rgba(150, 150, 150, 1)",
          "width": 1.5
         },
         "mode": "lines",
         "showlegend": false,
         "type": "scatter",
         "x": [
          284.8385512584408,
          310.62001227747083
         ],
         "y": [
          361.20534223706176,
          327.9799666110183
         ]
        },
        {
         "hoverinfo": "none",
         "line": {
          "color": "rgba(150, 150, 150, 1)",
          "width": 1.5
         },
         "mode": "lines",
         "showlegend": false,
         "type": "scatter",
         "x": [
          256.57213014119094,
          164.62860650705954
         ],
         "y": [
          391.9465776293823,
          419.5826377295492
         ]
        },
        {
         "hoverinfo": "none",
         "line": {
          "color": "rgba(150, 150, 150, 1)",
          "width": 1.5
         },
         "mode": "lines",
         "showlegend": false,
         "type": "scatter",
         "x": [
          315.2793124616329,
          310.62001227747083
         ],
         "y": [
          386.35726210350583,
          327.9799666110183
         ]
        },
        {
         "hoverinfo": "none",
         "line": {
          "color": "rgba(150, 150, 150, 1)",
          "width": 1.5
         },
         "mode": "lines",
         "showlegend": false,
         "type": "scatter",
         "x": [
          213.70656844689995,
          210.60036832412524
         ],
         "y": [
          389.46243739565944,
          342.8848080133556
         ]
        },
        {
         "hoverinfo": "none",
         "line": {
          "color": "rgba(150, 150, 150, 1)",
          "width": 1.5
         },
         "mode": "lines",
         "showlegend": false,
         "type": "scatter",
         "x": [
          176.7427869858809,
          164.62860650705954
         ],
         "y": [
          363.0684474123539,
          419.5826377295492
         ]
        },
        {
         "hoverinfo": "none",
         "line": {
          "color": "rgba(150, 150, 150, 1)",
          "width": 1.5
         },
         "mode": "lines",
         "showlegend": false,
         "type": "scatter",
         "x": [
          129.21792510742787,
          210.60036832412524
         ],
         "y": [
          381.38898163606007,
          342.8848080133556
         ]
        },
        {
         "hoverinfo": "none",
         "line": {
          "color": "rgba(150, 150, 150, 1)",
          "width": 1.5
         },
         "mode": "lines",
         "showlegend": false,
         "type": "scatter",
         "x": [
          68.02578268876611,
          128.59668508287294
         ],
         "y": [
          320.21702838063436,
          286.0601001669449
         ]
        },
        {
         "hoverinfo": "none",
         "line": {
          "color": "rgba(150, 150, 150, 1)",
          "width": 1.5
         },
         "mode": "lines",
         "showlegend": false,
         "type": "scatter",
         "x": [
          187.6144874155924,
          210.60036832412524
         ],
         "y": [
          327.3589315525876,
          342.8848080133556
         ]
        },
        {
         "hoverinfo": "none",
         "line": {
          "color": "rgba(150, 150, 150, 1)",
          "width": 1.5
         },
         "mode": "lines",
         "showlegend": false,
         "type": "scatter",
         "x": [
          152.2038060159607,
          128.59668508287294
         ],
         "y": [
          304.6911519198664,
          286.0601001669449
         ]
        },
        {
         "hoverinfo": "none",
         "line": {
          "color": "rgba(150, 150, 150, 1)",
          "width": 1.5
         },
         "mode": "lines",
         "showlegend": false,
         "type": "scatter",
         "x": [
          239.48802946593003,
          210.60036832412524
         ],
         "y": [
          303.1385642737896,
          342.8848080133556
         ]
        },
        {
         "hoverinfo": "none",
         "line": {
          "color": "rgba(150, 150, 150, 1)",
          "width": 1.5
         },
         "mode": "lines",
         "showlegend": false,
         "type": "scatter",
         "x": [
          295.71025168815225,
          310.62001227747083
         ],
         "y": [
          309.03839732888144,
          327.9799666110183
         ]
        },
        {
         "hoverinfo": "none",
         "line": {
          "color": "rgba(150, 150, 150, 1)",
          "width": 1.5
         },
         "mode": "lines",
         "showlegend": false,
         "type": "scatter",
         "x": [
          342.92449355432785,
          310.62001227747083
         ],
         "y": [
          318.6644407345576,
          327.9799666110183
         ]
        },
        {
         "hoverinfo": "none",
         "line": {
          "color": "rgba(150, 150, 150, 1)",
          "width": 1.5
         },
         "mode": "lines",
         "showlegend": false,
         "type": "scatter",
         "x": [
          460.96009821976673,
          393.2449355432781
         ],
         "y": [
          247.86644407345574,
          172.72120200333887
         ]
        },
        {
         "hoverinfo": "none",
         "line": {
          "color": "rgba(150, 150, 150, 1)",
          "width": 1.5
         },
         "mode": "lines",
         "showlegend": false,
         "type": "scatter",
         "x": [
          356.2811540822591,
          393.2449355432781
         ],
         "y": [
          232.9616026711185,
          172.72120200333887
         ]
        },
        {
         "hoverinfo": "none",
         "line": {
          "color": "rgba(150, 150, 150, 1)",
          "width": 1.5
         },
         "mode": "lines",
         "showlegend": false,
         "type": "scatter",
         "x": [
          279.55801104972375,
          209.35788827501537
         ],
         "y": [
          251.59265442404006,
          151.60601001669448
         ]
        },
        {
         "hoverinfo": "none",
         "line": {
          "color": "rgba(150, 150, 150, 1)",
          "width": 1.5
         },
         "mode": "lines",
         "showlegend": false,
         "type": "scatter",
         "x": [
          267.1332105586249,
          209.35788827501537
         ],
         "y": [
          187.93656093489147,
          151.60601001669448
         ]
        },
        {
         "hoverinfo": "none",
         "line": {
          "color": "rgba(150, 150, 150, 1)",
          "width": 1.5
         },
         "mode": "lines",
         "showlegend": false,
         "type": "scatter",
         "x": [
          359.3873542050338,
          393.2449355432781
         ],
         "y": [
          186.0734557595993,
          172.72120200333887
         ]
        },
        {
         "hoverinfo": "none",
         "line": {
          "color": "rgba(150, 150, 150, 1)",
          "width": 1.5
         },
         "mode": "lines",
         "showlegend": false,
         "type": "scatter",
         "x": [
          315.90055248618785,
          395.4192756292204
         ],
         "y": [
          104.71786310517518,
          54.724540901502394
         ]
        },
        {
         "hoverinfo": "none",
         "line": {
          "color": "rgba(150, 150, 150, 1)",
          "width": 1.5
         },
         "mode": "lines",
         "showlegend": false,
         "type": "scatter",
         "x": [
          416.2308164518109,
          393.2449355432781
         ],
         "y": [
          107.20200333889812,
          172.72120200333887
         ]
        },
        {
         "hoverinfo": "none",
         "line": {
          "color": "rgba(150, 150, 150, 1)",
          "width": 1.5
         },
         "mode": "lines",
         "showlegend": false,
         "type": "scatter",
         "x": [
          451.3308778391652,
          395.4192756292204
         ],
         "y": [
          76.77128547579298,
          54.724540901502394
         ]
        },
        {
         "hoverinfo": "none",
         "line": {
          "color": "rgba(150, 150, 150, 1)",
          "width": 1.5
         },
         "mode": "lines",
         "showlegend": false,
         "type": "scatter",
         "x": [
          375.2289748311848,
          395.4192756292204
         ],
         "y": [
          58.761268781302135,
          54.724540901502394
         ]
        },
        {
         "hoverinfo": "none",
         "line": {
          "color": "rgba(150, 150, 150, 1)",
          "width": 1.5
         },
         "mode": "lines",
         "showlegend": false,
         "type": "scatter",
         "x": [
          233.89686924493557,
          209.35788827501537
         ],
         "y": [
          69.31886477462433,
          151.60601001669448
         ]
        },
        {
         "hoverinfo": "none",
         "line": {
          "color": "rgba(150, 150, 150, 1)",
          "width": 1.5
         },
         "mode": "lines",
         "showlegend": false,
         "type": "scatter",
         "x": [
          193.82688766114185,
          209.35788827501537
         ],
         "y": [
          103.47579298831391,
          151.60601001669448
         ]
        },
        {
         "hoverinfo": "none",
         "line": {
          "color": "rgba(150, 150, 150, 1)",
          "width": 1.5
         },
         "mode": "lines",
         "showlegend": false,
         "type": "scatter",
         "x": [
          375.2289748311848,
          393.2449355432781
         ],
         "y": [
          152.53756260434062,
          172.72120200333887
         ]
        },
        {
         "hoverinfo": "none",
         "line": {
          "color": "rgba(150, 150, 150, 1)",
          "width": 1.5
         },
         "mode": "lines",
         "showlegend": false,
         "type": "scatter",
         "x": [
          392.0024554941682,
          393.2449355432781
         ],
         "y": [
          293.8230383973288,
          172.72120200333887
         ]
        },
        {
         "hoverinfo": "none",
         "line": {
          "color": "rgba(150, 150, 150, 1)",
          "width": 1.5
         },
         "mode": "lines",
         "showlegend": false,
         "type": "scatter",
         "x": [
          391.38121546961327,
          310.62001227747083
         ],
         "y": [
          364,
          327.9799666110183
         ]
        },
        {
         "hoverinfo": "none",
         "line": {
          "color": "rgba(150, 150, 150, 1)",
          "width": 1.5
         },
         "mode": "lines",
         "showlegend": false,
         "type": "scatter",
         "x": [
          278.62615101289134,
          210.60036832412524
         ],
         "y": [
          444.42404006677793,
          342.8848080133556
         ]
        },
        {
         "hovertemplate": [
          "ReLU Realty<br>Demand: 45.0",
          "Lift and Project Gym<br>Demand: 60.0",
          "Reinforcement Learning Puppy Training<br>Demand: 10.0",
          "KKT Air Conditioning<br>Demand: 10.0",
          "Linear Regression Psychology Services<br>Demand: 10.0",
          "George's Basic Diet Solutions<br>Demand: 35.0",
          "MILP Mart<br>Demand: 40.0",
          "Rothberg Tower<br>Demand: 50.0",
          "Multimodal Distribution Center<br>Demand: 40.0",
          "Callback Cat Café<br>Demand: 25.0",
          "Toy Problems 'ᴙ' Us<br>Demand: 55.0",
          "Complex Complex<br>Demand: 75.0",
          "Gurobi Polytope<br>Demand: 30.0",
          "Vertex Tower<br>Demand: 60.0",
          "Fourier Transform Towers<br>Demand: 40.0",
          "Nonlinear Thinking Center<br>Demand: 20.0",
          "Bixby Hall<br>Demand: 40.0",
          "Interior Point Decorating<br>Demand: 10.0",
          "Scheduling Station<br>Demand: 35.0",
          "Numerical Issues Zoo<br>Demand: 75.0",
          "Multi-Threads Thrift Store<br>Demand: 15.0",
          "Bin Packing Post Office<br>Demand: 70.0",
          "Land & Harcourt's B&B<br>Demand: 70.0",
          "K-Fold Parking Validation<br>Demand: 50.0",
          "Bias & Variance Courthouse<br>Demand: 40.0",
          "Logistic Regression Couriers<br>Demand: 50.0",
          "Cutting Plane Woodworks<br>Demand: 75.0",
          "Farkas' Lemma-nade<br>Demand: 15.0",
          "Gu Library<br>Demand: 55.0"
         ],
         "marker": {
          "color": "red",
          "line": {
           "width": 0
          },
          "opacity": 0.7,
          "size": [
           22.5,
           30,
           5,
           5,
           5,
           17.5,
           20,
           25,
           20,
           12.5,
           27.5,
           37.5,
           15,
           30,
           20,
           10,
           20,
           5,
           17.5,
           37.5,
           7.5,
           35,
           35,
           25,
           20,
           25,
           37.5,
           7.5,
           27.5
          ]
         },
         "mode": "markers",
         "name": "Demand Point",
         "type": "scatter",
         "x": [
          190.72068753836712,
          454.7476979742173,
          284.8385512584408,
          256.57213014119094,
          315.2793124616329,
          213.70656844689995,
          176.7427869858809,
          129.21792510742787,
          68.02578268876611,
          187.6144874155924,
          152.2038060159607,
          239.48802946593003,
          295.71025168815225,
          342.92449355432785,
          460.96009821976673,
          356.2811540822591,
          279.55801104972375,
          267.1332105586249,
          359.3873542050338,
          315.90055248618785,
          416.2308164518109,
          451.3308778391652,
          375.2289748311848,
          233.89686924493557,
          193.82688766114185,
          375.2289748311848,
          392.0024554941682,
          391.38121546961327,
          278.62615101289134
         ],
         "y": [
          477.338898163606,
          368.96828046744577,
          361.20534223706176,
          391.9465776293823,
          386.35726210350583,
          389.46243739565944,
          363.0684474123539,
          381.38898163606007,
          320.21702838063436,
          327.3589315525876,
          304.6911519198664,
          303.1385642737896,
          309.03839732888144,
          318.6644407345576,
          247.86644407345574,
          232.9616026711185,
          251.59265442404006,
          187.93656093489147,
          186.0734557595993,
          104.71786310517518,
          107.20200333889812,
          76.77128547579298,
          58.761268781302135,
          69.31886477462433,
          103.47579298831391,
          152.53756260434062,
          293.8230383973288,
          364,
          444.42404006677793
         ]
        },
        {
         "hovertemplate": [
          "truck33",
          "truck34",
          "truck43",
          "truck49",
          "truck1",
          "truck8",
          "truck6",
          "truck53",
          "truck44",
          "truck45",
          "truck36",
          "truck54",
          "truck29",
          "truck37",
          "truck35",
          "truck7",
          "truck17",
          "truck15",
          "truck27",
          "truck23"
         ],
         "marker": {
          "color": "rgba(135, 206, 250, 0.3)",
          "line": {
           "color": "darkblue",
           "width": 1
          },
          "size": 10,
          "symbol": "circle"
         },
         "mode": "markers",
         "name": "Available Location",
         "type": "scatter",
         "x": [
          393.2449355432781,
          337.9545733578883,
          290.42971147943524,
          492.6433394720688,
          112.75506445672193,
          164.62860650705954,
          56.22222222222222,
          209.35788827501537,
          315.5899324739104,
          395.4192756292204,
          303.16513198281154,
          320.5598526703499,
          296.0208717004297,
          209.35788827501537,
          288.8766114180479,
          113.0656844689994,
          310.62001227747083,
          210.60036832412524,
          173.94720687538367,
          128.59668508287294
         ],
         "y": [
          172.72120200333887,
          154.71118530884797,
          43.235392320534174,
          70.25041736227041,
          491.9332220367279,
          419.5826377295492,
          420.51419031719536,
          269.9131886477462,
          254.07679465776295,
          54.724540901502394,
          135.14858096828038,
          276.4340567612688,
          199.1151919866444,
          151.60601001669448,
          164.6477462437395,
          418.9616026711185,
          327.9799666110183,
          342.8848080133556,
          209.67278797996659,
          286.0601001669449
         ]
        },
        {
         "hovertemplate": [
          "truck8<br>Small (Maintained)",
          "truck37<br>Small (Maintained)",
          "truck23<br>Small (Maintained)"
         ],
         "marker": {
          "color": [
           "blue",
           "blue",
           "blue"
          ],
          "line": {
           "color": "black",
           "width": 1
          },
          "size": 12,
          "symbol": "triangle-up"
         },
         "mode": "markers",
         "name": "Small Trucks",
         "type": "scatter",
         "x": [
          164.62860650705954,
          209.35788827501537,
          128.59668508287294
         ],
         "y": [
          419.5826377295492,
          151.60601001669448,
          286.0601001669449
         ]
        },
        {
         "hovertemplate": [
          "truck17<br>Medium (Maintained)"
         ],
         "marker": {
          "color": [
           "blue"
          ],
          "line": {
           "color": "black",
           "width": 1
          },
          "size": 12,
          "symbol": "square"
         },
         "mode": "markers",
         "name": "Medium Trucks",
         "type": "scatter",
         "x": [
          310.62001227747083
         ],
         "y": [
          327.9799666110183
         ]
        },
        {
         "hovertemplate": [
          "truck33<br>Large (Maintained)",
          "truck15<br>Large (Maintained)",
          "truck45<br>Large (Maintained)"
         ],
         "marker": {
          "color": [
           "blue",
           "blue",
           "blue"
          ],
          "line": {
           "color": "black",
           "width": 1
          },
          "size": 12,
          "symbol": "circle"
         },
         "mode": "markers",
         "name": "Large Trucks",
         "type": "scatter",
         "x": [
          393.2449355432781,
          210.60036832412524,
          395.4192756292204
         ],
         "y": [
          172.72120200333887,
          342.8848080133556,
          54.724540901502394
         ]
        }
       ],
       "layout": {
        "images": [
         {
          "layer": "below",
          "opacity": 0.9,
          "sizex": 500,
          "sizey": 550,
          "sizing": "stretch",
          "source": "data:image/png;base64,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",
          "x": 0,
          "xref": "x",
          "y": 550,
          "yref": "y"
         }
        ],
        "legend": {
         "orientation": "h",
         "x": 1,
         "xanchor": "right",
         "y": 1.02,
         "yanchor": "bottom"
        },
        "showlegend": true,
        "template": {
         "data": {
          "bar": [
           {
            "error_x": {
             "color": "rgb(36,36,36)"
            },
            "error_y": {
             "color": "rgb(36,36,36)"
            },
            "marker": {
             "line": {
              "color": "white",
              "width": 0.5
             },
             "pattern": {
              "fillmode": "overlay",
              "size": 10,
              "solidity": 0.2
             }
            },
            "type": "bar"
           }
          ],
          "barpolar": [
           {
            "marker": {
             "line": {
              "color": "white",
              "width": 0.5
             },
             "pattern": {
              "fillmode": "overlay",
              "size": 10,
              "solidity": 0.2
             }
            },
            "type": "barpolar"
           }
          ],
          "carpet": [
           {
            "aaxis": {
             "endlinecolor": "rgb(36,36,36)",
             "gridcolor": "white",
             "linecolor": "white",
             "minorgridcolor": "white",
             "startlinecolor": "rgb(36,36,36)"
            },
            "baxis": {
             "endlinecolor": "rgb(36,36,36)",
             "gridcolor": "white",
             "linecolor": "white",
             "minorgridcolor": "white",
             "startlinecolor": "rgb(36,36,36)"
            },
            "type": "carpet"
           }
          ],
          "choropleth": [
           {
            "colorbar": {
             "outlinewidth": 1,
             "tickcolor": "rgb(36,36,36)",
             "ticks": "outside"
            },
            "type": "choropleth"
           }
          ],
          "contour": [
           {
            "colorbar": {
             "outlinewidth": 1,
             "tickcolor": "rgb(36,36,36)",
             "ticks": "outside"
            },
            "colorscale": [
             [
              0,
              "#440154"
             ],
             [
              0.1111111111111111,
              "#482878"
             ],
             [
              0.2222222222222222,
              "#3e4989"
             ],
             [
              0.3333333333333333,
              "#31688e"
             ],
             [
              0.4444444444444444,
              "#26828e"
             ],
             [
              0.5555555555555556,
              "#1f9e89"
             ],
             [
              0.6666666666666666,
              "#35b779"
             ],
             [
              0.7777777777777778,
              "#6ece58"
             ],
             [
              0.8888888888888888,
              "#b5de2b"
             ],
             [
              1,
              "#fde725"
             ]
            ],
            "type": "contour"
           }
          ],
          "contourcarpet": [
           {
            "colorbar": {
             "outlinewidth": 1,
             "tickcolor": "rgb(36,36,36)",
             "ticks": "outside"
            },
            "type": "contourcarpet"
           }
          ],
          "heatmap": [
           {
            "colorbar": {
             "outlinewidth": 1,
             "tickcolor": "rgb(36,36,36)",
             "ticks": "outside"
            },
            "colorscale": [
             [
              0,
              "#440154"
             ],
             [
              0.1111111111111111,
              "#482878"
             ],
             [
              0.2222222222222222,
              "#3e4989"
             ],
             [
              0.3333333333333333,
              "#31688e"
             ],
             [
              0.4444444444444444,
              "#26828e"
             ],
             [
              0.5555555555555556,
              "#1f9e89"
             ],
             [
              0.6666666666666666,
              "#35b779"
             ],
             [
              0.7777777777777778,
              "#6ece58"
             ],
             [
              0.8888888888888888,
              "#b5de2b"
             ],
             [
              1,
              "#fde725"
             ]
            ],
            "type": "heatmap"
           }
          ],
          "histogram": [
           {
            "marker": {
             "line": {
              "color": "white",
              "width": 0.6
             }
            },
            "type": "histogram"
           }
          ],
          "histogram2d": [
           {
            "colorbar": {
             "outlinewidth": 1,
             "tickcolor": "rgb(36,36,36)",
             "ticks": "outside"
            },
            "colorscale": [
             [
              0,
              "#440154"
             ],
             [
              0.1111111111111111,
              "#482878"
             ],
             [
              0.2222222222222222,
              "#3e4989"
             ],
             [
              0.3333333333333333,
              "#31688e"
             ],
             [
              0.4444444444444444,
              "#26828e"
             ],
             [
              0.5555555555555556,
              "#1f9e89"
             ],
             [
              0.6666666666666666,
              "#35b779"
             ],
             [
              0.7777777777777778,
              "#6ece58"
             ],
             [
              0.8888888888888888,
              "#b5de2b"
             ],
             [
              1,
              "#fde725"
             ]
            ],
            "type": "histogram2d"
           }
          ],
          "histogram2dcontour": [
           {
            "colorbar": {
             "outlinewidth": 1,
             "tickcolor": "rgb(36,36,36)",
             "ticks": "outside"
            },
            "colorscale": [
             [
              0,
              "#440154"
             ],
             [
              0.1111111111111111,
              "#482878"
             ],
             [
              0.2222222222222222,
              "#3e4989"
             ],
             [
              0.3333333333333333,
              "#31688e"
             ],
             [
              0.4444444444444444,
              "#26828e"
             ],
             [
              0.5555555555555556,
              "#1f9e89"
             ],
             [
              0.6666666666666666,
              "#35b779"
             ],
             [
              0.7777777777777778,
              "#6ece58"
             ],
             [
              0.8888888888888888,
              "#b5de2b"
             ],
             [
              1,
              "#fde725"
             ]
            ],
            "type": "histogram2dcontour"
           }
          ],
          "mesh3d": [
           {
            "colorbar": {
             "outlinewidth": 1,
             "tickcolor": "rgb(36,36,36)",
             "ticks": "outside"
            },
            "type": "mesh3d"
           }
          ],
          "parcoords": [
           {
            "line": {
             "colorbar": {
              "outlinewidth": 1,
              "tickcolor": "rgb(36,36,36)",
              "ticks": "outside"
             }
            },
            "type": "parcoords"
           }
          ],
          "pie": [
           {
            "automargin": true,
            "type": "pie"
           }
          ],
          "scatter": [
           {
            "fillpattern": {
             "fillmode": "overlay",
             "size": 10,
             "solidity": 0.2
            },
            "type": "scatter"
           }
          ],
          "scatter3d": [
           {
            "line": {
             "colorbar": {
              "outlinewidth": 1,
              "tickcolor": "rgb(36,36,36)",
              "ticks": "outside"
             }
            },
            "marker": {
             "colorbar": {
              "outlinewidth": 1,
              "tickcolor": "rgb(36,36,36)",
              "ticks": "outside"
             }
            },
            "type": "scatter3d"
           }
          ],
          "scattercarpet": [
           {
            "marker": {
             "colorbar": {
              "outlinewidth": 1,
              "tickcolor": "rgb(36,36,36)",
              "ticks": "outside"
             }
            },
            "type": "scattercarpet"
           }
          ],
          "scattergeo": [
           {
            "marker": {
             "colorbar": {
              "outlinewidth": 1,
              "tickcolor": "rgb(36,36,36)",
              "ticks": "outside"
             }
            },
            "type": "scattergeo"
           }
          ],
          "scattergl": [
           {
            "marker": {
             "colorbar": {
              "outlinewidth": 1,
              "tickcolor": "rgb(36,36,36)",
              "ticks": "outside"
             }
            },
            "type": "scattergl"
           }
          ],
          "scattermap": [
           {
            "marker": {
             "colorbar": {
              "outlinewidth": 1,
              "tickcolor": "rgb(36,36,36)",
              "ticks": "outside"
             }
            },
            "type": "scattermap"
           }
          ],
          "scattermapbox": [
           {
            "marker": {
             "colorbar": {
              "outlinewidth": 1,
              "tickcolor": "rgb(36,36,36)",
              "ticks": "outside"
             }
            },
            "type": "scattermapbox"
           }
          ],
          "scatterpolar": [
           {
            "marker": {
             "colorbar": {
              "outlinewidth": 1,
              "tickcolor": "rgb(36,36,36)",
              "ticks": "outside"
             }
            },
            "type": "scatterpolar"
           }
          ],
          "scatterpolargl": [
           {
            "marker": {
             "colorbar": {
              "outlinewidth": 1,
              "tickcolor": "rgb(36,36,36)",
              "ticks": "outside"
             }
            },
            "type": "scatterpolargl"
           }
          ],
          "scatterternary": [
           {
            "marker": {
             "colorbar": {
              "outlinewidth": 1,
              "tickcolor": "rgb(36,36,36)",
              "ticks": "outside"
             }
            },
            "type": "scatterternary"
           }
          ],
          "surface": [
           {
            "colorbar": {
             "outlinewidth": 1,
             "tickcolor": "rgb(36,36,36)",
             "ticks": "outside"
            },
            "colorscale": [
             [
              0,
              "#440154"
             ],
             [
              0.1111111111111111,
              "#482878"
             ],
             [
              0.2222222222222222,
              "#3e4989"
             ],
             [
              0.3333333333333333,
              "#31688e"
             ],
             [
              0.4444444444444444,
              "#26828e"
             ],
             [
              0.5555555555555556,
              "#1f9e89"
             ],
             [
              0.6666666666666666,
              "#35b779"
             ],
             [
              0.7777777777777778,
              "#6ece58"
             ],
             [
              0.8888888888888888,
              "#b5de2b"
             ],
             [
              1,
              "#fde725"
             ]
            ],
            "type": "surface"
           }
          ],
          "table": [
           {
            "cells": {
             "fill": {
              "color": "rgb(237,237,237)"
             },
             "line": {
              "color": "white"
             }
            },
            "header": {
             "fill": {
              "color": "rgb(217,217,217)"
             },
             "line": {
              "color": "white"
             }
            },
            "type": "table"
           }
          ]
         },
         "layout": {
          "annotationdefaults": {
           "arrowhead": 0,
           "arrowwidth": 1
          },
          "autotypenumbers": "strict",
          "coloraxis": {
           "colorbar": {
            "outlinewidth": 1,
            "tickcolor": "rgb(36,36,36)",
            "ticks": "outside"
           }
          },
          "colorscale": {
           "diverging": [
            [
             0,
             "rgb(103,0,31)"
            ],
            [
             0.1,
             "rgb(178,24,43)"
            ],
            [
             0.2,
             "rgb(214,96,77)"
            ],
            [
             0.3,
             "rgb(244,165,130)"
            ],
            [
             0.4,
             "rgb(253,219,199)"
            ],
            [
             0.5,
             "rgb(247,247,247)"
            ],
            [
             0.6,
             "rgb(209,229,240)"
            ],
            [
             0.7,
             "rgb(146,197,222)"
            ],
            [
             0.8,
             "rgb(67,147,195)"
            ],
            [
             0.9,
             "rgb(33,102,172)"
            ],
            [
             1,
             "rgb(5,48,97)"
            ]
           ],
           "sequential": [
            [
             0,
             "#440154"
            ],
            [
             0.1111111111111111,
             "#482878"
            ],
            [
             0.2222222222222222,
             "#3e4989"
            ],
            [
             0.3333333333333333,
             "#31688e"
            ],
            [
             0.4444444444444444,
             "#26828e"
            ],
            [
             0.5555555555555556,
             "#1f9e89"
            ],
            [
             0.6666666666666666,
             "#35b779"
            ],
            [
             0.7777777777777778,
             "#6ece58"
            ],
            [
             0.8888888888888888,
             "#b5de2b"
            ],
            [
             1,
             "#fde725"
            ]
           ],
           "sequentialminus": [
            [
             0,
             "#440154"
            ],
            [
             0.1111111111111111,
             "#482878"
            ],
            [
             0.2222222222222222,
             "#3e4989"
            ],
            [
             0.3333333333333333,
             "#31688e"
            ],
            [
             0.4444444444444444,
             "#26828e"
            ],
            [
             0.5555555555555556,
             "#1f9e89"
            ],
            [
             0.6666666666666666,
             "#35b779"
            ],
            [
             0.7777777777777778,
             "#6ece58"
            ],
            [
             0.8888888888888888,
             "#b5de2b"
            ],
            [
             1,
             "#fde725"
            ]
           ]
          },
          "colorway": [
           "#1F77B4",
           "#FF7F0E",
           "#2CA02C",
           "#D62728",
           "#9467BD",
           "#8C564B",
           "#E377C2",
           "#7F7F7F",
           "#BCBD22",
           "#17BECF"
          ],
          "font": {
           "color": "rgb(36,36,36)"
          },
          "geo": {
           "bgcolor": "white",
           "lakecolor": "white",
           "landcolor": "white",
           "showlakes": true,
           "showland": true,
           "subunitcolor": "white"
          },
          "hoverlabel": {
           "align": "left"
          },
          "hovermode": "closest",
          "mapbox": {
           "style": "light"
          },
          "paper_bgcolor": "white",
          "plot_bgcolor": "white",
          "polar": {
           "angularaxis": {
            "gridcolor": "rgb(232,232,232)",
            "linecolor": "rgb(36,36,36)",
            "showgrid": false,
            "showline": true,
            "ticks": "outside"
           },
           "bgcolor": "white",
           "radialaxis": {
            "gridcolor": "rgb(232,232,232)",
            "linecolor": "rgb(36,36,36)",
            "showgrid": false,
            "showline": true,
            "ticks": "outside"
           }
          },
          "scene": {
           "xaxis": {
            "backgroundcolor": "white",
            "gridcolor": "rgb(232,232,232)",
            "gridwidth": 2,
            "linecolor": "rgb(36,36,36)",
            "showbackground": true,
            "showgrid": false,
            "showline": true,
            "ticks": "outside",
            "zeroline": false,
            "zerolinecolor": "rgb(36,36,36)"
           },
           "yaxis": {
            "backgroundcolor": "white",
            "gridcolor": "rgb(232,232,232)",
            "gridwidth": 2,
            "linecolor": "rgb(36,36,36)",
            "showbackground": true,
            "showgrid": false,
            "showline": true,
            "ticks": "outside",
            "zeroline": false,
            "zerolinecolor": "rgb(36,36,36)"
           },
           "zaxis": {
            "backgroundcolor": "white",
            "gridcolor": "rgb(232,232,232)",
            "gridwidth": 2,
            "linecolor": "rgb(36,36,36)",
            "showbackground": true,
            "showgrid": false,
            "showline": true,
            "ticks": "outside",
            "zeroline": false,
            "zerolinecolor": "rgb(36,36,36)"
           }
          },
          "shapedefaults": {
           "fillcolor": "black",
           "line": {
            "width": 0
           },
           "opacity": 0.3
          },
          "ternary": {
           "aaxis": {
            "gridcolor": "rgb(232,232,232)",
            "linecolor": "rgb(36,36,36)",
            "showgrid": false,
            "showline": true,
            "ticks": "outside"
           },
           "baxis": {
            "gridcolor": "rgb(232,232,232)",
            "linecolor": "rgb(36,36,36)",
            "showgrid": false,
            "showline": true,
            "ticks": "outside"
           },
           "bgcolor": "white",
           "caxis": {
            "gridcolor": "rgb(232,232,232)",
            "linecolor": "rgb(36,36,36)",
            "showgrid": false,
            "showline": true,
            "ticks": "outside"
           }
          },
          "title": {
           "x": 0.05
          },
          "xaxis": {
           "automargin": true,
           "gridcolor": "rgb(232,232,232)",
           "linecolor": "rgb(36,36,36)",
           "showgrid": false,
           "showline": true,
           "ticks": "outside",
           "title": {
            "standoff": 15
           },
           "zeroline": false,
           "zerolinecolor": "rgb(36,36,36)"
          },
          "yaxis": {
           "automargin": true,
           "gridcolor": "rgb(232,232,232)",
           "linecolor": "rgb(36,36,36)",
           "showgrid": false,
           "showline": true,
           "ticks": "outside",
           "title": {
            "standoff": 15
           },
           "zeroline": false,
           "zerolinecolor": "rgb(36,36,36)"
          }
         }
        },
        "title": {
         "text": "Burrito Map - Day day3"
        },
        "xaxis": {
         "range": [
          0,
          500
         ],
         "visible": false
        },
        "yaxis": {
         "range": [
          0,
          550
         ],
         "scaleanchor": "x",
         "scaleratio": 1,
         "visible": false
        }
       }
      }
     },
     "metadata": {},
     "output_type": "display_data"
    },
    {
     "name": "stdout",
     "output_type": "stream",
     "text": [
      "\n",
      "Day day4:\n",
      "  - Deployed trucks: 7 (1 new, 6 maintained)\n",
      "  - Daily profit: ₲1740.00 (Revenue: ₲3230.00, Cost: ₲1490.00)\n",
      "    * Location truck8: Small (Maintained)\n",
      "    * Location truck23: Small (Maintained)\n",
      "    * Location truck53: Medium (New)\n",
      "    * Location truck17: Medium (Maintained)\n",
      "    * Location truck33: Large (Maintained)\n",
      "    * Location truck45: Large (Maintained)\n",
      "    * Location truck15: Large (Maintained)\n"
     ]
    },
    {
     "data": {
      "application/vnd.plotly.v1+json": {
       "config": {
        "plotlyServerURL": "https://plot.ly"
       },
       "data": [
        {
         "hoverinfo": "none",
         "line": {
          "color": "rgba(150, 150, 150, 1)",
          "width": 1.5
         },
         "mode": "lines",
         "showlegend": false,
         "type": "scatter",
         "x": [
          190.72068753836712,
          164.62860650705954
         ],
         "y": [
          477.338898163606,
          419.5826377295492
         ]
        },
        {
         "hoverinfo": "none",
         "line": {
          "color": "rgba(150, 150, 150, 1)",
          "width": 1.5
         },
         "mode": "lines",
         "showlegend": false,
         "type": "scatter",
         "x": [
          284.8385512584408,
          310.62001227747083
         ],
         "y": [
          361.20534223706176,
          327.9799666110183
         ]
        },
        {
         "hoverinfo": "none",
         "line": {
          "color": "rgba(150, 150, 150, 1)",
          "width": 1.5
         },
         "mode": "lines",
         "showlegend": false,
         "type": "scatter",
         "x": [
          256.57213014119094,
          210.60036832412524
         ],
         "y": [
          391.9465776293823,
          342.8848080133556
         ]
        },
        {
         "hoverinfo": "none",
         "line": {
          "color": "rgba(150, 150, 150, 1)",
          "width": 1.5
         },
         "mode": "lines",
         "showlegend": false,
         "type": "scatter",
         "x": [
          315.2793124616329,
          310.62001227747083
         ],
         "y": [
          386.35726210350583,
          327.9799666110183
         ]
        },
        {
         "hoverinfo": "none",
         "line": {
          "color": "rgba(150, 150, 150, 1)",
          "width": 1.5
         },
         "mode": "lines",
         "showlegend": false,
         "type": "scatter",
         "x": [
          213.70656844689995,
          210.60036832412524
         ],
         "y": [
          389.46243739565944,
          342.8848080133556
         ]
        },
        {
         "hoverinfo": "none",
         "line": {
          "color": "rgba(150, 150, 150, 1)",
          "width": 1.5
         },
         "mode": "lines",
         "showlegend": false,
         "type": "scatter",
         "x": [
          176.7427869858809,
          164.62860650705954
         ],
         "y": [
          363.0684474123539,
          419.5826377295492
         ]
        },
        {
         "hoverinfo": "none",
         "line": {
          "color": "rgba(150, 150, 150, 1)",
          "width": 1.5
         },
         "mode": "lines",
         "showlegend": false,
         "type": "scatter",
         "x": [
          129.21792510742787,
          128.59668508287294
         ],
         "y": [
          381.38898163606007,
          286.0601001669449
         ]
        },
        {
         "hoverinfo": "none",
         "line": {
          "color": "rgba(150, 150, 150, 1)",
          "width": 1.5
         },
         "mode": "lines",
         "showlegend": false,
         "type": "scatter",
         "x": [
          68.02578268876611,
          128.59668508287294
         ],
         "y": [
          320.21702838063436,
          286.0601001669449
         ]
        },
        {
         "hoverinfo": "none",
         "line": {
          "color": "rgba(150, 150, 150, 1)",
          "width": 1.5
         },
         "mode": "lines",
         "showlegend": false,
         "type": "scatter",
         "x": [
          187.6144874155924,
          209.35788827501537
         ],
         "y": [
          327.3589315525876,
          269.9131886477462
         ]
        },
        {
         "hoverinfo": "none",
         "line": {
          "color": "rgba(150, 150, 150, 1)",
          "width": 1.5
         },
         "mode": "lines",
         "showlegend": false,
         "type": "scatter",
         "x": [
          152.2038060159607,
          128.59668508287294
         ],
         "y": [
          304.6911519198664,
          286.0601001669449
         ]
        },
        {
         "hoverinfo": "none",
         "line": {
          "color": "rgba(150, 150, 150, 1)",
          "width": 1.5
         },
         "mode": "lines",
         "showlegend": false,
         "type": "scatter",
         "x": [
          239.48802946593003,
          209.35788827501537
         ],
         "y": [
          303.1385642737896,
          269.9131886477462
         ]
        },
        {
         "hoverinfo": "none",
         "line": {
          "color": "rgba(150, 150, 150, 1)",
          "width": 1.5
         },
         "mode": "lines",
         "showlegend": false,
         "type": "scatter",
         "x": [
          295.71025168815225,
          310.62001227747083
         ],
         "y": [
          309.03839732888144,
          327.9799666110183
         ]
        },
        {
         "hoverinfo": "none",
         "line": {
          "color": "rgba(150, 150, 150, 1)",
          "width": 1.5
         },
         "mode": "lines",
         "showlegend": false,
         "type": "scatter",
         "x": [
          460.96009821976673,
          393.2449355432781
         ],
         "y": [
          247.86644407345574,
          172.72120200333887
         ]
        },
        {
         "hoverinfo": "none",
         "line": {
          "color": "rgba(150, 150, 150, 1)",
          "width": 1.5
         },
         "mode": "lines",
         "showlegend": false,
         "type": "scatter",
         "x": [
          356.2811540822591,
          393.2449355432781
         ],
         "y": [
          232.9616026711185,
          172.72120200333887
         ]
        },
        {
         "hoverinfo": "none",
         "line": {
          "color": "rgba(150, 150, 150, 1)",
          "width": 1.5
         },
         "mode": "lines",
         "showlegend": false,
         "type": "scatter",
         "x": [
          359.3873542050338,
          393.2449355432781
         ],
         "y": [
          186.0734557595993,
          172.72120200333887
         ]
        },
        {
         "hoverinfo": "none",
         "line": {
          "color": "rgba(150, 150, 150, 1)",
          "width": 1.5
         },
         "mode": "lines",
         "showlegend": false,
         "type": "scatter",
         "x": [
          315.90055248618785,
          395.4192756292204
         ],
         "y": [
          104.71786310517518,
          54.724540901502394
         ]
        },
        {
         "hoverinfo": "none",
         "line": {
          "color": "rgba(150, 150, 150, 1)",
          "width": 1.5
         },
         "mode": "lines",
         "showlegend": false,
         "type": "scatter",
         "x": [
          416.2308164518109,
          395.4192756292204
         ],
         "y": [
          107.20200333889812,
          54.724540901502394
         ]
        },
        {
         "hoverinfo": "none",
         "line": {
          "color": "rgba(150, 150, 150, 1)",
          "width": 1.5
         },
         "mode": "lines",
         "showlegend": false,
         "type": "scatter",
         "x": [
          375.2289748311848,
          395.4192756292204
         ],
         "y": [
          58.761268781302135,
          54.724540901502394
         ]
        },
        {
         "hoverinfo": "none",
         "line": {
          "color": "rgba(150, 150, 150, 1)",
          "width": 1.5
         },
         "mode": "lines",
         "showlegend": false,
         "type": "scatter",
         "x": [
          375.2289748311848,
          393.2449355432781
         ],
         "y": [
          152.53756260434062,
          172.72120200333887
         ]
        },
        {
         "hoverinfo": "none",
         "line": {
          "color": "rgba(150, 150, 150, 1)",
          "width": 1.5
         },
         "mode": "lines",
         "showlegend": false,
         "type": "scatter",
         "x": [
          391.38121546961327,
          310.62001227747083
         ],
         "y": [
          364,
          327.9799666110183
         ]
        },
        {
         "hovertemplate": [
          "ReLU Realty<br>Demand: 35.0",
          "Lift and Project Gym<br>Demand: 20.0",
          "Reinforcement Learning Puppy Training<br>Demand: 30.0",
          "KKT Air Conditioning<br>Demand: 20.0",
          "Linear Regression Psychology Services<br>Demand: 45.0",
          "George's Basic Diet Solutions<br>Demand: 35.0",
          "MILP Mart<br>Demand: 40.0",
          "Rothberg Tower<br>Demand: 50.0",
          "Multimodal Distribution Center<br>Demand: 70.0",
          "Callback Cat Café<br>Demand: 70.0",
          "Toy Problems 'ᴙ' Us<br>Demand: 10.0",
          "Complex Complex<br>Demand: 70.0",
          "Gurobi Polytope<br>Demand: 70.0",
          "Vertex Tower<br>Demand: 10.0",
          "Fourier Transform Towers<br>Demand: 35.0",
          "Nonlinear Thinking Center<br>Demand: 35.0",
          "Bixby Hall<br>Demand: 70.0",
          "Interior Point Decorating<br>Demand: 25.0",
          "Scheduling Station<br>Demand: 75.0",
          "Numerical Issues Zoo<br>Demand: 20.0",
          "Multi-Threads Thrift Store<br>Demand: 20.0",
          "Bin Packing Post Office<br>Demand: 70.0",
          "Land & Harcourt's B&B<br>Demand: 75.0",
          "K-Fold Parking Validation<br>Demand: 75.0",
          "Bias & Variance Courthouse<br>Demand: 75.0",
          "Logistic Regression Couriers<br>Demand: 30.0",
          "Cutting Plane Woodworks<br>Demand: 25.0",
          "Farkas' Lemma-nade<br>Demand: 40.0",
          "Gu Library<br>Demand: 25.0"
         ],
         "marker": {
          "color": "red",
          "line": {
           "width": 0
          },
          "opacity": 0.7,
          "size": [
           17.5,
           10,
           15,
           10,
           22.5,
           17.5,
           20,
           25,
           35,
           35,
           5,
           35,
           35,
           5,
           17.5,
           17.5,
           35,
           12.5,
           37.5,
           10,
           10,
           35,
           37.5,
           37.5,
           37.5,
           15,
           12.5,
           20,
           12.5
          ]
         },
         "mode": "markers",
         "name": "Demand Point",
         "type": "scatter",
         "x": [
          190.72068753836712,
          454.7476979742173,
          284.8385512584408,
          256.57213014119094,
          315.2793124616329,
          213.70656844689995,
          176.7427869858809,
          129.21792510742787,
          68.02578268876611,
          187.6144874155924,
          152.2038060159607,
          239.48802946593003,
          295.71025168815225,
          342.92449355432785,
          460.96009821976673,
          356.2811540822591,
          279.55801104972375,
          267.1332105586249,
          359.3873542050338,
          315.90055248618785,
          416.2308164518109,
          451.3308778391652,
          375.2289748311848,
          233.89686924493557,
          193.82688766114185,
          375.2289748311848,
          392.0024554941682,
          391.38121546961327,
          278.62615101289134
         ],
         "y": [
          477.338898163606,
          368.96828046744577,
          361.20534223706176,
          391.9465776293823,
          386.35726210350583,
          389.46243739565944,
          363.0684474123539,
          381.38898163606007,
          320.21702838063436,
          327.3589315525876,
          304.6911519198664,
          303.1385642737896,
          309.03839732888144,
          318.6644407345576,
          247.86644407345574,
          232.9616026711185,
          251.59265442404006,
          187.93656093489147,
          186.0734557595993,
          104.71786310517518,
          107.20200333889812,
          76.77128547579298,
          58.761268781302135,
          69.31886477462433,
          103.47579298831391,
          152.53756260434062,
          293.8230383973288,
          364,
          444.42404006677793
         ]
        },
        {
         "hovertemplate": [
          "truck33",
          "truck34",
          "truck43",
          "truck49",
          "truck1",
          "truck8",
          "truck6",
          "truck53",
          "truck44",
          "truck45",
          "truck36",
          "truck54",
          "truck29",
          "truck37",
          "truck35",
          "truck7",
          "truck17",
          "truck15",
          "truck27",
          "truck23"
         ],
         "marker": {
          "color": "rgba(135, 206, 250, 0.3)",
          "line": {
           "color": "darkblue",
           "width": 1
          },
          "size": 10,
          "symbol": "circle"
         },
         "mode": "markers",
         "name": "Available Location",
         "type": "scatter",
         "x": [
          393.2449355432781,
          337.9545733578883,
          290.42971147943524,
          492.6433394720688,
          112.75506445672193,
          164.62860650705954,
          56.22222222222222,
          209.35788827501537,
          315.5899324739104,
          395.4192756292204,
          303.16513198281154,
          320.5598526703499,
          296.0208717004297,
          209.35788827501537,
          288.8766114180479,
          113.0656844689994,
          310.62001227747083,
          210.60036832412524,
          173.94720687538367,
          128.59668508287294
         ],
         "y": [
          172.72120200333887,
          154.71118530884797,
          43.235392320534174,
          70.25041736227041,
          491.9332220367279,
          419.5826377295492,
          420.51419031719536,
          269.9131886477462,
          254.07679465776295,
          54.724540901502394,
          135.14858096828038,
          276.4340567612688,
          199.1151919866444,
          151.60601001669448,
          164.6477462437395,
          418.9616026711185,
          327.9799666110183,
          342.8848080133556,
          209.67278797996659,
          286.0601001669449
         ]
        },
        {
         "hovertemplate": [
          "truck8<br>Small (Maintained)",
          "truck23<br>Small (Maintained)"
         ],
         "marker": {
          "color": [
           "blue",
           "blue"
          ],
          "line": {
           "color": "black",
           "width": 1
          },
          "size": 12,
          "symbol": "triangle-up"
         },
         "mode": "markers",
         "name": "Small Trucks",
         "type": "scatter",
         "x": [
          164.62860650705954,
          128.59668508287294
         ],
         "y": [
          419.5826377295492,
          286.0601001669449
         ]
        },
        {
         "hovertemplate": [
          "truck53<br>Medium (New)",
          "truck17<br>Medium (Maintained)"
         ],
         "marker": {
          "color": [
           "green",
           "blue"
          ],
          "line": {
           "color": "black",
           "width": 1
          },
          "size": 12,
          "symbol": "square"
         },
         "mode": "markers",
         "name": "Medium Trucks",
         "type": "scatter",
         "x": [
          209.35788827501537,
          310.62001227747083
         ],
         "y": [
          269.9131886477462,
          327.9799666110183
         ]
        },
        {
         "hovertemplate": [
          "truck33<br>Large (Maintained)",
          "truck15<br>Large (Maintained)",
          "truck45<br>Large (Maintained)"
         ],
         "marker": {
          "color": [
           "blue",
           "blue",
           "blue"
          ],
          "line": {
           "color": "black",
           "width": 1
          },
          "size": 12,
          "symbol": "circle"
         },
         "mode": "markers",
         "name": "Large Trucks",
         "type": "scatter",
         "x": [
          393.2449355432781,
          210.60036832412524,
          395.4192756292204
         ],
         "y": [
          172.72120200333887,
          342.8848080133556,
          54.724540901502394
         ]
        }
       ],
       "layout": {
        "images": [
         {
          "layer": "below",
          "opacity": 0.9,
          "sizex": 500,
          "sizey": 550,
          "sizing": "stretch",
          "source": "data:image/png;base64,iVBORw0KGgoAAAANSUhEUgAABnIAAAcXCAYAAAD69u9ZAABGVklEQVR4nOzcsakkAQwFQenY/FPWBbAMfGu2jaoEnvwG7czcAAAAAAAAkPOZmbm7fXt4d8+uXbt27dq1a9euXbt27dq1a9euXbt27dq1a9fus39vDwIAAAAAAPA3Qg4AAAAAAECUkAMAAAAAABAl5AAAAAAAAEQJOQAAAAAAAFFCDgAAAAAAQJSQAwAAAAAAECXkAAAAAAAARAk5AAAAAAAAUUIOAAAAAABAlJADAAAAAAAQJeQAAAAAAABECTkAAAAAAABRQg4AAAAAAECUkAMAAAAAABAl5AAAAAAAAEQJOQAAAAAAAFFCDgAAAAAAQJSQAwAAAAAAECXkAAAAAAAARAk5AAAAAAAAUUIOAAAAAABAlJADAAAAAAAQJeQAAAAAAABECTkAAAAAAABRQg4AAAAAAECUkAMAAAAAABAl5AAAAAAAAETtzNyvjwAAAAAAAODbZ2bm7vbt4d09u3bt2rVr165du3bt2rVr165du3bt2rVr165du8+8VgMAAAAAAIgScgAAAAAAAKKEHAAAAAAAgCghBwAAAAAAIErIAQAAAAAAiBJyAAAAAAAAooQcAAAAAACAKCEHAAAAAAAgSsgBAAAAAACIEnIAAAAAAACihBwAAAAAAIAoIQcAAAAAACBKyAEAAAAAAIgScgAAAAAAAKKEHAAAAAAAgCghBwAAAAAAIErIAQAAAAAAiBJyAAAAAAAAooQcAAAAAACAKCEHAAAAAAAgSsgBAAAAAACIEnIAAAAAAACihBwAAAAAAIAoIQcAAAAAACBKyAEAAAAAAIgScgAAAAAAAKKEHAAAAAAAgCghBwAAAAAAIGpn5n59BAAAAAAAAN8+MzN3t28P7+7ZtWvXrl27du3atWvXrl27du3atWvXrl27du3afea1GgAAAAAAQJSQAwAAAAAAECXkAAAAAAAARAk5AAAAAAAAUUIOAAAAAABAlJADAAAAAAAQJeQAAAAAAABECTkAAAAAAABRQg4AAAAAAECUkAMAAAAAABAl5AAAAAAAAEQJOQAAAAAAAFFCDgAAAAAAQJSQAwAAAAAAECXkAAAAAAAARAk5AAAAAAAAUUIOAAAAAABAlJADAAAAAAAQJeQAAAAAAABECTkAAAAAAABRQg4AAAAAAECUkAMAAAAAABAl5AAAAAAAAEQJOQAAAAAAAFFCDgAAAAAAQJSQAwAAAAAAECXkAAAAAAAARAk5AAAAAAAAUTsz9+sjAAAAAAAA+PaZmbm7fXt4d8+uXbt27dq1a9euXbt27dq1a9euXbt27dq1a9fuM6/VAAAAAAAAooQcAAAAAACAKCEHAAAAAAAgSsgBAAAAAACIEnIAAAAAAACihBwAAAAAAIAoIQcAAAAAACBKyAEAAAAAAIgScgAAAAAAAKKEHAAAAAAAgCghBwAAAAAAIErIAQAAAAAAiBJyAAAAAAAAooQcAAAAAACAKCEHAAAAAAAgSsgBAAAAAACIEnIAAAAAAACihBwAAAAAAIAoIQcAAAAAACBKyAEAAAAAAIgScgAAAAAAAKKEHAAAAAAAgCghBwAAAAAAIErIAQAAAAAAiBJyAAAAAAAAooQcAAAAAACAKCEHAAAAAAAgSsgBAAAAAACI2pm5Xx8BAAAAAADAt8/MzN3t28O7e3bt2rVr165du3bt2rVr165du3bt2rVr165du3afea0GAAAAAAAQJeQAAAAAAABECTkAAAAAAABRQg4AAAAAAECUkAMAAAAAABAl5AAAAAAAAEQJOQAAAAAAAFFCDgAAAAAAQJSQAwAAAAAAECXkAAAAAAAARAk5AAAAAAAAUUIOAAAAAABAlJADAAAAAAAQJeQAAAAAAABECTkAAAAAAABRQg4AAAAAAECUkAMAAAAAABAl5AAAAAAAAEQJOQAAAAAAAFFCDgAAAAAAQJSQAwAAAAAAECXkAAAAAAAARAk5AAAAAAAAUUIOAAAAAABAlJADAAAAAAAQJeQAAAAAAABECTkAAAAAAABRQg4AAAAAAEDUzsz9+ggAAAAAAAC+fWZm7m7fHt7ds2vXrl27du3atWvXrl27du3atWvXrl27du3atfvMazUAAAAAAIAoIQcAAAAAACBKyAEAAAAAAIgScgAAAAAAAKKEHAAAAAAAgCghBwAAAAAAIErIAQAAAAAAiBJyAAAAAAAAooQcAAAAAACAKCEHAAAAAAAgSsgBAAAAAACIEnIAAAAAAACihBwAAAAAAIAoIQcAAAAAACBKyAEAAAAAAIgScgAAAAAAAKKEHAAAAAAAgCghBwAAAAAAIErIAQAAAAAAiBJyAAAAAAAAooQcAAAAAACAKCEHAAAAAAAgSsgBAAAAAACIEnIAAAAAAACihBwAAAAAAIAoIQcAAAAAACBKyAEAAAAAAIgScgAAAAAAAKJ2Zu7XRwAAAAAAAPDtMzNzd/v28O6eXbt27dq1a9euXbt27dq1a9euXbt27dq1a9eu3WdeqwEAAAAAAEQJOQAAAAAAAFFCDgAAAAAAQJSQAwAAAAAAECXkAAAAAAAARAk5AAAAAAAAUUIOAAAAAABAlJADAAAAAAAQJeQAAAAAAABECTkAAAAAAABRQg4AAAAAAECUkAMAAAAAABAl5AAAAAAAAEQJOQAAAAAAAFFCDgAAAAAAQJSQAwAAAAAAECXkAAAAAAAARAk5AAAAAAAAUUIOAAAAAABAlJADAAAAAAAQJeQAAAAAAABECTkAAAAAAABRQg4AAAAAAECUkAMAAAAAABAl5AAAAAAAAEQJOQAAAAAAAFFCDgAAAAAAQJSQAwAAAAAAELUzc78+AgAAAAAAgG+fmZm727eHd/fs2rVr165du3bt2rVr165du3bt2rVr165du3btPvNaDQAAAAAAIErIAQAAAAAAiBJyAAAAAAAAooQcAAAAAACAKCEHAAAAAAAgSsgBAAAAAACIEnIAAAAAAACihBwAAAAAAIAoIQcAAAAAACBKyAEAAAAAAIgScgAAAAAAAKKEHAAAAAAAgCghBwAAAAAAIErIAQAAAAAAiBJyAAAAAAAAooQcAAAAAACAKCEHAAAAAAAgSsgBAAAAAACIEnIAAAAAAACihBwAAAAAAIAoIQcAAAAAACBKyAEAAAAAAIgScgAAAAAAAKKEHAAAAAAAgCghBwAAAAAAIErIAQAAAAAAiBJyAAAAAAAAooQcAAAAAACAqJ2Z+/URAAAAAAAAfPvMzNzdvj28u2fXrl27du3atWvXrl27du3atWvXrl27du3atWv3mddqAAAAAAAAUUIOAAAAAABAlJADAAAAAAAQJeQAAAAAAABECTkAAAAAAABRQg4AAAAAAECUkAMAAAAAABAl5AAAAAAAAEQJOQAAAAAAAFFCDgAAAAAAQJSQAwAAAAAAECXkAAAAAAAARAk5AAAAAAAAUUIOAAAAAABAlJADAAAAAAAQJeQAAAAAAABECTkAAAAAAABRQg4AAAAAAECUkAMAAAAAABAl5AAAAAAAAEQJOQAAAAAAAFFCDgAAAAAAQJSQAwAAAAAAECXkAAAAAAAARAk5AAAAAAAAUUIOAAAAAABAlJADAAAAAAAQJeQAAAAAAABE7czcr48AAAAAAADg22dm5u727eHdPbt27dq1a9euXbt27dq1a9euXbt27dq1a9euXbvPvFYDAAAAAACIEnIAAAAAAACihBwAAAAAAIAoIQcAAAAAACBKyAEAAAAAAIgScgAAAAAAAKKEHAAAAAAAgCghBwAAAAAAIErIAQAAAAAAiBJyAAAAAAAAooQcAAAAAACAKCEHAAAAAAAgSsgBAAAAAACIEnIAAAAAAACihBwAAAAAAIAoIQcAAAAAACBKyAEAAAAAAIgScgAAAAAAAKKEHAAAAAAAgCghBwAAAAAAIErIAQAAAAAAiBJyAAAAAAAAooQcAAAAAACAKCEHAAAAAAAgSsgBAAAAAACIEnIAAAAAAACihBwAAAAAAIAoIQcAAAAAACBqZ+Z+fQQAAAAAAADfPjMzd7dvD+/u2bVr165du3bt2rVr165du3bt2rVr165du3bt2n3mtRoAAAAAAECUkAMAAAAAABAl5AAAAAAAAEQJOQAAAAAAAFFCDgAAAAAAQJSQAwAAAAAAECXkAAAAAAAARAk5AAAAAAAAUUIOAAAAAABAlJADAAAAAAAQJeQAAAAAAABECTkAAAAAAABRQg4AAAAAAECUkAMAAAAAABAl5AAAAAAAAEQJOQAAAAAAAFFCDgAAAAAAQJSQAwAAAAAAECXkAAAAAAAARAk5AAAAAAAAUUIOAAAAAABAlJADAAAAAAAQJeQAAAAAAABECTkAAAAAAABRQg4AAAAAAECUkAMAAAAAABAl5AAAAAAAAEQJOQAAAAAAAFE7M/frIwAAAAAAAPj2mZm5u317eHfPrl27du3atWvXrl27du3atWvXrl27du3atWvX7jOv1QAAAAAAAKKEHAAAAAAAgCghBwAAAAAAIErIAQAAAAAAiBJyAAAAAAAAooQcAAAAAACAKCEHAAAAAAAgSsgBAAAAAACIEnIAAAAAAACihBwAAAAAAIAoIQcAAAAAACBKyAEAAAAAAIgScgAAAAAAAKKEHAAAAAAAgCghBwAAAAAAIErIAQAAAAAAiBJyAAAAAAAAooQcAAAAAACAKCEHAAAAAAAgSsgBAAAAAACIEnIAAAAAAACihBwAAAAAAIAoIQcAAAAAACBKyAEAAAAAAIgScgAAAAAAAKKEHAAAAAAAgCghBwAAAAAAIErIAQAAAAAAiNqZuV8fAQAAAAAAwLfPzMzd7dvDu3t27dq1a9euXbt27dq1a9euXbt27dq1a9euXbt2n3mtBgAAAAAAECXkAAAAAAAARAk5AAAAAAAAUUIOAAAAAABAlJADAAAAAAAQJeQAAAAAAABECTkAAAAAAABRQg4AAAAAAECUkAMAAAAAABAl5AAAAAAAAEQJOQAAAAAAAFFCDgAAAAAAQJSQAwAAAAAAECXkAAAAAAAARAk5AAAAAAAAUUIOAAAAAABAlJADAAAAAAAQJeQAAAAAAABECTkAAAAAAABRQg4AAAAAAECUkAMAAAAAABAl5AAAAAAAAEQJOQAAAAAAAFFCDgAAAAAAQJSQAwAAAAAAECXkAAAAAAAARAk5AAAAAAAAUUIOAAAAAABA1M7M/foIAAAAAAAAvn1mZu5u3x7e3bNr165du3bt2rVr165du3bt2rVr165du3bt2rX7zGs1AAAAAACAKCEHAAAAAAAgSsgBAAAAAACIEnIAAAAAAACihBwAAAAAAIAoIQcAAAAAACBKyAEAAAAAAIgScgAAAAAAAKKEHAAAAAAAgCghBwAAAAAAIErIAQAAAAAAiBJyAAAAAAAAooQcAAAAAACAKCEHAAAAAAAgSsgBAAAAAACIEnIAAAAAAACihBwAAAAAAIAoIQcAAAAAACBKyAEAAAAAAIgScgAAAAAAAKKEHAAAAAAAgCghBwAAAAAAIErIAQAAAAAAiBJyAAAAAAAAooQcAAAAAACAKCEHAAAAAAAgSsgBAAAAAACIEnIAAAAAAACidmbu10cAAAAAAADw7TMzc3f79vDunl27du3atWvXrl27du3atWvXrl27du3atWvXrt1nXqsBAAAAAABECTkAAAAAAABRQg4AAAAAAECUkAMAAAAAABAl5AAAAAAAAEQJOQAAAAAAAFFCDgAAAAAAQJSQAwAAAAAAECXkAAAAAAAARAk5AAAAAAAAUUIOAAAAAABAlJADAAAAAAAQJeQAAAAAAABECTkAAAAAAABRQg4AAAAAAECUkAMAAAAAABAl5AAAAAAAAEQJOQAAAAAAAFFCDgAAAAAAQJSQAwAAAAAAECXkAAAAAAAARAk5AAAAAAAAUUIOAAAAAABAlJADAAAAAAAQJeQAAAAAAABECTkAAAAAAABRQg4AAAAAAECUkAMAAAAAABC1M3O/PgIAAAAAAIBvn5mZu9u3h3f37Nq1a9euXbt27dq1a9euXbt27dq1a9euXbt27T7zWg0AAAAAACBKyAEAAAAAAIgScgAAAAAAAKKEHAAAAAAAgCghBwAAAAAAIErIAQAAAAAAiBJyAAAAAAAAooQcAAAAAACAKCEHAAAAAAAgSsgBAAAAAACIEnIAAAAAAACihBwAAAAAAIAoIQcAAAAAACBKyAEAAAAAAIgScgAAAAAAAKKEHAAAAAAAgCghBwAAAAAAIErIAQAAAAAAiBJyAAAAAAAAooQcAAAAAACAKCEHAAAAAAAgSsgBAAAAAACIEnIAAAAAAACihBwAAAAAAIAoIQcAAAAAACBKyAEAAAAAAIgScgAAAAAAAKKEHAAAAAAAgKidmfv1EQAAAAAAAHz7zMzc3b49vLtn165du3bt2rVr165du3bt2rVr165du3bt2rVr95nXagAAAAAAAFFCDgAAAAAAQJSQAwAAAAAAECXkAAAAAAAARAk5AAAAAAAAUUIOAAAAAABAlJADAAAAAAAQJeQAAAAAAABECTkAAAAAAABRQg4AAAAAAECUkAMAAAAAABAl5AAAAAAAAEQJOQAAAAAAAFFCDgAAAAAAQJSQAwAAAAAAECXkAAAAAAAARAk5AAAAAAAAUUIOAAAAAABAlJADAAAAAAAQJeQAAAAAAABECTkAAAAAAABRQg4AAAAAAECUkAMAAAAAABAl5AAAAAAAAEQJOQAAAAAAAFFCDgAAAAAAQJSQAwAAAAAAECXkAAAAAAAARO3M3K+PAAAAAAAA4NtnZubu9u3h3T27du3atWvXrl27du3atWvXrl27du3atWvXrl27z7xWAwAAAAAAiBJyAAAAAAAAooQcAAAAAACAKCEHAAAAAAAgSsgBAAAAAACIEnIAAAAAAACihBwAAAAAAIAoIQcAAAAAACBKyAEAAAAAAIgScgAAAAAAAKKEHAAAAAAAgCghBwAAAAAAIErIAQAAAAAAiBJyAAAAAAAAooQcAAAAAACAKCEHAAAAAAAgSsgBAAAAAACIEnIAAAAAAACihBwAAAAAAIAoIQcAAAAAACBKyAEAAAAAAIgScgAAAAAAAKKEHAAAAAAAgCghBwAAAAAAIErIAQAAAAAAiBJyAAAAAAAAooQcAAAAAACAKCEHAAAAAAAgamfmfn0EAAAAAAAA3z4zM3e3bw/v7tm1a9euXbt27dq1a9euXbt27dq1a9euXbt27dp95rUaAAAAAABAlJADAAAAAAAQJeQAAAAAAABECTkAAAAAAABRQg4AAAAAAECUkAMAAAAAABAl5AAAAAAAAEQJOQAAAAAAAFFCDgAAAAAAQJSQAwAAAAAAECXkAAAAAAAARAk5AAAAAAAAUUIOAAAAAABAlJADAAAAAAAQJeQAAAAAAABECTkAAAAAAABRQg4AAAAAAECUkAMAAAAAABAl5AAAAAAAAEQJOQAAAAAAAFFCDgAAAAAAQJSQAwAAAAAAECXkAAAAAAAARAk5AAAAAAAAUUIOAAAAAABAlJADAAAAAAAQJeQAAAAAAABECTkAAAAAAABROzP36yMAAAAAAAD49pmZubt9e3h3z65du3bt2rVr165du3bt2rVr165du3bt2rVr1+4zr9UAAAAAAACihBwAAAAAAIAoIQcAAAAAACBKyAEAAAAAAIgScgAAAAAAAKKEHAAAAAAAgCghBwAAAAAAIErIAQAAAAAAiBJyAAAAAAAAooQcAAAAAACAKCEHAAAAAAAgSsgBAAAAAACIEnIAAAAAAACihBwAAAAAAIAoIQcAAAAAACBKyAEAAAAAAIgScgAAAAAAAKKEHAAAAAAAgCghBwAAAAAAIErIAQAAAAAAiBJyAAAAAAAAooQcAAAAAACAKCEHAAAAAAAgSsgBAAAAAACIEnIAAAAAAACihBwAAAAAAIAoIQcAAAAAACBKyAEAAAAAAIjamblfHwEAAAAAAMC3z8zM3e3bw7t7du3atWvXrl27du3atWvXrl27du3atWvXrl27dp95rQYAAAAAABAl5AAAAAAAAEQJOQAAAAAAAFFCDgAAAAAAQJSQAwAAAAAAECXkAAAAAAAARAk5AAAAAAAAUUIOAAAAAABAlJADAAAAAAAQJeQAAAAAAABECTkAAAAAAABRQg4AAAAAAECUkAMAAAAAABAl5AAAAAAAAEQJOQAAAAAAAFFCDgAAAAAAQJSQAwAAAAAAECXkAAAAAAAARAk5AAAAAAAAUUIOAAAAAABAlJADAAAAAAAQJeQAAAAAAABECTkAAAAAAABRQg4AAAAAAECUkAMAAAAAABAl5AAAAAAAAEQJOQAAAAAAAFFCDgAAAAAAQNTOzP36CAAAAAAAAL59Zmbubt8e3t2za9euXbt27dq1a9euXbt27dq1a9euXbt27dq1+8xrNQAAAAAAgCghBwAAAAAAIErIAQAAAAAAiBJyAAAAAAAAooQcAAAAAACAKCEHAAAAAAAgSsgBAAAAAACIEnIAAAAAAACihBwAAAAAAIAoIQcAAAAAACBKyAEAAAAAAIgScgAAAAAAAKKEHAAAAAAAgCghBwAAAAAAIErIAQAAAAAAiBJyAAAAAAAAooQcAAAAAACAKCEHAAAAAAAgSsgBAAAAAACIEnIAAAAAAACihBwAAAAAAIAoIQcAAAAAACBKyAEAAAAAAIgScgAAAAAAAKKEHAAAAAAAgCghBwAAAAAAIErIAQAAAAAAiBJyAAAAAAAAonZm7tdHAAAAAAAA8O0zM3N3+/bw7p5du3bt2rVr165du3bt2rVr165du3bt2rVr167dZ16rAQAAAAAARAk5AAAAAAAAUUIOAAAAAABAlJADAAAAAAAQJeQAAAAAAABECTkAAAAAAABRQg4AAAAAAECUkAMAAAAAABAl5AAAAAAAAEQJOQAAAAAAAFFCDgAAAAAAQJSQAwAAAAAAECXkAAAAAAAARAk5AAAAAAAAUUIOAAAAAABAlJADAAAAAAAQJeQAAAAAAABECTkAAAAAAABRQg4AAAAAAECUkAMAAAAAABAl5AAAAAAAAEQJOQAAAAAAAFFCDgAAAAAAQJSQAwAAAAAAECXkAAAAAAAARAk5AAAAAAAAUUIOAAAAAABAlJADAAAAAAAQtTNzvz4CAAAAAACAb5+Zmbvbt4d39+zatWvXrl27du3atWvXrl27du3atWvXrl27du0+81oNAAAAAAAgSsgBAAAAAACIEnIAAAAAAACihBwAAAAAAIAoIQcAAAAAACBKyAEAAAAAAIgScgAAAAAAAKKEHAAAAAAAgCghBwAAAAAAIErIAQAAAAAAiBJyAAAAAAAAooQcAAAAAACAKCEHAAAAAAAgSsgBAAAAAACIEnIAAAAAAACihBwAAAAAAIAoIQcAAAAAACBKyAEAAAAAAIgScgAAAAAAAKKEHAAAAAAAgCghBwAAAAAAIErIAQAAAAAAiBJyAAAAAAAAooQcAAAAAACAKCEHAAAAAAAgSsgBAAAAAACIEnIAAAAAAACihBwAAAAAAIConZn79REAAAAAAAB8+8zM3N2+Pby7Z9euXbt27dq1a9euXbt27dq1a9euXbt27dq1a/eZ12oAAAAAAABRQg4AAAAAAECUkAMAAAAAABAl5AAAAAAAAEQJOQAAAAAAAFFCDgAAAAAAQJSQAwAAAAAAECXkAAAAAAAARAk5AAAAAAAAUUIOAAAAAABAlJADAAAAAAAQJeQAAAAAAABECTkAAAAAAABRQg4AAAAAAECUkAMAAAAAABAl5AAAAAAAAEQJOQAAAAAAAFFCDgAAAAAAQJSQAwAAAAAAECXkAAAAAAAARAk5AAAAAAAAUUIOAAAAAABAlJADAAAAAAAQJeQAAAAAAABECTkAAAAAAABRQg4AAAAAAECUkAMAAAAAABAl5AAAAAAAAETtzNyvjwAAAAAAAODbZ2bm7vbt4d09u3bt2rVr165du3bt2rVr165du3bt2rVr165du8+8VgMAAAAAAIgScgAAAAAAAKKEHAAAAAAAgCghBwAAAAAAIErIAQAAAAAAiBJyAAAAAAAAooQcAAAAAACAKCEHAAAAAAAgSsgBAAAAAACIEnIAAAAAAACihBwAAAAAAIAoIQcAAAAAACBKyAEAAAAAAIgScgAAAAAAAKKEHAAAAAAAgCghBwAAAAAAIErIAQAAAAAAiBJyAAAAAAAAooQcAAAAAACAKCEHAAAAAAAgSsgBAAAAAACIEnIAAAAAAACihBwAAAAAAIAoIQcAAAAAACBKyAEAAAAAAIgScgAAAAAAAKKEHAAAAAAAgCghBwAAAAAAIGpn5n59BAAAAAAAAN8+MzN3t28P7+7ZtWvXrl27du3atWvXrl27du3atWvXrl27du3afea1GgAAAAAAQJSQAwAAAAAAECXkAAAAAAAARAk5AAAAAAAAUUIOAAAAAABAlJADAAAAAAAQJeQAAAAAAABECTkAAAAAAABRQg4AAAAAAECUkAMAAAAAABAl5AAAAAAAAEQJOQAAAAAAAFFCDgAAAAAAQJSQAwAAAAAAECXkAAAAAAAARAk5AAAAAAAAUUIOAAAAAABAlJADAAAAAAAQJeQAAAAAAABECTkAAAAAAABRQg4AAAAAAECUkAMAAAAAABAl5AAAAAAAAEQJOQAAAAAAAFFCDgAAAAAAQJSQAwAAAAAAECXkAAAAAAAARAk5AAAAAAAAUTsz9+sjAAAAAAAA+PaZmbm7fXt4d8+uXbt27dq1a9euXbt27dq1a9euXbt27dq1a9fuM6/VAAAAAAAAooQcAAAAAACAKCEHAAAAAAAgSsgBAAAAAACIEnIAAAAAAACihBwAAAAAAIAoIQcAAAAAACBKyAEAAAAAAIgScgAAAAAAAKKEHAAAAAAAgCghBwAAAAAAIErIAQAAAAAAiBJyAAAAAAAAooQcAAAAAACAKCEHAAAAAAAgSsgBAAAAAACIEnIAAAAAAACihBwAAAAAAIAoIQcAAAAAACBKyAEAAAAAAIgScgAAAAAAAKKEHAAAAAAAgCghBwAAAAAAIErIAQAAAAAAiBJyAAAAAAAAooQcAAAAAACAKCEHAAAAAAAgSsgBAAAAAACI2pm5Xx8BAAAAAADAt8/MzN3t28O7e3bt2rVr165du3bt2rVr165du3bt2rVr165du3afea0GAAAAAAAQJeQAAAAAAABECTkAAAAAAABRQg4AAAAAAECUkAMAAAAAABAl5AAAAAAAAEQJOQAAAAAAAFFCDgAAAAAAQJSQAwAAAAAAECXkAAAAAAAARAk5AAAAAAAAUUIOAAAAAABAlJADAAAAAAAQJeQAAAAAAABECTkAAAAAAABRQg4AAAAAAECUkAMAAAAAABAl5AAAAAAAAEQJOQAAAAAAAFFCDgAAAAAAQJSQAwAAAAAAECXkAAAAAAAARAk5AAAAAAAAUUIOAAAAAABAlJADAAAAAAAQJeQAAAAAAABECTkAAAAAAABRQg4AAAAAAEDUzsz9+ggAAAAAAAC+fWZm7m7fHt7ds2vXrl27du3atWvXrl27du3atWvXrl27du3atfvMazUAAAAAAIAoIQcAAAAAACBKyAEAAAAAAIgScgAAAAAAAKKEHAAAAAAAgCghBwAAAAAAIErIAQAAAAAAiBJyAAAAAAAAooQcAAAAAACAKCEHAAAAAAAgSsgBAAAAAACIEnIAAAAAAACihBwAAAAAAIAoIQcAAAAAACBKyAEAAAAAAIgScgAAAAAAAKKEHAAAAAAAgCghBwAAAAAAIErIAQAAAAAAiBJyAAAAAAAAooQcAAAAAACAKCEHAAAAAAAgSsgBAAAAAACIEnIAAAAAAACihBwAAAAAAIAoIQcAAAAAACBKyAEAAAAAAIgScgAAAAAAAKJ2Zu7XRwAAAAAAAPDtMzNzd/v28O6eXbt27dq1a9euXbt27dq1a9euXbt27dq1a9eu3WdeqwEAAAAAAEQJOQAAAAAAAFFCDgAAAAAAQJSQAwAAAAAAECXkAAAAAAAARAk5AAAAAAAAUUIOAAAAAABAlJADAAAAAAAQJeQAAAAAAABECTkAAAAAAABRQg4AAAAAAECUkAMAAAAAABAl5AAAAAAAAEQJOQAAAAAAAFFCDgAAAAAAQJSQAwAAAAAAECXkAAAAAAAARAk5AAAAAAAAUUIOAAAAAABAlJADAAAAAAAQJeQAAAAAAABECTkAAAAAAABRQg4AAAAAAECUkAMAAAAAABAl5AAAAAAAAEQJOQAAAAAAAFFCDgAAAAAAQJSQAwAAAAAAELUzc78+AgAAAAAAgG+fmZm727eHd/fs2rVr165du3bt2rVr165du3bt2rVr165du3btPvNaDQAAAAAAIErIAQAAAAAAiBJyAAAAAAAAooQcAAAAAACAKCEHAAAAAAAgSsgBAAAAAACIEnIAAAAAAACihBwAAAAAAIAoIQcAAAAAACBKyAEAAAAAAIgScgAAAAAAAKKEHAAAAAAAgCghBwAAAAAAIErIAQAAAAAAiBJyAAAAAAAAooQcAAAAAACAKCEHAAAAAAAgSsgBAAAAAACIEnIAAAAAAACihBwAAAAAAIAoIQcAAAAAACBKyAEAAAAAAIgScgAAAAAAAKKEHAAAAAAAgCghBwAAAAAAIErIAQAAAAAAiBJyAAAAAAAAooQcAAAAAACAqJ2Z+/URAAAAAAAAfPvMzNzdvj28u2fXrl27du3atWvXrl27du3atWvXrl27du3atWv3mddqAAAAAAAAUUIOAAAAAABAlJADAAAAAAAQJeQAAAAAAABECTkAAAAAAABRQg4AAAAAAECUkAMAAAAAABAl5AAAAAAAAEQJOQAAAAAAAFFCDgAAAAAAQJSQAwAAAAAAECXkAAAAAAAARAk5AAAAAAAAUUIOAAAAAABAlJADAAAAAAAQJeQAAAAAAABECTkAAAAAAABRQg4AAAAAAECUkAMAAAAAABAl5AAAAAAAAEQJOQAAAAAAAFFCDgAAAAAAQJSQAwAAAAAAECXkAAAAAAAARAk5AAAAAAAAUUIOAAAAAABAlJADAAAAAAAQJeQAAAAAAABE7czcr48AAAAAAADg22dm5u727eHdPbt27dq1a9euXbt27dq1a9euXbt27dq1a9euXbvPvFYDAAAAAACIEnIAAAAAAACihBwAAAAAAIAoIQcAAAAAACBKyAEAAAAAAIgScgAAAAAAAKKEHAAAAAAAgCghBwAAAAAAIErIAQAAAAAAiBJyAAAAAAAAooQcAAAAAACAKCEHAAAAAAAgSsgBAAAAAACIEnIAAAAAAACihBwAAAAAAIAoIQcAAAAAACBKyAEAAAAAAIgScgAAAAAAAKKEHAAAAAAAgCghBwAAAAAAIErIAQAAAAAAiBJyAAAAAAAAooQcAAAAAACAKCEHAAAAAAAgSsgBAAAAAACIEnIAAAAAAACihBwAAAAAAIAoIQcAAAAAACBqZ+Z+fQQAAAAAAADfPjMzd7dvD+/u2bVr165du3bt2rVr165du3bt2rVr165du3bt2n3mtRoAAAAAAECUkAMAAAAAABAl5AAAAAAAAEQJOQAAAAAAAFFCDgAAAAAAQJSQAwAAAAAAECXkAAAAAAAARAk5AAAAAAAAUUIOAAAAAABAlJADAAAAAAAQJeQAAAAAAABECTkAAAAAAABRQg4AAAAAAECUkAMAAAAAABAl5AAAAAAAAEQJOQAAAAAAAFFCDgAAAAAAQJSQAwAAAAAAECXkAAAAAAAARAk5AAAAAAAAUUIOAAAAAABAlJADAAAAAAAQJeQAAAAAAABECTkAAAAAAABRQg4AAAAAAECUkAMAAAAAABAl5AAAAAAAAEQJOQAAAAAAAFE7M/frIwAAAAAAAPj2mZm5u317eHfPrl27du3atWvXrl27du3atWvXrl27du3atWvX7jOv1QAAAAAAAKKEHAAAAAAAgCghBwAAAAAAIErIAQAAAAAAiBJyAAAAAAAAooQcAAAAAACAKCEHAAAAAAAgSsgBAAAAAACIEnIAAAAAAACihBwAAAAAAIAoIQcAAAAAACBKyAEAAAAAAIgScgAAAAAAAKKEHAAAAAAAgCghBwAAAAAAIErIAQAAAAAAiBJyAAAAAAAAooQcAAAAAACAKCEHAAAAAAAgSsgBAAAAAACIEnIAAAAAAACihBwAAAAAAIAoIQcAAAAAACBKyAEAAAAAAIgScgAAAAAAAKKEHAAAAAAAgCghBwAAAAAAIErIAQAAAAAAiNqZuV8fAQAAAAAAwLfPzMzd7dvDu3t27dq1a9euXbt27dq1a9euXbt27dq1a9euXbt2n3mtBgAAAAAAECXkAAAAAAAARAk5AAAAAAAAUUIOAAAAAABAlJADAAAAAAAQJeQAAAAAAABECTkAAAAAAABRQg4AAAAAAECUkAMAAAAAABAl5AAAAAAAAEQJOQAAAAAAAFFCDgAAAAAAQJSQAwAAAAAAECXkAAAAAAAARAk5AAAAAAAAUUIOAAAAAABAlJADAAAAAAAQJeQAAAAAAABECTkAAAAAAABRQg4AAAAAAECUkAMAAAAAABAl5AAAAAAAAEQJOQAAAAAAAFFCDgAAAAAAQJSQAwAAAAAAECXkAAAAAAAARAk5AAAAAAAAUUIOAAAAAABA1M7M/foIAAAAAAAAvn1mZu5u3x7e3bNr165du3bt2rVr165du3bt2rVr165du3bt2rX7zGs1AAAAAACAKCEHAAAAAAAgSsgBAAAAAACIEnIAAAAAAACihBwAAAAAAIAoIQcAAAAAACBKyAEAAAAAAIgScgAAAAAAAKKEHAAAAAAAgCghBwAAAAAAIErIAQAAAAAAiBJyAAAAAAAAooQcAAAAAACAKCEHAAAAAAAgSsgBAAAAAACIEnIAAAAAAACihBwAAAAAAIAoIQcAAAAAACBKyAEAAAAAAIgScgAAAAAAAKKEHAAAAAAAgCghBwAAAAAAIErIAQAAAAAAiBJyAAAAAAAAooQcAAAAAACAKCEHAAAAAAAgSsgBAAAAAACIEnIAAAAAAACidmbu10cAAAAAAADw7TMzc3f79vDunl27du3atWvXrl27du3atWvXrl27du3atWvXrt1nXqsBAAAAAABECTkAAAAAAABRQg4AAAAAAECUkAMAAAAAABAl5AAAAAAAAEQJOQAAAAAAAFFCDgAAAAAAQJSQAwAAAAAAECXkAAAAAAAARAk5AAAAAAAAUUIOAAAAAABAlJADAAAAAAAQJeQAAAAAAABECTkAAAAAAABRQg4AAAAAAECUkAMAAAAAABAl5AAAAAAAAEQJOQAAAAAAAFFCDgAAAAAAQJSQAwAAAAAAECXkAAAAAAAARAk5AAAAAAAAUUIOAAAAAABAlJADAAAAAAAQJeQAAAAAAABECTkAAAAAAABRQg4AAAAAAECUkAMAAAAAABC1M3O/PgIAAAAAAIBvn5mZu9u3h3f37Nq1a9euXbt27dq1a9euXbt27dq1a9euXbt27T7zWg0AAAAAACBKyAEAAAAAAIgScgAAAAAAAKKEHAAAAAAAgCghBwAAAAAAIErIAQAAAAAAiBJyAAAAAAAAooQcAAAAAACAKCEHAAAAAAAgSsgBAAAAAACIEnIAAAAAAACihBwAAAAAAIAoIQcAAAAAACBKyAEAAAAAAIgScgAAAAAAAKKEHAAAAAAAgCghBwAAAAAAIErIAQAAAAAAiBJyAAAAAAAAooQcAAAAAACAKCEHAAAAAAAgSsgBAAAAAACIEnIAAAAAAACihBwAAAAAAIAoIQcAAAAAACBKyAEAAAAAAIgScgAAAAAAAKKEHAAAAAAAgKidmfv1EQAAAAAAAHz7zMzc3b49vLtn165du3bt2rVr165du3bt2rVr165du3bt2rVr95nXagAAAAAAAFFCDgAAAAAAQJSQAwAAAAAAECXkAAAAAAAARAk5AAAAAAAAUUIOAAAAAABAlJADAAAAAAAQJeQAAAAAAABECTkAAAAAAABRQg4AAAAAAECUkAMAAAAAABAl5AAAAAAAAEQJOQAAAAAAAFFCDgAAAAAAQJSQAwAAAAAAECXkAAAAAAAARAk5AAAAAAAAUUIOAAAAAABAlJADAAAAAAAQJeQAAAAAAABECTkAAAAAAABRQg4AAAAAAECUkAMAAAAAABAl5AAAAAAAAEQJOQAAAAAAAFFCDgAAAAAAQJSQAwAAAPC/nTs2YSCAgSAogftvWS7g+dTeYKaBU74gAIAoIQcAAAAAACBqZ+b+fQQAAAAAAABPn5mZu9tfD+/u2bVr165du3bt2rVr165du3bt2rVr165du3bt2n3ntRoAAAAAAECUkAMAAAAAABAl5AAAAAAAAEQJOQAAAAAAAFFCDgAAAAAAQJSQAwAAAAAAECXkAAAAAAAARAk5AAAAAAAAUUIOAAAAAABAlJADAAAAAAAQJeQAAAAAAABECTkAAAAAAABRQg4AAAAAAECUkAMAAAAAABAl5AAAAAAAAEQJOQAAAAAAAFFCDgAAAAAAQJSQAwAAAAAAECXkAAAAAAAARAk5AAAAAAAAUUIOAAAAAABAlJADAAAAAAAQJeQAAAAAAABECTkAAAAAAABRQg4AAAAAAECUkAMAAAAAABAl5AAAAAAAAEQJOQAAAAAAAFE7M/fvIwAAAAAAAHj6zMzc3f56eHfPrl27du3atWvXrl27du3atWvXrl27du3atWvX7juv1QAAAAAAAKKEHAAAAAAAgCghBwAAAAAAIErIAQAAAAAAiBJyAAAAAAAAooQcAAAAAACAKCEHAAAAAAAgSsgBAAAAAACIEnIAAAAAAACihBwAAAAAAIAoIQcAAAAAACBKyAEAAAAAAIgScgAAAAAAAKKEHAAAAAAAgCghBwAAAAAAIErIAQAAAAAAiBJyAAAAAAAAooQcAAAAAACAKCEHAAAAAAAgSsgBAAAAAACIEnIAAAAAAACihBwAAAAAAIAoIQcAAAAAACBKyAEAAAAAAIgScgAAAAAAAKKEHAAAAAAAgCghBwAAAAAAIErIAQAAAAAAiNqZuX8fAQAAAAAAwNNnZubu9tfDu3t27dq1a9euXbt27dq1a9euXbt27dq1a9euXbt233mtBgAAAAAAECXkAAAAAAAARAk5AAAAAAAAUUIOAAAAAABAlJADAAAAAAAQJeQAAAAAAABECTkAAAAAAABRQg4AAAAAAECUkAMAAAAAABAl5AAAAAAAAEQJOQAAAAAAAFFCDgAAAAAAQJSQAwAAAAAAECXkAAAAAAAARAk5AAAAAAAAUUIOAAAAAABAlJADAAAAAAAQJeQAAAAAAABECTkAAAAAAABRQg4AAAAAAECUkAMAAAAAABAl5AAAAAAAAEQJOQAAAAAAAFFCDgAAAAAAQJSQAwAAAAAAECXkAAAAAAAARAk5AAAAAAAAUUIOAAAAAABA1M7M/fsIAAAAAAAAnj4zM3e3vx7e3bNr165du3bt2rVr165du3bt2rVr165du3bt2rX7zms1AAAAAACAKCEHAAAAAAAgSsgBAAAAAACIEnIAAAAAAACihBwAAAAAAIAoIQcAAAAAACBKyAEAAAAAAIgScgAAAAAAAKKEHAAAAAAAgCghBwAAAAAAIErIAQAAAAAAiBJyAAAAAAAAooQcAAAAAACAKCEHAAAAAAAgSsgBAAAAAACIEnIAAAAAAACihBwAAAAAAIAoIQcAAAAAACBKyAEAAAAAAIgScgAAAAAAAKKEHAAAAAAAgCghBwAAAAAAIErIAQAAAAAAiBJyAAAAAAAAooQcAAAAAACAKCEHAAAAAAAgSsgBAAAAAACIEnIAAAAAAACidmbu30cAAAAAAADw9JmZubv99fDunl27du3atWvXrl27du3atWvXrl27du3atWvXrt13XqsBAAAAAABECTkAAAAAAABRQg4AAAAAAECUkAMAAAAAABAl5AAAAAAAAEQJOQAAAAAAAFFCDgAAAAAAQJSQAwAAAAAAECXkAAAAAAAARAk5AAAAAAAAUUIOAAAAAABAlJADAAAAAAAQJeQAAAAAAABECTkAAAAAAABRQg4AAAAAAECUkAMAAAAAABAl5AAAAAAAAEQJOQAAAAAAAFFCDgAAAAAAQJSQAwAAAAAAECXkAAAAAAAARAk5AAAAAAAAUUIOAAAAAABAlJADAAAAAAAQJeQAAAAAAABECTkAAAAAAABRQg4AAAAAAECUkAMAAAAAABC1M3P/PgIAAAAAAICnz8zM3e2vh3f37Nq1a9euXbt27dq1a9euXbt27dq1a9euXbt27b7zWg0AAAAAACBKyAEAAAAAAIgScgAAAAAAAKKEHAAAAAAAgCghBwAAAAAAIErIAQAAAAAAiBJyAAAAAAAAooQcAAAAAACAKCEHAAAAAAAgSsgBAAAAAACIEnIAAAAAAACihBwAAAAAAIAoIQcAAAAAACBKyAEAAAAAAIgScgAAAAAAAKKEHAAAAAAAgCghBwAAAAAAIErIAQAAAAAAiBJyAAAAAAAAooQcAAAAAACAKCEHAAAAAAAgSsgBAAAAAACIEnIAAAAAAACihBwAAAAAAIAoIQcAAAAAACBKyAEAAAAAAIgScgAAAAAAAKKEHAAAAAAAgKidmfv3EQAAAAAAADx9Zmbubn89vLtn165du3bt2rVr165du3bt2rVr165du3bt2rVr953XagAAAAAAAFFCDgAAAAAAQJSQAwAAAAAAECXkAAAAAAAARAk5AAAAAAAAUUIOAAAAAABAlJADAAAAAAAQJeQAAAAAAABECTkAAAAAAABRQg4AAAAAAECUkAMAAAAAABAl5AAAAAAAAEQJOQAAAAAAAFFCDgAAAAAAQJSQAwAAAAAAECXkAAAAAAAARAk5AAAAAAAAUUIOAAAAAABAlJADAAAAAAAQJeQAAAAAAABECTkAAAAAAABRQg4AAAAAAECUkAMAAAAAABAl5AAAAAAAAEQJOQAAAAAAAFFCDgAAAAAAQJSQAwAAAAAAECXkAAAAAAAARO3M3L+PAAAAAAAA4OkzM3N3++vh3T27du3atWvXrl27du3atWvXrl27du3atWvXrl2777xWAwAAAAAAiBJyAAAAAAAAooQcAAAAAACAKCEHAAAAAAAgSsgBAAAAAACIEnIAAAAAAACihBwAAAAAAIAoIQcAAAAAACBKyAEAAAAAAIgScgAAAAAAAKKEHAAAAAAAgCghBwAAAAAAIErIAQAAAAAAiBJyAAAAAAAAooQcAAAAAACAKCEHAAAAAAAgSsgBAAAAAACIEnIAAAAAAACihBwAAAAAAIAoIQcAAAAAACBKyAEAAAAAAIgScgAAAAAAAKKEHAAAAAAAgCghBwAAAAAAIErIAQAAAAAAiBJyAAAAAAAAooQcAAAAAACAKCEHAAAAAAAgamfm/n0EAAAAAAAAT5+ZmbvbXw/v7tm1a9euXbt27dq1a9euXbt27dq1a9euXbt27dp957UaAAAAAABAlJADAAAAAAAQJeQAAAAAAABECTkAAAAAAABRQg4AAAAAAECUkAMAAAAAABAl5AAAAAAAAEQJOQAAAAAAAFFCDgAAAAAAQJSQAwAAAAAAECXkAAAAAAAARAk5AAAAAAAAUUIOAAAAAABAlJADAAAAAAAQJeQAAAAAAABECTkAAAAAAABRQg4AAAAAAECUkAMAAAAAABAl5AAAAAAAAEQJOQAAAAAAAFFCDgAAAAAAQJSQAwAAAAAAECXkAAAAAAAARAk5AAAAAAAAUUIOAAAAAABAlJADAAAAAAAQJeQAAAAAAABECTkAAAAAAABROzP37yMAAAAAAAB4+szM3N3+enh3z65du3bt2rVr165du3bt2rVr165du3bt2rVr1+47r9UAAAAAAACihBwAAAAAAIAoIQcAAAAAACBKyAEAAAAAAIgScgAAAAAAAKKEHAAAAAAAgCghBwAAAAAAIErIAQAAAAAAiBJyAAAAAAAAooQcAAAAAACAKCEHAAAAAAAgSsgBAAAAAACIEnIAAAAAAACihBwAAAAAAIAoIQcAAAAAACBKyAEAAAAAAIgScgAAAAAAAKKEHAAAAAAAgCghBwAAAAAAIErIAQAAAAAAiBJyAAAAAAAAooQcAAAAAACAKCEHAAAAAAAgSsgBAAAAAACIEnIAAAAAAACihBwAAAAAAIAoIQcAAAAAACBKyAEAAAAAAIjambl/HwEAAAAAAMDTZ2bm7vbXw7t7du3atWvXrl27du3atWvXrl27du3atWvXrl27dt95rQYAAAAAABAl5AAAAAAAAEQJOQAAAAAAAFFCDgAAAAAAQJSQAwAAAAAAECXkAAAAAAAARAk5AAAAAAAAUUIOAAAAAABAlJADAAAAAAAQJeQAAAAAAABECTkAAAAAAABRQg4AAAAAAECUkAMAAAAAABAl5AAAAAAAAEQJOQAAAAAAAFFCDgAAAAAAQJSQAwAAAAAAECXkAAAAAAAARAk5AAAAAAAAUUIOAAAAAABAlJADAAAAAAAQJeQAAAAAAABECTkAAAAAAABRQg4AAAAAAECUkAMAAAAAABAl5AAAAAAAAEQJOQAAAAAAAFFCDgAAAAAAQNTOzP37CAAAAAAAAJ4+MzN3t78e3t2za9euXbt27dq1a9euXbt27dq1a9euXbt27dq1+85rNQAAAAAAgCghBwAAAAAAIErIAQAAAAAAiBJyAAAAAAAAooQcAAAAAACAKCEHAAAAAAAgSsgBAAAAAACIEnIAAAAAAACihBwAAAAAAIAoIQcAAAAAACBKyAEAAAAAAIgScgAAAAAAAKKEHAAAAAAAgCghBwAAAAAAIErIAQAAAAAAiBJyAAAAAAAAooQcAAAAAACAKCEHAAAAAAAgSsgBAAAAAACIEnIAAAAAAACihBwAAAAAAIAoIQcAAAAAACBKyAEAAAAAAIgScgAAAAAAAKKEHAAAAAAAgCghBwAAAAAAIErIAQAAAAAAiBJyAAAAAAAAonZm7t9HAAAAAAAA8PSZmbm7/fXw7p5du3bt2rVr165du3bt2rVr165du3bt2rVr167dd16rAQAAAAAARAk5AAAAAAAAUUIOAAAAAABAlJADAAAAAAAQJeQAAAAAAABECTkAAAAAAABRQg4AAAAAAECUkAMAAAAAABAl5AAAAAAAAEQJOQAAAAAAAFFCDgAAAAAAQJSQAwAAAAAAECXkAAAAAAAARAk5AAAAAAAAUUIOAAAAAABAlJADAAAAAAAQJeQAAAAAAABECTkAAAAAAABRQg4AAAAAAECUkAMAAAAAABAl5AAAAAAAAEQJOQAAAAAAAFFCDgAAAAAAQJSQAwAAAAAAECXkAAAAAAAARAk5AAAAAAAAUUIOAAAAAABAlJADAAAAAAAQtTNz/z4CAAAAAACAp8/MzN3tr4d39+zatWvXrl27du3atWvXrl27du3atWvXrl27du2+81oNAAAAAAAgSsgBAAAAAACIEnIAAAAAAACihBwAAAAAAIAoIQcAAAAAACBKyAEAAAAAAIgScgAAAAAAAKKEHAAAAAAAgCghBwAAAAAAIErIAQAAAAAAiBJyAAAAAAAAooQcAAAAAACAKCEHAAAAAAAgSsgBAAAAAACIEnIAAAAAAACihBwAAAAAAIAoIQcAAAAAACBKyAEAAAAAAIgScgAAAAAAAKKEHAAAAAAAgCghBwAAAAAAIErIAQAAAAAAiBJyAAAAAAAAooQcAAAAAACAKCEHAAAAAAAgSsgBAAAAAACIEnIAAAAAAACihBwAAAAAAIConZn79xEAAAAAAAA8fWZm7m5/Pby7Z9euXbt27dq1a9euXbt27dq1a9euXbt27dq1a/ed12oAAAAAAABRQg4AAAAAAECUkAMAAAAAABAl5AAAAAAAAEQJOQAAAAAAAFFCDgAAAAAAQJSQAwAAAAAAECXkAAAAAAAARAk5AAAAAAAAUUIOAAAAAABAlJADAAAAAAAQJeQAAAAAAABECTkAAAAAAABRQg4AAAAAAECUkAMAAAAAABAl5AAAAAAAAEQJOQAAAAAAAFFCDgAAAAAAQJSQAwAAAAAAECXkAAAAAAAARAk5AAAAAAAAUUIOAAAAAABAlJADAAAAAAAQJeQAAAAAAABECTkAAAAAAABRQg4AAAAAAECUkAMAAAAAABAl5AAAAAAAAETtzNy/jwAAAAAAAODpMzNzd/vr4d09u3bt2rVr165du3bt2rVr165du3bt2rVr165du++8VgMAAAAAAIgScgAAAAAAAKKEHAAAAAAAgCghBwAAAAAAIErIAQAAAAAAiBJyAAAAAAAAooQcAAAAAACAKCEHAAAAAAAgSsgBAAAAAACIEnIAAAAAAACihBwAAAAAAIAoIQcAAAAAACBKyAEAAAAAAIgScgAAAAAAAKKEHAAAAAAAgCghBwAAAAAAIErIAQAAAAAAiBJyAAAAAAAAooQcAAAAAACAKCEHAAAAAAAgSsgBAAAAAACIEnIAAAAAAACihBwAAAAAAIAoIQcAAAAAACBKyAEAAAAAAIgScgAAAAAAAKKEHAAAAAAAgCghBwAAAAAAIGpn5v59BAAAAAAAAE+fmZm7218P7+7ZtWvXrl27du3atWvXrl27du3atWvXrl27du3afee1GgAAAAAAQJSQAwAAAAAAECXkAAAAAAAARAk5AAAAAAAAUUIOAAAAAABAlJADAAAAAAAQJeQAAAAAAABECTkAAAAAAABRQg4AAAAAAECUkAMAAAAAABAl5AAAAAAAAEQJOQAAAAAAAFFCDgAAAAAAQJSQAwAAAAAAECXkAAAAAAAARAk5AAAAAAAAUUIOAAAAAABAlJADAAAAAAAQJeQAAAAAAABECTkAAAAAAABRQg4AAAAAAECUkAMAAAAAABAl5AAAAAAAAEQJOQAAAAAAAFFCDgAAAAAAQJSQAwAAAAAAECXkAAAAAAAARAk5AAAAAAAAUTsz9+8jAAAAAAAAePrMzNzd/np4d8+uXbt27dq1a9euXbt27dq1a9euXbt27dq1a9fuO6/VAAAAAAAAooQcAAAAAACAKCEHAAAAAAAgSsgBAAAAAACIEnIAAAAAAACihBwAAAAAAIAoIQcAAAAAACBKyAEAAAAAAIgScgAAAAAAAKKEHAAAAAAAgCghBwAAAAAAIErIAQAAAAAAiBJyAAAAAAAAooQcAAAAAACAKCEHAAAAAAAgSsgBAAAAAACIEnIAAAAAAACihBwAAAAAAIAoIQcAAAAAACBKyAEAAAAAAIgScgAAAAAAAKKEHAAAAAAAgCghBwAAAAAAIErIAQAAAAAAiBJyAAAAAAAAooQcAAAAAACAKCEHAAAAAAAgSsgBAAAAAACI2pm5fx8BAAAAAADA02dm5u7218O7e3bt2rVr165du3bt2rVr165du3bt2rVr165du3bfea0GAAAAAAAQJeQAAAAAAABECTkAAAAAAABRQg4AAAAAAECUkAMAAAAAABAl5AAAAAAAAEQJOQAAAAAAAFFCDgAAAAAAQJSQAwAAAAAAECXkAAAAAAAARAk5AAAAAAAAUUIOAAAAAABAlJADAAAAAAAQJeQAAAAAAABECTkAAAAAAABRQg4AAAAAAECUkAMAAAAAABAl5AAAAAAAAEQJOQAAAAAAAFFCDgAAAAAAQJSQAwAAAAAAECXkAAAAAAAARAk5AAAAAAAAUUIOAAAAAABAlJADAAAAAAAQJeQAAAAAAABECTkAAAAAAABRQg4AAAAAAEDUzsz9+wgAAAAAAACePjMzd7e/Ht7ds2vXrl27du3atWvXrl27du3atWvXrl27du3atfvOazUAAAAAAIAoIQcAAAAAACBKyAEAAAAAAIgScgAAAAAAAKKEHAAAAAAAgCghBwAAAAAAIErIAQAAAAAAiBJyAAAAAAAAooQcAAAAAACAKCEHAAAAAAAgSsgBAAAAAACIEnIAAAAAAACihBwAAAAAAICoLxuIfMH85MpmAAAAAElFTkSuQmCC",
          "x": 0,
          "xref": "x",
          "y": 550,
          "yref": "y"
         }
        ],
        "legend": {
         "orientation": "h",
         "x": 1,
         "xanchor": "right",
         "y": 1.02,
         "yanchor": "bottom"
        },
        "showlegend": true,
        "template": {
         "data": {
          "bar": [
           {
            "error_x": {
             "color": "rgb(36,36,36)"
            },
            "error_y": {
             "color": "rgb(36,36,36)"
            },
            "marker": {
             "line": {
              "color": "white",
              "width": 0.5
             },
             "pattern": {
              "fillmode": "overlay",
              "size": 10,
              "solidity": 0.2
             }
            },
            "type": "bar"
           }
          ],
          "barpolar": [
           {
            "marker": {
             "line": {
              "color": "white",
              "width": 0.5
             },
             "pattern": {
              "fillmode": "overlay",
              "size": 10,
              "solidity": 0.2
             }
            },
            "type": "barpolar"
           }
          ],
          "carpet": [
           {
            "aaxis": {
             "endlinecolor": "rgb(36,36,36)",
             "gridcolor": "white",
             "linecolor": "white",
             "minorgridcolor": "white",
             "startlinecolor": "rgb(36,36,36)"
            },
            "baxis": {
             "endlinecolor": "rgb(36,36,36)",
             "gridcolor": "white",
             "linecolor": "white",
             "minorgridcolor": "white",
             "startlinecolor": "rgb(36,36,36)"
            },
            "type": "carpet"
           }
          ],
          "choropleth": [
           {
            "colorbar": {
             "outlinewidth": 1,
             "tickcolor": "rgb(36,36,36)",
             "ticks": "outside"
            },
            "type": "choropleth"
           }
          ],
          "contour": [
           {
            "colorbar": {
             "outlinewidth": 1,
             "tickcolor": "rgb(36,36,36)",
             "ticks": "outside"
            },
            "colorscale": [
             [
              0,
              "#440154"
             ],
             [
              0.1111111111111111,
              "#482878"
             ],
             [
              0.2222222222222222,
              "#3e4989"
             ],
             [
              0.3333333333333333,
              "#31688e"
             ],
             [
              0.4444444444444444,
              "#26828e"
             ],
             [
              0.5555555555555556,
              "#1f9e89"
             ],
             [
              0.6666666666666666,
              "#35b779"
             ],
             [
              0.7777777777777778,
              "#6ece58"
             ],
             [
              0.8888888888888888,
              "#b5de2b"
             ],
             [
              1,
              "#fde725"
             ]
            ],
            "type": "contour"
           }
          ],
          "contourcarpet": [
           {
            "colorbar": {
             "outlinewidth": 1,
             "tickcolor": "rgb(36,36,36)",
             "ticks": "outside"
            },
            "type": "contourcarpet"
           }
          ],
          "heatmap": [
           {
            "colorbar": {
             "outlinewidth": 1,
             "tickcolor": "rgb(36,36,36)",
             "ticks": "outside"
            },
            "colorscale": [
             [
              0,
              "#440154"
             ],
             [
              0.1111111111111111,
              "#482878"
             ],
             [
              0.2222222222222222,
              "#3e4989"
             ],
             [
              0.3333333333333333,
              "#31688e"
             ],
             [
              0.4444444444444444,
              "#26828e"
             ],
             [
              0.5555555555555556,
              "#1f9e89"
             ],
             [
              0.6666666666666666,
              "#35b779"
             ],
             [
              0.7777777777777778,
              "#6ece58"
             ],
             [
              0.8888888888888888,
              "#b5de2b"
             ],
             [
              1,
              "#fde725"
             ]
            ],
            "type": "heatmap"
           }
          ],
          "histogram": [
           {
            "marker": {
             "line": {
              "color": "white",
              "width": 0.6
             }
            },
            "type": "histogram"
           }
          ],
          "histogram2d": [
           {
            "colorbar": {
             "outlinewidth": 1,
             "tickcolor": "rgb(36,36,36)",
             "ticks": "outside"
            },
            "colorscale": [
             [
              0,
              "#440154"
             ],
             [
              0.1111111111111111,
              "#482878"
             ],
             [
              0.2222222222222222,
              "#3e4989"
             ],
             [
              0.3333333333333333,
              "#31688e"
             ],
             [
              0.4444444444444444,
              "#26828e"
             ],
             [
              0.5555555555555556,
              "#1f9e89"
             ],
             [
              0.6666666666666666,
              "#35b779"
             ],
             [
              0.7777777777777778,
              "#6ece58"
             ],
             [
              0.8888888888888888,
              "#b5de2b"
             ],
             [
              1,
              "#fde725"
             ]
            ],
            "type": "histogram2d"
           }
          ],
          "histogram2dcontour": [
           {
            "colorbar": {
             "outlinewidth": 1,
             "tickcolor": "rgb(36,36,36)",
             "ticks": "outside"
            },
            "colorscale": [
             [
              0,
              "#440154"
             ],
             [
              0.1111111111111111,
              "#482878"
             ],
             [
              0.2222222222222222,
              "#3e4989"
             ],
             [
              0.3333333333333333,
              "#31688e"
             ],
             [
              0.4444444444444444,
              "#26828e"
             ],
             [
              0.5555555555555556,
              "#1f9e89"
             ],
             [
              0.6666666666666666,
              "#35b779"
             ],
             [
              0.7777777777777778,
              "#6ece58"
             ],
             [
              0.8888888888888888,
              "#b5de2b"
             ],
             [
              1,
              "#fde725"
             ]
            ],
            "type": "histogram2dcontour"
           }
          ],
          "mesh3d": [
           {
            "colorbar": {
             "outlinewidth": 1,
             "tickcolor": "rgb(36,36,36)",
             "ticks": "outside"
            },
            "type": "mesh3d"
           }
          ],
          "parcoords": [
           {
            "line": {
             "colorbar": {
              "outlinewidth": 1,
              "tickcolor": "rgb(36,36,36)",
              "ticks": "outside"
             }
            },
            "type": "parcoords"
           }
          ],
          "pie": [
           {
            "automargin": true,
            "type": "pie"
           }
          ],
          "scatter": [
           {
            "fillpattern": {
             "fillmode": "overlay",
             "size": 10,
             "solidity": 0.2
            },
            "type": "scatter"
           }
          ],
          "scatter3d": [
           {
            "line": {
             "colorbar": {
              "outlinewidth": 1,
              "tickcolor": "rgb(36,36,36)",
              "ticks": "outside"
             }
            },
            "marker": {
             "colorbar": {
              "outlinewidth": 1,
              "tickcolor": "rgb(36,36,36)",
              "ticks": "outside"
             }
            },
            "type": "scatter3d"
           }
          ],
          "scattercarpet": [
           {
            "marker": {
             "colorbar": {
              "outlinewidth": 1,
              "tickcolor": "rgb(36,36,36)",
              "ticks": "outside"
             }
            },
            "type": "scattercarpet"
           }
          ],
          "scattergeo": [
           {
            "marker": {
             "colorbar": {
              "outlinewidth": 1,
              "tickcolor": "rgb(36,36,36)",
              "ticks": "outside"
             }
            },
            "type": "scattergeo"
           }
          ],
          "scattergl": [
           {
            "marker": {
             "colorbar": {
              "outlinewidth": 1,
              "tickcolor": "rgb(36,36,36)",
              "ticks": "outside"
             }
            },
            "type": "scattergl"
           }
          ],
          "scattermap": [
           {
            "marker": {
             "colorbar": {
              "outlinewidth": 1,
              "tickcolor": "rgb(36,36,36)",
              "ticks": "outside"
             }
            },
            "type": "scattermap"
           }
          ],
          "scattermapbox": [
           {
            "marker": {
             "colorbar": {
              "outlinewidth": 1,
              "tickcolor": "rgb(36,36,36)",
              "ticks": "outside"
             }
            },
            "type": "scattermapbox"
           }
          ],
          "scatterpolar": [
           {
            "marker": {
             "colorbar": {
              "outlinewidth": 1,
              "tickcolor": "rgb(36,36,36)",
              "ticks": "outside"
             }
            },
            "type": "scatterpolar"
           }
          ],
          "scatterpolargl": [
           {
            "marker": {
             "colorbar": {
              "outlinewidth": 1,
              "tickcolor": "rgb(36,36,36)",
              "ticks": "outside"
             }
            },
            "type": "scatterpolargl"
           }
          ],
          "scatterternary": [
           {
            "marker": {
             "colorbar": {
              "outlinewidth": 1,
              "tickcolor": "rgb(36,36,36)",
              "ticks": "outside"
             }
            },
            "type": "scatterternary"
           }
          ],
          "surface": [
           {
            "colorbar": {
             "outlinewidth": 1,
             "tickcolor": "rgb(36,36,36)",
             "ticks": "outside"
            },
            "colorscale": [
             [
              0,
              "#440154"
             ],
             [
              0.1111111111111111,
              "#482878"
             ],
             [
              0.2222222222222222,
              "#3e4989"
             ],
             [
              0.3333333333333333,
              "#31688e"
             ],
             [
              0.4444444444444444,
              "#26828e"
             ],
             [
              0.5555555555555556,
              "#1f9e89"
             ],
             [
              0.6666666666666666,
              "#35b779"
             ],
             [
              0.7777777777777778,
              "#6ece58"
             ],
             [
              0.8888888888888888,
              "#b5de2b"
             ],
             [
              1,
              "#fde725"
             ]
            ],
            "type": "surface"
           }
          ],
          "table": [
           {
            "cells": {
             "fill": {
              "color": "rgb(237,237,237)"
             },
             "line": {
              "color": "white"
             }
            },
            "header": {
             "fill": {
              "color": "rgb(217,217,217)"
             },
             "line": {
              "color": "white"
             }
            },
            "type": "table"
           }
          ]
         },
         "layout": {
          "annotationdefaults": {
           "arrowhead": 0,
           "arrowwidth": 1
          },
          "autotypenumbers": "strict",
          "coloraxis": {
           "colorbar": {
            "outlinewidth": 1,
            "tickcolor": "rgb(36,36,36)",
            "ticks": "outside"
           }
          },
          "colorscale": {
           "diverging": [
            [
             0,
             "rgb(103,0,31)"
            ],
            [
             0.1,
             "rgb(178,24,43)"
            ],
            [
             0.2,
             "rgb(214,96,77)"
            ],
            [
             0.3,
             "rgb(244,165,130)"
            ],
            [
             0.4,
             "rgb(253,219,199)"
            ],
            [
             0.5,
             "rgb(247,247,247)"
            ],
            [
             0.6,
             "rgb(209,229,240)"
            ],
            [
             0.7,
             "rgb(146,197,222)"
            ],
            [
             0.8,
             "rgb(67,147,195)"
            ],
            [
             0.9,
             "rgb(33,102,172)"
            ],
            [
             1,
             "rgb(5,48,97)"
            ]
           ],
           "sequential": [
            [
             0,
             "#440154"
            ],
            [
             0.1111111111111111,
             "#482878"
            ],
            [
             0.2222222222222222,
             "#3e4989"
            ],
            [
             0.3333333333333333,
             "#31688e"
            ],
            [
             0.4444444444444444,
             "#26828e"
            ],
            [
             0.5555555555555556,
             "#1f9e89"
            ],
            [
             0.6666666666666666,
             "#35b779"
            ],
            [
             0.7777777777777778,
             "#6ece58"
            ],
            [
             0.8888888888888888,
             "#b5de2b"
            ],
            [
             1,
             "#fde725"
            ]
           ],
           "sequentialminus": [
            [
             0,
             "#440154"
            ],
            [
             0.1111111111111111,
             "#482878"
            ],
            [
             0.2222222222222222,
             "#3e4989"
            ],
            [
             0.3333333333333333,
             "#31688e"
            ],
            [
             0.4444444444444444,
             "#26828e"
            ],
            [
             0.5555555555555556,
             "#1f9e89"
            ],
            [
             0.6666666666666666,
             "#35b779"
            ],
            [
             0.7777777777777778,
             "#6ece58"
            ],
            [
             0.8888888888888888,
             "#b5de2b"
            ],
            [
             1,
             "#fde725"
            ]
           ]
          },
          "colorway": [
           "#1F77B4",
           "#FF7F0E",
           "#2CA02C",
           "#D62728",
           "#9467BD",
           "#8C564B",
           "#E377C2",
           "#7F7F7F",
           "#BCBD22",
           "#17BECF"
          ],
          "font": {
           "color": "rgb(36,36,36)"
          },
          "geo": {
           "bgcolor": "white",
           "lakecolor": "white",
           "landcolor": "white",
           "showlakes": true,
           "showland": true,
           "subunitcolor": "white"
          },
          "hoverlabel": {
           "align": "left"
          },
          "hovermode": "closest",
          "mapbox": {
           "style": "light"
          },
          "paper_bgcolor": "white",
          "plot_bgcolor": "white",
          "polar": {
           "angularaxis": {
            "gridcolor": "rgb(232,232,232)",
            "linecolor": "rgb(36,36,36)",
            "showgrid": false,
            "showline": true,
            "ticks": "outside"
           },
           "bgcolor": "white",
           "radialaxis": {
            "gridcolor": "rgb(232,232,232)",
            "linecolor": "rgb(36,36,36)",
            "showgrid": false,
            "showline": true,
            "ticks": "outside"
           }
          },
          "scene": {
           "xaxis": {
            "backgroundcolor": "white",
            "gridcolor": "rgb(232,232,232)",
            "gridwidth": 2,
            "linecolor": "rgb(36,36,36)",
            "showbackground": true,
            "showgrid": false,
            "showline": true,
            "ticks": "outside",
            "zeroline": false,
            "zerolinecolor": "rgb(36,36,36)"
           },
           "yaxis": {
            "backgroundcolor": "white",
            "gridcolor": "rgb(232,232,232)",
            "gridwidth": 2,
            "linecolor": "rgb(36,36,36)",
            "showbackground": true,
            "showgrid": false,
            "showline": true,
            "ticks": "outside",
            "zeroline": false,
            "zerolinecolor": "rgb(36,36,36)"
           },
           "zaxis": {
            "backgroundcolor": "white",
            "gridcolor": "rgb(232,232,232)",
            "gridwidth": 2,
            "linecolor": "rgb(36,36,36)",
            "showbackground": true,
            "showgrid": false,
            "showline": true,
            "ticks": "outside",
            "zeroline": false,
            "zerolinecolor": "rgb(36,36,36)"
           }
          },
          "shapedefaults": {
           "fillcolor": "black",
           "line": {
            "width": 0
           },
           "opacity": 0.3
          },
          "ternary": {
           "aaxis": {
            "gridcolor": "rgb(232,232,232)",
            "linecolor": "rgb(36,36,36)",
            "showgrid": false,
            "showline": true,
            "ticks": "outside"
           },
           "baxis": {
            "gridcolor": "rgb(232,232,232)",
            "linecolor": "rgb(36,36,36)",
            "showgrid": false,
            "showline": true,
            "ticks": "outside"
           },
           "bgcolor": "white",
           "caxis": {
            "gridcolor": "rgb(232,232,232)",
            "linecolor": "rgb(36,36,36)",
            "showgrid": false,
            "showline": true,
            "ticks": "outside"
           }
          },
          "title": {
           "x": 0.05
          },
          "xaxis": {
           "automargin": true,
           "gridcolor": "rgb(232,232,232)",
           "linecolor": "rgb(36,36,36)",
           "showgrid": false,
           "showline": true,
           "ticks": "outside",
           "title": {
            "standoff": 15
           },
           "zeroline": false,
           "zerolinecolor": "rgb(36,36,36)"
          },
          "yaxis": {
           "automargin": true,
           "gridcolor": "rgb(232,232,232)",
           "linecolor": "rgb(36,36,36)",
           "showgrid": false,
           "showline": true,
           "ticks": "outside",
           "title": {
            "standoff": 15
           },
           "zeroline": false,
           "zerolinecolor": "rgb(36,36,36)"
          }
         }
        },
        "title": {
         "text": "Burrito Map - Day day4"
        },
        "xaxis": {
         "range": [
          0,
          500
         ],
         "visible": false
        },
        "yaxis": {
         "range": [
          0,
          550
         ],
         "scaleanchor": "x",
         "scaleratio": 1,
         "visible": false
        }
       }
      }
     },
     "metadata": {},
     "output_type": "display_data"
    },
    {
     "name": "stdout",
     "output_type": "stream",
     "text": [
      "\n",
      "Day day5:\n",
      "  - Deployed trucks: 13 (6 new, 7 maintained)\n",
      "  - Daily profit: ₲7064.99 (Revenue: ₲10154.99, Cost: ₲3090.00)\n",
      "    * Location truck8: Small (Maintained)\n",
      "    * Location truck23: Small (Maintained)\n",
      "    * Location truck3: Medium (New)\n",
      "    * Location truck53: Medium (Maintained)\n",
      "    * Location truck37: Medium (New)\n",
      "    * Location truck26: Medium (New)\n",
      "    * Location truck17: Medium (Maintained)\n",
      "    * Location truck33: Large (Maintained)\n",
      "    * Location truck45: Large (Maintained)\n",
      "    * Location truck19: Large (New)\n",
      "    * Location truck40: Large (New)\n",
      "    * Location truck7: Large (New)\n",
      "    * Location truck15: Large (Maintained)\n"
     ]
    },
    {
     "data": {
      "application/vnd.plotly.v1+json": {
       "config": {
        "plotlyServerURL": "https://plot.ly"
       },
       "data": [
        {
         "hoverinfo": "none",
         "line": {
          "color": "rgba(150, 150, 150, 1)",
          "width": 1.5
         },
         "mode": "lines",
         "showlegend": false,
         "type": "scatter",
         "x": [
          95.67096378146104,
          113.0656844689994
         ],
         "y": [
          466.47078464106846,
          418.9616026711185
         ]
        },
        {
         "hoverinfo": "none",
         "line": {
          "color": "rgba(150, 150, 150, 1)",
          "width": 1.5
         },
         "mode": "lines",
         "showlegend": false,
         "type": "scatter",
         "x": [
          126.11172498465316,
          113.0656844689994
         ],
         "y": [
          460.5709515859766,
          418.9616026711185
         ]
        },
        {
         "hoverinfo": "none",
         "line": {
          "color": "rgba(150, 150, 150, 1)",
          "width": 1.5
         },
         "mode": "lines",
         "showlegend": false,
         "type": "scatter",
         "x": [
          190.72068753836712,
          164.62860650705954
         ],
         "y": [
          477.338898163606,
          419.5826377295492
         ]
        },
        {
         "hoverinfo": "none",
         "line": {
          "color": "rgba(150, 150, 150, 1)",
          "width": 1.5
         },
         "mode": "lines",
         "showlegend": false,
         "type": "scatter",
         "x": [
          281.11111111111114,
          338.57581338244324
         ],
         "y": [
          486.6544240400668,
          507.76961602671116
         ]
        },
        {
         "hoverinfo": "none",
         "line": {
          "color": "rgba(150, 150, 150, 1)",
          "width": 1.5
         },
         "mode": "lines",
         "showlegend": false,
         "type": "scatter",
         "x": [
          347.5837937384899,
          338.57581338244324
         ],
         "y": [
          471.43906510851417,
          507.76961602671116
         ]
        },
        {
         "hoverinfo": "none",
         "line": {
          "color": "rgba(150, 150, 150, 1)",
          "width": 1.5
         },
         "mode": "lines",
         "showlegend": false,
         "type": "scatter",
         "x": [
          428.9662369551872,
          338.57581338244324
         ],
         "y": [
          501.24874791318865,
          507.76961602671116
         ]
        },
        {
         "hoverinfo": "none",
         "line": {
          "color": "rgba(150, 150, 150, 1)",
          "width": 1.5
         },
         "mode": "lines",
         "showlegend": false,
         "type": "scatter",
         "x": [
          470.2786985880909,
          431.1405770411296
         ],
         "y": [
          471.43906510851417,
          342.8848080133556
         ]
        },
        {
         "hoverinfo": "none",
         "line": {
          "color": "rgba(150, 150, 150, 1)",
          "width": 1.5
         },
         "mode": "lines",
         "showlegend": false,
         "type": "scatter",
         "x": [
          393.5555555555556,
          338.57581338244324
         ],
         "y": [
          451.56594323873117,
          507.76961602671116
         ]
        },
        {
         "hoverinfo": "none",
         "line": {
          "color": "rgba(150, 150, 150, 1)",
          "width": 1.5
         },
         "mode": "lines",
         "showlegend": false,
         "type": "scatter",
         "x": [
          344.78821362799266,
          338.57581338244324
         ],
         "y": [
          434.7979966611018,
          507.76961602671116
         ]
        },
        {
         "hoverinfo": "none",
         "line": {
          "color": "rgba(150, 150, 150, 1)",
          "width": 1.5
         },
         "mode": "lines",
         "showlegend": false,
         "type": "scatter",
         "x": [
          454.7476979742173,
          431.1405770411296
         ],
         "y": [
          368.96828046744577,
          342.8848080133556
         ]
        },
        {
         "hoverinfo": "none",
         "line": {
          "color": "rgba(150, 150, 150, 1)",
          "width": 1.5
         },
         "mode": "lines",
         "showlegend": false,
         "type": "scatter",
         "x": [
          411.57151626764886,
          431.1405770411296
         ],
         "y": [
          406.5409015025042,
          342.8848080133556
         ]
        },
        {
         "hoverinfo": "none",
         "line": {
          "color": "rgba(150, 150, 150, 1)",
          "width": 1.5
         },
         "mode": "lines",
         "showlegend": false,
         "type": "scatter",
         "x": [
          284.8385512584408,
          210.60036832412524
         ],
         "y": [
          361.20534223706176,
          342.8848080133556
         ]
        },
        {
         "hoverinfo": "none",
         "line": {
          "color": "rgba(150, 150, 150, 1)",
          "width": 1.5
         },
         "mode": "lines",
         "showlegend": false,
         "type": "scatter",
         "x": [
          256.57213014119094,
          210.60036832412524
         ],
         "y": [
          391.9465776293823,
          342.8848080133556
         ]
        },
        {
         "hoverinfo": "none",
         "line": {
          "color": "rgba(150, 150, 150, 1)",
          "width": 1.5
         },
         "mode": "lines",
         "showlegend": false,
         "type": "scatter",
         "x": [
          315.2793124616329,
          310.62001227747083
         ],
         "y": [
          386.35726210350583,
          327.9799666110183
         ]
        },
        {
         "hoverinfo": "none",
         "line": {
          "color": "rgba(150, 150, 150, 1)",
          "width": 1.5
         },
         "mode": "lines",
         "showlegend": false,
         "type": "scatter",
         "x": [
          213.70656844689995,
          209.35788827501537
         ],
         "y": [
          389.46243739565944,
          269.9131886477462
         ]
        },
        {
         "hoverinfo": "none",
         "line": {
          "color": "rgba(150, 150, 150, 1)",
          "width": 1.5
         },
         "mode": "lines",
         "showlegend": false,
         "type": "scatter",
         "x": [
          176.7427869858809,
          128.59668508287294
         ],
         "y": [
          363.0684474123539,
          286.0601001669449
         ]
        },
        {
         "hoverinfo": "none",
         "line": {
          "color": "rgba(150, 150, 150, 1)",
          "width": 1.5
         },
         "mode": "lines",
         "showlegend": false,
         "type": "scatter",
         "x": [
          129.21792510742787,
          113.0656844689994
         ],
         "y": [
          381.38898163606007,
          418.9616026711185
         ]
        },
        {
         "hoverinfo": "none",
         "line": {
          "color": "rgba(150, 150, 150, 1)",
          "width": 1.5
         },
         "mode": "lines",
         "showlegend": false,
         "type": "scatter",
         "x": [
          68.02578268876611,
          128.59668508287294
         ],
         "y": [
          320.21702838063436,
          286.0601001669449
         ]
        },
        {
         "hoverinfo": "none",
         "line": {
          "color": "rgba(150, 150, 150, 1)",
          "width": 1.5
         },
         "mode": "lines",
         "showlegend": false,
         "type": "scatter",
         "x": [
          187.6144874155924,
          210.60036832412524
         ],
         "y": [
          327.3589315525876,
          342.8848080133556
         ]
        },
        {
         "hoverinfo": "none",
         "line": {
          "color": "rgba(150, 150, 150, 1)",
          "width": 1.5
         },
         "mode": "lines",
         "showlegend": false,
         "type": "scatter",
         "x": [
          152.2038060159607,
          209.35788827501537
         ],
         "y": [
          304.6911519198664,
          269.9131886477462
         ]
        },
        {
         "hoverinfo": "none",
         "line": {
          "color": "rgba(150, 150, 150, 1)",
          "width": 1.5
         },
         "mode": "lines",
         "showlegend": false,
         "type": "scatter",
         "x": [
          239.48802946593003,
          209.35788827501537
         ],
         "y": [
          303.1385642737896,
          269.9131886477462
         ]
        },
        {
         "hoverinfo": "none",
         "line": {
          "color": "rgba(150, 150, 150, 1)",
          "width": 1.5
         },
         "mode": "lines",
         "showlegend": false,
         "type": "scatter",
         "x": [
          295.71025168815225,
          209.35788827501537
         ],
         "y": [
          309.03839732888144,
          269.9131886477462
         ]
        },
        {
         "hoverinfo": "none",
         "line": {
          "color": "rgba(150, 150, 150, 1)",
          "width": 1.5
         },
         "mode": "lines",
         "showlegend": false,
         "type": "scatter",
         "x": [
          342.92449355432785,
          310.62001227747083
         ],
         "y": [
          318.6644407345576,
          327.9799666110183
         ]
        },
        {
         "hoverinfo": "none",
         "line": {
          "color": "rgba(150, 150, 150, 1)",
          "width": 1.5
         },
         "mode": "lines",
         "showlegend": false,
         "type": "scatter",
         "x": [
          395.4192756292204,
          431.1405770411296
         ],
         "y": [
          329.22203672787975,
          342.8848080133556
         ]
        },
        {
         "hoverinfo": "none",
         "line": {
          "color": "rgba(150, 150, 150, 1)",
          "width": 1.5
         },
         "mode": "lines",
         "showlegend": false,
         "type": "scatter",
         "x": [
          429.2768569674647,
          431.1405770411296
         ],
         "y": [
          305.3121869782972,
          342.8848080133556
         ]
        },
        {
         "hoverinfo": "none",
         "line": {
          "color": "rgba(150, 150, 150, 1)",
          "width": 1.5
         },
         "mode": "lines",
         "showlegend": false,
         "type": "scatter",
         "x": [
          460.96009821976673,
          393.2449355432781
         ],
         "y": [
          247.86644407345574,
          172.72120200333887
         ]
        },
        {
         "hoverinfo": "none",
         "line": {
          "color": "rgba(150, 150, 150, 1)",
          "width": 1.5
         },
         "mode": "lines",
         "showlegend": false,
         "type": "scatter",
         "x": [
          356.2811540822591,
          393.2449355432781
         ],
         "y": [
          232.9616026711185,
          172.72120200333887
         ]
        },
        {
         "hoverinfo": "none",
         "line": {
          "color": "rgba(150, 150, 150, 1)",
          "width": 1.5
         },
         "mode": "lines",
         "showlegend": false,
         "type": "scatter",
         "x": [
          279.55801104972375,
          209.35788827501537
         ],
         "y": [
          251.59265442404006,
          151.60601001669448
         ]
        },
        {
         "hoverinfo": "none",
         "line": {
          "color": "rgba(150, 150, 150, 1)",
          "width": 1.5
         },
         "mode": "lines",
         "showlegend": false,
         "type": "scatter",
         "x": [
          169.90914671577656,
          121.14180478821363
         ],
         "y": [
          243.82971619365605,
          212.7779632721202
         ]
        },
        {
         "hoverinfo": "none",
         "line": {
          "color": "rgba(150, 150, 150, 1)",
          "width": 1.5
         },
         "mode": "lines",
         "showlegend": false,
         "type": "scatter",
         "x": [
          113.68692449355432,
          128.59668508287294
         ],
         "y": [
          258.1135225375626,
          286.0601001669449
         ]
        },
        {
         "hoverinfo": "none",
         "line": {
          "color": "rgba(150, 150, 150, 1)",
          "width": 1.5
         },
         "mode": "lines",
         "showlegend": false,
         "type": "scatter",
         "x": [
          52.494782074892576,
          121.14180478821363
         ],
         "y": [
          245.38230383973286,
          212.7779632721202
         ]
        },
        {
         "hoverinfo": "none",
         "line": {
          "color": "rgba(150, 150, 150, 1)",
          "width": 1.5
         },
         "mode": "lines",
         "showlegend": false,
         "type": "scatter",
         "x": [
          72.68508287292818,
          121.14180478821363
         ],
         "y": [
          190.110183639399,
          212.7779632721202
         ]
        },
        {
         "hoverinfo": "none",
         "line": {
          "color": "rgba(150, 150, 150, 1)",
          "width": 1.5
         },
         "mode": "lines",
         "showlegend": false,
         "type": "scatter",
         "x": [
          190.41006752608965,
          209.35788827501537
         ],
         "y": [
          182.347245409015,
          151.60601001669448
         ]
        },
        {
         "hoverinfo": "none",
         "line": {
          "color": "rgba(150, 150, 150, 1)",
          "width": 1.5
         },
         "mode": "lines",
         "showlegend": false,
         "type": "scatter",
         "x": [
          267.1332105586249,
          209.35788827501537
         ],
         "y": [
          187.93656093489147,
          151.60601001669448
         ]
        },
        {
         "hoverinfo": "none",
         "line": {
          "color": "rgba(150, 150, 150, 1)",
          "width": 1.5
         },
         "mode": "lines",
         "showlegend": false,
         "type": "scatter",
         "x": [
          359.3873542050338,
          393.2449355432781
         ],
         "y": [
          186.0734557595993,
          172.72120200333887
         ]
        },
        {
         "hoverinfo": "none",
         "line": {
          "color": "rgba(150, 150, 150, 1)",
          "width": 1.5
         },
         "mode": "lines",
         "showlegend": false,
         "type": "scatter",
         "x": [
          437.66359729895646,
          393.2449355432781
         ],
         "y": [
          195.38898163606007,
          172.72120200333887
         ]
        },
        {
         "hoverinfo": "none",
         "line": {
          "color": "rgba(150, 150, 150, 1)",
          "width": 1.5
         },
         "mode": "lines",
         "showlegend": false,
         "type": "scatter",
         "x": [
          437.66359729895646,
          393.2449355432781
         ],
         "y": [
          150.36393989983304,
          172.72120200333887
         ]
        },
        {
         "hoverinfo": "none",
         "line": {
          "color": "rgba(150, 150, 150, 1)",
          "width": 1.5
         },
         "mode": "lines",
         "showlegend": false,
         "type": "scatter",
         "x": [
          315.90055248618785,
          395.4192756292204
         ],
         "y": [
          104.71786310517518,
          54.724540901502394
         ]
        },
        {
         "hoverinfo": "none",
         "line": {
          "color": "rgba(150, 150, 150, 1)",
          "width": 1.5
         },
         "mode": "lines",
         "showlegend": false,
         "type": "scatter",
         "x": [
          416.2308164518109,
          395.4192756292204
         ],
         "y": [
          107.20200333889812,
          54.724540901502394
         ]
        },
        {
         "hoverinfo": "none",
         "line": {
          "color": "rgba(150, 150, 150, 1)",
          "width": 1.5
         },
         "mode": "lines",
         "showlegend": false,
         "type": "scatter",
         "x": [
          451.3308778391652,
          395.4192756292204
         ],
         "y": [
          76.77128547579298,
          54.724540901502394
         ]
        },
        {
         "hoverinfo": "none",
         "line": {
          "color": "rgba(150, 150, 150, 1)",
          "width": 1.5
         },
         "mode": "lines",
         "showlegend": false,
         "type": "scatter",
         "x": [
          375.2289748311848,
          395.4192756292204
         ],
         "y": [
          58.761268781302135,
          54.724540901502394
         ]
        },
        {
         "hoverinfo": "none",
         "line": {
          "color": "rgba(150, 150, 150, 1)",
          "width": 1.5
         },
         "mode": "lines",
         "showlegend": false,
         "type": "scatter",
         "x": [
          233.89686924493557,
          209.35788827501537
         ],
         "y": [
          69.31886477462433,
          151.60601001669448
         ]
        },
        {
         "hoverinfo": "none",
         "line": {
          "color": "rgba(150, 150, 150, 1)",
          "width": 1.5
         },
         "mode": "lines",
         "showlegend": false,
         "type": "scatter",
         "x": [
          159.9693063228975,
          118.65684468999386
         ],
         "y": [
          37.02504173622697,
          70.56093489148577
         ]
        },
        {
         "hoverinfo": "none",
         "line": {
          "color": "rgba(150, 150, 150, 1)",
          "width": 1.5
         },
         "mode": "lines",
         "showlegend": false,
         "type": "scatter",
         "x": [
          87.90546347452425,
          118.65684468999386
         ],
         "y": [
          68.07679465776289,
          70.56093489148577
         ]
        },
        {
         "hoverinfo": "none",
         "line": {
          "color": "rgba(150, 150, 150, 1)",
          "width": 1.5
         },
         "mode": "lines",
         "showlegend": false,
         "type": "scatter",
         "x": [
          193.82688766114185,
          118.65684468999386
         ],
         "y": [
          103.47579298831391,
          70.56093489148577
         ]
        },
        {
         "hoverinfo": "none",
         "line": {
          "color": "rgba(150, 150, 150, 1)",
          "width": 1.5
         },
         "mode": "lines",
         "showlegend": false,
         "type": "scatter",
         "x": [
          152.82504604051567,
          118.65684468999386
         ],
         "y": [
          130.49081803004998,
          70.56093489148577
         ]
        },
        {
         "hoverinfo": "none",
         "line": {
          "color": "rgba(150, 150, 150, 1)",
          "width": 1.5
         },
         "mode": "lines",
         "showlegend": false,
         "type": "scatter",
         "x": [
          104.98956414978517,
          118.65684468999386
         ],
         "y": [
          130.8013355592654,
          70.56093489148577
         ]
        },
        {
         "hoverinfo": "none",
         "line": {
          "color": "rgba(150, 150, 150, 1)",
          "width": 1.5
         },
         "mode": "lines",
         "showlegend": false,
         "type": "scatter",
         "x": [
          375.2289748311848,
          395.4192756292204
         ],
         "y": [
          152.53756260434062,
          54.724540901502394
         ]
        },
        {
         "hoverinfo": "none",
         "line": {
          "color": "rgba(150, 150, 150, 1)",
          "width": 1.5
         },
         "mode": "lines",
         "showlegend": false,
         "type": "scatter",
         "x": [
          392.0024554941682,
          310.62001227747083
         ],
         "y": [
          293.8230383973288,
          327.9799666110183
         ]
        },
        {
         "hoverinfo": "none",
         "line": {
          "color": "rgba(150, 150, 150, 1)",
          "width": 1.5
         },
         "mode": "lines",
         "showlegend": false,
         "type": "scatter",
         "x": [
          241.9729895641498,
          209.35788827501537
         ],
         "y": [
          128.31719532554257,
          151.60601001669448
         ]
        },
        {
         "hoverinfo": "none",
         "line": {
          "color": "rgba(150, 150, 150, 1)",
          "width": 1.5
         },
         "mode": "lines",
         "showlegend": false,
         "type": "scatter",
         "x": [
          200.66052793124615,
          209.35788827501537
         ],
         "y": [
          287.92320534223705,
          269.9131886477462
         ]
        },
        {
         "hoverinfo": "none",
         "line": {
          "color": "rgba(150, 150, 150, 1)",
          "width": 1.5
         },
         "mode": "lines",
         "showlegend": false,
         "type": "scatter",
         "x": [
          391.38121546961327,
          310.62001227747083
         ],
         "y": [
          364,
          327.9799666110183
         ]
        },
        {
         "hoverinfo": "none",
         "line": {
          "color": "rgba(150, 150, 150, 1)",
          "width": 1.5
         },
         "mode": "lines",
         "showlegend": false,
         "type": "scatter",
         "x": [
          217.12338858195213,
          164.62860650705954
         ],
         "y": [
          445.9766277128548,
          419.5826377295492
         ]
        },
        {
         "hoverinfo": "none",
         "line": {
          "color": "rgba(150, 150, 150, 1)",
          "width": 1.5
         },
         "mode": "lines",
         "showlegend": false,
         "type": "scatter",
         "x": [
          278.62615101289134,
          164.62860650705954
         ],
         "y": [
          444.42404006677793,
          419.5826377295492
         ]
        },
        {
         "hovertemplate": [
          "Pipe Benders<br>Demand: 75.0",
          "Traveling Salesperson Agency<br>Demand: 70.0",
          "ReLU Realty<br>Demand: 40.0",
          "Gaussian Mixture Shakes & Smoothies<br>Demand: 25.0",
          "Barrier Fencing<br>Demand: 20.0",
          "Poisson Distribution Fish Market<br>Demand: 50.0",
          "LP Relaxation Spa<br>Demand: 15.0",
          "The Euclidean Space<br>Demand: 65.0",
          "The Analytic Center<br>Demand: 35.0",
          "Lift and Project Gym<br>Demand: 50.0",
          "L'Hôpital<br>Demand: 60.0",
          "Reinforcement Learning Puppy Training<br>Demand: 50.0",
          "KKT Air Conditioning<br>Demand: 70.0",
          "Linear Regression Psychology Services<br>Demand: 40.0",
          "George's Basic Diet Solutions<br>Demand: 20.0",
          "MILP Mart<br>Demand: 25.0",
          "Rothberg Tower<br>Demand: 75.0",
          "Multimodal Distribution Center<br>Demand: 75.0",
          "Callback Cat Café<br>Demand: 75.0",
          "Toy Problems 'ᴙ' Us<br>Demand: 40.0",
          "Complex Complex<br>Demand: 15.0",
          "Gurobi Polytope<br>Demand: 50.0",
          "Vertex Tower<br>Demand: 65.0",
          "Anna Konda's Pet Shop<br>Demand: 55.0",
          "Presolve: Prenuptial Agreements<br>Demand: 35.0",
          "Fourier Transform Towers<br>Demand: 35.0",
          "Nonlinear Thinking Center<br>Demand: 70.0",
          "Bixby Hall<br>Demand: 20.0",
          "RINS Laundromat<br>Demand: 55.0",
          "IIS Tower<br>Demand: 10.0",
          "Knapsack News<br>Demand: 70.0",
          "Edgeworth's Newsvendors<br>Demand: 40.0",
          "Convex Amphitheater<br>Demand: 55.0",
          "Interior Point Decorating<br>Demand: 25.0",
          "Scheduling Station<br>Demand: 30.0",
          "Elastic Net Fishing Supplies<br>Demand: 50.0",
          "Munro Hall<br>Demand: 30.0",
          "Numerical Issues Zoo<br>Demand: 40.0",
          "Multi-Threads Thrift Store<br>Demand: 60.0",
          "Bin Packing Post Office<br>Demand: 50.0",
          "Land & Harcourt's B&B<br>Demand: 20.0",
          "K-Fold Parking Validation<br>Demand: 15.0",
          "MIP Manor<br>Demand: 60.0",
          "Bag of Words Designer Handbags<br>Demand: 30.0",
          "Bias & Variance Courthouse<br>Demand: 30.0",
          "Joke-obian's Comedy Club<br>Demand: 20.0",
          "Lagrange Boulangerie<br>Demand: 60.0",
          "Logistic Regression Couriers<br>Demand: 50.0",
          "Cutting Plane Woodworks<br>Demand: 20.0",
          "Big-M Market<br>Demand: 35.0",
          "Gum-ory Dental Services<br>Demand: 20.0",
          "Farkas' Lemma-nade<br>Demand: 45.0",
          "Cutting Stock Atelier<br>Demand: 15.0",
          "Gu Library<br>Demand: 60.0"
         ],
         "marker": {
          "color": "red",
          "line": {
           "width": 0
          },
          "opacity": 0.7,
          "size": [
           37.5,
           35,
           20,
           12.5,
           10,
           25,
           7.5,
           32.5,
           17.5,
           25,
           30,
           25,
           35,
           20,
           10,
           12.5,
           37.5,
           37.5,
           37.5,
           20,
           7.5,
           25,
           32.5,
           27.5,
           17.5,
           17.5,
           35,
           10,
           27.5,
           5,
           35,
           20,
           27.5,
           12.5,
           15,
           25,
           15,
           20,
           30,
           25,
           10,
           7.5,
           30,
           15,
           15,
           10,
           30,
           25,
           10,
           17.5,
           10,
           22.5,
           7.5,
           30
          ]
         },
         "mode": "markers",
         "name": "Demand Point",
         "type": "scatter",
         "x": [
          95.67096378146104,
          126.11172498465316,
          190.72068753836712,
          281.11111111111114,
          347.5837937384899,
          428.9662369551872,
          470.2786985880909,
          393.5555555555556,
          344.78821362799266,
          454.7476979742173,
          411.57151626764886,
          284.8385512584408,
          256.57213014119094,
          315.2793124616329,
          213.70656844689995,
          176.7427869858809,
          129.21792510742787,
          68.02578268876611,
          187.6144874155924,
          152.2038060159607,
          239.48802946593003,
          295.71025168815225,
          342.92449355432785,
          395.4192756292204,
          429.2768569674647,
          460.96009821976673,
          356.2811540822591,
          279.55801104972375,
          169.90914671577656,
          113.68692449355432,
          52.494782074892576,
          72.68508287292818,
          190.41006752608965,
          267.1332105586249,
          359.3873542050338,
          437.66359729895646,
          437.66359729895646,
          315.90055248618785,
          416.2308164518109,
          451.3308778391652,
          375.2289748311848,
          233.89686924493557,
          159.9693063228975,
          87.90546347452425,
          193.82688766114185,
          152.82504604051567,
          104.98956414978517,
          375.2289748311848,
          392.0024554941682,
          241.9729895641498,
          200.66052793124615,
          391.38121546961327,
          217.12338858195213,
          278.62615101289134
         ],
         "y": [
          466.47078464106846,
          460.5709515859766,
          477.338898163606,
          486.6544240400668,
          471.43906510851417,
          501.24874791318865,
          471.43906510851417,
          451.56594323873117,
          434.7979966611018,
          368.96828046744577,
          406.5409015025042,
          361.20534223706176,
          391.9465776293823,
          386.35726210350583,
          389.46243739565944,
          363.0684474123539,
          381.38898163606007,
          320.21702838063436,
          327.3589315525876,
          304.6911519198664,
          303.1385642737896,
          309.03839732888144,
          318.6644407345576,
          329.22203672787975,
          305.3121869782972,
          247.86644407345574,
          232.9616026711185,
          251.59265442404006,
          243.82971619365605,
          258.1135225375626,
          245.38230383973286,
          190.110183639399,
          182.347245409015,
          187.93656093489147,
          186.0734557595993,
          195.38898163606007,
          150.36393989983304,
          104.71786310517518,
          107.20200333889812,
          76.77128547579298,
          58.761268781302135,
          69.31886477462433,
          37.02504173622697,
          68.07679465776289,
          103.47579298831391,
          130.49081803004998,
          130.8013355592654,
          152.53756260434062,
          293.8230383973288,
          128.31719532554257,
          287.92320534223705,
          364,
          445.9766277128548,
          444.42404006677793
         ]
        },
        {
         "hovertemplate": [
          "truck16",
          "truck0",
          "truck39",
          "truck33",
          "truck34",
          "truck22",
          "truck12",
          "truck43",
          "truck49",
          "truck50",
          "truck1",
          "truck8",
          "truck5",
          "truck20",
          "truck30",
          "truck52",
          "truck3",
          "truck13",
          "truck6",
          "truck53",
          "truck41",
          "truck44",
          "truck25",
          "truck48",
          "truck45",
          "truck36",
          "truck10",
          "truck32",
          "truck47",
          "truck55",
          "truck51",
          "truck54",
          "truck29",
          "truck38",
          "truck19",
          "truck46",
          "truck37",
          "truck26",
          "truck9",
          "truck2",
          "truck42",
          "truck14",
          "truck11",
          "truck56",
          "truck28",
          "truck35",
          "truck40",
          "truck4",
          "truck7",
          "truck18",
          "truck17",
          "truck15",
          "truck31",
          "truck27",
          "truck23",
          "truck21"
         ],
         "marker": {
          "color": "rgba(135, 206, 250, 0.3)",
          "line": {
           "color": "darkblue",
           "width": 1
          },
          "size": 10,
          "symbol": "circle"
         },
         "mode": "markers",
         "name": "Available Location",
         "type": "scatter",
         "x": [
          298.50583179864947,
          72.06384284837324,
          49.699201964395336,
          393.2449355432781,
          337.9545733578883,
          356.2811540822591,
          224.57826887661145,
          290.42971147943524,
          492.6433394720688,
          60.881522406384285,
          112.75506445672193,
          164.62860650705954,
          444,
          469.9680785758134,
          332.0527931246164,
          241.9729895641498,
          338.57581338244324,
          102.50460405156538,
          56.22222222222222,
          209.35788827501537,
          217.4340085942296,
          315.5899324739104,
          23.607120933087785,
          489.5371393492941,
          395.4192756292204,
          303.16513198281154,
          336.71209330877844,
          487.0521792510743,
          296.3314917127072,
          387.0325352977287,
          111.8232044198895,
          320.5598526703499,
          296.0208717004297,
          112.44444444444444,
          431.1405770411296,
          394.487415592388,
          209.35788827501537,
          121.14180478821363,
          218.6764886433395,
          237.3136893799877,
          276.1411909146716,
          150.65070595457337,
          323.9766728054021,
          404.1166359729896,
          224.88888888888889,
          288.8766114180479,
          118.65684468999386,
          377.0926949048496,
          113.0656844689994,
          364.6678944137508,
          310.62001227747083,
          210.60036832412524,
          397.90423572744015,
          173.94720687538367,
          128.59668508287294,
          438.59545733578886
         ],
         "y": [
          344.4373956594324,
          492.24373956594326,
          52.240400667779625,
          172.72120200333887,
          154.71118530884797,
          404.3672787979966,
          456.2237061769616,
          43.235392320534174,
          70.25041736227041,
          14.046744574290415,
          491.9332220367279,
          419.5826377295492,
          437.5,
          343.19532554257097,
          197.87312186978295,
          268.05008347245405,
          507.76961602671116,
          341.64273789649417,
          420.51419031719536,
          269.9131886477462,
          72.11352253756257,
          254.07679465776295,
          211.8464106844741,
          42.924874791318814,
          54.724540901502394,
          135.14858096828038,
          419.89315525876464,
          170.8580968280467,
          226.440734557596,
          95.40233722871449,
          13.11519198664439,
          276.4340567612688,
          199.1151919866444,
          152.2270450751252,
          342.8848080133556,
          25.53589315525869,
          151.60601001669448,
          212.7779632721202,
          404.3672787979966,
          494.7278797996661,
          73.04507512520865,
          327.3589315525876,
          440.3873121869783,
          255.6293823038397,
          214.02003338898157,
          164.6477462437395,
          70.56093489148577,
          512.4273789649416,
          418.9616026711185,
          327.3589315525876,
          327.9799666110183,
          342.8848080133556,
          196.94156928213687,
          209.67278797996659,
          286.0601001669449,
          402.19365609348915
         ]
        },
        {
         "hovertemplate": [
          "truck8<br>Small (Maintained)",
          "truck23<br>Small (Maintained)"
         ],
         "marker": {
          "color": [
           "blue",
           "blue"
          ],
          "line": {
           "color": "black",
           "width": 1
          },
          "size": 12,
          "symbol": "triangle-up"
         },
         "mode": "markers",
         "name": "Small Trucks",
         "type": "scatter",
         "x": [
          164.62860650705954,
          128.59668508287294
         ],
         "y": [
          419.5826377295492,
          286.0601001669449
         ]
        },
        {
         "hovertemplate": [
          "truck3<br>Medium (New)",
          "truck53<br>Medium (Maintained)",
          "truck17<br>Medium (Maintained)",
          "truck37<br>Medium (New)",
          "truck26<br>Medium (New)"
         ],
         "marker": {
          "color": [
           "green",
           "blue",
           "blue",
           "green",
           "green"
          ],
          "line": {
           "color": "black",
           "width": 1
          },
          "size": 12,
          "symbol": "square"
         },
         "mode": "markers",
         "name": "Medium Trucks",
         "type": "scatter",
         "x": [
          338.57581338244324,
          209.35788827501537,
          310.62001227747083,
          209.35788827501537,
          121.14180478821363
         ],
         "y": [
          507.76961602671116,
          269.9131886477462,
          327.9799666110183,
          151.60601001669448,
          212.7779632721202
         ]
        },
        {
         "hovertemplate": [
          "truck45<br>Large (Maintained)",
          "truck33<br>Large (Maintained)",
          "truck40<br>Large (New)",
          "truck7<br>Large (New)",
          "truck19<br>Large (New)",
          "truck15<br>Large (Maintained)"
         ],
         "marker": {
          "color": [
           "blue",
           "blue",
           "green",
           "green",
           "green",
           "blue"
          ],
          "line": {
           "color": "black",
           "width": 1
          },
          "size": 12,
          "symbol": "circle"
         },
         "mode": "markers",
         "name": "Large Trucks",
         "type": "scatter",
         "x": [
          395.4192756292204,
          393.2449355432781,
          118.65684468999386,
          113.0656844689994,
          431.1405770411296,
          210.60036832412524
         ],
         "y": [
          54.724540901502394,
          172.72120200333887,
          70.56093489148577,
          418.9616026711185,
          342.8848080133556,
          342.8848080133556
         ]
        }
       ],
       "layout": {
        "images": [
         {
          "layer": "below",
          "opacity": 0.9,
          "sizex": 500,
          "sizey": 550,
          "sizing": "stretch",
          "source": "data:image/png;base64,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",
          "x": 0,
          "xref": "x",
          "y": 550,
          "yref": "y"
         }
        ],
        "legend": {
         "orientation": "h",
         "x": 1,
         "xanchor": "right",
         "y": 1.02,
         "yanchor": "bottom"
        },
        "showlegend": true,
        "template": {
         "data": {
          "bar": [
           {
            "error_x": {
             "color": "rgb(36,36,36)"
            },
            "error_y": {
             "color": "rgb(36,36,36)"
            },
            "marker": {
             "line": {
              "color": "white",
              "width": 0.5
             },
             "pattern": {
              "fillmode": "overlay",
              "size": 10,
              "solidity": 0.2
             }
            },
            "type": "bar"
           }
          ],
          "barpolar": [
           {
            "marker": {
             "line": {
              "color": "white",
              "width": 0.5
             },
             "pattern": {
              "fillmode": "overlay",
              "size": 10,
              "solidity": 0.2
             }
            },
            "type": "barpolar"
           }
          ],
          "carpet": [
           {
            "aaxis": {
             "endlinecolor": "rgb(36,36,36)",
             "gridcolor": "white",
             "linecolor": "white",
             "minorgridcolor": "white",
             "startlinecolor": "rgb(36,36,36)"
            },
            "baxis": {
             "endlinecolor": "rgb(36,36,36)",
             "gridcolor": "white",
             "linecolor": "white",
             "minorgridcolor": "white",
             "startlinecolor": "rgb(36,36,36)"
            },
            "type": "carpet"
           }
          ],
          "choropleth": [
           {
            "colorbar": {
             "outlinewidth": 1,
             "tickcolor": "rgb(36,36,36)",
             "ticks": "outside"
            },
            "type": "choropleth"
           }
          ],
          "contour": [
           {
            "colorbar": {
             "outlinewidth": 1,
             "tickcolor": "rgb(36,36,36)",
             "ticks": "outside"
            },
            "colorscale": [
             [
              0,
              "#440154"
             ],
             [
              0.1111111111111111,
              "#482878"
             ],
             [
              0.2222222222222222,
              "#3e4989"
             ],
             [
              0.3333333333333333,
              "#31688e"
             ],
             [
              0.4444444444444444,
              "#26828e"
             ],
             [
              0.5555555555555556,
              "#1f9e89"
             ],
             [
              0.6666666666666666,
              "#35b779"
             ],
             [
              0.7777777777777778,
              "#6ece58"
             ],
             [
              0.8888888888888888,
              "#b5de2b"
             ],
             [
              1,
              "#fde725"
             ]
            ],
            "type": "contour"
           }
          ],
          "contourcarpet": [
           {
            "colorbar": {
             "outlinewidth": 1,
             "tickcolor": "rgb(36,36,36)",
             "ticks": "outside"
            },
            "type": "contourcarpet"
           }
          ],
          "heatmap": [
           {
            "colorbar": {
             "outlinewidth": 1,
             "tickcolor": "rgb(36,36,36)",
             "ticks": "outside"
            },
            "colorscale": [
             [
              0,
              "#440154"
             ],
             [
              0.1111111111111111,
              "#482878"
             ],
             [
              0.2222222222222222,
              "#3e4989"
             ],
             [
              0.3333333333333333,
              "#31688e"
             ],
             [
              0.4444444444444444,
              "#26828e"
             ],
             [
              0.5555555555555556,
              "#1f9e89"
             ],
             [
              0.6666666666666666,
              "#35b779"
             ],
             [
              0.7777777777777778,
              "#6ece58"
             ],
             [
              0.8888888888888888,
              "#b5de2b"
             ],
             [
              1,
              "#fde725"
             ]
            ],
            "type": "heatmap"
           }
          ],
          "histogram": [
           {
            "marker": {
             "line": {
              "color": "white",
              "width": 0.6
             }
            },
            "type": "histogram"
           }
          ],
          "histogram2d": [
           {
            "colorbar": {
             "outlinewidth": 1,
             "tickcolor": "rgb(36,36,36)",
             "ticks": "outside"
            },
            "colorscale": [
             [
              0,
              "#440154"
             ],
             [
              0.1111111111111111,
              "#482878"
             ],
             [
              0.2222222222222222,
              "#3e4989"
             ],
             [
              0.3333333333333333,
              "#31688e"
             ],
             [
              0.4444444444444444,
              "#26828e"
             ],
             [
              0.5555555555555556,
              "#1f9e89"
             ],
             [
              0.6666666666666666,
              "#35b779"
             ],
             [
              0.7777777777777778,
              "#6ece58"
             ],
             [
              0.8888888888888888,
              "#b5de2b"
             ],
             [
              1,
              "#fde725"
             ]
            ],
            "type": "histogram2d"
           }
          ],
          "histogram2dcontour": [
           {
            "colorbar": {
             "outlinewidth": 1,
             "tickcolor": "rgb(36,36,36)",
             "ticks": "outside"
            },
            "colorscale": [
             [
              0,
              "#440154"
             ],
             [
              0.1111111111111111,
              "#482878"
             ],
             [
              0.2222222222222222,
              "#3e4989"
             ],
             [
              0.3333333333333333,
              "#31688e"
             ],
             [
              0.4444444444444444,
              "#26828e"
             ],
             [
              0.5555555555555556,
              "#1f9e89"
             ],
             [
              0.6666666666666666,
              "#35b779"
             ],
             [
              0.7777777777777778,
              "#6ece58"
             ],
             [
              0.8888888888888888,
              "#b5de2b"
             ],
             [
              1,
              "#fde725"
             ]
            ],
            "type": "histogram2dcontour"
           }
          ],
          "mesh3d": [
           {
            "colorbar": {
             "outlinewidth": 1,
             "tickcolor": "rgb(36,36,36)",
             "ticks": "outside"
            },
            "type": "mesh3d"
           }
          ],
          "parcoords": [
           {
            "line": {
             "colorbar": {
              "outlinewidth": 1,
              "tickcolor": "rgb(36,36,36)",
              "ticks": "outside"
             }
            },
            "type": "parcoords"
           }
          ],
          "pie": [
           {
            "automargin": true,
            "type": "pie"
           }
          ],
          "scatter": [
           {
            "fillpattern": {
             "fillmode": "overlay",
             "size": 10,
             "solidity": 0.2
            },
            "type": "scatter"
           }
          ],
          "scatter3d": [
           {
            "line": {
             "colorbar": {
              "outlinewidth": 1,
              "tickcolor": "rgb(36,36,36)",
              "ticks": "outside"
             }
            },
            "marker": {
             "colorbar": {
              "outlinewidth": 1,
              "tickcolor": "rgb(36,36,36)",
              "ticks": "outside"
             }
            },
            "type": "scatter3d"
           }
          ],
          "scattercarpet": [
           {
            "marker": {
             "colorbar": {
              "outlinewidth": 1,
              "tickcolor": "rgb(36,36,36)",
              "ticks": "outside"
             }
            },
            "type": "scattercarpet"
           }
          ],
          "scattergeo": [
           {
            "marker": {
             "colorbar": {
              "outlinewidth": 1,
              "tickcolor": "rgb(36,36,36)",
              "ticks": "outside"
             }
            },
            "type": "scattergeo"
           }
          ],
          "scattergl": [
           {
            "marker": {
             "colorbar": {
              "outlinewidth": 1,
              "tickcolor": "rgb(36,36,36)",
              "ticks": "outside"
             }
            },
            "type": "scattergl"
           }
          ],
          "scattermap": [
           {
            "marker": {
             "colorbar": {
              "outlinewidth": 1,
              "tickcolor": "rgb(36,36,36)",
              "ticks": "outside"
             }
            },
            "type": "scattermap"
           }
          ],
          "scattermapbox": [
           {
            "marker": {
             "colorbar": {
              "outlinewidth": 1,
              "tickcolor": "rgb(36,36,36)",
              "ticks": "outside"
             }
            },
            "type": "scattermapbox"
           }
          ],
          "scatterpolar": [
           {
            "marker": {
             "colorbar": {
              "outlinewidth": 1,
              "tickcolor": "rgb(36,36,36)",
              "ticks": "outside"
             }
            },
            "type": "scatterpolar"
           }
          ],
          "scatterpolargl": [
           {
            "marker": {
             "colorbar": {
              "outlinewidth": 1,
              "tickcolor": "rgb(36,36,36)",
              "ticks": "outside"
             }
            },
            "type": "scatterpolargl"
           }
          ],
          "scatterternary": [
           {
            "marker": {
             "colorbar": {
              "outlinewidth": 1,
              "tickcolor": "rgb(36,36,36)",
              "ticks": "outside"
             }
            },
            "type": "scatterternary"
           }
          ],
          "surface": [
           {
            "colorbar": {
             "outlinewidth": 1,
             "tickcolor": "rgb(36,36,36)",
             "ticks": "outside"
            },
            "colorscale": [
             [
              0,
              "#440154"
             ],
             [
              0.1111111111111111,
              "#482878"
             ],
             [
              0.2222222222222222,
              "#3e4989"
             ],
             [
              0.3333333333333333,
              "#31688e"
             ],
             [
              0.4444444444444444,
              "#26828e"
             ],
             [
              0.5555555555555556,
              "#1f9e89"
             ],
             [
              0.6666666666666666,
              "#35b779"
             ],
             [
              0.7777777777777778,
              "#6ece58"
             ],
             [
              0.8888888888888888,
              "#b5de2b"
             ],
             [
              1,
              "#fde725"
             ]
            ],
            "type": "surface"
           }
          ],
          "table": [
           {
            "cells": {
             "fill": {
              "color": "rgb(237,237,237)"
             },
             "line": {
              "color": "white"
             }
            },
            "header": {
             "fill": {
              "color": "rgb(217,217,217)"
             },
             "line": {
              "color": "white"
             }
            },
            "type": "table"
           }
          ]
         },
         "layout": {
          "annotationdefaults": {
           "arrowhead": 0,
           "arrowwidth": 1
          },
          "autotypenumbers": "strict",
          "coloraxis": {
           "colorbar": {
            "outlinewidth": 1,
            "tickcolor": "rgb(36,36,36)",
            "ticks": "outside"
           }
          },
          "colorscale": {
           "diverging": [
            [
             0,
             "rgb(103,0,31)"
            ],
            [
             0.1,
             "rgb(178,24,43)"
            ],
            [
             0.2,
             "rgb(214,96,77)"
            ],
            [
             0.3,
             "rgb(244,165,130)"
            ],
            [
             0.4,
             "rgb(253,219,199)"
            ],
            [
             0.5,
             "rgb(247,247,247)"
            ],
            [
             0.6,
             "rgb(209,229,240)"
            ],
            [
             0.7,
             "rgb(146,197,222)"
            ],
            [
             0.8,
             "rgb(67,147,195)"
            ],
            [
             0.9,
             "rgb(33,102,172)"
            ],
            [
             1,
             "rgb(5,48,97)"
            ]
           ],
           "sequential": [
            [
             0,
             "#440154"
            ],
            [
             0.1111111111111111,
             "#482878"
            ],
            [
             0.2222222222222222,
             "#3e4989"
            ],
            [
             0.3333333333333333,
             "#31688e"
            ],
            [
             0.4444444444444444,
             "#26828e"
            ],
            [
             0.5555555555555556,
             "#1f9e89"
            ],
            [
             0.6666666666666666,
             "#35b779"
            ],
            [
             0.7777777777777778,
             "#6ece58"
            ],
            [
             0.8888888888888888,
             "#b5de2b"
            ],
            [
             1,
             "#fde725"
            ]
           ],
           "sequentialminus": [
            [
             0,
             "#440154"
            ],
            [
             0.1111111111111111,
             "#482878"
            ],
            [
             0.2222222222222222,
             "#3e4989"
            ],
            [
             0.3333333333333333,
             "#31688e"
            ],
            [
             0.4444444444444444,
             "#26828e"
            ],
            [
             0.5555555555555556,
             "#1f9e89"
            ],
            [
             0.6666666666666666,
             "#35b779"
            ],
            [
             0.7777777777777778,
             "#6ece58"
            ],
            [
             0.8888888888888888,
             "#b5de2b"
            ],
            [
             1,
             "#fde725"
            ]
           ]
          },
          "colorway": [
           "#1F77B4",
           "#FF7F0E",
           "#2CA02C",
           "#D62728",
           "#9467BD",
           "#8C564B",
           "#E377C2",
           "#7F7F7F",
           "#BCBD22",
           "#17BECF"
          ],
          "font": {
           "color": "rgb(36,36,36)"
          },
          "geo": {
           "bgcolor": "white",
           "lakecolor": "white",
           "landcolor": "white",
           "showlakes": true,
           "showland": true,
           "subunitcolor": "white"
          },
          "hoverlabel": {
           "align": "left"
          },
          "hovermode": "closest",
          "mapbox": {
           "style": "light"
          },
          "paper_bgcolor": "white",
          "plot_bgcolor": "white",
          "polar": {
           "angularaxis": {
            "gridcolor": "rgb(232,232,232)",
            "linecolor": "rgb(36,36,36)",
            "showgrid": false,
            "showline": true,
            "ticks": "outside"
           },
           "bgcolor": "white",
           "radialaxis": {
            "gridcolor": "rgb(232,232,232)",
            "linecolor": "rgb(36,36,36)",
            "showgrid": false,
            "showline": true,
            "ticks": "outside"
           }
          },
          "scene": {
           "xaxis": {
            "backgroundcolor": "white",
            "gridcolor": "rgb(232,232,232)",
            "gridwidth": 2,
            "linecolor": "rgb(36,36,36)",
            "showbackground": true,
            "showgrid": false,
            "showline": true,
            "ticks": "outside",
            "zeroline": false,
            "zerolinecolor": "rgb(36,36,36)"
           },
           "yaxis": {
            "backgroundcolor": "white",
            "gridcolor": "rgb(232,232,232)",
            "gridwidth": 2,
            "linecolor": "rgb(36,36,36)",
            "showbackground": true,
            "showgrid": false,
            "showline": true,
            "ticks": "outside",
            "zeroline": false,
            "zerolinecolor": "rgb(36,36,36)"
           },
           "zaxis": {
            "backgroundcolor": "white",
            "gridcolor": "rgb(232,232,232)",
            "gridwidth": 2,
            "linecolor": "rgb(36,36,36)",
            "showbackground": true,
            "showgrid": false,
            "showline": true,
            "ticks": "outside",
            "zeroline": false,
            "zerolinecolor": "rgb(36,36,36)"
           }
          },
          "shapedefaults": {
           "fillcolor": "black",
           "line": {
            "width": 0
           },
           "opacity": 0.3
          },
          "ternary": {
           "aaxis": {
            "gridcolor": "rgb(232,232,232)",
            "linecolor": "rgb(36,36,36)",
            "showgrid": false,
            "showline": true,
            "ticks": "outside"
           },
           "baxis": {
            "gridcolor": "rgb(232,232,232)",
            "linecolor": "rgb(36,36,36)",
            "showgrid": false,
            "showline": true,
            "ticks": "outside"
           },
           "bgcolor": "white",
           "caxis": {
            "gridcolor": "rgb(232,232,232)",
            "linecolor": "rgb(36,36,36)",
            "showgrid": false,
            "showline": true,
            "ticks": "outside"
           }
          },
          "title": {
           "x": 0.05
          },
          "xaxis": {
           "automargin": true,
           "gridcolor": "rgb(232,232,232)",
           "linecolor": "rgb(36,36,36)",
           "showgrid": false,
           "showline": true,
           "ticks": "outside",
           "title": {
            "standoff": 15
           },
           "zeroline": false,
           "zerolinecolor": "rgb(36,36,36)"
          },
          "yaxis": {
           "automargin": true,
           "gridcolor": "rgb(232,232,232)",
           "linecolor": "rgb(36,36,36)",
           "showgrid": false,
           "showline": true,
           "ticks": "outside",
           "title": {
            "standoff": 15
           },
           "zeroline": false,
           "zerolinecolor": "rgb(36,36,36)"
          }
         }
        },
        "title": {
         "text": "Burrito Map - Day day5"
        },
        "xaxis": {
         "range": [
          0,
          500
         ],
         "visible": false
        },
        "yaxis": {
         "range": [
          0,
          550
         ],
         "scaleanchor": "x",
         "scaleratio": 1,
         "visible": false
        }
       }
      }
     },
     "metadata": {},
     "output_type": "display_data"
    },
    {
     "name": "stdout",
     "output_type": "stream",
     "text": [
      "\n",
      "Day day6:\n",
      "  - Deployed trucks: 4 (0 new, 4 maintained)\n",
      "  - Daily profit: ₲760.00 (Revenue: ₲1560.00, Cost: ₲800.00)\n",
      "    * Location truck8: Small (Maintained)\n",
      "    * Location truck37: Medium (Maintained)\n",
      "    * Location truck17: Medium (Maintained)\n",
      "    * Location truck33: Large (Maintained)\n"
     ]
    },
    {
     "data": {
      "application/vnd.plotly.v1+json": {
       "config": {
        "plotlyServerURL": "https://plot.ly"
       },
       "data": [
        {
         "hoverinfo": "none",
         "line": {
          "color": "rgba(150, 150, 150, 1)",
          "width": 1.5
         },
         "mode": "lines",
         "showlegend": false,
         "type": "scatter",
         "x": [
          190.72068753836712,
          164.62860650705954
         ],
         "y": [
          477.338898163606,
          419.5826377295492
         ]
        },
        {
         "hoverinfo": "none",
         "line": {
          "color": "rgba(150, 150, 150, 1)",
          "width": 1.5
         },
         "mode": "lines",
         "showlegend": false,
         "type": "scatter",
         "x": [
          284.8385512584408,
          310.62001227747083
         ],
         "y": [
          361.20534223706176,
          327.9799666110183
         ]
        },
        {
         "hoverinfo": "none",
         "line": {
          "color": "rgba(150, 150, 150, 1)",
          "width": 1.5
         },
         "mode": "lines",
         "showlegend": false,
         "type": "scatter",
         "x": [
          256.57213014119094,
          164.62860650705954
         ],
         "y": [
          391.9465776293823,
          419.5826377295492
         ]
        },
        {
         "hoverinfo": "none",
         "line": {
          "color": "rgba(150, 150, 150, 1)",
          "width": 1.5
         },
         "mode": "lines",
         "showlegend": false,
         "type": "scatter",
         "x": [
          213.70656844689995,
          310.62001227747083
         ],
         "y": [
          389.46243739565944,
          327.9799666110183
         ]
        },
        {
         "hoverinfo": "none",
         "line": {
          "color": "rgba(150, 150, 150, 1)",
          "width": 1.5
         },
         "mode": "lines",
         "showlegend": false,
         "type": "scatter",
         "x": [
          129.21792510742787,
          164.62860650705954
         ],
         "y": [
          381.38898163606007,
          419.5826377295492
         ]
        },
        {
         "hoverinfo": "none",
         "line": {
          "color": "rgba(150, 150, 150, 1)",
          "width": 1.5
         },
         "mode": "lines",
         "showlegend": false,
         "type": "scatter",
         "x": [
          68.02578268876611,
          164.62860650705954
         ],
         "y": [
          320.21702838063436,
          419.5826377295492
         ]
        },
        {
         "hoverinfo": "none",
         "line": {
          "color": "rgba(150, 150, 150, 1)",
          "width": 1.5
         },
         "mode": "lines",
         "showlegend": false,
         "type": "scatter",
         "x": [
          187.6144874155924,
          310.62001227747083
         ],
         "y": [
          327.3589315525876,
          327.9799666110183
         ]
        },
        {
         "hoverinfo": "none",
         "line": {
          "color": "rgba(150, 150, 150, 1)",
          "width": 1.5
         },
         "mode": "lines",
         "showlegend": false,
         "type": "scatter",
         "x": [
          342.92449355432785,
          310.62001227747083
         ],
         "y": [
          318.6644407345576,
          327.9799666110183
         ]
        },
        {
         "hoverinfo": "none",
         "line": {
          "color": "rgba(150, 150, 150, 1)",
          "width": 1.5
         },
         "mode": "lines",
         "showlegend": false,
         "type": "scatter",
         "x": [
          356.2811540822591,
          393.2449355432781
         ],
         "y": [
          232.9616026711185,
          172.72120200333887
         ]
        },
        {
         "hoverinfo": "none",
         "line": {
          "color": "rgba(150, 150, 150, 1)",
          "width": 1.5
         },
         "mode": "lines",
         "showlegend": false,
         "type": "scatter",
         "x": [
          267.1332105586249,
          209.35788827501537
         ],
         "y": [
          187.93656093489147,
          151.60601001669448
         ]
        },
        {
         "hoverinfo": "none",
         "line": {
          "color": "rgba(150, 150, 150, 1)",
          "width": 1.5
         },
         "mode": "lines",
         "showlegend": false,
         "type": "scatter",
         "x": [
          359.3873542050338,
          393.2449355432781
         ],
         "y": [
          186.0734557595993,
          172.72120200333887
         ]
        },
        {
         "hoverinfo": "none",
         "line": {
          "color": "rgba(150, 150, 150, 1)",
          "width": 1.5
         },
         "mode": "lines",
         "showlegend": false,
         "type": "scatter",
         "x": [
          416.2308164518109,
          393.2449355432781
         ],
         "y": [
          107.20200333889812,
          172.72120200333887
         ]
        },
        {
         "hoverinfo": "none",
         "line": {
          "color": "rgba(150, 150, 150, 1)",
          "width": 1.5
         },
         "mode": "lines",
         "showlegend": false,
         "type": "scatter",
         "x": [
          375.2289748311848,
          393.2449355432781
         ],
         "y": [
          58.761268781302135,
          172.72120200333887
         ]
        },
        {
         "hoverinfo": "none",
         "line": {
          "color": "rgba(150, 150, 150, 1)",
          "width": 1.5
         },
         "mode": "lines",
         "showlegend": false,
         "type": "scatter",
         "x": [
          233.89686924493557,
          209.35788827501537
         ],
         "y": [
          69.31886477462433,
          151.60601001669448
         ]
        },
        {
         "hoverinfo": "none",
         "line": {
          "color": "rgba(150, 150, 150, 1)",
          "width": 1.5
         },
         "mode": "lines",
         "showlegend": false,
         "type": "scatter",
         "x": [
          391.38121546961327,
          310.62001227747083
         ],
         "y": [
          364,
          327.9799666110183
         ]
        },
        {
         "hovertemplate": [
          "ReLU Realty<br>Demand: 30.0",
          "Reinforcement Learning Puppy Training<br>Demand: 5.0",
          "KKT Air Conditioning<br>Demand: 50.0",
          "George's Basic Diet Solutions<br>Demand: 35.0",
          "Rothberg Tower<br>Demand: 30.0",
          "Multimodal Distribution Center<br>Demand: 5.0",
          "Callback Cat Café<br>Demand: 50.0",
          "Vertex Tower<br>Demand: 10.0",
          "Nonlinear Thinking Center<br>Demand: 5.0",
          "Interior Point Decorating<br>Demand: 40.0",
          "Scheduling Station<br>Demand: 5.0",
          "Multi-Threads Thrift Store<br>Demand: 50.0",
          "Land & Harcourt's B&B<br>Demand: 25.0",
          "K-Fold Parking Validation<br>Demand: 30.0",
          "Farkas' Lemma-nade<br>Demand: 50.0"
         ],
         "marker": {
          "color": "red",
          "line": {
           "width": 0
          },
          "opacity": 0.7,
          "size": [
           15,
           2.5,
           25,
           17.5,
           15,
           2.5,
           25,
           5,
           2.5,
           20,
           2.5,
           25,
           12.5,
           15,
           25
          ]
         },
         "mode": "markers",
         "name": "Demand Point",
         "type": "scatter",
         "x": [
          190.72068753836712,
          284.8385512584408,
          256.57213014119094,
          213.70656844689995,
          129.21792510742787,
          68.02578268876611,
          187.6144874155924,
          342.92449355432785,
          356.2811540822591,
          267.1332105586249,
          359.3873542050338,
          416.2308164518109,
          375.2289748311848,
          233.89686924493557,
          391.38121546961327
         ],
         "y": [
          477.338898163606,
          361.20534223706176,
          391.9465776293823,
          389.46243739565944,
          381.38898163606007,
          320.21702838063436,
          327.3589315525876,
          318.6644407345576,
          232.9616026711185,
          187.93656093489147,
          186.0734557595993,
          107.20200333889812,
          58.761268781302135,
          69.31886477462433,
          364
         ]
        },
        {
         "hovertemplate": [
          "truck33",
          "truck34",
          "truck43",
          "truck49",
          "truck1",
          "truck8",
          "truck6",
          "truck36",
          "truck54",
          "truck29",
          "truck37",
          "truck35",
          "truck7",
          "truck17",
          "truck27"
         ],
         "marker": {
          "color": "rgba(135, 206, 250, 0.3)",
          "line": {
           "color": "darkblue",
           "width": 1
          },
          "size": 10,
          "symbol": "circle"
         },
         "mode": "markers",
         "name": "Available Location",
         "type": "scatter",
         "x": [
          393.2449355432781,
          337.9545733578883,
          290.42971147943524,
          492.6433394720688,
          112.75506445672193,
          164.62860650705954,
          56.22222222222222,
          303.16513198281154,
          320.5598526703499,
          296.0208717004297,
          209.35788827501537,
          288.8766114180479,
          113.0656844689994,
          310.62001227747083,
          173.94720687538367
         ],
         "y": [
          172.72120200333887,
          154.71118530884797,
          43.235392320534174,
          70.25041736227041,
          491.9332220367279,
          419.5826377295492,
          420.51419031719536,
          135.14858096828038,
          276.4340567612688,
          199.1151919866444,
          151.60601001669448,
          164.6477462437395,
          418.9616026711185,
          327.9799666110183,
          209.67278797996659
         ]
        },
        {
         "hovertemplate": [
          "truck8<br>Small (Maintained)"
         ],
         "marker": {
          "color": [
           "blue"
          ],
          "line": {
           "color": "black",
           "width": 1
          },
          "size": 12,
          "symbol": "triangle-up"
         },
         "mode": "markers",
         "name": "Small Trucks",
         "type": "scatter",
         "x": [
          164.62860650705954
         ],
         "y": [
          419.5826377295492
         ]
        },
        {
         "hovertemplate": [
          "truck17<br>Medium (Maintained)",
          "truck37<br>Medium (Maintained)"
         ],
         "marker": {
          "color": [
           "blue",
           "blue"
          ],
          "line": {
           "color": "black",
           "width": 1
          },
          "size": 12,
          "symbol": "square"
         },
         "mode": "markers",
         "name": "Medium Trucks",
         "type": "scatter",
         "x": [
          310.62001227747083,
          209.35788827501537
         ],
         "y": [
          327.9799666110183,
          151.60601001669448
         ]
        },
        {
         "hovertemplate": [
          "truck33<br>Large (Maintained)"
         ],
         "marker": {
          "color": [
           "blue"
          ],
          "line": {
           "color": "black",
           "width": 1
          },
          "size": 12,
          "symbol": "circle"
         },
         "mode": "markers",
         "name": "Large Trucks",
         "type": "scatter",
         "x": [
          393.2449355432781
         ],
         "y": [
          172.72120200333887
         ]
        }
       ],
       "layout": {
        "images": [
         {
          "layer": "below",
          "opacity": 0.9,
          "sizex": 500,
          "sizey": 550,
          "sizing": "stretch",
          "source": "data:image/png;base64,iVBORw0KGgoAAAANSUhEUgAABnIAAAcXCAYAAAD69u9ZAABGVklEQVR4nOzcsakkAQwFQenY/FPWBbAMfGu2jaoEnvwG7czcAAAAAAAAkPOZmbm7fXt4d8+uXbt27dq1a9euXbt27dq1a9euXbt27dq1a9fus39vDwIAAAAAAPA3Qg4AAAAAAECUkAMAAAAAABAl5AAAAAAAAEQJOQAAAAAAAFFCDgAAAAAAQJSQAwAAAAAAECXkAAAAAAAARAk5AAAAAAAAUUIOAAAAAABAlJADAAAAAAAQJeQAAAAAAABECTkAAAAAAABRQg4AAAAAAECUkAMAAAAAABAl5AAAAAAAAEQJOQAAAAAAAFFCDgAAAAAAQJSQAwAAAAAAECXkAAAAAAAARAk5AAAAAAAAUUIOAAAAAABAlJADAAAAAAAQJeQAAAAAAABECTkAAAAAAABRQg4AAAAAAECUkAMAAAAAABAl5AAAAAAAAETtzNyvjwAAAAAAAODbZ2bm7vbt4d09u3bt2rVr165du3bt2rVr165du3bt2rVr165du8+8VgMAAAAAAIgScgAAAAAAAKKEHAAAAAAAgCghBwAAAAAAIErIAQAAAAAAiBJyAAAAAAAAooQcAAAAAACAKCEHAAAAAAAgSsgBAAAAAACIEnIAAAAAAACihBwAAAAAAIAoIQcAAAAAACBKyAEAAAAAAIgScgAAAAAAAKKEHAAAAAAAgCghBwAAAAAAIErIAQAAAAAAiBJyAAAAAAAAooQcAAAAAACAKCEHAAAAAAAgSsgBAAAAAACIEnIAAAAAAACihBwAAAAAAIAoIQcAAAAAACBKyAEAAAAAAIgScgAAAAAAAKKEHAAAAAAAgCghBwAAAAAAIGpn5n59BAAAAAAAAN8+MzN3t28P7+7ZtWvXrl27du3atWvXrl27du3atWvXrl27du3afea1GgAAAAAAQJSQAwAAAAAAECXkAAAAAAAARAk5AAAAAAAAUUIOAAAAAABAlJADAAAAAAAQJeQAAAAAAABECTkAAAAAAABRQg4AAAAAAECUkAMAAAAAABAl5AAAAAAAAEQJOQAAAAAAAFFCDgAAAAAAQJSQAwAAAAAAECXkAAAAAAAARAk5AAAAAAAAUUIOAAAAAABAlJADAAAAAAAQJeQAAAAAAABECTkAAAAAAABRQg4AAAAAAECUkAMAAAAAABAl5AAAAAAAAEQJOQAAAAAAAFFCDgAAAAAAQJSQAwAAAAAAECXkAAAAAAAARAk5AAAAAAAAUTsz9+sjAAAAAAAA+PaZmbm7fXt4d8+uXbt27dq1a9euXbt27dq1a9euXbt27dq1a9fuM6/VAAAAAAAAooQcAAAAAACAKCEHAAAAAAAgSsgBAAAAAACIEnIAAAAAAACihBwAAAAAAIAoIQcAAAAAACBKyAEAAAAAAIgScgAAAAAAAKKEHAAAAAAAgCghBwAAAAAAIErIAQAAAAAAiBJyAAAAAAAAooQcAAAAAACAKCEHAAAAAAAgSsgBAAAAAACIEnIAAAAAAACihBwAAAAAAIAoIQcAAAAAACBKyAEAAAAAAIgScgAAAAAAAKKEHAAAAAAAgCghBwAAAAAAIErIAQAAAAAAiBJyAAAAAAAAooQcAAAAAACAKCEHAAAAAAAgSsgBAAAAAACI2pm5Xx8BAAAAAADAt8/MzN3t28O7e3bt2rVr165du3bt2rVr165du3bt2rVr165du3afea0GAAAAAAAQJeQAAAAAAABECTkAAAAAAABRQg4AAAAAAECUkAMAAAAAABAl5AAAAAAAAEQJOQAAAAAAAFFCDgAAAAAAQJSQAwAAAAAAECXkAAAAAAAARAk5AAAAAAAAUUIOAAAAAABAlJADAAAAAAAQJeQAAAAAAABECTkAAAAAAABRQg4AAAAAAECUkAMAAAAAABAl5AAAAAAAAEQJOQAAAAAAAFFCDgAAAAAAQJSQAwAAAAAAECXkAAAAAAAARAk5AAAAAAAAUUIOAAAAAABAlJADAAAAAAAQJeQAAAAAAABECTkAAAAAAABRQg4AAAAAAEDUzsz9+ggAAAAAAAC+fWZm7m7fHt7ds2vXrl27du3atWvXrl27du3atWvXrl27du3atfvMazUAAAAAAIAoIQcAAAAAACBKyAEAAAAAAIgScgAAAAAAAKKEHAAAAAAAgCghBwAAAAAAIErIAQAAAAAAiBJyAAAAAAAAooQcAAAAAACAKCEHAAAAAAAgSsgBAAAAAACIEnIAAAAAAACihBwAAAAAAIAoIQcAAAAAACBKyAEAAAAAAIgScgAAAAAAAKKEHAAAAAAAgCghBwAAAAAAIErIAQAAAAAAiBJyAAAAAAAAooQcAAAAAACAKCEHAAAAAAAgSsgBAAAAAACIEnIAAAAAAACihBwAAAAAAIAoIQcAAAAAACBKyAEAAAAAAIgScgAAAAAAAKJ2Zu7XRwAAAAAAAPDtMzNzd/v28O6eXbt27dq1a9euXbt27dq1a9euXbt27dq1a9eu3WdeqwEAAAAAAEQJOQAAAAAAAFFCDgAAAAAAQJSQAwAAAAAAECXkAAAAAAAARAk5AAAAAAAAUUIOAAAAAABAlJADAAAAAAAQJeQAAAAAAABECTkAAAAAAABRQg4AAAAAAECUkAMAAAAAABAl5AAAAAAAAEQJOQAAAAAAAFFCDgAAAAAAQJSQAwAAAAAAECXkAAAAAAAARAk5AAAAAAAAUUIOAAAAAABAlJADAAAAAAAQJeQAAAAAAABECTkAAAAAAABRQg4AAAAAAECUkAMAAAAAABAl5AAAAAAAAEQJOQAAAAAAAFFCDgAAAAAAQJSQAwAAAAAAELUzc78+AgAAAAAAgG+fmZm727eHd/fs2rVr165du3bt2rVr165du3bt2rVr165du3btPvNaDQAAAAAAIErIAQAAAAAAiBJyAAAAAAAAooQcAAAAAACAKCEHAAAAAAAgSsgBAAAAAACIEnIAAAAAAACihBwAAAAAAIAoIQcAAAAAACBKyAEAAAAAAIgScgAAAAAAAKKEHAAAAAAAgCghBwAAAAAAIErIAQAAAAAAiBJyAAAAAAAAooQcAAAAAACAKCEHAAAAAAAgSsgBAAAAAACIEnIAAAAAAACihBwAAAAAAIAoIQcAAAAAACBKyAEAAAAAAIgScgAAAAAAAKKEHAAAAAAAgCghBwAAAAAAIErIAQAAAAAAiBJyAAAAAAAAooQcAAAAAACAqJ2Z+/URAAAAAAAAfPvMzNzdvj28u2fXrl27du3atWvXrl27du3atWvXrl27du3atWv3mddqAAAAAAAAUUIOAAAAAABAlJADAAAAAAAQJeQAAAAAAABECTkAAAAAAABRQg4AAAAAAECUkAMAAAAAABAl5AAAAAAAAEQJOQAAAAAAAFFCDgAAAAAAQJSQAwAAAAAAECXkAAAAAAAARAk5AAAAAAAAUUIOAAAAAABAlJADAAAAAAAQJeQAAAAAAABECTkAAAAAAABRQg4AAAAAAECUkAMAAAAAABAl5AAAAAAAAEQJOQAAAAAAAFFCDgAAAAAAQJSQAwAAAAAAECXkAAAAAAAARAk5AAAAAAAAUUIOAAAAAABAlJADAAAAAAAQJeQAAAAAAABE7czcr48AAAAAAADg22dm5u727eHdPbt27dq1a9euXbt27dq1a9euXbt27dq1a9euXbvPvFYDAAAAAACIEnIAAAAAAACihBwAAAAAAIAoIQcAAAAAACBKyAEAAAAAAIgScgAAAAAAAKKEHAAAAAAAgCghBwAAAAAAIErIAQAAAAAAiBJyAAAAAAAAooQcAAAAAACAKCEHAAAAAAAgSsgBAAAAAACIEnIAAAAAAACihBwAAAAAAIAoIQcAAAAAACBKyAEAAAAAAIgScgAAAAAAAKKEHAAAAAAAgCghBwAAAAAAIErIAQAAAAAAiBJyAAAAAAAAooQcAAAAAACAKCEHAAAAAAAgSsgBAAAAAACIEnIAAAAAAACihBwAAAAAAIAoIQcAAAAAACBqZ+Z+fQQAAAAAAADfPjMzd7dvD+/u2bVr165du3bt2rVr165du3bt2rVr165du3bt2n3mtRoAAAAAAECUkAMAAAAAABAl5AAAAAAAAEQJOQAAAAAAAFFCDgAAAAAAQJSQAwAAAAAAECXkAAAAAAAARAk5AAAAAAAAUUIOAAAAAABAlJADAAAAAAAQJeQAAAAAAABECTkAAAAAAABRQg4AAAAAAECUkAMAAAAAABAl5AAAAAAAAEQJOQAAAAAAAFFCDgAAAAAAQJSQAwAAAAAAECXkAAAAAAAARAk5AAAAAAAAUUIOAAAAAABAlJADAAAAAAAQJeQAAAAAAABECTkAAAAAAABRQg4AAAAAAECUkAMAAAAAABAl5AAAAAAAAEQJOQAAAAAAAFE7M/frIwAAAAAAAPj2mZm5u317eHfPrl27du3atWvXrl27du3atWvXrl27du3atWvX7jOv1QAAAAAAAKKEHAAAAAAAgCghBwAAAAAAIErIAQAAAAAAiBJyAAAAAAAAooQcAAAAAACAKCEHAAAAAAAgSsgBAAAAAACIEnIAAAAAAACihBwAAAAAAIAoIQcAAAAAACBKyAEAAAAAAIgScgAAAAAAAKKEHAAAAAAAgCghBwAAAAAAIErIAQAAAAAAiBJyAAAAAAAAooQcAAAAAACAKCEHAAAAAAAgSsgBAAAAAACIEnIAAAAAAACihBwAAAAAAIAoIQcAAAAAACBKyAEAAAAAAIgScgAAAAAAAKKEHAAAAAAAgCghBwAAAAAAIErIAQAAAAAAiNqZuV8fAQAAAAAAwLfPzMzd7dvDu3t27dq1a9euXbt27dq1a9euXbt27dq1a9euXbt2n3mtBgAAAAAAECXkAAAAAAAARAk5AAAAAAAAUUIOAAAAAABAlJADAAAAAAAQJeQAAAAAAABECTkAAAAAAABRQg4AAAAAAECUkAMAAAAAABAl5AAAAAAAAEQJOQAAAAAAAFFCDgAAAAAAQJSQAwAAAAAAECXkAAAAAAAARAk5AAAAAAAAUUIOAAAAAABAlJADAAAAAAAQJeQAAAAAAABECTkAAAAAAABRQg4AAAAAAECUkAMAAAAAABAl5AAAAAAAAEQJOQAAAAAAAFFCDgAAAAAAQJSQAwAAAAAAECXkAAAAAAAARAk5AAAAAAAAUUIOAAAAAABA1M7M/foIAAAAAAAAvn1mZu5u3x7e3bNr165du3bt2rVr165du3bt2rVr165du3bt2rX7zGs1AAAAAACAKCEHAAAAAAAgSsgBAAAAAACIEnIAAAAAAACihBwAAAAAAIAoIQcAAAAAACBKyAEAAAAAAIgScgAAAAAAAKKEHAAAAAAAgCghBwAAAAAAIErIAQAAAAAAiBJyAAAAAAAAooQcAAAAAACAKCEHAAAAAAAgSsgBAAAAAACIEnIAAAAAAACihBwAAAAAAIAoIQcAAAAAACBKyAEAAAAAAIgScgAAAAAAAKKEHAAAAAAAgCghBwAAAAAAIErIAQAAAAAAiBJyAAAAAAAAooQcAAAAAACAKCEHAAAAAAAgSsgBAAAAAACIEnIAAAAAAACidmbu10cAAAAAAADw7TMzc3f79vDunl27du3atWvXrl27du3atWvXrl27du3atWvXrt1nXqsBAAAAAABECTkAAAAAAABRQg4AAAAAAECUkAMAAAAAABAl5AAAAAAAAEQJOQAAAAAAAFFCDgAAAAAAQJSQAwAAAAAAECXkAAAAAAAARAk5AAAAAAAAUUIOAAAAAABAlJADAAAAAAAQJeQAAAAAAABECTkAAAAAAABRQg4AAAAAAECUkAMAAAAAABAl5AAAAAAAAEQJOQAAAAAAAFFCDgAAAAAAQJSQAwAAAAAAECXkAAAAAAAARAk5AAAAAAAAUUIOAAAAAABAlJADAAAAAAAQJeQAAAAAAABECTkAAAAAAABRQg4AAAAAAECUkAMAAAAAABC1M3O/PgIAAAAAAIBvn5mZu9u3h3f37Nq1a9euXbt27dq1a9euXbt27dq1a9euXbt27T7zWg0AAAAAACBKyAEAAAAAAIgScgAAAAAAAKKEHAAAAAAAgCghBwAAAAAAIErIAQAAAAAAiBJyAAAAAAAAooQcAAAAAACAKCEHAAAAAAAgSsgBAAAAAACIEnIAAAAAAACihBwAAAAAAIAoIQcAAAAAACBKyAEAAAAAAIgScgAAAAAAAKKEHAAAAAAAgCghBwAAAAAAIErIAQAAAAAAiBJyAAAAAAAAooQcAAAAAACAKCEHAAAAAAAgSsgBAAAAAACIEnIAAAAAAACihBwAAAAAAIAoIQcAAAAAACBKyAEAAAAAAIgScgAAAAAAAKKEHAAAAAAAgKidmfv1EQAAAAAAAHz7zMzc3b49vLtn165du3bt2rVr165du3bt2rVr165du3bt2rVr95nXagAAAAAAAFFCDgAAAAAAQJSQAwAAAAAAECXkAAAAAAAARAk5AAAAAAAAUUIOAAAAAABAlJADAAAAAAAQJeQAAAAAAABECTkAAAAAAABRQg4AAAAAAECUkAMAAAAAABAl5AAAAAAAAEQJOQAAAAAAAFFCDgAAAAAAQJSQAwAAAAAAECXkAAAAAAAARAk5AAAAAAAAUUIOAAAAAABAlJADAAAAAAAQJeQAAAAAAABECTkAAAAAAABRQg4AAAAAAECUkAMAAAAAABAl5AAAAAAAAEQJOQAAAAAAAFFCDgAAAAAAQJSQAwAAAAAAECXkAAAAAAAARO3M3K+PAAAAAAAA4NtnZubu9u3h3T27du3atWvXrl27du3atWvXrl27du3atWvXrl27z7xWAwAAAAAAiBJyAAAAAAAAooQcAAAAAACAKCEHAAAAAAAgSsgBAAAAAACIEnIAAAAAAACihBwAAAAAAIAoIQcAAAAAACBKyAEAAAAAAIgScgAAAAAAAKKEHAAAAAAAgCghBwAAAAAAIErIAQAAAAAAiBJyAAAAAAAAooQcAAAAAACAKCEHAAAAAAAgSsgBAAAAAACIEnIAAAAAAACihBwAAAAAAIAoIQcAAAAAACBKyAEAAAAAAIgScgAAAAAAAKKEHAAAAAAAgCghBwAAAAAAIErIAQAAAAAAiBJyAAAAAAAAooQcAAAAAACAKCEHAAAAAAAgamfmfn0EAAAAAAAA3z4zM3e3bw/v7tm1a9euXbt27dq1a9euXbt27dq1a9euXbt27dp95rUaAAAAAABAlJADAAAAAAAQJeQAAAAAAABECTkAAAAAAABRQg4AAAAAAECUkAMAAAAAABAl5AAAAAAAAEQJOQAAAAAAAFFCDgAAAAAAQJSQAwAAAAAAECXkAAAAAAAARAk5AAAAAAAAUUIOAAAAAABAlJADAAAAAAAQJeQAAAAAAABECTkAAAAAAABRQg4AAAAAAECUkAMAAAAAABAl5AAAAAAAAEQJOQAAAAAAAFFCDgAAAAAAQJSQAwAAAAAAECXkAAAAAAAARAk5AAAAAAAAUUIOAAAAAABAlJADAAAAAAAQJeQAAAAAAABECTkAAAAAAABROzP36yMAAAAAAAD49pmZubt9e3h3z65du3bt2rVr165du3bt2rVr165du3bt2rVr1+4zr9UAAAAAAACihBwAAAAAAIAoIQcAAAAAACBKyAEAAAAAAIgScgAAAAAAAKKEHAAAAAAAgCghBwAAAAAAIErIAQAAAAAAiBJyAAAAAAAAooQcAAAAAACAKCEHAAAAAAAgSsgBAAAAAACIEnIAAAAAAACihBwAAAAAAIAoIQcAAAAAACBKyAEAAAAAAIgScgAAAAAAAKKEHAAAAAAAgCghBwAAAAAAIErIAQAAAAAAiBJyAAAAAAAAooQcAAAAAACAKCEHAAAAAAAgSsgBAAAAAACIEnIAAAAAAACihBwAAAAAAIAoIQcAAAAAACBKyAEAAAAAAIjamblfHwEAAAAAAMC3z8zM3e3bw7t7du3atWvXrl27du3atWvXrl27du3atWvXrl27dp95rQYAAAAAABAl5AAAAAAAAEQJOQAAAAAAAFFCDgAAAAAAQJSQAwAAAAAAECXkAAAAAAAARAk5AAAAAAAAUUIOAAAAAABAlJADAAAAAAAQJeQAAAAAAABECTkAAAAAAABRQg4AAAAAAECUkAMAAAAAABAl5AAAAAAAAEQJOQAAAAAAAFFCDgAAAAAAQJSQAwAAAAAAECXkAAAAAAAARAk5AAAAAAAAUUIOAAAAAABAlJADAAAAAAAQJeQAAAAAAABECTkAAAAAAABRQg4AAAAAAECUkAMAAAAAABAl5AAAAAAAAEQJOQAAAAAAAFFCDgAAAAAAQNTOzP36CAAAAAAAAL59Zmbubt8e3t2za9euXbt27dq1a9euXbt27dq1a9euXbt27dq1+8xrNQAAAAAAgCghBwAAAAAAIErIAQAAAAAAiBJyAAAAAAAAooQcAAAAAACAKCEHAAAAAAAgSsgBAAAAAACIEnIAAAAAAACihBwAAAAAAIAoIQcAAAAAACBKyAEAAAAAAIgScgAAAAAAAKKEHAAAAAAAgCghBwAAAAAAIErIAQAAAAAAiBJyAAAAAAAAooQcAAAAAACAKCEHAAAAAAAgSsgBAAAAAACIEnIAAAAAAACihBwAAAAAAIAoIQcAAAAAACBKyAEAAAAAAIgScgAAAAAAAKKEHAAAAAAAgCghBwAAAAAAIErIAQAAAAAAiBJyAAAAAAAAonZm7tdHAAAAAAAA8O0zM3N3+/bw7p5du3bt2rVr165du3bt2rVr165du3bt2rVr167dZ16rAQAAAAAARAk5AAAAAAAAUUIOAAAAAABAlJADAAAAAAAQJeQAAAAAAABECTkAAAAAAABRQg4AAAAAAECUkAMAAAAAABAl5AAAAAAAAEQJOQAAAAAAAFFCDgAAAAAAQJSQAwAAAAAAECXkAAAAAAAARAk5AAAAAAAAUUIOAAAAAABAlJADAAAAAAAQJeQAAAAAAABECTkAAAAAAABRQg4AAAAAAECUkAMAAAAAABAl5AAAAAAAAEQJOQAAAAAAAFFCDgAAAAAAQJSQAwAAAAAAECXkAAAAAAAARAk5AAAAAAAAUUIOAAAAAABAlJADAAAAAAAQtTNzvz4CAAAAAACAb5+Zmbvbt4d39+zatWvXrl27du3atWvXrl27du3atWvXrl27du0+81oNAAAAAAAgSsgBAAAAAACIEnIAAAAAAACihBwAAAAAAIAoIQcAAAAAACBKyAEAAAAAAIgScgAAAAAAAKKEHAAAAAAAgCghBwAAAAAAIErIAQAAAAAAiBJyAAAAAAAAooQcAAAAAACAKCEHAAAAAAAgSsgBAAAAAACIEnIAAAAAAACihBwAAAAAAIAoIQcAAAAAACBKyAEAAAAAAIgScgAAAAAAAKKEHAAAAAAAgCghBwAAAAAAIErIAQAAAAAAiBJyAAAAAAAAooQcAAAAAACAKCEHAAAAAAAgSsgBAAAAAACIEnIAAAAAAACihBwAAAAAAIConZn79REAAAAAAAB8+8zM3N2+Pby7Z9euXbt27dq1a9euXbt27dq1a9euXbt27dq1a/eZ12oAAAAAAABRQg4AAAAAAECUkAMAAAAAABAl5AAAAAAAAEQJOQAAAAAAAFFCDgAAAAAAQJSQAwAAAAAAECXkAAAAAAAARAk5AAAAAAAAUUIOAAAAAABAlJADAAAAAAAQJeQAAAAAAABECTkAAAAAAABRQg4AAAAAAECUkAMAAAAAABAl5AAAAAAAAEQJOQAAAAAAAFFCDgAAAAAAQJSQAwAAAAAAECXkAAAAAAAARAk5AAAAAAAAUUIOAAAAAABAlJADAAAAAAAQJeQAAAAAAABECTkAAAAAAABRQg4AAAAAAECUkAMAAAAAABAl5AAAAAAAAETtzNyvjwAAAAAAAODbZ2bm7vbt4d09u3bt2rVr165du3bt2rVr165du3bt2rVr165du8+8VgMAAAAAAIgScgAAAAAAAKKEHAAAAAAAgCghBwAAAAAAIErIAQAAAAAAiBJyAAAAAAAAooQcAAAAAACAKCEHAAAAAAAgSsgBAAAAAACIEnIAAAAAAACihBwAAAAAAIAoIQcAAAAAACBKyAEAAAAAAIgScgAAAAAAAKKEHAAAAAAAgCghBwAAAAAAIErIAQAAAAAAiBJyAAAAAAAAooQcAAAAAACAKCEHAAAAAAAgSsgBAAAAAACIEnIAAAAAAACihBwAAAAAAIAoIQcAAAAAACBKyAEAAAAAAIgScgAAAAAAAKKEHAAAAAAAgCghBwAAAAAAIGpn5n59BAAAAAAAAN8+MzN3t28P7+7ZtWvXrl27du3atWvXrl27du3atWvXrl27du3afea1GgAAAAAAQJSQAwAAAAAAECXkAAAAAAAARAk5AAAAAAAAUUIOAAAAAABAlJADAAAAAAAQJeQAAAAAAABECTkAAAAAAABRQg4AAAAAAECUkAMAAAAAABAl5AAAAAAAAEQJOQAAAAAAAFFCDgAAAAAAQJSQAwAAAAAAECXkAAAAAAAARAk5AAAAAAAAUUIOAAAAAABAlJADAAAAAAAQJeQAAAAAAABECTkAAAAAAABRQg4AAAAAAECUkAMAAAAAABAl5AAAAAAAAEQJOQAAAAAAAFFCDgAAAAAAQJSQAwAAAAAAECXkAAAAAAAARAk5AAAAAAAAUTsz9+sjAAAAAAAA+PaZmbm7fXt4d8+uXbt27dq1a9euXbt27dq1a9euXbt27dq1a9fuM6/VAAAAAAAAooQcAAAAAACAKCEHAAAAAAAgSsgBAAAAAACIEnIAAAAAAACihBwAAAAAAIAoIQcAAAAAACBKyAEAAAAAAIgScgAAAAAAAKKEHAAAAAAAgCghBwAAAAAAIErIAQAAAAAAiBJyAAAAAAAAooQcAAAAAACAKCEHAAAAAAAgSsgBAAAAAACIEnIAAAAAAACihBwAAAAAAIAoIQcAAAAAACBKyAEAAAAAAIgScgAAAAAAAKKEHAAAAAAAgCghBwAAAAAAIErIAQAAAAAAiBJyAAAAAAAAooQcAAAAAACAKCEHAAAAAAAgSsgBAAAAAACI2pm5Xx8BAAAAAADAt8/MzN3t28O7e3bt2rVr165du3bt2rVr165du3bt2rVr165du3afea0GAAAAAAAQJeQAAAAAAABECTkAAAAAAABRQg4AAAAAAECUkAMAAAAAABAl5AAAAAAAAEQJOQAAAAAAAFFCDgAAAAAAQJSQAwAAAAAAECXkAAAAAAAARAk5AAAAAAAAUUIOAAAAAABAlJADAAAAAAAQJeQAAAAAAABECTkAAAAAAABRQg4AAAAAAECUkAMAAAAAABAl5AAAAAAAAEQJOQAAAAAAAFFCDgAAAAAAQJSQAwAAAAAAECXkAAAAAAAARAk5AAAAAAAAUUIOAAAAAABAlJADAAAAAAAQJeQAAAAAAABECTkAAAAAAABRQg4AAAAAAEDUzsz9+ggAAAAAAAC+fWZm7m7fHt7ds2vXrl27du3atWvXrl27du3atWvXrl27du3atfvMazUAAAAAAIAoIQcAAAAAACBKyAEAAAAAAIgScgAAAAAAAKKEHAAAAAAAgCghBwAAAAAAIErIAQAAAAAAiBJyAAAAAAAAooQcAAAAAACAKCEHAAAAAAAgSsgBAAAAAACIEnIAAAAAAACihBwAAAAAAIAoIQcAAAAAACBKyAEAAAAAAIgScgAAAAAAAKKEHAAAAAAAgCghBwAAAAAAIErIAQAAAAAAiBJyAAAAAAAAooQcAAAAAACAKCEHAAAAAAAgSsgBAAAAAACIEnIAAAAAAACihBwAAAAAAIAoIQcAAAAAACBKyAEAAAAAAIgScgAAAAAAAKJ2Zu7XRwAAAAAAAPDtMzNzd/v28O6eXbt27dq1a9euXbt27dq1a9euXbt27dq1a9eu3WdeqwEAAAAAAEQJOQAAAAAAAFFCDgAAAAAAQJSQAwAAAAAAECXkAAAAAAAARAk5AAAAAAAAUUIOAAAAAABAlJADAAAAAAAQJeQAAAAAAABECTkAAAAAAABRQg4AAAAAAECUkAMAAAAAABAl5AAAAAAAAEQJOQAAAAAAAFFCDgAAAAAAQJSQAwAAAAAAECXkAAAAAAAARAk5AAAAAAAAUUIOAAAAAABAlJADAAAAAAAQJeQAAAAAAABECTkAAAAAAABRQg4AAAAAAECUkAMAAAAAABAl5AAAAAAAAEQJOQAAAAAAAFFCDgAAAAAAQJSQAwAAAAAAELUzc78+AgAAAAAAgG+fmZm727eHd/fs2rVr165du3bt2rVr165du3bt2rVr165du3btPvNaDQAAAAAAIErIAQAAAAAAiBJyAAAAAAAAooQcAAAAAACAKCEHAAAAAAAgSsgBAAAAAACIEnIAAAAAAACihBwAAAAAAIAoIQcAAAAAACBKyAEAAAAAAIgScgAAAAAAAKKEHAAAAAAAgCghBwAAAAAAIErIAQAAAAAAiBJyAAAAAAAAooQcAAAAAACAKCEHAAAAAAAgSsgBAAAAAACIEnIAAAAAAACihBwAAAAAAIAoIQcAAAAAACBKyAEAAAAAAIgScgAAAAAAAKKEHAAAAAAAgCghBwAAAAAAIErIAQAAAAAAiBJyAAAAAAAAooQcAAAAAACAqJ2Z+/URAAAAAAAAfPvMzNzdvj28u2fXrl27du3atWvXrl27du3atWvXrl27du3atWv3mddqAAAAAAAAUUIOAAAAAABAlJADAAAAAAAQJeQAAAAAAABECTkAAAAAAABRQg4AAAAAAECUkAMAAAAAABAl5AAAAAAAAEQJOQAAAAAAAFFCDgAAAAAAQJSQAwAAAAAAECXkAAAAAAAARAk5AAAAAAAAUUIOAAAAAABAlJADAAAAAAAQJeQAAAAAAABECTkAAAAAAABRQg4AAAAAAECUkAMAAAAAABAl5AAAAAAAAEQJOQAAAAAAAFFCDgAAAAAAQJSQAwAAAAAAECXkAAAAAAAARAk5AAAAAAAAUUIOAAAAAABAlJADAAAAAAAQJeQAAAAAAABE7czcr48AAAAAAADg22dm5u727eHdPbt27dq1a9euXbt27dq1a9euXbt27dq1a9euXbvPvFYDAAAAAACIEnIAAAAAAACihBwAAAAAAIAoIQcAAAAAACBKyAEAAAAAAIgScgAAAAAAAKKEHAAAAAAAgCghBwAAAAAAIErIAQAAAAAAiBJyAAAAAAAAooQcAAAAAACAKCEHAAAAAAAgSsgBAAAAAACIEnIAAAAAAACihBwAAAAAAIAoIQcAAAAAACBKyAEAAAAAAIgScgAAAAAAAKKEHAAAAAAAgCghBwAAAAAAIErIAQAAAAAAiBJyAAAAAAAAooQcAAAAAACAKCEHAAAAAAAgSsgBAAAAAACIEnIAAAAAAACihBwAAAAAAIAoIQcAAAAAACBqZ+Z+fQQAAAAAAADfPjMzd7dvD+/u2bVr165du3bt2rVr165du3bt2rVr165du3bt2n3mtRoAAAAAAECUkAMAAAAAABAl5AAAAAAAAEQJOQAAAAAAAFFCDgAAAAAAQJSQAwAAAAAAECXkAAAAAAAARAk5AAAAAAAAUUIOAAAAAABAlJADAAAAAAAQJeQAAAAAAABECTkAAAAAAABRQg4AAAAAAECUkAMAAAAAABAl5AAAAAAAAEQJOQAAAAAAAFFCDgAAAAAAQJSQAwAAAAAAECXkAAAAAAAARAk5AAAAAAAAUUIOAAAAAABAlJADAAAAAAAQJeQAAAAAAABECTkAAAAAAABRQg4AAAAAAECUkAMAAAAAABAl5AAAAAAAAEQJOQAAAAAAAFE7M/frIwAAAAAAAPj2mZm5u317eHfPrl27du3atWvXrl27du3atWvXrl27du3atWvX7jOv1QAAAAAAAKKEHAAAAAAAgCghBwAAAAAAIErIAQAAAAAAiBJyAAAAAAAAooQcAAAAAACAKCEHAAAAAAAgSsgBAAAAAACIEnIAAAAAAACihBwAAAAAAIAoIQcAAAAAACBKyAEAAAAAAIgScgAAAAAAAKKEHAAAAAAAgCghBwAAAAAAIErIAQAAAAAAiBJyAAAAAAAAooQcAAAAAACAKCEHAAAAAAAgSsgBAAAAAACIEnIAAAAAAACihBwAAAAAAIAoIQcAAAAAACBKyAEAAAAAAIgScgAAAAAAAKKEHAAAAAAAgCghBwAAAAAAIErIAQAAAAAAiNqZuV8fAQAAAAAAwLfPzMzd7dvDu3t27dq1a9euXbt27dq1a9euXbt27dq1a9euXbt2n3mtBgAAAAAAECXkAAAAAAAARAk5AAAAAAAAUUIOAAAAAABAlJADAAAAAAAQJeQAAAAAAABECTkAAAAAAABRQg4AAAAAAECUkAMAAAAAABAl5AAAAAAAAEQJOQAAAAAAAFFCDgAAAAAAQJSQAwAAAAAAECXkAAAAAAAARAk5AAAAAAAAUUIOAAAAAABAlJADAAAAAAAQJeQAAAAAAABECTkAAAAAAABRQg4AAAAAAECUkAMAAAAAABAl5AAAAAAAAEQJOQAAAAAAAFFCDgAAAAAAQJSQAwAAAAAAECXkAAAAAAAARAk5AAAAAAAAUUIOAAAAAABA1M7M/foIAAAAAAAAvn1mZu5u3x7e3bNr165du3bt2rVr165du3bt2rVr165du3bt2rX7zGs1AAAAAACAKCEHAAAAAAAgSsgBAAAAAACIEnIAAAAAAACihBwAAAAAAIAoIQcAAAAAACBKyAEAAAAAAIgScgAAAAAAAKKEHAAAAAAAgCghBwAAAAAAIErIAQAAAAAAiBJyAAAAAAAAooQcAAAAAACAKCEHAAAAAAAgSsgBAAAAAACIEnIAAAAAAACihBwAAAAAAIAoIQcAAAAAACBKyAEAAAAAAIgScgAAAAAAAKKEHAAAAAAAgCghBwAAAAAAIErIAQAAAAAAiBJyAAAAAAAAooQcAAAAAACAKCEHAAAAAAAgSsgBAAAAAACIEnIAAAAAAACidmbu10cAAAAAAADw7TMzc3f79vDunl27du3atWvXrl27du3atWvXrl27du3atWvXrt1nXqsBAAAAAABECTkAAAAAAABRQg4AAAAAAECUkAMAAAAAABAl5AAAAAAAAEQJOQAAAAAAAFFCDgAAAAAAQJSQAwAAAAAAECXkAAAAAAAARAk5AAAAAAAAUUIOAAAAAABAlJADAAAAAAAQJeQAAAAAAABECTkAAAAAAABRQg4AAAAAAECUkAMAAAAAABAl5AAAAAAAAEQJOQAAAAAAAFFCDgAAAAAAQJSQAwAAAAAAECXkAAAAAAAARAk5AAAAAAAAUUIOAAAAAABAlJADAAAAAAAQJeQAAAAAAABECTkAAAAAAABRQg4AAAAAAECUkAMAAAAAABC1M3O/PgIAAAAAAIBvn5mZu9u3h3f37Nq1a9euXbt27dq1a9euXbt27dq1a9euXbt27T7zWg0AAAAAACBKyAEAAAAAAIgScgAAAAAAAKKEHAAAAAAAgCghBwAAAAAAIErIAQAAAAAAiBJyAAAAAAAAooQcAAAAAACAKCEHAAAAAAAgSsgBAAAAAACIEnIAAAAAAACihBwAAAAAAIAoIQcAAAAAACBKyAEAAAAAAIgScgAAAAAAAKKEHAAAAAAAgCghBwAAAAAAIErIAQAAAAAAiBJyAAAAAAAAooQcAAAAAACAKCEHAAAAAAAgSsgBAAAAAACIEnIAAAAAAACihBwAAAAAAIAoIQcAAAAAACBKyAEAAAAAAIgScgAAAAAAAKKEHAAAAAAAgKidmfv1EQAAAAAAAHz7zMzc3b49vLtn165du3bt2rVr165du3bt2rVr165du3bt2rVr95nXagAAAAAAAFFCDgAAAAAAQJSQAwAAAAAAECXkAAAAAAAARAk5AAAAAAAAUUIOAAAAAABAlJADAAAAAAAQJeQAAAAAAABECTkAAAAAAABRQg4AAAAAAECUkAMAAAAAABAl5AAAAAAAAEQJOQAAAAAAAFFCDgAAAAAAQJSQAwAAAAAAECXkAAAAAAAARAk5AAAAAAAAUUIOAAAAAABAlJADAAAAAAAQJeQAAAAAAABECTkAAAAAAABRQg4AAAAAAECUkAMAAAAAABAl5AAAAAAAAEQJOQAAAAAAAFFCDgAAAAAAQJSQAwAAAPC/nTs2YSCAgSAogftvWS7g+dTeYKaBU74gAIAoIQcAAAAAACBqZ+b+fQQAAAAAAABPn5mZu9tfD+/u2bVr165du3bt2rVr165du3bt2rVr165du3bt2n3ntRoAAAAAAECUkAMAAAAAABAl5AAAAAAAAEQJOQAAAAAAAFFCDgAAAAAAQJSQAwAAAAAAECXkAAAAAAAARAk5AAAAAAAAUUIOAAAAAABAlJADAAAAAAAQJeQAAAAAAABECTkAAAAAAABRQg4AAAAAAECUkAMAAAAAABAl5AAAAAAAAEQJOQAAAAAAAFFCDgAAAAAAQJSQAwAAAAAAECXkAAAAAAAARAk5AAAAAAAAUUIOAAAAAABAlJADAAAAAAAQJeQAAAAAAABECTkAAAAAAABRQg4AAAAAAECUkAMAAAAAABAl5AAAAAAAAEQJOQAAAAAAAFE7M/fvIwAAAAAAAHj6zMzc3f56eHfPrl27du3atWvXrl27du3atWvXrl27du3atWvX7juv1QAAAAAAAKKEHAAAAAAAgCghBwAAAAAAIErIAQAAAAAAiBJyAAAAAAAAooQcAAAAAACAKCEHAAAAAAAgSsgBAAAAAACIEnIAAAAAAACihBwAAAAAAIAoIQcAAAAAACBKyAEAAAAAAIgScgAAAAAAAKKEHAAAAAAAgCghBwAAAAAAIErIAQAAAAAAiBJyAAAAAAAAooQcAAAAAACAKCEHAAAAAAAgSsgBAAAAAACIEnIAAAAAAACihBwAAAAAAIAoIQcAAAAAACBKyAEAAAAAAIgScgAAAAAAAKKEHAAAAAAAgCghBwAAAAAAIErIAQAAAAAAiNqZuX8fAQAAAAAAwNNnZubu9tfDu3t27dq1a9euXbt27dq1a9euXbt27dq1a9euXbt233mtBgAAAAAAECXkAAAAAAAARAk5AAAAAAAAUUIOAAAAAABAlJADAAAAAAAQJeQAAAAAAABECTkAAAAAAABRQg4AAAAAAECUkAMAAAAAABAl5AAAAAAAAEQJOQAAAAAAAFFCDgAAAAAAQJSQAwAAAAAAECXkAAAAAAAARAk5AAAAAAAAUUIOAAAAAABAlJADAAAAAAAQJeQAAAAAAABECTkAAAAAAABRQg4AAAAAAECUkAMAAAAAABAl5AAAAAAAAEQJOQAAAAAAAFFCDgAAAAAAQJSQAwAAAAAAECXkAAAAAAAARAk5AAAAAAAAUUIOAAAAAABA1M7M/fsIAAAAAAAAnj4zM3e3vx7e3bNr165du3bt2rVr165du3bt2rVr165du3bt2rX7zms1AAAAAACAKCEHAAAAAAAgSsgBAAAAAACIEnIAAAAAAACihBwAAAAAAIAoIQcAAAAAACBKyAEAAAAAAIgScgAAAAAAAKKEHAAAAAAAgCghBwAAAAAAIErIAQAAAAAAiBJyAAAAAAAAooQcAAAAAACAKCEHAAAAAAAgSsgBAAAAAACIEnIAAAAAAACihBwAAAAAAIAoIQcAAAAAACBKyAEAAAAAAIgScgAAAAAAAKKEHAAAAAAAgCghBwAAAAAAIErIAQAAAAAAiBJyAAAAAAAAooQcAAAAAACAKCEHAAAAAAAgSsgBAAAAAACIEnIAAAAAAACidmbu30cAAAAAAADw9JmZubv99fDunl27du3atWvXrl27du3atWvXrl27du3atWvXrt13XqsBAAAAAABECTkAAAAAAABRQg4AAAAAAECUkAMAAAAAABAl5AAAAAAAAEQJOQAAAAAAAFFCDgAAAAAAQJSQAwAAAAAAECXkAAAAAAAARAk5AAAAAAAAUUIOAAAAAABAlJADAAAAAAAQJeQAAAAAAABECTkAAAAAAABRQg4AAAAAAECUkAMAAAAAABAl5AAAAAAAAEQJOQAAAAAAAFFCDgAAAAAAQJSQAwAAAAAAECXkAAAAAAAARAk5AAAAAAAAUUIOAAAAAABAlJADAAAAAAAQJeQAAAAAAABECTkAAAAAAABRQg4AAAAAAECUkAMAAAAAABC1M3P/PgIAAAAAAICnz8zM3e2vh3f37Nq1a9euXbt27dq1a9euXbt27dq1a9euXbt27b7zWg0AAAAAACBKyAEAAAAAAIgScgAAAAAAAKKEHAAAAAAAgCghBwAAAAAAIErIAQAAAAAAiBJyAAAAAAAAooQcAAAAAACAKCEHAAAAAAAgSsgBAAAAAACIEnIAAAAAAACihBwAAAAAAIAoIQcAAAAAACBKyAEAAAAAAIgScgAAAAAAAKKEHAAAAAAAgCghBwAAAAAAIErIAQAAAAAAiBJyAAAAAAAAooQcAAAAAACAKCEHAAAAAAAgSsgBAAAAAACIEnIAAAAAAACihBwAAAAAAIAoIQcAAAAAACBKyAEAAAAAAIgScgAAAAAAAKKEHAAAAAAAgKidmfv3EQAAAAAAADx9Zmbubn89vLtn165du3bt2rVr165du3bt2rVr165du3bt2rVr953XagAAAAAAAFFCDgAAAAAAQJSQAwAAAAAAECXkAAAAAAAARAk5AAAAAAAAUUIOAAAAAABAlJADAAAAAAAQJeQAAAAAAABECTkAAAAAAABRQg4AAAAAAECUkAMAAAAAABAl5AAAAAAAAEQJOQAAAAAAAFFCDgAAAAAAQJSQAwAAAAAAECXkAAAAAAAARAk5AAAAAAAAUUIOAAAAAABAlJADAAAAAAAQJeQAAAAAAABECTkAAAAAAABRQg4AAAAAAECUkAMAAAAAABAl5AAAAAAAAEQJOQAAAAAAAFFCDgAAAAAAQJSQAwAAAAAAECXkAAAAAAAARO3M3L+PAAAAAAAA4OkzM3N3++vh3T27du3atWvXrl27du3atWvXrl27du3atWvXrl2777xWAwAAAAAAiBJyAAAAAAAAooQcAAAAAACAKCEHAAAAAAAgSsgBAAAAAACIEnIAAAAAAACihBwAAAAAAIAoIQcAAAAAACBKyAEAAAAAAIgScgAAAAAAAKKEHAAAAAAAgCghBwAAAAAAIErIAQAAAAAAiBJyAAAAAAAAooQcAAAAAACAKCEHAAAAAAAgSsgBAAAAAACIEnIAAAAAAACihBwAAAAAAIAoIQcAAAAAACBKyAEAAAAAAIgScgAAAAAAAKKEHAAAAAAAgCghBwAAAAAAIErIAQAAAAAAiBJyAAAAAAAAooQcAAAAAACAKCEHAAAAAAAgamfm/n0EAAAAAAAAT5+ZmbvbXw/v7tm1a9euXbt27dq1a9euXbt27dq1a9euXbt27dp957UaAAAAAABAlJADAAAAAAAQJeQAAAAAAABECTkAAAAAAABRQg4AAAAAAECUkAMAAAAAABAl5AAAAAAAAEQJOQAAAAAAAFFCDgAAAAAAQJSQAwAAAAAAECXkAAAAAAAARAk5AAAAAAAAUUIOAAAAAABAlJADAAAAAAAQJeQAAAAAAABECTkAAAAAAABRQg4AAAAAAECUkAMAAAAAABAl5AAAAAAAAEQJOQAAAAAAAFFCDgAAAAAAQJSQAwAAAAAAECXkAAAAAAAARAk5AAAAAAAAUUIOAAAAAABAlJADAAAAAAAQJeQAAAAAAABECTkAAAAAAABROzP37yMAAAAAAAB4+szM3N3+enh3z65du3bt2rVr165du3bt2rVr165du3bt2rVr1+47r9UAAAAAAACihBwAAAAAAIAoIQcAAAAAACBKyAEAAAAAAIgScgAAAAAAAKKEHAAAAAAAgCghBwAAAAAAIErIAQAAAAAAiBJyAAAAAAAAooQcAAAAAACAKCEHAAAAAAAgSsgBAAAAAACIEnIAAAAAAACihBwAAAAAAIAoIQcAAAAAACBKyAEAAAAAAIgScgAAAAAAAKKEHAAAAAAAgCghBwAAAAAAIErIAQAAAAAAiBJyAAAAAAAAooQcAAAAAACAKCEHAAAAAAAgSsgBAAAAAACIEnIAAAAAAACihBwAAAAAAIAoIQcAAAAAACBKyAEAAAAAAIjambl/HwEAAAAAAMDTZ2bm7vbXw7t7du3atWvXrl27du3atWvXrl27du3atWvXrl27dt95rQYAAAAAABAl5AAAAAAAAEQJOQAAAAAAAFFCDgAAAAAAQJSQAwAAAAAAECXkAAAAAAAARAk5AAAAAAAAUUIOAAAAAABAlJADAAAAAAAQJeQAAAAAAABECTkAAAAAAABRQg4AAAAAAECUkAMAAAAAABAl5AAAAAAAAEQJOQAAAAAAAFFCDgAAAAAAQJSQAwAAAAAAECXkAAAAAAAARAk5AAAAAAAAUUIOAAAAAABAlJADAAAAAAAQJeQAAAAAAABECTkAAAAAAABRQg4AAAAAAECUkAMAAAAAABAl5AAAAAAAAEQJOQAAAAAAAFFCDgAAAAAAQNTOzP37CAAAAAAAAJ4+MzN3t78e3t2za9euXbt27dq1a9euXbt27dq1a9euXbt27dq1+85rNQAAAAAAgCghBwAAAAAAIErIAQAAAAAAiBJyAAAAAAAAooQcAAAAAACAKCEHAAAAAAAgSsgBAAAAAACIEnIAAAAAAACihBwAAAAAAIAoIQcAAAAAACBKyAEAAAAAAIgScgAAAAAAAKKEHAAAAAAAgCghBwAAAAAAIErIAQAAAAAAiBJyAAAAAAAAooQcAAAAAACAKCEHAAAAAAAgSsgBAAAAAACIEnIAAAAAAACihBwAAAAAAIAoIQcAAAAAACBKyAEAAAAAAIgScgAAAAAAAKKEHAAAAAAAgCghBwAAAAAAIErIAQAAAAAAiBJyAAAAAAAAonZm7t9HAAAAAAAA8PSZmbm7/fXw7p5du3bt2rVr165du3bt2rVr165du3bt2rVr167dd16rAQAAAAAARAk5AAAAAAAAUUIOAAAAAABAlJADAAAAAAAQJeQAAAAAAABECTkAAAAAAABRQg4AAAAAAECUkAMAAAAAABAl5AAAAAAAAEQJOQAAAAAAAFFCDgAAAAAAQJSQAwAAAAAAECXkAAAAAAAARAk5AAAAAAAAUUIOAAAAAABAlJADAAAAAAAQJeQAAAAAAABECTkAAAAAAABRQg4AAAAAAECUkAMAAAAAABAl5AAAAAAAAEQJOQAAAAAAAFFCDgAAAAAAQJSQAwAAAAAAECXkAAAAAAAARAk5AAAAAAAAUUIOAAAAAABAlJADAAAAAAAQtTNz/z4CAAAAAACAp8/MzN3tr4d39+zatWvXrl27du3atWvXrl27du3atWvXrl27du2+81oNAAAAAAAgSsgBAAAAAACIEnIAAAAAAACihBwAAAAAAIAoIQcAAAAAACBKyAEAAAAAAIgScgAAAAAAAKKEHAAAAAAAgCghBwAAAAAAIErIAQAAAAAAiBJyAAAAAAAAooQcAAAAAACAKCEHAAAAAAAgSsgBAAAAAACIEnIAAAAAAACihBwAAAAAAIAoIQcAAAAAACBKyAEAAAAAAIgScgAAAAAAAKKEHAAAAAAAgCghBwAAAAAAIErIAQAAAAAAiBJyAAAAAAAAooQcAAAAAACAKCEHAAAAAAAgSsgBAAAAAACIEnIAAAAAAACihBwAAAAAAIConZn79xEAAAAAAAA8fWZm7m5/Pby7Z9euXbt27dq1a9euXbt27dq1a9euXbt27dq1a/ed12oAAAAAAABRQg4AAAAAAECUkAMAAAAAABAl5AAAAAAAAEQJOQAAAAAAAFFCDgAAAAAAQJSQAwAAAAAAECXkAAAAAAAARAk5AAAAAAAAUUIOAAAAAABAlJADAAAAAAAQJeQAAAAAAABECTkAAAAAAABRQg4AAAAAAECUkAMAAAAAABAl5AAAAAAAAEQJOQAAAAAAAFFCDgAAAAAAQJSQAwAAAAAAECXkAAAAAAAARAk5AAAAAAAAUUIOAAAAAABAlJADAAAAAAAQJeQAAAAAAABECTkAAAAAAABRQg4AAAAAAECUkAMAAAAAABAl5AAAAAAAAETtzNy/jwAAAAAAAODpMzNzd/vr4d09u3bt2rVr165du3bt2rVr165du3bt2rVr165du++8VgMAAAAAAIgScgAAAAAAAKKEHAAAAAAAgCghBwAAAAAAIErIAQAAAAAAiBJyAAAAAAAAooQcAAAAAACAKCEHAAAAAAAgSsgBAAAAAACIEnIAAAAAAACihBwAAAAAAIAoIQcAAAAAACBKyAEAAAAAAIgScgAAAAAAAKKEHAAAAAAAgCghBwAAAAAAIErIAQAAAAAAiBJyAAAAAAAAooQcAAAAAACAKCEHAAAAAAAgSsgBAAAAAACIEnIAAAAAAACihBwAAAAAAIAoIQcAAAAAACBKyAEAAAAAAIgScgAAAAAAAKKEHAAAAAAAgCghBwAAAAAAIGpn5v59BAAAAAAAAE+fmZm7218P7+7ZtWvXrl27du3atWvXrl27du3atWvXrl27du3afee1GgAAAAAAQJSQAwAAAAAAECXkAAAAAAAARAk5AAAAAAAAUUIOAAAAAABAlJADAAAAAAAQJeQAAAAAAABECTkAAAAAAABRQg4AAAAAAECUkAMAAAAAABAl5AAAAAAAAEQJOQAAAAAAAFFCDgAAAAAAQJSQAwAAAAAAECXkAAAAAAAARAk5AAAAAAAAUUIOAAAAAABAlJADAAAAAAAQJeQAAAAAAABECTkAAAAAAABRQg4AAAAAAECUkAMAAAAAABAl5AAAAAAAAEQJOQAAAAAAAFFCDgAAAAAAQJSQAwAAAAAAECXkAAAAAAAARAk5AAAAAAAAUTsz9+8jAAAAAAAAePrMzNzd/np4d8+uXbt27dq1a9euXbt27dq1a9euXbt27dq1a9fuO6/VAAAAAAAAooQcAAAAAACAKCEHAAAAAAAgSsgBAAAAAACIEnIAAAAAAACihBwAAAAAAIAoIQcAAAAAACBKyAEAAAAAAIgScgAAAAAAAKKEHAAAAAAAgCghBwAAAAAAIErIAQAAAAAAiBJyAAAAAAAAooQcAAAAAACAKCEHAAAAAAAgSsgBAAAAAACIEnIAAAAAAACihBwAAAAAAIAoIQcAAAAAACBKyAEAAAAAAIgScgAAAAAAAKKEHAAAAAAAgCghBwAAAAAAIErIAQAAAAAAiBJyAAAAAAAAooQcAAAAAACAKCEHAAAAAAAgSsgBAAAAAACI2pm5fx8BAAAAAADA02dm5u7218O7e3bt2rVr165du3bt2rVr165du3bt2rVr165du3bfea0GAAAAAAAQJeQAAAAAAABECTkAAAAAAABRQg4AAAAAAECUkAMAAAAAABAl5AAAAAAAAEQJOQAAAAAAAFFCDgAAAAAAQJSQAwAAAAAAECXkAAAAAAAARAk5AAAAAAAAUUIOAAAAAABAlJADAAAAAAAQJeQAAAAAAABECTkAAAAAAABRQg4AAAAAAECUkAMAAAAAABAl5AAAAAAAAEQJOQAAAAAAAFFCDgAAAAAAQJSQAwAAAAAAECXkAAAAAAAARAk5AAAAAAAAUUIOAAAAAABAlJADAAAAAAAQJeQAAAAAAABECTkAAAAAAABRQg4AAAAAAEDUzsz9+wgAAAAAAACePjMzd7e/Ht7ds2vXrl27du3atWvXrl27du3atWvXrl27du3atfvOazUAAAAAAIAoIQcAAAAAACBKyAEAAAAAAIgScgAAAAAAAKKEHAAAAAAAgCghBwAAAAAAIErIAQAAAAAAiBJyAAAAAAAAooQcAAAAAACAKCEHAAAAAAAgSsgBAAAAAACIEnIAAAAAAACihBwAAAAAAICoLxuIfMH85MpmAAAAAElFTkSuQmCC",
          "x": 0,
          "xref": "x",
          "y": 550,
          "yref": "y"
         }
        ],
        "legend": {
         "orientation": "h",
         "x": 1,
         "xanchor": "right",
         "y": 1.02,
         "yanchor": "bottom"
        },
        "showlegend": true,
        "template": {
         "data": {
          "bar": [
           {
            "error_x": {
             "color": "rgb(36,36,36)"
            },
            "error_y": {
             "color": "rgb(36,36,36)"
            },
            "marker": {
             "line": {
              "color": "white",
              "width": 0.5
             },
             "pattern": {
              "fillmode": "overlay",
              "size": 10,
              "solidity": 0.2
             }
            },
            "type": "bar"
           }
          ],
          "barpolar": [
           {
            "marker": {
             "line": {
              "color": "white",
              "width": 0.5
             },
             "pattern": {
              "fillmode": "overlay",
              "size": 10,
              "solidity": 0.2
             }
            },
            "type": "barpolar"
           }
          ],
          "carpet": [
           {
            "aaxis": {
             "endlinecolor": "rgb(36,36,36)",
             "gridcolor": "white",
             "linecolor": "white",
             "minorgridcolor": "white",
             "startlinecolor": "rgb(36,36,36)"
            },
            "baxis": {
             "endlinecolor": "rgb(36,36,36)",
             "gridcolor": "white",
             "linecolor": "white",
             "minorgridcolor": "white",
             "startlinecolor": "rgb(36,36,36)"
            },
            "type": "carpet"
           }
          ],
          "choropleth": [
           {
            "colorbar": {
             "outlinewidth": 1,
             "tickcolor": "rgb(36,36,36)",
             "ticks": "outside"
            },
            "type": "choropleth"
           }
          ],
          "contour": [
           {
            "colorbar": {
             "outlinewidth": 1,
             "tickcolor": "rgb(36,36,36)",
             "ticks": "outside"
            },
            "colorscale": [
             [
              0,
              "#440154"
             ],
             [
              0.1111111111111111,
              "#482878"
             ],
             [
              0.2222222222222222,
              "#3e4989"
             ],
             [
              0.3333333333333333,
              "#31688e"
             ],
             [
              0.4444444444444444,
              "#26828e"
             ],
             [
              0.5555555555555556,
              "#1f9e89"
             ],
             [
              0.6666666666666666,
              "#35b779"
             ],
             [
              0.7777777777777778,
              "#6ece58"
             ],
             [
              0.8888888888888888,
              "#b5de2b"
             ],
             [
              1,
              "#fde725"
             ]
            ],
            "type": "contour"
           }
          ],
          "contourcarpet": [
           {
            "colorbar": {
             "outlinewidth": 1,
             "tickcolor": "rgb(36,36,36)",
             "ticks": "outside"
            },
            "type": "contourcarpet"
           }
          ],
          "heatmap": [
           {
            "colorbar": {
             "outlinewidth": 1,
             "tickcolor": "rgb(36,36,36)",
             "ticks": "outside"
            },
            "colorscale": [
             [
              0,
              "#440154"
             ],
             [
              0.1111111111111111,
              "#482878"
             ],
             [
              0.2222222222222222,
              "#3e4989"
             ],
             [
              0.3333333333333333,
              "#31688e"
             ],
             [
              0.4444444444444444,
              "#26828e"
             ],
             [
              0.5555555555555556,
              "#1f9e89"
             ],
             [
              0.6666666666666666,
              "#35b779"
             ],
             [
              0.7777777777777778,
              "#6ece58"
             ],
             [
              0.8888888888888888,
              "#b5de2b"
             ],
             [
              1,
              "#fde725"
             ]
            ],
            "type": "heatmap"
           }
          ],
          "histogram": [
           {
            "marker": {
             "line": {
              "color": "white",
              "width": 0.6
             }
            },
            "type": "histogram"
           }
          ],
          "histogram2d": [
           {
            "colorbar": {
             "outlinewidth": 1,
             "tickcolor": "rgb(36,36,36)",
             "ticks": "outside"
            },
            "colorscale": [
             [
              0,
              "#440154"
             ],
             [
              0.1111111111111111,
              "#482878"
             ],
             [
              0.2222222222222222,
              "#3e4989"
             ],
             [
              0.3333333333333333,
              "#31688e"
             ],
             [
              0.4444444444444444,
              "#26828e"
             ],
             [
              0.5555555555555556,
              "#1f9e89"
             ],
             [
              0.6666666666666666,
              "#35b779"
             ],
             [
              0.7777777777777778,
              "#6ece58"
             ],
             [
              0.8888888888888888,
              "#b5de2b"
             ],
             [
              1,
              "#fde725"
             ]
            ],
            "type": "histogram2d"
           }
          ],
          "histogram2dcontour": [
           {
            "colorbar": {
             "outlinewidth": 1,
             "tickcolor": "rgb(36,36,36)",
             "ticks": "outside"
            },
            "colorscale": [
             [
              0,
              "#440154"
             ],
             [
              0.1111111111111111,
              "#482878"
             ],
             [
              0.2222222222222222,
              "#3e4989"
             ],
             [
              0.3333333333333333,
              "#31688e"
             ],
             [
              0.4444444444444444,
              "#26828e"
             ],
             [
              0.5555555555555556,
              "#1f9e89"
             ],
             [
              0.6666666666666666,
              "#35b779"
             ],
             [
              0.7777777777777778,
              "#6ece58"
             ],
             [
              0.8888888888888888,
              "#b5de2b"
             ],
             [
              1,
              "#fde725"
             ]
            ],
            "type": "histogram2dcontour"
           }
          ],
          "mesh3d": [
           {
            "colorbar": {
             "outlinewidth": 1,
             "tickcolor": "rgb(36,36,36)",
             "ticks": "outside"
            },
            "type": "mesh3d"
           }
          ],
          "parcoords": [
           {
            "line": {
             "colorbar": {
              "outlinewidth": 1,
              "tickcolor": "rgb(36,36,36)",
              "ticks": "outside"
             }
            },
            "type": "parcoords"
           }
          ],
          "pie": [
           {
            "automargin": true,
            "type": "pie"
           }
          ],
          "scatter": [
           {
            "fillpattern": {
             "fillmode": "overlay",
             "size": 10,
             "solidity": 0.2
            },
            "type": "scatter"
           }
          ],
          "scatter3d": [
           {
            "line": {
             "colorbar": {
              "outlinewidth": 1,
              "tickcolor": "rgb(36,36,36)",
              "ticks": "outside"
             }
            },
            "marker": {
             "colorbar": {
              "outlinewidth": 1,
              "tickcolor": "rgb(36,36,36)",
              "ticks": "outside"
             }
            },
            "type": "scatter3d"
           }
          ],
          "scattercarpet": [
           {
            "marker": {
             "colorbar": {
              "outlinewidth": 1,
              "tickcolor": "rgb(36,36,36)",
              "ticks": "outside"
             }
            },
            "type": "scattercarpet"
           }
          ],
          "scattergeo": [
           {
            "marker": {
             "colorbar": {
              "outlinewidth": 1,
              "tickcolor": "rgb(36,36,36)",
              "ticks": "outside"
             }
            },
            "type": "scattergeo"
           }
          ],
          "scattergl": [
           {
            "marker": {
             "colorbar": {
              "outlinewidth": 1,
              "tickcolor": "rgb(36,36,36)",
              "ticks": "outside"
             }
            },
            "type": "scattergl"
           }
          ],
          "scattermap": [
           {
            "marker": {
             "colorbar": {
              "outlinewidth": 1,
              "tickcolor": "rgb(36,36,36)",
              "ticks": "outside"
             }
            },
            "type": "scattermap"
           }
          ],
          "scattermapbox": [
           {
            "marker": {
             "colorbar": {
              "outlinewidth": 1,
              "tickcolor": "rgb(36,36,36)",
              "ticks": "outside"
             }
            },
            "type": "scattermapbox"
           }
          ],
          "scatterpolar": [
           {
            "marker": {
             "colorbar": {
              "outlinewidth": 1,
              "tickcolor": "rgb(36,36,36)",
              "ticks": "outside"
             }
            },
            "type": "scatterpolar"
           }
          ],
          "scatterpolargl": [
           {
            "marker": {
             "colorbar": {
              "outlinewidth": 1,
              "tickcolor": "rgb(36,36,36)",
              "ticks": "outside"
             }
            },
            "type": "scatterpolargl"
           }
          ],
          "scatterternary": [
           {
            "marker": {
             "colorbar": {
              "outlinewidth": 1,
              "tickcolor": "rgb(36,36,36)",
              "ticks": "outside"
             }
            },
            "type": "scatterternary"
           }
          ],
          "surface": [
           {
            "colorbar": {
             "outlinewidth": 1,
             "tickcolor": "rgb(36,36,36)",
             "ticks": "outside"
            },
            "colorscale": [
             [
              0,
              "#440154"
             ],
             [
              0.1111111111111111,
              "#482878"
             ],
             [
              0.2222222222222222,
              "#3e4989"
             ],
             [
              0.3333333333333333,
              "#31688e"
             ],
             [
              0.4444444444444444,
              "#26828e"
             ],
             [
              0.5555555555555556,
              "#1f9e89"
             ],
             [
              0.6666666666666666,
              "#35b779"
             ],
             [
              0.7777777777777778,
              "#6ece58"
             ],
             [
              0.8888888888888888,
              "#b5de2b"
             ],
             [
              1,
              "#fde725"
             ]
            ],
            "type": "surface"
           }
          ],
          "table": [
           {
            "cells": {
             "fill": {
              "color": "rgb(237,237,237)"
             },
             "line": {
              "color": "white"
             }
            },
            "header": {
             "fill": {
              "color": "rgb(217,217,217)"
             },
             "line": {
              "color": "white"
             }
            },
            "type": "table"
           }
          ]
         },
         "layout": {
          "annotationdefaults": {
           "arrowhead": 0,
           "arrowwidth": 1
          },
          "autotypenumbers": "strict",
          "coloraxis": {
           "colorbar": {
            "outlinewidth": 1,
            "tickcolor": "rgb(36,36,36)",
            "ticks": "outside"
           }
          },
          "colorscale": {
           "diverging": [
            [
             0,
             "rgb(103,0,31)"
            ],
            [
             0.1,
             "rgb(178,24,43)"
            ],
            [
             0.2,
             "rgb(214,96,77)"
            ],
            [
             0.3,
             "rgb(244,165,130)"
            ],
            [
             0.4,
             "rgb(253,219,199)"
            ],
            [
             0.5,
             "rgb(247,247,247)"
            ],
            [
             0.6,
             "rgb(209,229,240)"
            ],
            [
             0.7,
             "rgb(146,197,222)"
            ],
            [
             0.8,
             "rgb(67,147,195)"
            ],
            [
             0.9,
             "rgb(33,102,172)"
            ],
            [
             1,
             "rgb(5,48,97)"
            ]
           ],
           "sequential": [
            [
             0,
             "#440154"
            ],
            [
             0.1111111111111111,
             "#482878"
            ],
            [
             0.2222222222222222,
             "#3e4989"
            ],
            [
             0.3333333333333333,
             "#31688e"
            ],
            [
             0.4444444444444444,
             "#26828e"
            ],
            [
             0.5555555555555556,
             "#1f9e89"
            ],
            [
             0.6666666666666666,
             "#35b779"
            ],
            [
             0.7777777777777778,
             "#6ece58"
            ],
            [
             0.8888888888888888,
             "#b5de2b"
            ],
            [
             1,
             "#fde725"
            ]
           ],
           "sequentialminus": [
            [
             0,
             "#440154"
            ],
            [
             0.1111111111111111,
             "#482878"
            ],
            [
             0.2222222222222222,
             "#3e4989"
            ],
            [
             0.3333333333333333,
             "#31688e"
            ],
            [
             0.4444444444444444,
             "#26828e"
            ],
            [
             0.5555555555555556,
             "#1f9e89"
            ],
            [
             0.6666666666666666,
             "#35b779"
            ],
            [
             0.7777777777777778,
             "#6ece58"
            ],
            [
             0.8888888888888888,
             "#b5de2b"
            ],
            [
             1,
             "#fde725"
            ]
           ]
          },
          "colorway": [
           "#1F77B4",
           "#FF7F0E",
           "#2CA02C",
           "#D62728",
           "#9467BD",
           "#8C564B",
           "#E377C2",
           "#7F7F7F",
           "#BCBD22",
           "#17BECF"
          ],
          "font": {
           "color": "rgb(36,36,36)"
          },
          "geo": {
           "bgcolor": "white",
           "lakecolor": "white",
           "landcolor": "white",
           "showlakes": true,
           "showland": true,
           "subunitcolor": "white"
          },
          "hoverlabel": {
           "align": "left"
          },
          "hovermode": "closest",
          "mapbox": {
           "style": "light"
          },
          "paper_bgcolor": "white",
          "plot_bgcolor": "white",
          "polar": {
           "angularaxis": {
            "gridcolor": "rgb(232,232,232)",
            "linecolor": "rgb(36,36,36)",
            "showgrid": false,
            "showline": true,
            "ticks": "outside"
           },
           "bgcolor": "white",
           "radialaxis": {
            "gridcolor": "rgb(232,232,232)",
            "linecolor": "rgb(36,36,36)",
            "showgrid": false,
            "showline": true,
            "ticks": "outside"
           }
          },
          "scene": {
           "xaxis": {
            "backgroundcolor": "white",
            "gridcolor": "rgb(232,232,232)",
            "gridwidth": 2,
            "linecolor": "rgb(36,36,36)",
            "showbackground": true,
            "showgrid": false,
            "showline": true,
            "ticks": "outside",
            "zeroline": false,
            "zerolinecolor": "rgb(36,36,36)"
           },
           "yaxis": {
            "backgroundcolor": "white",
            "gridcolor": "rgb(232,232,232)",
            "gridwidth": 2,
            "linecolor": "rgb(36,36,36)",
            "showbackground": true,
            "showgrid": false,
            "showline": true,
            "ticks": "outside",
            "zeroline": false,
            "zerolinecolor": "rgb(36,36,36)"
           },
           "zaxis": {
            "backgroundcolor": "white",
            "gridcolor": "rgb(232,232,232)",
            "gridwidth": 2,
            "linecolor": "rgb(36,36,36)",
            "showbackground": true,
            "showgrid": false,
            "showline": true,
            "ticks": "outside",
            "zeroline": false,
            "zerolinecolor": "rgb(36,36,36)"
           }
          },
          "shapedefaults": {
           "fillcolor": "black",
           "line": {
            "width": 0
           },
           "opacity": 0.3
          },
          "ternary": {
           "aaxis": {
            "gridcolor": "rgb(232,232,232)",
            "linecolor": "rgb(36,36,36)",
            "showgrid": false,
            "showline": true,
            "ticks": "outside"
           },
           "baxis": {
            "gridcolor": "rgb(232,232,232)",
            "linecolor": "rgb(36,36,36)",
            "showgrid": false,
            "showline": true,
            "ticks": "outside"
           },
           "bgcolor": "white",
           "caxis": {
            "gridcolor": "rgb(232,232,232)",
            "linecolor": "rgb(36,36,36)",
            "showgrid": false,
            "showline": true,
            "ticks": "outside"
           }
          },
          "title": {
           "x": 0.05
          },
          "xaxis": {
           "automargin": true,
           "gridcolor": "rgb(232,232,232)",
           "linecolor": "rgb(36,36,36)",
           "showgrid": false,
           "showline": true,
           "ticks": "outside",
           "title": {
            "standoff": 15
           },
           "zeroline": false,
           "zerolinecolor": "rgb(36,36,36)"
          },
          "yaxis": {
           "automargin": true,
           "gridcolor": "rgb(232,232,232)",
           "linecolor": "rgb(36,36,36)",
           "showgrid": false,
           "showline": true,
           "ticks": "outside",
           "title": {
            "standoff": 15
           },
           "zeroline": false,
           "zerolinecolor": "rgb(36,36,36)"
          }
         }
        },
        "title": {
         "text": "Burrito Map - Day day6"
        },
        "xaxis": {
         "range": [
          0,
          500
         ],
         "visible": false
        },
        "yaxis": {
         "range": [
          0,
          550
         ],
         "scaleanchor": "x",
         "scaleratio": 1,
         "visible": false
        }
       }
      }
     },
     "metadata": {},
     "output_type": "display_data"
    },
    {
     "name": "stdout",
     "output_type": "stream",
     "text": [
      "\n",
      "Day day7:\n",
      "  - Deployed trucks: 8 (4 new, 4 maintained)\n",
      "  - Daily profit: ₲3620.00 (Revenue: ₲5370.00, Cost: ₲1750.00)\n",
      "    * Location truck8: Small (Maintained)\n",
      "    * Location truck44: Small (New)\n",
      "    * Location truck23: Small (New)\n",
      "    * Location truck45: Medium (New)\n",
      "    * Location truck37: Medium (Maintained)\n",
      "    * Location truck17: Medium (Maintained)\n",
      "    * Location truck33: Large (Maintained)\n",
      "    * Location truck15: Large (New)\n"
     ]
    },
    {
     "data": {
      "application/vnd.plotly.v1+json": {
       "config": {
        "plotlyServerURL": "https://plot.ly"
       },
       "data": [
        {
         "hoverinfo": "none",
         "line": {
          "color": "rgba(150, 150, 150, 1)",
          "width": 1.5
         },
         "mode": "lines",
         "showlegend": false,
         "type": "scatter",
         "x": [
          190.72068753836712,
          164.62860650705954
         ],
         "y": [
          477.338898163606,
          419.5826377295492
         ]
        },
        {
         "hoverinfo": "none",
         "line": {
          "color": "rgba(150, 150, 150, 1)",
          "width": 1.5
         },
         "mode": "lines",
         "showlegend": false,
         "type": "scatter",
         "x": [
          454.7476979742173,
          310.62001227747083
         ],
         "y": [
          368.96828046744577,
          327.9799666110183
         ]
        },
        {
         "hoverinfo": "none",
         "line": {
          "color": "rgba(150, 150, 150, 1)",
          "width": 1.5
         },
         "mode": "lines",
         "showlegend": false,
         "type": "scatter",
         "x": [
          284.8385512584408,
          210.60036832412524
         ],
         "y": [
          361.20534223706176,
          342.8848080133556
         ]
        },
        {
         "hoverinfo": "none",
         "line": {
          "color": "rgba(150, 150, 150, 1)",
          "width": 1.5
         },
         "mode": "lines",
         "showlegend": false,
         "type": "scatter",
         "x": [
          256.57213014119094,
          210.60036832412524
         ],
         "y": [
          391.9465776293823,
          342.8848080133556
         ]
        },
        {
         "hoverinfo": "none",
         "line": {
          "color": "rgba(150, 150, 150, 1)",
          "width": 1.5
         },
         "mode": "lines",
         "showlegend": false,
         "type": "scatter",
         "x": [
          315.2793124616329,
          310.62001227747083
         ],
         "y": [
          386.35726210350583,
          327.9799666110183
         ]
        },
        {
         "hoverinfo": "none",
         "line": {
          "color": "rgba(150, 150, 150, 1)",
          "width": 1.5
         },
         "mode": "lines",
         "showlegend": false,
         "type": "scatter",
         "x": [
          213.70656844689995,
          210.60036832412524
         ],
         "y": [
          389.46243739565944,
          342.8848080133556
         ]
        },
        {
         "hoverinfo": "none",
         "line": {
          "color": "rgba(150, 150, 150, 1)",
          "width": 1.5
         },
         "mode": "lines",
         "showlegend": false,
         "type": "scatter",
         "x": [
          176.7427869858809,
          164.62860650705954
         ],
         "y": [
          363.0684474123539,
          419.5826377295492
         ]
        },
        {
         "hoverinfo": "none",
         "line": {
          "color": "rgba(150, 150, 150, 1)",
          "width": 1.5
         },
         "mode": "lines",
         "showlegend": false,
         "type": "scatter",
         "x": [
          129.21792510742787,
          128.59668508287294
         ],
         "y": [
          381.38898163606007,
          286.0601001669449
         ]
        },
        {
         "hoverinfo": "none",
         "line": {
          "color": "rgba(150, 150, 150, 1)",
          "width": 1.5
         },
         "mode": "lines",
         "showlegend": false,
         "type": "scatter",
         "x": [
          68.02578268876611,
          128.59668508287294
         ],
         "y": [
          320.21702838063436,
          286.0601001669449
         ]
        },
        {
         "hoverinfo": "none",
         "line": {
          "color": "rgba(150, 150, 150, 1)",
          "width": 1.5
         },
         "mode": "lines",
         "showlegend": false,
         "type": "scatter",
         "x": [
          187.6144874155924,
          210.60036832412524
         ],
         "y": [
          327.3589315525876,
          342.8848080133556
         ]
        },
        {
         "hoverinfo": "none",
         "line": {
          "color": "rgba(150, 150, 150, 1)",
          "width": 1.5
         },
         "mode": "lines",
         "showlegend": false,
         "type": "scatter",
         "x": [
          152.2038060159607,
          128.59668508287294
         ],
         "y": [
          304.6911519198664,
          286.0601001669449
         ]
        },
        {
         "hoverinfo": "none",
         "line": {
          "color": "rgba(150, 150, 150, 1)",
          "width": 1.5
         },
         "mode": "lines",
         "showlegend": false,
         "type": "scatter",
         "x": [
          239.48802946593003,
          210.60036832412524
         ],
         "y": [
          303.1385642737896,
          342.8848080133556
         ]
        },
        {
         "hoverinfo": "none",
         "line": {
          "color": "rgba(150, 150, 150, 1)",
          "width": 1.5
         },
         "mode": "lines",
         "showlegend": false,
         "type": "scatter",
         "x": [
          295.71025168815225,
          310.62001227747083
         ],
         "y": [
          309.03839732888144,
          327.9799666110183
         ]
        },
        {
         "hoverinfo": "none",
         "line": {
          "color": "rgba(150, 150, 150, 1)",
          "width": 1.5
         },
         "mode": "lines",
         "showlegend": false,
         "type": "scatter",
         "x": [
          342.92449355432785,
          310.62001227747083
         ],
         "y": [
          318.6644407345576,
          327.9799666110183
         ]
        },
        {
         "hoverinfo": "none",
         "line": {
          "color": "rgba(150, 150, 150, 1)",
          "width": 1.5
         },
         "mode": "lines",
         "showlegend": false,
         "type": "scatter",
         "x": [
          460.96009821976673,
          315.5899324739104
         ],
         "y": [
          247.86644407345574,
          254.07679465776295
         ]
        },
        {
         "hoverinfo": "none",
         "line": {
          "color": "rgba(150, 150, 150, 1)",
          "width": 1.5
         },
         "mode": "lines",
         "showlegend": false,
         "type": "scatter",
         "x": [
          356.2811540822591,
          393.2449355432781
         ],
         "y": [
          232.9616026711185,
          172.72120200333887
         ]
        },
        {
         "hoverinfo": "none",
         "line": {
          "color": "rgba(150, 150, 150, 1)",
          "width": 1.5
         },
         "mode": "lines",
         "showlegend": false,
         "type": "scatter",
         "x": [
          279.55801104972375,
          315.5899324739104
         ],
         "y": [
          251.59265442404006,
          254.07679465776295
         ]
        },
        {
         "hoverinfo": "none",
         "line": {
          "color": "rgba(150, 150, 150, 1)",
          "width": 1.5
         },
         "mode": "lines",
         "showlegend": false,
         "type": "scatter",
         "x": [
          267.1332105586249,
          209.35788827501537
         ],
         "y": [
          187.93656093489147,
          151.60601001669448
         ]
        },
        {
         "hoverinfo": "none",
         "line": {
          "color": "rgba(150, 150, 150, 1)",
          "width": 1.5
         },
         "mode": "lines",
         "showlegend": false,
         "type": "scatter",
         "x": [
          359.3873542050338,
          393.2449355432781
         ],
         "y": [
          186.0734557595993,
          172.72120200333887
         ]
        },
        {
         "hoverinfo": "none",
         "line": {
          "color": "rgba(150, 150, 150, 1)",
          "width": 1.5
         },
         "mode": "lines",
         "showlegend": false,
         "type": "scatter",
         "x": [
          315.90055248618785,
          395.4192756292204
         ],
         "y": [
          104.71786310517518,
          54.724540901502394
         ]
        },
        {
         "hoverinfo": "none",
         "line": {
          "color": "rgba(150, 150, 150, 1)",
          "width": 1.5
         },
         "mode": "lines",
         "showlegend": false,
         "type": "scatter",
         "x": [
          416.2308164518109,
          395.4192756292204
         ],
         "y": [
          107.20200333889812,
          54.724540901502394
         ]
        },
        {
         "hoverinfo": "none",
         "line": {
          "color": "rgba(150, 150, 150, 1)",
          "width": 1.5
         },
         "mode": "lines",
         "showlegend": false,
         "type": "scatter",
         "x": [
          451.3308778391652,
          395.4192756292204
         ],
         "y": [
          76.77128547579298,
          54.724540901502394
         ]
        },
        {
         "hoverinfo": "none",
         "line": {
          "color": "rgba(150, 150, 150, 1)",
          "width": 1.5
         },
         "mode": "lines",
         "showlegend": false,
         "type": "scatter",
         "x": [
          375.2289748311848,
          395.4192756292204
         ],
         "y": [
          58.761268781302135,
          54.724540901502394
         ]
        },
        {
         "hoverinfo": "none",
         "line": {
          "color": "rgba(150, 150, 150, 1)",
          "width": 1.5
         },
         "mode": "lines",
         "showlegend": false,
         "type": "scatter",
         "x": [
          233.89686924493557,
          209.35788827501537
         ],
         "y": [
          69.31886477462433,
          151.60601001669448
         ]
        },
        {
         "hoverinfo": "none",
         "line": {
          "color": "rgba(150, 150, 150, 1)",
          "width": 1.5
         },
         "mode": "lines",
         "showlegend": false,
         "type": "scatter",
         "x": [
          193.82688766114185,
          209.35788827501537
         ],
         "y": [
          103.47579298831391,
          151.60601001669448
         ]
        },
        {
         "hoverinfo": "none",
         "line": {
          "color": "rgba(150, 150, 150, 1)",
          "width": 1.5
         },
         "mode": "lines",
         "showlegend": false,
         "type": "scatter",
         "x": [
          375.2289748311848,
          393.2449355432781
         ],
         "y": [
          152.53756260434062,
          172.72120200333887
         ]
        },
        {
         "hoverinfo": "none",
         "line": {
          "color": "rgba(150, 150, 150, 1)",
          "width": 1.5
         },
         "mode": "lines",
         "showlegend": false,
         "type": "scatter",
         "x": [
          392.0024554941682,
          315.5899324739104
         ],
         "y": [
          293.8230383973288,
          254.07679465776295
         ]
        },
        {
         "hoverinfo": "none",
         "line": {
          "color": "rgba(150, 150, 150, 1)",
          "width": 1.5
         },
         "mode": "lines",
         "showlegend": false,
         "type": "scatter",
         "x": [
          391.38121546961327,
          310.62001227747083
         ],
         "y": [
          364,
          327.9799666110183
         ]
        },
        {
         "hoverinfo": "none",
         "line": {
          "color": "rgba(150, 150, 150, 1)",
          "width": 1.5
         },
         "mode": "lines",
         "showlegend": false,
         "type": "scatter",
         "x": [
          278.62615101289134,
          164.62860650705954
         ],
         "y": [
          444.42404006677793,
          419.5826377295492
         ]
        },
        {
         "hovertemplate": [
          "ReLU Realty<br>Demand: 25.0",
          "Lift and Project Gym<br>Demand: 25.0",
          "Reinforcement Learning Puppy Training<br>Demand: 15.0",
          "KKT Air Conditioning<br>Demand: 70.0",
          "Linear Regression Psychology Services<br>Demand: 10.0",
          "George's Basic Diet Solutions<br>Demand: 10.0",
          "MILP Mart<br>Demand: 35.0",
          "Rothberg Tower<br>Demand: 20.0",
          "Multimodal Distribution Center<br>Demand: 35.0",
          "Callback Cat Café<br>Demand: 65.0",
          "Toy Problems 'ᴙ' Us<br>Demand: 45.0",
          "Complex Complex<br>Demand: 30.0",
          "Gurobi Polytope<br>Demand: 15.0",
          "Vertex Tower<br>Demand: 45.0",
          "Fourier Transform Towers<br>Demand: 35.0",
          "Nonlinear Thinking Center<br>Demand: 75.0",
          "Bixby Hall<br>Demand: 40.0",
          "Interior Point Decorating<br>Demand: 50.0",
          "Scheduling Station<br>Demand: 60.0",
          "Numerical Issues Zoo<br>Demand: 70.0",
          "Multi-Threads Thrift Store<br>Demand: 30.0",
          "Bin Packing Post Office<br>Demand: 15.0",
          "Land & Harcourt's B&B<br>Demand: 45.0",
          "K-Fold Parking Validation<br>Demand: 60.0",
          "Bias & Variance Courthouse<br>Demand: 60.0",
          "Logistic Regression Couriers<br>Demand: 70.0",
          "Cutting Plane Woodworks<br>Demand: 50.0",
          "Farkas' Lemma-nade<br>Demand: 65.0",
          "Gu Library<br>Demand: 50.0"
         ],
         "marker": {
          "color": "red",
          "line": {
           "width": 0
          },
          "opacity": 0.7,
          "size": [
           12.5,
           12.5,
           7.5,
           35,
           5,
           5,
           17.5,
           10,
           17.5,
           32.5,
           22.5,
           15,
           7.5,
           22.5,
           17.5,
           37.5,
           20,
           25,
           30,
           35,
           15,
           7.5,
           22.5,
           30,
           30,
           35,
           25,
           32.5,
           25
          ]
         },
         "mode": "markers",
         "name": "Demand Point",
         "type": "scatter",
         "x": [
          190.72068753836712,
          454.7476979742173,
          284.8385512584408,
          256.57213014119094,
          315.2793124616329,
          213.70656844689995,
          176.7427869858809,
          129.21792510742787,
          68.02578268876611,
          187.6144874155924,
          152.2038060159607,
          239.48802946593003,
          295.71025168815225,
          342.92449355432785,
          460.96009821976673,
          356.2811540822591,
          279.55801104972375,
          267.1332105586249,
          359.3873542050338,
          315.90055248618785,
          416.2308164518109,
          451.3308778391652,
          375.2289748311848,
          233.89686924493557,
          193.82688766114185,
          375.2289748311848,
          392.0024554941682,
          391.38121546961327,
          278.62615101289134
         ],
         "y": [
          477.338898163606,
          368.96828046744577,
          361.20534223706176,
          391.9465776293823,
          386.35726210350583,
          389.46243739565944,
          363.0684474123539,
          381.38898163606007,
          320.21702838063436,
          327.3589315525876,
          304.6911519198664,
          303.1385642737896,
          309.03839732888144,
          318.6644407345576,
          247.86644407345574,
          232.9616026711185,
          251.59265442404006,
          187.93656093489147,
          186.0734557595993,
          104.71786310517518,
          107.20200333889812,
          76.77128547579298,
          58.761268781302135,
          69.31886477462433,
          103.47579298831391,
          152.53756260434062,
          293.8230383973288,
          364,
          444.42404006677793
         ]
        },
        {
         "hovertemplate": [
          "truck33",
          "truck34",
          "truck43",
          "truck49",
          "truck1",
          "truck8",
          "truck6",
          "truck53",
          "truck44",
          "truck45",
          "truck36",
          "truck54",
          "truck29",
          "truck37",
          "truck35",
          "truck7",
          "truck17",
          "truck15",
          "truck27",
          "truck23"
         ],
         "marker": {
          "color": "rgba(135, 206, 250, 0.3)",
          "line": {
           "color": "darkblue",
           "width": 1
          },
          "size": 10,
          "symbol": "circle"
         },
         "mode": "markers",
         "name": "Available Location",
         "type": "scatter",
         "x": [
          393.2449355432781,
          337.9545733578883,
          290.42971147943524,
          492.6433394720688,
          112.75506445672193,
          164.62860650705954,
          56.22222222222222,
          209.35788827501537,
          315.5899324739104,
          395.4192756292204,
          303.16513198281154,
          320.5598526703499,
          296.0208717004297,
          209.35788827501537,
          288.8766114180479,
          113.0656844689994,
          310.62001227747083,
          210.60036832412524,
          173.94720687538367,
          128.59668508287294
         ],
         "y": [
          172.72120200333887,
          154.71118530884797,
          43.235392320534174,
          70.25041736227041,
          491.9332220367279,
          419.5826377295492,
          420.51419031719536,
          269.9131886477462,
          254.07679465776295,
          54.724540901502394,
          135.14858096828038,
          276.4340567612688,
          199.1151919866444,
          151.60601001669448,
          164.6477462437395,
          418.9616026711185,
          327.9799666110183,
          342.8848080133556,
          209.67278797996659,
          286.0601001669449
         ]
        },
        {
         "hovertemplate": [
          "truck44<br>Small (New)",
          "truck8<br>Small (Maintained)",
          "truck23<br>Small (New)"
         ],
         "marker": {
          "color": [
           "green",
           "blue",
           "green"
          ],
          "line": {
           "color": "black",
           "width": 1
          },
          "size": 12,
          "symbol": "triangle-up"
         },
         "mode": "markers",
         "name": "Small Trucks",
         "type": "scatter",
         "x": [
          315.5899324739104,
          164.62860650705954,
          128.59668508287294
         ],
         "y": [
          254.07679465776295,
          419.5826377295492,
          286.0601001669449
         ]
        },
        {
         "hovertemplate": [
          "truck17<br>Medium (Maintained)",
          "truck37<br>Medium (Maintained)",
          "truck45<br>Medium (New)"
         ],
         "marker": {
          "color": [
           "blue",
           "blue",
           "green"
          ],
          "line": {
           "color": "black",
           "width": 1
          },
          "size": 12,
          "symbol": "square"
         },
         "mode": "markers",
         "name": "Medium Trucks",
         "type": "scatter",
         "x": [
          310.62001227747083,
          209.35788827501537,
          395.4192756292204
         ],
         "y": [
          327.9799666110183,
          151.60601001669448,
          54.724540901502394
         ]
        },
        {
         "hovertemplate": [
          "truck33<br>Large (Maintained)",
          "truck15<br>Large (New)"
         ],
         "marker": {
          "color": [
           "blue",
           "green"
          ],
          "line": {
           "color": "black",
           "width": 1
          },
          "size": 12,
          "symbol": "circle"
         },
         "mode": "markers",
         "name": "Large Trucks",
         "type": "scatter",
         "x": [
          393.2449355432781,
          210.60036832412524
         ],
         "y": [
          172.72120200333887,
          342.8848080133556
         ]
        }
       ],
       "layout": {
        "images": [
         {
          "layer": "below",
          "opacity": 0.9,
          "sizex": 500,
          "sizey": 550,
          "sizing": "stretch",
          "source": "data:image/png;base64,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",
          "x": 0,
          "xref": "x",
          "y": 550,
          "yref": "y"
         }
        ],
        "legend": {
         "orientation": "h",
         "x": 1,
         "xanchor": "right",
         "y": 1.02,
         "yanchor": "bottom"
        },
        "showlegend": true,
        "template": {
         "data": {
          "bar": [
           {
            "error_x": {
             "color": "rgb(36,36,36)"
            },
            "error_y": {
             "color": "rgb(36,36,36)"
            },
            "marker": {
             "line": {
              "color": "white",
              "width": 0.5
             },
             "pattern": {
              "fillmode": "overlay",
              "size": 10,
              "solidity": 0.2
             }
            },
            "type": "bar"
           }
          ],
          "barpolar": [
           {
            "marker": {
             "line": {
              "color": "white",
              "width": 0.5
             },
             "pattern": {
              "fillmode": "overlay",
              "size": 10,
              "solidity": 0.2
             }
            },
            "type": "barpolar"
           }
          ],
          "carpet": [
           {
            "aaxis": {
             "endlinecolor": "rgb(36,36,36)",
             "gridcolor": "white",
             "linecolor": "white",
             "minorgridcolor": "white",
             "startlinecolor": "rgb(36,36,36)"
            },
            "baxis": {
             "endlinecolor": "rgb(36,36,36)",
             "gridcolor": "white",
             "linecolor": "white",
             "minorgridcolor": "white",
             "startlinecolor": "rgb(36,36,36)"
            },
            "type": "carpet"
           }
          ],
          "choropleth": [
           {
            "colorbar": {
             "outlinewidth": 1,
             "tickcolor": "rgb(36,36,36)",
             "ticks": "outside"
            },
            "type": "choropleth"
           }
          ],
          "contour": [
           {
            "colorbar": {
             "outlinewidth": 1,
             "tickcolor": "rgb(36,36,36)",
             "ticks": "outside"
            },
            "colorscale": [
             [
              0,
              "#440154"
             ],
             [
              0.1111111111111111,
              "#482878"
             ],
             [
              0.2222222222222222,
              "#3e4989"
             ],
             [
              0.3333333333333333,
              "#31688e"
             ],
             [
              0.4444444444444444,
              "#26828e"
             ],
             [
              0.5555555555555556,
              "#1f9e89"
             ],
             [
              0.6666666666666666,
              "#35b779"
             ],
             [
              0.7777777777777778,
              "#6ece58"
             ],
             [
              0.8888888888888888,
              "#b5de2b"
             ],
             [
              1,
              "#fde725"
             ]
            ],
            "type": "contour"
           }
          ],
          "contourcarpet": [
           {
            "colorbar": {
             "outlinewidth": 1,
             "tickcolor": "rgb(36,36,36)",
             "ticks": "outside"
            },
            "type": "contourcarpet"
           }
          ],
          "heatmap": [
           {
            "colorbar": {
             "outlinewidth": 1,
             "tickcolor": "rgb(36,36,36)",
             "ticks": "outside"
            },
            "colorscale": [
             [
              0,
              "#440154"
             ],
             [
              0.1111111111111111,
              "#482878"
             ],
             [
              0.2222222222222222,
              "#3e4989"
             ],
             [
              0.3333333333333333,
              "#31688e"
             ],
             [
              0.4444444444444444,
              "#26828e"
             ],
             [
              0.5555555555555556,
              "#1f9e89"
             ],
             [
              0.6666666666666666,
              "#35b779"
             ],
             [
              0.7777777777777778,
              "#6ece58"
             ],
             [
              0.8888888888888888,
              "#b5de2b"
             ],
             [
              1,
              "#fde725"
             ]
            ],
            "type": "heatmap"
           }
          ],
          "histogram": [
           {
            "marker": {
             "line": {
              "color": "white",
              "width": 0.6
             }
            },
            "type": "histogram"
           }
          ],
          "histogram2d": [
           {
            "colorbar": {
             "outlinewidth": 1,
             "tickcolor": "rgb(36,36,36)",
             "ticks": "outside"
            },
            "colorscale": [
             [
              0,
              "#440154"
             ],
             [
              0.1111111111111111,
              "#482878"
             ],
             [
              0.2222222222222222,
              "#3e4989"
             ],
             [
              0.3333333333333333,
              "#31688e"
             ],
             [
              0.4444444444444444,
              "#26828e"
             ],
             [
              0.5555555555555556,
              "#1f9e89"
             ],
             [
              0.6666666666666666,
              "#35b779"
             ],
             [
              0.7777777777777778,
              "#6ece58"
             ],
             [
              0.8888888888888888,
              "#b5de2b"
             ],
             [
              1,
              "#fde725"
             ]
            ],
            "type": "histogram2d"
           }
          ],
          "histogram2dcontour": [
           {
            "colorbar": {
             "outlinewidth": 1,
             "tickcolor": "rgb(36,36,36)",
             "ticks": "outside"
            },
            "colorscale": [
             [
              0,
              "#440154"
             ],
             [
              0.1111111111111111,
              "#482878"
             ],
             [
              0.2222222222222222,
              "#3e4989"
             ],
             [
              0.3333333333333333,
              "#31688e"
             ],
             [
              0.4444444444444444,
              "#26828e"
             ],
             [
              0.5555555555555556,
              "#1f9e89"
             ],
             [
              0.6666666666666666,
              "#35b779"
             ],
             [
              0.7777777777777778,
              "#6ece58"
             ],
             [
              0.8888888888888888,
              "#b5de2b"
             ],
             [
              1,
              "#fde725"
             ]
            ],
            "type": "histogram2dcontour"
           }
          ],
          "mesh3d": [
           {
            "colorbar": {
             "outlinewidth": 1,
             "tickcolor": "rgb(36,36,36)",
             "ticks": "outside"
            },
            "type": "mesh3d"
           }
          ],
          "parcoords": [
           {
            "line": {
             "colorbar": {
              "outlinewidth": 1,
              "tickcolor": "rgb(36,36,36)",
              "ticks": "outside"
             }
            },
            "type": "parcoords"
           }
          ],
          "pie": [
           {
            "automargin": true,
            "type": "pie"
           }
          ],
          "scatter": [
           {
            "fillpattern": {
             "fillmode": "overlay",
             "size": 10,
             "solidity": 0.2
            },
            "type": "scatter"
           }
          ],
          "scatter3d": [
           {
            "line": {
             "colorbar": {
              "outlinewidth": 1,
              "tickcolor": "rgb(36,36,36)",
              "ticks": "outside"
             }
            },
            "marker": {
             "colorbar": {
              "outlinewidth": 1,
              "tickcolor": "rgb(36,36,36)",
              "ticks": "outside"
             }
            },
            "type": "scatter3d"
           }
          ],
          "scattercarpet": [
           {
            "marker": {
             "colorbar": {
              "outlinewidth": 1,
              "tickcolor": "rgb(36,36,36)",
              "ticks": "outside"
             }
            },
            "type": "scattercarpet"
           }
          ],
          "scattergeo": [
           {
            "marker": {
             "colorbar": {
              "outlinewidth": 1,
              "tickcolor": "rgb(36,36,36)",
              "ticks": "outside"
             }
            },
            "type": "scattergeo"
           }
          ],
          "scattergl": [
           {
            "marker": {
             "colorbar": {
              "outlinewidth": 1,
              "tickcolor": "rgb(36,36,36)",
              "ticks": "outside"
             }
            },
            "type": "scattergl"
           }
          ],
          "scattermap": [
           {
            "marker": {
             "colorbar": {
              "outlinewidth": 1,
              "tickcolor": "rgb(36,36,36)",
              "ticks": "outside"
             }
            },
            "type": "scattermap"
           }
          ],
          "scattermapbox": [
           {
            "marker": {
             "colorbar": {
              "outlinewidth": 1,
              "tickcolor": "rgb(36,36,36)",
              "ticks": "outside"
             }
            },
            "type": "scattermapbox"
           }
          ],
          "scatterpolar": [
           {
            "marker": {
             "colorbar": {
              "outlinewidth": 1,
              "tickcolor": "rgb(36,36,36)",
              "ticks": "outside"
             }
            },
            "type": "scatterpolar"
           }
          ],
          "scatterpolargl": [
           {
            "marker": {
             "colorbar": {
              "outlinewidth": 1,
              "tickcolor": "rgb(36,36,36)",
              "ticks": "outside"
             }
            },
            "type": "scatterpolargl"
           }
          ],
          "scatterternary": [
           {
            "marker": {
             "colorbar": {
              "outlinewidth": 1,
              "tickcolor": "rgb(36,36,36)",
              "ticks": "outside"
             }
            },
            "type": "scatterternary"
           }
          ],
          "surface": [
           {
            "colorbar": {
             "outlinewidth": 1,
             "tickcolor": "rgb(36,36,36)",
             "ticks": "outside"
            },
            "colorscale": [
             [
              0,
              "#440154"
             ],
             [
              0.1111111111111111,
              "#482878"
             ],
             [
              0.2222222222222222,
              "#3e4989"
             ],
             [
              0.3333333333333333,
              "#31688e"
             ],
             [
              0.4444444444444444,
              "#26828e"
             ],
             [
              0.5555555555555556,
              "#1f9e89"
             ],
             [
              0.6666666666666666,
              "#35b779"
             ],
             [
              0.7777777777777778,
              "#6ece58"
             ],
             [
              0.8888888888888888,
              "#b5de2b"
             ],
             [
              1,
              "#fde725"
             ]
            ],
            "type": "surface"
           }
          ],
          "table": [
           {
            "cells": {
             "fill": {
              "color": "rgb(237,237,237)"
             },
             "line": {
              "color": "white"
             }
            },
            "header": {
             "fill": {
              "color": "rgb(217,217,217)"
             },
             "line": {
              "color": "white"
             }
            },
            "type": "table"
           }
          ]
         },
         "layout": {
          "annotationdefaults": {
           "arrowhead": 0,
           "arrowwidth": 1
          },
          "autotypenumbers": "strict",
          "coloraxis": {
           "colorbar": {
            "outlinewidth": 1,
            "tickcolor": "rgb(36,36,36)",
            "ticks": "outside"
           }
          },
          "colorscale": {
           "diverging": [
            [
             0,
             "rgb(103,0,31)"
            ],
            [
             0.1,
             "rgb(178,24,43)"
            ],
            [
             0.2,
             "rgb(214,96,77)"
            ],
            [
             0.3,
             "rgb(244,165,130)"
            ],
            [
             0.4,
             "rgb(253,219,199)"
            ],
            [
             0.5,
             "rgb(247,247,247)"
            ],
            [
             0.6,
             "rgb(209,229,240)"
            ],
            [
             0.7,
             "rgb(146,197,222)"
            ],
            [
             0.8,
             "rgb(67,147,195)"
            ],
            [
             0.9,
             "rgb(33,102,172)"
            ],
            [
             1,
             "rgb(5,48,97)"
            ]
           ],
           "sequential": [
            [
             0,
             "#440154"
            ],
            [
             0.1111111111111111,
             "#482878"
            ],
            [
             0.2222222222222222,
             "#3e4989"
            ],
            [
             0.3333333333333333,
             "#31688e"
            ],
            [
             0.4444444444444444,
             "#26828e"
            ],
            [
             0.5555555555555556,
             "#1f9e89"
            ],
            [
             0.6666666666666666,
             "#35b779"
            ],
            [
             0.7777777777777778,
             "#6ece58"
            ],
            [
             0.8888888888888888,
             "#b5de2b"
            ],
            [
             1,
             "#fde725"
            ]
           ],
           "sequentialminus": [
            [
             0,
             "#440154"
            ],
            [
             0.1111111111111111,
             "#482878"
            ],
            [
             0.2222222222222222,
             "#3e4989"
            ],
            [
             0.3333333333333333,
             "#31688e"
            ],
            [
             0.4444444444444444,
             "#26828e"
            ],
            [
             0.5555555555555556,
             "#1f9e89"
            ],
            [
             0.6666666666666666,
             "#35b779"
            ],
            [
             0.7777777777777778,
             "#6ece58"
            ],
            [
             0.8888888888888888,
             "#b5de2b"
            ],
            [
             1,
             "#fde725"
            ]
           ]
          },
          "colorway": [
           "#1F77B4",
           "#FF7F0E",
           "#2CA02C",
           "#D62728",
           "#9467BD",
           "#8C564B",
           "#E377C2",
           "#7F7F7F",
           "#BCBD22",
           "#17BECF"
          ],
          "font": {
           "color": "rgb(36,36,36)"
          },
          "geo": {
           "bgcolor": "white",
           "lakecolor": "white",
           "landcolor": "white",
           "showlakes": true,
           "showland": true,
           "subunitcolor": "white"
          },
          "hoverlabel": {
           "align": "left"
          },
          "hovermode": "closest",
          "mapbox": {
           "style": "light"
          },
          "paper_bgcolor": "white",
          "plot_bgcolor": "white",
          "polar": {
           "angularaxis": {
            "gridcolor": "rgb(232,232,232)",
            "linecolor": "rgb(36,36,36)",
            "showgrid": false,
            "showline": true,
            "ticks": "outside"
           },
           "bgcolor": "white",
           "radialaxis": {
            "gridcolor": "rgb(232,232,232)",
            "linecolor": "rgb(36,36,36)",
            "showgrid": false,
            "showline": true,
            "ticks": "outside"
           }
          },
          "scene": {
           "xaxis": {
            "backgroundcolor": "white",
            "gridcolor": "rgb(232,232,232)",
            "gridwidth": 2,
            "linecolor": "rgb(36,36,36)",
            "showbackground": true,
            "showgrid": false,
            "showline": true,
            "ticks": "outside",
            "zeroline": false,
            "zerolinecolor": "rgb(36,36,36)"
           },
           "yaxis": {
            "backgroundcolor": "white",
            "gridcolor": "rgb(232,232,232)",
            "gridwidth": 2,
            "linecolor": "rgb(36,36,36)",
            "showbackground": true,
            "showgrid": false,
            "showline": true,
            "ticks": "outside",
            "zeroline": false,
            "zerolinecolor": "rgb(36,36,36)"
           },
           "zaxis": {
            "backgroundcolor": "white",
            "gridcolor": "rgb(232,232,232)",
            "gridwidth": 2,
            "linecolor": "rgb(36,36,36)",
            "showbackground": true,
            "showgrid": false,
            "showline": true,
            "ticks": "outside",
            "zeroline": false,
            "zerolinecolor": "rgb(36,36,36)"
           }
          },
          "shapedefaults": {
           "fillcolor": "black",
           "line": {
            "width": 0
           },
           "opacity": 0.3
          },
          "ternary": {
           "aaxis": {
            "gridcolor": "rgb(232,232,232)",
            "linecolor": "rgb(36,36,36)",
            "showgrid": false,
            "showline": true,
            "ticks": "outside"
           },
           "baxis": {
            "gridcolor": "rgb(232,232,232)",
            "linecolor": "rgb(36,36,36)",
            "showgrid": false,
            "showline": true,
            "ticks": "outside"
           },
           "bgcolor": "white",
           "caxis": {
            "gridcolor": "rgb(232,232,232)",
            "linecolor": "rgb(36,36,36)",
            "showgrid": false,
            "showline": true,
            "ticks": "outside"
           }
          },
          "title": {
           "x": 0.05
          },
          "xaxis": {
           "automargin": true,
           "gridcolor": "rgb(232,232,232)",
           "linecolor": "rgb(36,36,36)",
           "showgrid": false,
           "showline": true,
           "ticks": "outside",
           "title": {
            "standoff": 15
           },
           "zeroline": false,
           "zerolinecolor": "rgb(36,36,36)"
          },
          "yaxis": {
           "automargin": true,
           "gridcolor": "rgb(232,232,232)",
           "linecolor": "rgb(36,36,36)",
           "showgrid": false,
           "showline": true,
           "ticks": "outside",
           "title": {
            "standoff": 15
           },
           "zeroline": false,
           "zerolinecolor": "rgb(36,36,36)"
          }
         }
        },
        "title": {
         "text": "Burrito Map - Day day7"
        },
        "xaxis": {
         "range": [
          0,
          500
         ],
         "visible": false
        },
        "yaxis": {
         "range": [
          0,
          550
         ],
         "scaleanchor": "x",
         "scaleratio": 1,
         "visible": false
        }
       }
      }
     },
     "metadata": {},
     "output_type": "display_data"
    }
   ],
   "source": [
    "# ================== Revised Multi-Period Optimization Model ==================\n",
    "def multi_period_optimization(data, truck_types, maintenance_cost_ratio=0.8, \n",
    "                            max_distance=500, work_name=\"MultiPeriod\", \n",
    "                            write_lp=True, show_model=True, is_show_map=True):\n",
    "    \"\"\"Optimization model with fixed indexing errors\"\"\"\n",
    "    days = sorted(data.keys())\n",
    "    model = gp.Model(\"MultiPeriod_Deployment\")\n",
    "    model.Params.OutputFlag = int(show_model)\n",
    "    \n",
    "    print(\"\\n\" + \"=\"*50)\n",
    "    print(f\"Starting to build multi-period model (Total {len(days)} days)\")\n",
    "    print(f\"Truck types: {len(truck_types)} | Max distance: {max_distance}m\")\n",
    "    print(\"=\"*50 + \"\\n\")\n",
    "    \n",
    "    # --- Decision Variables ---\n",
    "    print(\"Creating decision variables...\")\n",
    "    start_time = time.time()\n",
    "    \n",
    "    # Use unified complete set of truck locations\n",
    "    all_truck_spots = set()\n",
    "    for day_data in data.values():\n",
    "        all_truck_spots.update(day_data['truck_coordinates'].keys())\n",
    "    all_truck_spots = list(all_truck_spots)\n",
    "    \n",
    "    # x[k,j,t]\n",
    "    x = model.addVars(\n",
    "        [(k, j, t) for k in truck_types \n",
    "                   for j in all_truck_spots \n",
    "                   for t in days],\n",
    "        vtype=GRB.BINARY, name=\"x\"\n",
    "    )\n",
    "    \n",
    "    # y[i,j,t]\n",
    "    y = model.addVars(\n",
    "        [(i, j, t) for t in days \n",
    "                   for i,j in data[t]['pairs']],\n",
    "        vtype=GRB.BINARY, name=\"y\"\n",
    "    )\n",
    "    \n",
    "    # u[k,j,t]\n",
    "    u = model.addVars(\n",
    "        [(k, j, t) for k in truck_types \n",
    "                   for j in all_truck_spots \n",
    "                   for t in days[1:]],\n",
    "        vtype=GRB.BINARY, name=\"u\"\n",
    "    )\n",
    "    \n",
    "    print(f\"Variables created | Time: {time.time()-start_time:.2f}s\")\n",
    "    print(f\"  - Deployment variables x: {len(x)}\")\n",
    "    print(f\"  - Service variables y: {len(y)}\")\n",
    "    print(f\"  - State change variables u: {len(u)}\")\n",
    "    \n",
    "    # --- Objective Function ---\n",
    "    print(\"\\nBuilding objective function...\")\n",
    "    start_time = time.time()\n",
    "    \n",
    "    revenue = gp.quicksum(\n",
    "        (data[t]['burrito_price'] - data[t]['ingredient_cost']) * \n",
    "        data[t]['scaled_demand'][i,j] * y[i,j,t]\n",
    "        for t in days for i,j in data[t]['pairs']\n",
    "    )\n",
    "    \n",
    "    maintenance_cost = gp.quicksum(\n",
    "        (maintenance_cost_ratio * truck_types[k]['fixed_cost']) * (x[k,j,t] - u[k,j,t])\n",
    "        for k in truck_types for j in all_truck_spots for t in days[1:]\n",
    "    )\n",
    "    \n",
    "    deployment_cost = gp.quicksum(\n",
    "        truck_types[k]['fixed_cost'] * u[k,j,t]\n",
    "        for k in truck_types for j in all_truck_spots for t in days[1:]\n",
    "    ) + gp.quicksum(\n",
    "        truck_types[k]['fixed_cost'] * x[k,j,days[0]]\n",
    "        for k in truck_types for j in all_truck_spots\n",
    "    )\n",
    "    \n",
    "    model.setObjective(revenue - (maintenance_cost + deployment_cost), GRB.MAXIMIZE)\n",
    "    print(f\"Objective function built | Time: {time.time()-start_time:.2f}s\")\n",
    "    \n",
    "    # --- Constraints ---\n",
    "    print(\"\\nBuilding constraints...\")\n",
    "    start_time = time.time()\n",
    "    \n",
    "    # State transition constraints (using clearer XOR implementation)\n",
    "    print(\"  - State transition constraints...\")\n",
    "    for k in truck_types:\n",
    "        for j in all_truck_spots:\n",
    "            for t in days[1:]:\n",
    "                prev_day = days[days.index(t)-1]\n",
    "                # Method 1: Use Gurobi built-in XOR (recommended)\n",
    "                if hasattr(model, 'addGenConstrXor'):\n",
    "                    model.addGenConstrXor(\n",
    "                        [x[k,j,t]], [x[k,j,prev_day]], \n",
    "                        u[k,j,t],\n",
    "                        name=f\"StateChangeXOR_{k}_{j}_{t}\"\n",
    "                    )\n",
    "                # Method 2: Linearization method (backward compatible)\n",
    "                else:\n",
    "                    model.addConstr(\n",
    "                        u[k,j,t] >= x[k,j,t] - x[k,j,prev_day],\n",
    "                        name=f\"StateChange1_{k}_{j}_{t}\"\n",
    "                    )\n",
    "                    model.addConstr(\n",
    "                        u[k,j,t] >= x[k,j,prev_day] - x[k,j,t],\n",
    "                        name=f\"StateChange2_{k}_{j}_{t}\"\n",
    "                    )\n",
    "                    model.addConstr(\n",
    "                        u[k,j,t] <= x[k,j,t] + x[k,j,prev_day],\n",
    "                        name=f\"StateChange3_{k}_{j}_{t}\"\n",
    "                    )\n",
    "                    model.addConstr(\n",
    "                        u[k,j,t] <= 2 - x[k,j,t] - x[k,j,prev_day],\n",
    "                        name=f\"StateChange4_{k}_{j}_{t}\"\n",
    "                    )\n",
    "    \n",
    "    # 2. Daily constraints\n",
    "    for t in days:\n",
    "        print(f\"  - Day {t} constraints...\")\n",
    "        current_truck_spots = set(data[t]['truck_coordinates'].keys())\n",
    "        \n",
    "        # Single service constraint\n",
    "        model.addConstrs(\n",
    "            (gp.quicksum(y[i,j,t] for j in current_truck_spots if (i,j) in data[t]['pairs']) <= 1\n",
    "            for i in data[t]['buildings']),\n",
    "            name=f\"SingleService_{t}\"\n",
    "        )\n",
    "        \n",
    "        # Service activation (only for currently available truck spots)\n",
    "        model.addConstrs(\n",
    "            (y[i,j,t] <= gp.quicksum(x[k,j,t] for k in truck_types if j in current_truck_spots)\n",
    "            for i,j in data[t]['pairs']),\n",
    "            name=f\"Activation_{t}\"\n",
    "        )\n",
    "        \n",
    "        # Distance constraint\n",
    "        model.addConstrs(\n",
    "            (y[i,j,t] * data[t]['distance'][i,j] <= max_distance\n",
    "            for i,j in data[t]['pairs']),\n",
    "            name=f\"Distance_{t}\"\n",
    "        )\n",
    "        \n",
    "        # Capacity constraint (only for currently available truck spots)\n",
    "        model.addConstrs(\n",
    "            (gp.quicksum(\n",
    "                data[t]['scaled_demand'][i,j] * y[i,j,t] \n",
    "                for i in data[t]['buildings'] if (i,j) in data[t]['pairs']\n",
    "            ) <= gp.quicksum(\n",
    "                truck_types[k]['capacity'] * x[k,j,t] \n",
    "                for k in truck_types if j in current_truck_spots\n",
    "            ) for j in current_truck_spots),\n",
    "            name=f\"Capacity_{t}\"\n",
    "        )\n",
    "        \n",
    "        # Truck type uniqueness\n",
    "        model.addConstrs(\n",
    "            (gp.quicksum(x[k,j,t] for k in truck_types if j in current_truck_spots) <= 1\n",
    "            for j in current_truck_spots),\n",
    "            name=f\"Uniqueness_{t}\"\n",
    "        )\n",
    "    \n",
    "    print(f\"Constraints built | Total constraints: {model.NumConstrs} | Time: {time.time()-start_time:.2f}s\")\n",
    "    \n",
    "    # --- Model Solving ---\n",
    "    if write_lp:\n",
    "        print(\"\\nWriting LP file...\")\n",
    "        model.write(f\"{work_name}.lp\")\n",
    "    \n",
    "    print(\"\\nStart solving...\")\n",
    "    start_time = time.time()\n",
    "    model.optimize()\n",
    "    print(f\"Solving completed | Status: {model.status} | Time: {time.time()-start_time:.2f}s\")\n",
    "    \n",
    "        # ================== Revised Result Analysis Section ==================\n",
    "    if model.status == GRB.OPTIMAL:\n",
    "        print(\"\\n\" + \"=\"*50)\n",
    "        print(f\"Optimal solution (Total profit: ₲{model.objVal:.2f})\")\n",
    "        print(\"=\"*50)\n",
    "\n",
    "        # Store all model variables for easy access\n",
    "        model._vars = {\n",
    "            'x': {(k,j,t): var for (k,j,t), var in x.items()},\n",
    "            'y': {(i,j,t): var for (i,j,t), var in y.items()},\n",
    "            'u': {(k,j,t): var for (k,j,t), var in u.items()}\n",
    "        }\n",
    "\n",
    "        for t in days:\n",
    "            current_truck_spots = set(data[t]['truck_coordinates'].keys())\n",
    "            print(f\"\\nDay {t}:\")\n",
    "\n",
    "            # Get all deployed trucks\n",
    "            deployed = [(k,j) for (k,j,t_day), var in x.items() \n",
    "                    if t_day == t and var.X > 0.5 and j in current_truck_spots]\n",
    "\n",
    "            # Determine new vs maintained deployments\n",
    "            if t == days[0]:  # First day\n",
    "                new_deploy = [j for k,j in deployed]  # All are new deployments\n",
    "                deploy_status = \"New\"\n",
    "            else:  # Day 2 and beyond\n",
    "                prev_day = days[days.index(t)-1]\n",
    "                new_deploy = [j for k,j in deployed \n",
    "                            if x[k,j,prev_day].X < 0.5]\n",
    "                deploy_status = f\"{len(new_deploy)} new, {len(deployed)-len(new_deploy)} maintained\"\n",
    "\n",
    "            # Calculate daily profit components\n",
    "            day_revenue = sum(\n",
    "                (data[t]['burrito_price'] - data[t]['ingredient_cost']) * \n",
    "                data[t]['scaled_demand'][i,j] * y[i,j,t].X\n",
    "                for i,j in data[t]['pairs'] if y[i,j,t].X > 0.5\n",
    "            )\n",
    "            \n",
    "            if t == days[0]:\n",
    "                day_cost = sum(\n",
    "                    truck_types[k]['fixed_cost'] * x[k,j,t].X\n",
    "                    for k in truck_types for j in all_truck_spots\n",
    "                    if x[k,j,t].X > 0.5\n",
    "                )\n",
    "            else:\n",
    "                day_cost = sum(\n",
    "                    (maintenance_cost_ratio * truck_types[k]['fixed_cost']) * (x[k,j,t].X - u[k,j,t].X) +\n",
    "                    truck_types[k]['fixed_cost'] * u[k,j,t].X\n",
    "                    for k in truck_types for j in all_truck_spots\n",
    "                    if x[k,j,t].X > 0.5\n",
    "                )\n",
    "            \n",
    "            day_profit = day_revenue - day_cost\n",
    "\n",
    "            print(f\"  - Deployed trucks: {len(deployed)} ({deploy_status})\")\n",
    "            print(f\"  - Daily profit: ₲{day_profit:.2f} (Revenue: ₲{day_revenue:.2f}, Cost: ₲{day_cost:.2f})\")\n",
    "            \n",
    "            # Print deployment details\n",
    "            for k,j in deployed:\n",
    "                status = \"New\" if (t == days[0] or j in new_deploy) else \"Maintained\"\n",
    "                typ = ['Small','Medium','Large'][k]\n",
    "                print(f\"    * Location {j}: {typ} ({status})\")\n",
    "\n",
    "            # Get matched pairs (i,j) where y[i,j,t] > 0.5\n",
    "            matched_pairs = [(i,j) for i,j in data[t]['pairs'] \n",
    "                            if (i,j,t) in y and y[i,j,t].X > 0.5]\n",
    "\n",
    "            # Get placed trucks (j) where x[k,j,t] > 0.5 for any k\n",
    "            placed_trucks = list({j for k,j in deployed})\n",
    "\n",
    "            # Visualization\n",
    "            if is_show_map:\n",
    "                update_show_map(\n",
    "                    buildings=data[t]['buildings'],\n",
    "                    building_names=data[t]['building_names'],\n",
    "                    building_coordinates=data[t]['building_coords'],\n",
    "                    demand=data[t]['demand'],\n",
    "                    truck_coordinates=data[t]['truck_coordinates'],\n",
    "                    placed_trucks=placed_trucks,\n",
    "                    matched_pairs=matched_pairs,\n",
    "                    truck_types=truck_types,\n",
    "                    day_data={\n",
    "                        'current_day': t,\n",
    "                        'days': days,\n",
    "                        'x': model._vars['x'],\n",
    "                        'y': model._vars['y']\n",
    "                    },\n",
    "                    model=model\n",
    "                )\n",
    "    \n",
    "    return model\n",
    "\n",
    "# ================== Main Execution Flow ==================\n",
    "if __name__ == \"__main__\":\n",
    "    # Define truck types\n",
    "    truck_types = {\n",
    "        0: {'capacity': 100, 'fixed_cost': 200, 'maintenance_cost': 40},  # Small\n",
    "        1: {'capacity': 150, 'fixed_cost': 250, 'maintenance_cost': 50},  # Medium\n",
    "        2: {'capacity': 200, 'fixed_cost': 300, 'maintenance_cost': 60}   # Large\n",
    "    }\n",
    "    \n",
    "    try:\n",
    "        # Load data\n",
    "        print(\"Start loading data...\")\n",
    "        all_data = load_multi_period_data(days=7)\n",
    "        \n",
    "        # Run optimization\n",
    "        model = multi_period_optimization(\n",
    "            all_data, truck_types,\n",
    "            maintenance_cost_ratio=0.8,\n",
    "            max_distance=500,\n",
    "            work_name=\"MultiPeriod_Opt\",\n",
    "            write_lp=True,\n",
    "            show_model=True,\n",
    "            is_show_map=True\n",
    "        )\n",
    "        \n",
    "    except Exception as e:\n",
    "        print(f\"\\n!!! Runtime error: {str(e)}\")\n",
    "        raise"
   ]
  }
 ],
 "metadata": {
  "kernelspec": {
   "display_name": "Python (py39)",
   "language": "python",
   "name": "py39"
  },
  "language_info": {
   "codemirror_mode": {
    "name": "ipython",
    "version": 3
   },
   "file_extension": ".py",
   "mimetype": "text/x-python",
   "name": "python",
   "nbconvert_exporter": "python",
   "pygments_lexer": "ipython3",
   "version": "3.9.15"
  }
 },
 "nbformat": 4,
 "nbformat_minor": 5
}
