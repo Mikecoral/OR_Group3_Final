{
 "cells": [
  {
   "cell_type": "code",
   "execution_count": 2,
   "id": "e7035cf1",
   "metadata": {},
   "outputs": [],
   "source": [
    "import gurobipy as gp\n",
    "from gurobipy import GRB\n",
    "import pandas as pd\n",
    "import numpy as np"
   ]
  },
  {
   "cell_type": "markdown",
   "id": "57f715f4",
   "metadata": {},
   "source": [
    "# 1. Read Original Data "
   ]
  },
  {
   "cell_type": "markdown",
   "id": "0aeae346",
   "metadata": {},
   "source": [
    "## 1.1 Load Original Dataset"
   ]
  },
  {
   "cell_type": "markdown",
   "id": "46686f30",
   "metadata": {},
   "source": [
    "Remember to change the path to read data"
   ]
  },
  {
   "cell_type": "code",
   "execution_count": 3,
   "id": "3f861224",
   "metadata": {},
   "outputs": [
    {
     "name": "stdout",
     "output_type": "stream",
     "text": [
      "  - The burritos cost ₲5.0 to make and are sold for ₲10.0. Each truck costs ₲250.0 to use per day.\n",
      "  - There are 15 available 'truck_spots' or places where a truck can be placed around Burritoville.\n",
      "  - There are in 15 buildings with hungry customers also known as demand nodes.\n",
      "  - There are in 100 pairs of trucks spots and buildings with hungry customers.\n"
     ]
    }
   ],
   "source": [
    "df_problem = pd.read_csv('./Data/day_1/round1-day1_problem_data.csv')\n",
    "burrito_price = float(df_problem['burrito_price'][0])\n",
    "ingredient_cost = float(df_problem['ingredient_cost'][0])\n",
    "truck_cost = float(df_problem['truck_cost'][0])\n",
    "print(f\"  - The burritos cost ₲{ingredient_cost} to make and are sold for ₲{burrito_price}. Each truck costs ₲{truck_cost} to use per day.\")\n",
    "\n",
    "df_truck_node = pd.read_csv('./Data/day_1/round1-day1_truck_node_data.csv')\n",
    "truck_coordinates = {row['index']:(float(row['x']),float(row['y'])) for ind,row in df_truck_node.iterrows()}\n",
    "truck_spots = truck_coordinates.keys()\n",
    "print(f\"  - There are {len(truck_spots)} available 'truck_spots' or places where a truck can be placed around Burritoville.\")\n",
    "\n",
    "df_demand = pd.read_csv('./Data/day_1/round1-day1_demand_node_data.csv')\n",
    "buildings, building_names, building_coordinates, demand = gp.multidict({\n",
    "        row['index']: [row['name'], (float(row['x']), float(row['y'])), float(row['demand'])] for ind,row in df_demand.iterrows()\n",
    "    })\n",
    "print(f\"  - There are in {len(buildings)} buildings with hungry customers also known as demand nodes.\")\n",
    "\n",
    "df_truck_demand_pair = pd.read_csv('./Data/day_1/round1-day1_demand_truck_data.csv')\n",
    "building_truck_spot_pairs, distance, scaled_demand = gp.multidict({\n",
    "        (row['demand_node_index'], row['truck_node_index']): [float(row['distance']), float(row['scaled_demand'])] for ind,row in df_truck_demand_pair.iterrows() if float(row['scaled_demand'])>0# (building, truck_spot): distance, scaled_demand\n",
    "    })\n",
    "print(f\"  - There are in {len(building_truck_spot_pairs)} pairs of trucks spots and buildings with hungry customers.\")\n",
    "\n",
    "\n"
   ]
  },
  {
   "cell_type": "code",
   "execution_count": 4,
   "id": "b2737894",
   "metadata": {},
   "outputs": [],
   "source": [
    "# create list of vehicle_type \n",
    "vehicle_types = pd.DataFrame({'vehicle_type': [0, 1, 2]})\n",
    "\n",
    "# use merge to apply cross-join\n",
    "df_truck_expanded = df_truck_node.merge(vehicle_types, how='cross')\n",
    "\n",
    "# rearrange the index of columns\n",
    "df_truck_expanded=df_truck_expanded[['index', 'vehicle_type', 'x', 'y']]"
   ]
  },
  {
   "cell_type": "code",
   "execution_count": 5,
   "id": "57179051",
   "metadata": {},
   "outputs": [
    {
     "data": {
      "text/html": [
       "<div>\n",
       "<style scoped>\n",
       "    .dataframe tbody tr th:only-of-type {\n",
       "        vertical-align: middle;\n",
       "    }\n",
       "\n",
       "    .dataframe tbody tr th {\n",
       "        vertical-align: top;\n",
       "    }\n",
       "\n",
       "    .dataframe thead th {\n",
       "        text-align: right;\n",
       "    }\n",
       "</style>\n",
       "<table border=\"1\" class=\"dataframe\">\n",
       "  <thead>\n",
       "    <tr style=\"text-align: right;\">\n",
       "      <th></th>\n",
       "      <th>index</th>\n",
       "      <th>vehicle_type</th>\n",
       "      <th>x</th>\n",
       "      <th>y</th>\n",
       "    </tr>\n",
       "  </thead>\n",
       "  <tbody>\n",
       "    <tr>\n",
       "      <th>0</th>\n",
       "      <td>truck1</td>\n",
       "      <td>0</td>\n",
       "      <td>112.755064</td>\n",
       "      <td>58.066778</td>\n",
       "    </tr>\n",
       "    <tr>\n",
       "      <th>1</th>\n",
       "      <td>truck1</td>\n",
       "      <td>1</td>\n",
       "      <td>112.755064</td>\n",
       "      <td>58.066778</td>\n",
       "    </tr>\n",
       "    <tr>\n",
       "      <th>2</th>\n",
       "      <td>truck1</td>\n",
       "      <td>2</td>\n",
       "      <td>112.755064</td>\n",
       "      <td>58.066778</td>\n",
       "    </tr>\n",
       "    <tr>\n",
       "      <th>3</th>\n",
       "      <td>truck6</td>\n",
       "      <td>0</td>\n",
       "      <td>56.222222</td>\n",
       "      <td>129.485810</td>\n",
       "    </tr>\n",
       "    <tr>\n",
       "      <th>4</th>\n",
       "      <td>truck6</td>\n",
       "      <td>1</td>\n",
       "      <td>56.222222</td>\n",
       "      <td>129.485810</td>\n",
       "    </tr>\n",
       "    <tr>\n",
       "      <th>5</th>\n",
       "      <td>truck6</td>\n",
       "      <td>2</td>\n",
       "      <td>56.222222</td>\n",
       "      <td>129.485810</td>\n",
       "    </tr>\n",
       "    <tr>\n",
       "      <th>6</th>\n",
       "      <td>truck7</td>\n",
       "      <td>0</td>\n",
       "      <td>113.065684</td>\n",
       "      <td>131.038397</td>\n",
       "    </tr>\n",
       "    <tr>\n",
       "      <th>7</th>\n",
       "      <td>truck7</td>\n",
       "      <td>1</td>\n",
       "      <td>113.065684</td>\n",
       "      <td>131.038397</td>\n",
       "    </tr>\n",
       "    <tr>\n",
       "      <th>8</th>\n",
       "      <td>truck7</td>\n",
       "      <td>2</td>\n",
       "      <td>113.065684</td>\n",
       "      <td>131.038397</td>\n",
       "    </tr>\n",
       "    <tr>\n",
       "      <th>9</th>\n",
       "      <td>truck8</td>\n",
       "      <td>0</td>\n",
       "      <td>164.628607</td>\n",
       "      <td>130.417362</td>\n",
       "    </tr>\n",
       "    <tr>\n",
       "      <th>10</th>\n",
       "      <td>truck8</td>\n",
       "      <td>1</td>\n",
       "      <td>164.628607</td>\n",
       "      <td>130.417362</td>\n",
       "    </tr>\n",
       "    <tr>\n",
       "      <th>11</th>\n",
       "      <td>truck8</td>\n",
       "      <td>2</td>\n",
       "      <td>164.628607</td>\n",
       "      <td>130.417362</td>\n",
       "    </tr>\n",
       "    <tr>\n",
       "      <th>12</th>\n",
       "      <td>truck17</td>\n",
       "      <td>0</td>\n",
       "      <td>310.620012</td>\n",
       "      <td>222.020033</td>\n",
       "    </tr>\n",
       "    <tr>\n",
       "      <th>13</th>\n",
       "      <td>truck17</td>\n",
       "      <td>1</td>\n",
       "      <td>310.620012</td>\n",
       "      <td>222.020033</td>\n",
       "    </tr>\n",
       "    <tr>\n",
       "      <th>14</th>\n",
       "      <td>truck17</td>\n",
       "      <td>2</td>\n",
       "      <td>310.620012</td>\n",
       "      <td>222.020033</td>\n",
       "    </tr>\n",
       "    <tr>\n",
       "      <th>15</th>\n",
       "      <td>truck27</td>\n",
       "      <td>0</td>\n",
       "      <td>173.947207</td>\n",
       "      <td>340.327212</td>\n",
       "    </tr>\n",
       "    <tr>\n",
       "      <th>16</th>\n",
       "      <td>truck27</td>\n",
       "      <td>1</td>\n",
       "      <td>173.947207</td>\n",
       "      <td>340.327212</td>\n",
       "    </tr>\n",
       "    <tr>\n",
       "      <th>17</th>\n",
       "      <td>truck27</td>\n",
       "      <td>2</td>\n",
       "      <td>173.947207</td>\n",
       "      <td>340.327212</td>\n",
       "    </tr>\n",
       "    <tr>\n",
       "      <th>18</th>\n",
       "      <td>truck29</td>\n",
       "      <td>0</td>\n",
       "      <td>296.020872</td>\n",
       "      <td>350.884808</td>\n",
       "    </tr>\n",
       "    <tr>\n",
       "      <th>19</th>\n",
       "      <td>truck29</td>\n",
       "      <td>1</td>\n",
       "      <td>296.020872</td>\n",
       "      <td>350.884808</td>\n",
       "    </tr>\n",
       "    <tr>\n",
       "      <th>20</th>\n",
       "      <td>truck29</td>\n",
       "      <td>2</td>\n",
       "      <td>296.020872</td>\n",
       "      <td>350.884808</td>\n",
       "    </tr>\n",
       "    <tr>\n",
       "      <th>21</th>\n",
       "      <td>truck33</td>\n",
       "      <td>0</td>\n",
       "      <td>393.244936</td>\n",
       "      <td>377.278798</td>\n",
       "    </tr>\n",
       "    <tr>\n",
       "      <th>22</th>\n",
       "      <td>truck33</td>\n",
       "      <td>1</td>\n",
       "      <td>393.244936</td>\n",
       "      <td>377.278798</td>\n",
       "    </tr>\n",
       "    <tr>\n",
       "      <th>23</th>\n",
       "      <td>truck33</td>\n",
       "      <td>2</td>\n",
       "      <td>393.244936</td>\n",
       "      <td>377.278798</td>\n",
       "    </tr>\n",
       "    <tr>\n",
       "      <th>24</th>\n",
       "      <td>truck34</td>\n",
       "      <td>0</td>\n",
       "      <td>337.954573</td>\n",
       "      <td>395.288815</td>\n",
       "    </tr>\n",
       "    <tr>\n",
       "      <th>25</th>\n",
       "      <td>truck34</td>\n",
       "      <td>1</td>\n",
       "      <td>337.954573</td>\n",
       "      <td>395.288815</td>\n",
       "    </tr>\n",
       "    <tr>\n",
       "      <th>26</th>\n",
       "      <td>truck34</td>\n",
       "      <td>2</td>\n",
       "      <td>337.954573</td>\n",
       "      <td>395.288815</td>\n",
       "    </tr>\n",
       "    <tr>\n",
       "      <th>27</th>\n",
       "      <td>truck35</td>\n",
       "      <td>0</td>\n",
       "      <td>288.876611</td>\n",
       "      <td>385.352254</td>\n",
       "    </tr>\n",
       "    <tr>\n",
       "      <th>28</th>\n",
       "      <td>truck35</td>\n",
       "      <td>1</td>\n",
       "      <td>288.876611</td>\n",
       "      <td>385.352254</td>\n",
       "    </tr>\n",
       "    <tr>\n",
       "      <th>29</th>\n",
       "      <td>truck35</td>\n",
       "      <td>2</td>\n",
       "      <td>288.876611</td>\n",
       "      <td>385.352254</td>\n",
       "    </tr>\n",
       "    <tr>\n",
       "      <th>30</th>\n",
       "      <td>truck36</td>\n",
       "      <td>0</td>\n",
       "      <td>303.165132</td>\n",
       "      <td>414.851419</td>\n",
       "    </tr>\n",
       "    <tr>\n",
       "      <th>31</th>\n",
       "      <td>truck36</td>\n",
       "      <td>1</td>\n",
       "      <td>303.165132</td>\n",
       "      <td>414.851419</td>\n",
       "    </tr>\n",
       "    <tr>\n",
       "      <th>32</th>\n",
       "      <td>truck36</td>\n",
       "      <td>2</td>\n",
       "      <td>303.165132</td>\n",
       "      <td>414.851419</td>\n",
       "    </tr>\n",
       "    <tr>\n",
       "      <th>33</th>\n",
       "      <td>truck37</td>\n",
       "      <td>0</td>\n",
       "      <td>209.357888</td>\n",
       "      <td>398.393990</td>\n",
       "    </tr>\n",
       "    <tr>\n",
       "      <th>34</th>\n",
       "      <td>truck37</td>\n",
       "      <td>1</td>\n",
       "      <td>209.357888</td>\n",
       "      <td>398.393990</td>\n",
       "    </tr>\n",
       "    <tr>\n",
       "      <th>35</th>\n",
       "      <td>truck37</td>\n",
       "      <td>2</td>\n",
       "      <td>209.357888</td>\n",
       "      <td>398.393990</td>\n",
       "    </tr>\n",
       "    <tr>\n",
       "      <th>36</th>\n",
       "      <td>truck43</td>\n",
       "      <td>0</td>\n",
       "      <td>290.429711</td>\n",
       "      <td>506.764608</td>\n",
       "    </tr>\n",
       "    <tr>\n",
       "      <th>37</th>\n",
       "      <td>truck43</td>\n",
       "      <td>1</td>\n",
       "      <td>290.429711</td>\n",
       "      <td>506.764608</td>\n",
       "    </tr>\n",
       "    <tr>\n",
       "      <th>38</th>\n",
       "      <td>truck43</td>\n",
       "      <td>2</td>\n",
       "      <td>290.429711</td>\n",
       "      <td>506.764608</td>\n",
       "    </tr>\n",
       "    <tr>\n",
       "      <th>39</th>\n",
       "      <td>truck49</td>\n",
       "      <td>0</td>\n",
       "      <td>492.643339</td>\n",
       "      <td>479.749583</td>\n",
       "    </tr>\n",
       "    <tr>\n",
       "      <th>40</th>\n",
       "      <td>truck49</td>\n",
       "      <td>1</td>\n",
       "      <td>492.643339</td>\n",
       "      <td>479.749583</td>\n",
       "    </tr>\n",
       "    <tr>\n",
       "      <th>41</th>\n",
       "      <td>truck49</td>\n",
       "      <td>2</td>\n",
       "      <td>492.643339</td>\n",
       "      <td>479.749583</td>\n",
       "    </tr>\n",
       "    <tr>\n",
       "      <th>42</th>\n",
       "      <td>truck54</td>\n",
       "      <td>0</td>\n",
       "      <td>320.559853</td>\n",
       "      <td>273.565943</td>\n",
       "    </tr>\n",
       "    <tr>\n",
       "      <th>43</th>\n",
       "      <td>truck54</td>\n",
       "      <td>1</td>\n",
       "      <td>320.559853</td>\n",
       "      <td>273.565943</td>\n",
       "    </tr>\n",
       "    <tr>\n",
       "      <th>44</th>\n",
       "      <td>truck54</td>\n",
       "      <td>2</td>\n",
       "      <td>320.559853</td>\n",
       "      <td>273.565943</td>\n",
       "    </tr>\n",
       "  </tbody>\n",
       "</table>\n",
       "</div>"
      ],
      "text/plain": [
       "      index  vehicle_type           x           y\n",
       "0    truck1             0  112.755064   58.066778\n",
       "1    truck1             1  112.755064   58.066778\n",
       "2    truck1             2  112.755064   58.066778\n",
       "3    truck6             0   56.222222  129.485810\n",
       "4    truck6             1   56.222222  129.485810\n",
       "5    truck6             2   56.222222  129.485810\n",
       "6    truck7             0  113.065684  131.038397\n",
       "7    truck7             1  113.065684  131.038397\n",
       "8    truck7             2  113.065684  131.038397\n",
       "9    truck8             0  164.628607  130.417362\n",
       "10   truck8             1  164.628607  130.417362\n",
       "11   truck8             2  164.628607  130.417362\n",
       "12  truck17             0  310.620012  222.020033\n",
       "13  truck17             1  310.620012  222.020033\n",
       "14  truck17             2  310.620012  222.020033\n",
       "15  truck27             0  173.947207  340.327212\n",
       "16  truck27             1  173.947207  340.327212\n",
       "17  truck27             2  173.947207  340.327212\n",
       "18  truck29             0  296.020872  350.884808\n",
       "19  truck29             1  296.020872  350.884808\n",
       "20  truck29             2  296.020872  350.884808\n",
       "21  truck33             0  393.244936  377.278798\n",
       "22  truck33             1  393.244936  377.278798\n",
       "23  truck33             2  393.244936  377.278798\n",
       "24  truck34             0  337.954573  395.288815\n",
       "25  truck34             1  337.954573  395.288815\n",
       "26  truck34             2  337.954573  395.288815\n",
       "27  truck35             0  288.876611  385.352254\n",
       "28  truck35             1  288.876611  385.352254\n",
       "29  truck35             2  288.876611  385.352254\n",
       "30  truck36             0  303.165132  414.851419\n",
       "31  truck36             1  303.165132  414.851419\n",
       "32  truck36             2  303.165132  414.851419\n",
       "33  truck37             0  209.357888  398.393990\n",
       "34  truck37             1  209.357888  398.393990\n",
       "35  truck37             2  209.357888  398.393990\n",
       "36  truck43             0  290.429711  506.764608\n",
       "37  truck43             1  290.429711  506.764608\n",
       "38  truck43             2  290.429711  506.764608\n",
       "39  truck49             0  492.643339  479.749583\n",
       "40  truck49             1  492.643339  479.749583\n",
       "41  truck49             2  492.643339  479.749583\n",
       "42  truck54             0  320.559853  273.565943\n",
       "43  truck54             1  320.559853  273.565943\n",
       "44  truck54             2  320.559853  273.565943"
      ]
     },
     "execution_count": 5,
     "metadata": {},
     "output_type": "execute_result"
    }
   ],
   "source": [
    "df_truck_expanded"
   ]
  },
  {
   "cell_type": "markdown",
   "id": "d6de966b",
   "metadata": {},
   "source": [
    "## 1.2 Drawing the map"
   ]
  },
  {
   "cell_type": "code",
   "execution_count": 6,
   "id": "8262097c",
   "metadata": {},
   "outputs": [],
   "source": [
    "import plotly.graph_objects as go\n",
    "from PIL import Image\n",
    "import requests\n",
    "from io import BytesIO #try 1\n",
    "\n",
    "def show_map(buildings, building_names, building_coordinates, demand, truck_coordinates, placed_trucks = []):\n",
    "    \"\"\"displays the Burrito Optimization map with labels for open truck locations, buildings with demand, and placed trucks [optional].  This is intended to be used in the Gurobi Days Intro to Modeling course\"\"\"\n",
    "\n",
    "    y_max = 550\n",
    "\n",
    "    truck_spot_x = [value[0] for key, value in truck_coordinates.items()]\n",
    "    truck_spot_y = [y_max - value[1] for key, value in truck_coordinates.items()]\n",
    "    trucks = [key for key, value in truck_coordinates.items()]\n",
    "\n",
    "    building_x = [value[0] for key, value in building_coordinates.items()]\n",
    "    building_y = [y_max - value[1] for key, value in building_coordinates.items()]\n",
    "    demand = [value for key, value in demand.items()]\n",
    "    building_names = [value for key, value in building_names.items()]\n",
    "\n",
    "    if placed_trucks:\n",
    "        placed_truck_spot_x = [value[0] for key, value in truck_coordinates.items() if key in placed_trucks]\n",
    "        placed_truck_spot_y = [y_max - value[1] for key, value in truck_coordinates.items() if key in placed_trucks]\n",
    "        placed_trucks = [key for key, value in truck_coordinates.items() if key in placed_trucks]\n",
    "\n",
    "    map = Image.open('map.png')\n",
    "    fig = go.Figure()\n",
    "\n",
    "    # Add trace for truck spots\n",
    "    fig.add_trace(\n",
    "        go.Scatter(x=truck_spot_x, y=truck_spot_y,\n",
    "                   hovertemplate=trucks,\n",
    "                   name=\"Open truck spots\",\n",
    "                   mode='markers',\n",
    "                   marker_color='rgba(135, 206, 250, 0.0)',\n",
    "                   marker_line_color='darkblue',\n",
    "                   marker_line_width=2,\n",
    "                   marker_size=10\n",
    "                   )\n",
    "    )\n",
    "\n",
    "    # Add trace for placed trucks\n",
    "    if placed_trucks:\n",
    "        fig.add_trace(\n",
    "            go.Scatter(x=placed_truck_spot_x, y=placed_truck_spot_y,\n",
    "                       hovertemplate=placed_trucks,\n",
    "                       name=\"Truck added to the map\",\n",
    "                       mode='markers',\n",
    "                       marker_color='darkblue',\n",
    "                       marker_line_color='darkblue',\n",
    "                       marker_line_width=2,\n",
    "                       marker_size=10\n",
    "                       )\n",
    "        )\n",
    "\n",
    "    # Add trace for buildings\n",
    "    fig.add_trace(\n",
    "        go.Scatter(x=building_x, y=building_y,\n",
    "                   hovertemplate=building_names,\n",
    "                   name=\"Buildings with customer demand\",\n",
    "                   mode='markers',\n",
    "                   marker_color='red',\n",
    "                   marker_opacity=0.5,\n",
    "                   marker_line_width=0,\n",
    "                   marker_size=demand\n",
    "                   )\n",
    "    )\n",
    "\n",
    "    # Add minimap image\n",
    "    fig.add_layout_image(\n",
    "            dict(\n",
    "                source=map,\n",
    "                xref=\"x\",\n",
    "                yref=\"y\",\n",
    "                x=0,\n",
    "                y=550,\n",
    "                sizex=500,\n",
    "                sizey=550,\n",
    "                sizing=\"stretch\",\n",
    "                opacity=0.9,\n",
    "                layer=\"below\")\n",
    "    )\n",
    "\n",
    "    # Set templates\n",
    "    fig.update_layout(template=\"simple_white\")\n",
    "    fig.update_xaxes(range=[0, 500], visible=False)\n",
    "    fig.update_yaxes(range=[0,550], visible=False,\n",
    "                    scaleanchor = \"x\",scaleratio = 1)\n",
    "    fig.update_layout(showlegend=True)\n",
    "\n",
    "    fig.update_layout(\n",
    "        title=\"Burrito Optimization Game Map\",\n",
    "    )\n",
    "\n",
    "    fig.show()\n",
    "\n"
   ]
  },
  {
   "cell_type": "code",
   "execution_count": 7,
   "id": "c6244411",
   "metadata": {},
   "outputs": [
    {
     "data": {
      "application/vnd.plotly.v1+json": {
       "config": {
        "plotlyServerURL": "https://plot.ly"
       },
       "data": [
        {
         "hovertemplate": [
          "truck1",
          "truck6",
          "truck7",
          "truck8",
          "truck17",
          "truck27",
          "truck29",
          "truck33",
          "truck34",
          "truck35",
          "truck36",
          "truck37",
          "truck43",
          "truck49",
          "truck54"
         ],
         "marker": {
          "color": "rgba(135, 206, 250, 0.0)",
          "line": {
           "color": "darkblue",
           "width": 2
          },
          "size": 10
         },
         "mode": "markers",
         "name": "Open truck spots",
         "type": "scatter",
         "x": [
          112.75506445672193,
          56.22222222222222,
          113.0656844689994,
          164.62860650705954,
          310.62001227747083,
          173.94720687538367,
          296.0208717004297,
          393.2449355432781,
          337.9545733578883,
          288.8766114180479,
          303.16513198281154,
          209.35788827501537,
          290.42971147943524,
          492.6433394720688,
          320.5598526703499
         ],
         "y": [
          491.9332220367279,
          420.51419031719536,
          418.9616026711185,
          419.5826377295492,
          327.9799666110183,
          209.67278797996659,
          199.1151919866444,
          172.72120200333887,
          154.71118530884797,
          164.6477462437395,
          135.14858096828038,
          151.60601001669448,
          43.235392320534174,
          70.25041736227041,
          276.4340567612688
         ]
        },
        {
         "hovertemplate": [
          "ReLU Realty",
          "Reinforcement Learning Puppy Training",
          "KKT Air Conditioning",
          "George's Basic Diet Solutions",
          "Rothberg Tower",
          "Multimodal Distribution Center",
          "Callback Cat Café",
          "Vertex Tower",
          "Nonlinear Thinking Center",
          "Interior Point Decorating",
          "Scheduling Station",
          "Multi-Threads Thrift Store",
          "Land & Harcourt's B&B",
          "K-Fold Parking Validation",
          "Farkas' Lemma-nade"
         ],
         "marker": {
          "color": "red",
          "line": {
           "width": 0
          },
          "opacity": 0.5,
          "size": [
           30,
           5,
           50,
           35,
           30,
           5,
           50,
           10,
           5,
           40,
           5,
           50,
           25,
           30,
           50
          ]
         },
         "mode": "markers",
         "name": "Buildings with customer demand",
         "type": "scatter",
         "x": [
          190.72068753836712,
          284.8385512584408,
          256.57213014119094,
          213.70656844689995,
          129.21792510742787,
          68.02578268876611,
          187.6144874155924,
          342.92449355432785,
          356.2811540822591,
          267.1332105586249,
          359.3873542050338,
          416.2308164518109,
          375.2289748311848,
          233.89686924493557,
          391.38121546961327
         ],
         "y": [
          477.338898163606,
          361.20534223706176,
          391.9465776293823,
          389.46243739565944,
          381.38898163606007,
          320.21702838063436,
          327.3589315525876,
          318.6644407345576,
          232.9616026711185,
          187.93656093489147,
          186.0734557595993,
          107.20200333889812,
          58.761268781302135,
          69.31886477462433,
          364
         ]
        }
       ],
       "layout": {
        "images": [
         {
          "layer": "below",
          "opacity": 0.9,
          "sizex": 500,
          "sizey": 550,
          "sizing": "stretch",
          "source": "data:image/png;base64,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",
          "x": 0,
          "xref": "x",
          "y": 550,
          "yref": "y"
         }
        ],
        "showlegend": true,
        "template": {
         "data": {
          "bar": [
           {
            "error_x": {
             "color": "rgb(36,36,36)"
            },
            "error_y": {
             "color": "rgb(36,36,36)"
            },
            "marker": {
             "line": {
              "color": "white",
              "width": 0.5
             },
             "pattern": {
              "fillmode": "overlay",
              "size": 10,
              "solidity": 0.2
             }
            },
            "type": "bar"
           }
          ],
          "barpolar": [
           {
            "marker": {
             "line": {
              "color": "white",
              "width": 0.5
             },
             "pattern": {
              "fillmode": "overlay",
              "size": 10,
              "solidity": 0.2
             }
            },
            "type": "barpolar"
           }
          ],
          "carpet": [
           {
            "aaxis": {
             "endlinecolor": "rgb(36,36,36)",
             "gridcolor": "white",
             "linecolor": "white",
             "minorgridcolor": "white",
             "startlinecolor": "rgb(36,36,36)"
            },
            "baxis": {
             "endlinecolor": "rgb(36,36,36)",
             "gridcolor": "white",
             "linecolor": "white",
             "minorgridcolor": "white",
             "startlinecolor": "rgb(36,36,36)"
            },
            "type": "carpet"
           }
          ],
          "choropleth": [
           {
            "colorbar": {
             "outlinewidth": 1,
             "tickcolor": "rgb(36,36,36)",
             "ticks": "outside"
            },
            "type": "choropleth"
           }
          ],
          "contour": [
           {
            "colorbar": {
             "outlinewidth": 1,
             "tickcolor": "rgb(36,36,36)",
             "ticks": "outside"
            },
            "colorscale": [
             [
              0,
              "#440154"
             ],
             [
              0.1111111111111111,
              "#482878"
             ],
             [
              0.2222222222222222,
              "#3e4989"
             ],
             [
              0.3333333333333333,
              "#31688e"
             ],
             [
              0.4444444444444444,
              "#26828e"
             ],
             [
              0.5555555555555556,
              "#1f9e89"
             ],
             [
              0.6666666666666666,
              "#35b779"
             ],
             [
              0.7777777777777778,
              "#6ece58"
             ],
             [
              0.8888888888888888,
              "#b5de2b"
             ],
             [
              1,
              "#fde725"
             ]
            ],
            "type": "contour"
           }
          ],
          "contourcarpet": [
           {
            "colorbar": {
             "outlinewidth": 1,
             "tickcolor": "rgb(36,36,36)",
             "ticks": "outside"
            },
            "type": "contourcarpet"
           }
          ],
          "heatmap": [
           {
            "colorbar": {
             "outlinewidth": 1,
             "tickcolor": "rgb(36,36,36)",
             "ticks": "outside"
            },
            "colorscale": [
             [
              0,
              "#440154"
             ],
             [
              0.1111111111111111,
              "#482878"
             ],
             [
              0.2222222222222222,
              "#3e4989"
             ],
             [
              0.3333333333333333,
              "#31688e"
             ],
             [
              0.4444444444444444,
              "#26828e"
             ],
             [
              0.5555555555555556,
              "#1f9e89"
             ],
             [
              0.6666666666666666,
              "#35b779"
             ],
             [
              0.7777777777777778,
              "#6ece58"
             ],
             [
              0.8888888888888888,
              "#b5de2b"
             ],
             [
              1,
              "#fde725"
             ]
            ],
            "type": "heatmap"
           }
          ],
          "histogram": [
           {
            "marker": {
             "line": {
              "color": "white",
              "width": 0.6
             }
            },
            "type": "histogram"
           }
          ],
          "histogram2d": [
           {
            "colorbar": {
             "outlinewidth": 1,
             "tickcolor": "rgb(36,36,36)",
             "ticks": "outside"
            },
            "colorscale": [
             [
              0,
              "#440154"
             ],
             [
              0.1111111111111111,
              "#482878"
             ],
             [
              0.2222222222222222,
              "#3e4989"
             ],
             [
              0.3333333333333333,
              "#31688e"
             ],
             [
              0.4444444444444444,
              "#26828e"
             ],
             [
              0.5555555555555556,
              "#1f9e89"
             ],
             [
              0.6666666666666666,
              "#35b779"
             ],
             [
              0.7777777777777778,
              "#6ece58"
             ],
             [
              0.8888888888888888,
              "#b5de2b"
             ],
             [
              1,
              "#fde725"
             ]
            ],
            "type": "histogram2d"
           }
          ],
          "histogram2dcontour": [
           {
            "colorbar": {
             "outlinewidth": 1,
             "tickcolor": "rgb(36,36,36)",
             "ticks": "outside"
            },
            "colorscale": [
             [
              0,
              "#440154"
             ],
             [
              0.1111111111111111,
              "#482878"
             ],
             [
              0.2222222222222222,
              "#3e4989"
             ],
             [
              0.3333333333333333,
              "#31688e"
             ],
             [
              0.4444444444444444,
              "#26828e"
             ],
             [
              0.5555555555555556,
              "#1f9e89"
             ],
             [
              0.6666666666666666,
              "#35b779"
             ],
             [
              0.7777777777777778,
              "#6ece58"
             ],
             [
              0.8888888888888888,
              "#b5de2b"
             ],
             [
              1,
              "#fde725"
             ]
            ],
            "type": "histogram2dcontour"
           }
          ],
          "mesh3d": [
           {
            "colorbar": {
             "outlinewidth": 1,
             "tickcolor": "rgb(36,36,36)",
             "ticks": "outside"
            },
            "type": "mesh3d"
           }
          ],
          "parcoords": [
           {
            "line": {
             "colorbar": {
              "outlinewidth": 1,
              "tickcolor": "rgb(36,36,36)",
              "ticks": "outside"
             }
            },
            "type": "parcoords"
           }
          ],
          "pie": [
           {
            "automargin": true,
            "type": "pie"
           }
          ],
          "scatter": [
           {
            "fillpattern": {
             "fillmode": "overlay",
             "size": 10,
             "solidity": 0.2
            },
            "type": "scatter"
           }
          ],
          "scatter3d": [
           {
            "line": {
             "colorbar": {
              "outlinewidth": 1,
              "tickcolor": "rgb(36,36,36)",
              "ticks": "outside"
             }
            },
            "marker": {
             "colorbar": {
              "outlinewidth": 1,
              "tickcolor": "rgb(36,36,36)",
              "ticks": "outside"
             }
            },
            "type": "scatter3d"
           }
          ],
          "scattercarpet": [
           {
            "marker": {
             "colorbar": {
              "outlinewidth": 1,
              "tickcolor": "rgb(36,36,36)",
              "ticks": "outside"
             }
            },
            "type": "scattercarpet"
           }
          ],
          "scattergeo": [
           {
            "marker": {
             "colorbar": {
              "outlinewidth": 1,
              "tickcolor": "rgb(36,36,36)",
              "ticks": "outside"
             }
            },
            "type": "scattergeo"
           }
          ],
          "scattergl": [
           {
            "marker": {
             "colorbar": {
              "outlinewidth": 1,
              "tickcolor": "rgb(36,36,36)",
              "ticks": "outside"
             }
            },
            "type": "scattergl"
           }
          ],
          "scattermap": [
           {
            "marker": {
             "colorbar": {
              "outlinewidth": 1,
              "tickcolor": "rgb(36,36,36)",
              "ticks": "outside"
             }
            },
            "type": "scattermap"
           }
          ],
          "scattermapbox": [
           {
            "marker": {
             "colorbar": {
              "outlinewidth": 1,
              "tickcolor": "rgb(36,36,36)",
              "ticks": "outside"
             }
            },
            "type": "scattermapbox"
           }
          ],
          "scatterpolar": [
           {
            "marker": {
             "colorbar": {
              "outlinewidth": 1,
              "tickcolor": "rgb(36,36,36)",
              "ticks": "outside"
             }
            },
            "type": "scatterpolar"
           }
          ],
          "scatterpolargl": [
           {
            "marker": {
             "colorbar": {
              "outlinewidth": 1,
              "tickcolor": "rgb(36,36,36)",
              "ticks": "outside"
             }
            },
            "type": "scatterpolargl"
           }
          ],
          "scatterternary": [
           {
            "marker": {
             "colorbar": {
              "outlinewidth": 1,
              "tickcolor": "rgb(36,36,36)",
              "ticks": "outside"
             }
            },
            "type": "scatterternary"
           }
          ],
          "surface": [
           {
            "colorbar": {
             "outlinewidth": 1,
             "tickcolor": "rgb(36,36,36)",
             "ticks": "outside"
            },
            "colorscale": [
             [
              0,
              "#440154"
             ],
             [
              0.1111111111111111,
              "#482878"
             ],
             [
              0.2222222222222222,
              "#3e4989"
             ],
             [
              0.3333333333333333,
              "#31688e"
             ],
             [
              0.4444444444444444,
              "#26828e"
             ],
             [
              0.5555555555555556,
              "#1f9e89"
             ],
             [
              0.6666666666666666,
              "#35b779"
             ],
             [
              0.7777777777777778,
              "#6ece58"
             ],
             [
              0.8888888888888888,
              "#b5de2b"
             ],
             [
              1,
              "#fde725"
             ]
            ],
            "type": "surface"
           }
          ],
          "table": [
           {
            "cells": {
             "fill": {
              "color": "rgb(237,237,237)"
             },
             "line": {
              "color": "white"
             }
            },
            "header": {
             "fill": {
              "color": "rgb(217,217,217)"
             },
             "line": {
              "color": "white"
             }
            },
            "type": "table"
           }
          ]
         },
         "layout": {
          "annotationdefaults": {
           "arrowhead": 0,
           "arrowwidth": 1
          },
          "autotypenumbers": "strict",
          "coloraxis": {
           "colorbar": {
            "outlinewidth": 1,
            "tickcolor": "rgb(36,36,36)",
            "ticks": "outside"
           }
          },
          "colorscale": {
           "diverging": [
            [
             0,
             "rgb(103,0,31)"
            ],
            [
             0.1,
             "rgb(178,24,43)"
            ],
            [
             0.2,
             "rgb(214,96,77)"
            ],
            [
             0.3,
             "rgb(244,165,130)"
            ],
            [
             0.4,
             "rgb(253,219,199)"
            ],
            [
             0.5,
             "rgb(247,247,247)"
            ],
            [
             0.6,
             "rgb(209,229,240)"
            ],
            [
             0.7,
             "rgb(146,197,222)"
            ],
            [
             0.8,
             "rgb(67,147,195)"
            ],
            [
             0.9,
             "rgb(33,102,172)"
            ],
            [
             1,
             "rgb(5,48,97)"
            ]
           ],
           "sequential": [
            [
             0,
             "#440154"
            ],
            [
             0.1111111111111111,
             "#482878"
            ],
            [
             0.2222222222222222,
             "#3e4989"
            ],
            [
             0.3333333333333333,
             "#31688e"
            ],
            [
             0.4444444444444444,
             "#26828e"
            ],
            [
             0.5555555555555556,
             "#1f9e89"
            ],
            [
             0.6666666666666666,
             "#35b779"
            ],
            [
             0.7777777777777778,
             "#6ece58"
            ],
            [
             0.8888888888888888,
             "#b5de2b"
            ],
            [
             1,
             "#fde725"
            ]
           ],
           "sequentialminus": [
            [
             0,
             "#440154"
            ],
            [
             0.1111111111111111,
             "#482878"
            ],
            [
             0.2222222222222222,
             "#3e4989"
            ],
            [
             0.3333333333333333,
             "#31688e"
            ],
            [
             0.4444444444444444,
             "#26828e"
            ],
            [
             0.5555555555555556,
             "#1f9e89"
            ],
            [
             0.6666666666666666,
             "#35b779"
            ],
            [
             0.7777777777777778,
             "#6ece58"
            ],
            [
             0.8888888888888888,
             "#b5de2b"
            ],
            [
             1,
             "#fde725"
            ]
           ]
          },
          "colorway": [
           "#1F77B4",
           "#FF7F0E",
           "#2CA02C",
           "#D62728",
           "#9467BD",
           "#8C564B",
           "#E377C2",
           "#7F7F7F",
           "#BCBD22",
           "#17BECF"
          ],
          "font": {
           "color": "rgb(36,36,36)"
          },
          "geo": {
           "bgcolor": "white",
           "lakecolor": "white",
           "landcolor": "white",
           "showlakes": true,
           "showland": true,
           "subunitcolor": "white"
          },
          "hoverlabel": {
           "align": "left"
          },
          "hovermode": "closest",
          "mapbox": {
           "style": "light"
          },
          "paper_bgcolor": "white",
          "plot_bgcolor": "white",
          "polar": {
           "angularaxis": {
            "gridcolor": "rgb(232,232,232)",
            "linecolor": "rgb(36,36,36)",
            "showgrid": false,
            "showline": true,
            "ticks": "outside"
           },
           "bgcolor": "white",
           "radialaxis": {
            "gridcolor": "rgb(232,232,232)",
            "linecolor": "rgb(36,36,36)",
            "showgrid": false,
            "showline": true,
            "ticks": "outside"
           }
          },
          "scene": {
           "xaxis": {
            "backgroundcolor": "white",
            "gridcolor": "rgb(232,232,232)",
            "gridwidth": 2,
            "linecolor": "rgb(36,36,36)",
            "showbackground": true,
            "showgrid": false,
            "showline": true,
            "ticks": "outside",
            "zeroline": false,
            "zerolinecolor": "rgb(36,36,36)"
           },
           "yaxis": {
            "backgroundcolor": "white",
            "gridcolor": "rgb(232,232,232)",
            "gridwidth": 2,
            "linecolor": "rgb(36,36,36)",
            "showbackground": true,
            "showgrid": false,
            "showline": true,
            "ticks": "outside",
            "zeroline": false,
            "zerolinecolor": "rgb(36,36,36)"
           },
           "zaxis": {
            "backgroundcolor": "white",
            "gridcolor": "rgb(232,232,232)",
            "gridwidth": 2,
            "linecolor": "rgb(36,36,36)",
            "showbackground": true,
            "showgrid": false,
            "showline": true,
            "ticks": "outside",
            "zeroline": false,
            "zerolinecolor": "rgb(36,36,36)"
           }
          },
          "shapedefaults": {
           "fillcolor": "black",
           "line": {
            "width": 0
           },
           "opacity": 0.3
          },
          "ternary": {
           "aaxis": {
            "gridcolor": "rgb(232,232,232)",
            "linecolor": "rgb(36,36,36)",
            "showgrid": false,
            "showline": true,
            "ticks": "outside"
           },
           "baxis": {
            "gridcolor": "rgb(232,232,232)",
            "linecolor": "rgb(36,36,36)",
            "showgrid": false,
            "showline": true,
            "ticks": "outside"
           },
           "bgcolor": "white",
           "caxis": {
            "gridcolor": "rgb(232,232,232)",
            "linecolor": "rgb(36,36,36)",
            "showgrid": false,
            "showline": true,
            "ticks": "outside"
           }
          },
          "title": {
           "x": 0.05
          },
          "xaxis": {
           "automargin": true,
           "gridcolor": "rgb(232,232,232)",
           "linecolor": "rgb(36,36,36)",
           "showgrid": false,
           "showline": true,
           "ticks": "outside",
           "title": {
            "standoff": 15
           },
           "zeroline": false,
           "zerolinecolor": "rgb(36,36,36)"
          },
          "yaxis": {
           "automargin": true,
           "gridcolor": "rgb(232,232,232)",
           "linecolor": "rgb(36,36,36)",
           "showgrid": false,
           "showline": true,
           "ticks": "outside",
           "title": {
            "standoff": 15
           },
           "zeroline": false,
           "zerolinecolor": "rgb(36,36,36)"
          }
         }
        },
        "title": {
         "text": "Burrito Optimization Game Map"
        },
        "xaxis": {
         "range": [
          0,
          500
         ],
         "visible": false
        },
        "yaxis": {
         "range": [
          0,
          550
         ],
         "scaleanchor": "x",
         "scaleratio": 1,
         "visible": false
        }
       }
      }
     },
     "metadata": {},
     "output_type": "display_data"
    }
   ],
   "source": [
    "#from show_map_local import show_map\n",
    "\n",
    "show_map(buildings, building_names, building_coordinates, demand, truck_coordinates)"
   ]
  },
  {
   "cell_type": "markdown",
   "id": "e0c20a6c",
   "metadata": {},
   "source": [
    "# 2. Data Generation"
   ]
  },
  {
   "cell_type": "markdown",
   "id": "9978af8f",
   "metadata": {},
   "source": [
    "## 2.1 Generate Preference Matrix"
   ]
  },
  {
   "cell_type": "markdown",
   "id": "0b818eb4",
   "metadata": {},
   "source": [
    "We regenerate the scaled_demand data(the deal between customer and truck) by make a preference matrix with a exp funtion of distance."
   ]
  },
  {
   "cell_type": "code",
   "execution_count": 8,
   "id": "42d5c914",
   "metadata": {},
   "outputs": [],
   "source": [
    "import math\n",
    "def generate_scaled_demand(df_scaled,df_demand_node):\n",
    "    \"\"\"\n",
    "    df_scaled: the demand-truck pairs dataset\n",
    "    df_demand_node: the demand node dataset\n",
    "    \"\"\"\n",
    "    df_rescaled = df_scaled.copy()\n",
    "\n",
    "    #del(dict)\n",
    "    my_dict = dict(zip(df_demand_node['index'], df_demand_node['demand']))\n",
    "    df_rescaled['demand'] = df_rescaled['demand_node_index'].map(my_dict)\n",
    "\n",
    "    # Step1:Calculate the total distance of each demand node for all truck node\n",
    "    distance_sums = df_rescaled.groupby('demand_node_index')['distance'].transform('sum')\n",
    "\n",
    "    # Step2:Calculate the value of new column\n",
    "    beta = 10\n",
    "    df_rescaled['scaled_demand'] = (np.exp(-beta * (df_rescaled['distance'] / distance_sums))) * df_rescaled['demand']\n",
    "    df_rescaled['scaled_demand'] = df_rescaled['scaled_demand'].astype(int)\n",
    "\n",
    "    df_rescaled = df_rescaled.drop(columns=['demand'])\n",
    "\n",
    "    return df_rescaled"
   ]
  },
  {
   "cell_type": "code",
   "execution_count": 9,
   "id": "353aedfe",
   "metadata": {},
   "outputs": [
    {
     "data": {
      "text/html": [
       "<div>\n",
       "<style scoped>\n",
       "    .dataframe tbody tr th:only-of-type {\n",
       "        vertical-align: middle;\n",
       "    }\n",
       "\n",
       "    .dataframe tbody tr th {\n",
       "        vertical-align: top;\n",
       "    }\n",
       "\n",
       "    .dataframe thead th {\n",
       "        text-align: right;\n",
       "    }\n",
       "</style>\n",
       "<table border=\"1\" class=\"dataframe\">\n",
       "  <thead>\n",
       "    <tr style=\"text-align: right;\">\n",
       "      <th></th>\n",
       "      <th>demand_node_index</th>\n",
       "      <th>truck_node_index</th>\n",
       "      <th>distance</th>\n",
       "      <th>scaled_demand</th>\n",
       "    </tr>\n",
       "  </thead>\n",
       "  <tbody>\n",
       "    <tr>\n",
       "      <th>0</th>\n",
       "      <td>demand2</td>\n",
       "      <td>truck1</td>\n",
       "      <td>231.108640</td>\n",
       "      <td>20</td>\n",
       "    </tr>\n",
       "    <tr>\n",
       "      <th>1</th>\n",
       "      <td>demand2</td>\n",
       "      <td>truck6</td>\n",
       "      <td>201.157571</td>\n",
       "      <td>21</td>\n",
       "    </tr>\n",
       "    <tr>\n",
       "      <th>2</th>\n",
       "      <td>demand2</td>\n",
       "      <td>truck7</td>\n",
       "      <td>161.831991</td>\n",
       "      <td>22</td>\n",
       "    </tr>\n",
       "    <tr>\n",
       "      <th>3</th>\n",
       "      <td>demand2</td>\n",
       "      <td>truck8</td>\n",
       "      <td>113.778542</td>\n",
       "      <td>24</td>\n",
       "    </tr>\n",
       "    <tr>\n",
       "      <th>4</th>\n",
       "      <td>demand2</td>\n",
       "      <td>truck17</td>\n",
       "      <td>289.327111</td>\n",
       "      <td>18</td>\n",
       "    </tr>\n",
       "    <tr>\n",
       "      <th>...</th>\n",
       "      <td>...</td>\n",
       "      <td>...</td>\n",
       "      <td>...</td>\n",
       "      <td>...</td>\n",
       "    </tr>\n",
       "    <tr>\n",
       "      <th>220</th>\n",
       "      <td>demand51</td>\n",
       "      <td>truck36</td>\n",
       "      <td>298.355857</td>\n",
       "      <td>26</td>\n",
       "    </tr>\n",
       "    <tr>\n",
       "      <th>221</th>\n",
       "      <td>demand51</td>\n",
       "      <td>truck37</td>\n",
       "      <td>379.099609</td>\n",
       "      <td>22</td>\n",
       "    </tr>\n",
       "    <tr>\n",
       "      <th>222</th>\n",
       "      <td>demand51</td>\n",
       "      <td>truck43</td>\n",
       "      <td>408.808936</td>\n",
       "      <td>21</td>\n",
       "    </tr>\n",
       "    <tr>\n",
       "      <th>223</th>\n",
       "      <td>demand51</td>\n",
       "      <td>truck49</td>\n",
       "      <td>482.584417</td>\n",
       "      <td>18</td>\n",
       "    </tr>\n",
       "    <tr>\n",
       "      <th>224</th>\n",
       "      <td>demand51</td>\n",
       "      <td>truck54</td>\n",
       "      <td>160.675929</td>\n",
       "      <td>35</td>\n",
       "    </tr>\n",
       "  </tbody>\n",
       "</table>\n",
       "<p>225 rows × 4 columns</p>\n",
       "</div>"
      ],
      "text/plain": [
       "    demand_node_index truck_node_index    distance  scaled_demand\n",
       "0             demand2           truck1  231.108640             20\n",
       "1             demand2           truck6  201.157571             21\n",
       "2             demand2           truck7  161.831991             22\n",
       "3             demand2           truck8  113.778542             24\n",
       "4             demand2          truck17  289.327111             18\n",
       "..                ...              ...         ...            ...\n",
       "220          demand51          truck36  298.355857             26\n",
       "221          demand51          truck37  379.099609             22\n",
       "222          demand51          truck43  408.808936             21\n",
       "223          demand51          truck49  482.584417             18\n",
       "224          demand51          truck54  160.675929             35\n",
       "\n",
       "[225 rows x 4 columns]"
      ]
     },
     "execution_count": 9,
     "metadata": {},
     "output_type": "execute_result"
    }
   ],
   "source": [
    "df_scaled = generate_scaled_demand(df_truck_demand_pair,df_demand)\n",
    "df_scaled"
   ]
  },
  {
   "cell_type": "code",
   "execution_count": null,
   "id": "e16019e8",
   "metadata": {},
   "outputs": [],
   "source": [
    "\n"
   ]
  },
  {
   "cell_type": "markdown",
   "id": "eb466a11",
   "metadata": {},
   "source": [
    "# 3. LP Model and Solution"
   ]
  },
  {
   "cell_type": "markdown",
   "id": "9bca7ff9",
   "metadata": {},
   "source": [
    "## 3.1 Load the Data"
   ]
  },
  {
   "cell_type": "code",
   "execution_count": 10,
   "id": "d06375aa",
   "metadata": {},
   "outputs": [],
   "source": [
    "def parameter_read(df_problem,df_truck_node,df_demand,df_scaled):\n",
    "    burrito_price = float(df_problem['burrito_price'][0])\n",
    "    ingredient_cost = float(df_problem['ingredient_cost'][0])\n",
    "\n",
    "    truck_coordinates = {row['index']:(float(row['x']),float(row['y'])) for ind,row in df_truck_node.iterrows()}\n",
    "    truck_spots = truck_coordinates.keys()\n",
    "\n",
    "    buildings, building_names, building_coordinates, demand = gp.multidict({\n",
    "        row['index']: [row['name'], (float(row['x']), float(row['y'])), float(row['demand'])] for ind,row in df_demand.iterrows()\n",
    "    })\n",
    "\n",
    "    building_truck_spot_pairs, distance, scaled_demand = gp.multidict({\n",
    "        (row['demand_node_index'], row['truck_node_index']): [float(row['distance']), float(row['scaled_demand'])] for ind,row in df_scaled.iterrows() if float(row['scaled_demand'])>0# (building, truck_spot): distance, scaled_demand\n",
    "    })\n",
    "\n",
    "    return burrito_price, ingredient_cost,truck_coordinates,truck_spots,buildings,building_names,building_coordinates,demand,scaled_demand"
   ]
  },
  {
   "cell_type": "code",
   "execution_count": 11,
   "id": "7b138738",
   "metadata": {},
   "outputs": [],
   "source": [
    "# Read data in files\n",
    "burrito_price, ingredient_cost,truck_coordinates,truck_spots,buildings,building_names,building_coordinates,demand,scaled_demand = parameter_read(df_problem,df_truck_node,df_demand,df_truck_demand_pair)"
   ]
  },
  {
   "cell_type": "markdown",
   "id": "6ec9f5c4",
   "metadata": {},
   "source": [
    "## 3.2 Build Up the LP Model"
   ]
  },
  {
   "cell_type": "code",
   "execution_count": 12,
   "id": "b20da54d",
   "metadata": {},
   "outputs": [],
   "source": [
    "# ================== Expand Truck Type Data ==================\n",
    "# Define truck type attributes (0: small, 1: medium, 2: large)\n",
    "truck_types = {\n",
    "    0: {'capacity': 100, 'fixed_cost': 200},\n",
    "    1: {'capacity': 150, 'fixed_cost': 250}, \n",
    "    2: {'capacity': 200, 'fixed_cost': 300}\n",
    "}\n",
    "\n",
    "def extended_LP_solution(burrito_price, ingredient_cost, truck_types,\n",
    "                       truck_coordinates, truck_spots, buildings,\n",
    "                       building_names, building_coordinates, demand,\n",
    "                       building_truck_spot_pairs, distance, scaled_demand,\n",
    "                       work_name=\"Extended_Solution\", max_distance=500,\n",
    "                       write_lp_file=True, show_model=True, is_show_map=True):\n",
    "    \"\"\"Complete optimization model supporting multiple truck types and visualization control\"\"\"\n",
    "    # --- Initialize model ---\n",
    "    model = gp.Model(\"Extended_Truck_Deployment\")\n",
    "    model.Params.OutputFlag = int(show_model)\n",
    "    \n",
    "    # --- Decision variables ---\n",
    "    x = model.addVars(truck_types.keys(), truck_spots, vtype=GRB.BINARY, name=\"x\")\n",
    "    y = model.addVars(building_truck_spot_pairs, vtype=GRB.BINARY, name=\"y\")\n",
    "    \n",
    "    # --- Objective function ---\n",
    "    revenue = gp.quicksum(\n",
    "        (burrito_price - ingredient_cost) * scaled_demand[i,j] * y[i,j]\n",
    "        for i,j in building_truck_spot_pairs\n",
    "    )\n",
    "    cost = gp.quicksum(\n",
    "        truck_types[k]['fixed_cost'] * x[k,j]\n",
    "        for k in truck_types for j in truck_spots\n",
    "    )\n",
    "    model.setObjective(revenue - cost, GRB.MAXIMIZE)\n",
    "   # --- Fully specified constraint formulation ---\n",
    "\n",
    "    # --- Constraints ---\n",
    "    # 1. Each customer served by at most one location\n",
    "    model.addConstrs(\n",
    "        (y.sum(i,'*') <= 1 for i in buildings),\n",
    "        name=\"Single_Service\"\n",
    "    )\n",
    "    \n",
    "    # 2. Service activation constraint: Only deployed truck spots can serve customers\n",
    "    model.addConstrs(\n",
    "        (y[i,j] <= x.sum('*',j) for i,j in building_truck_spot_pairs),\n",
    "        name=\"Service_Activation\"\n",
    "    )\n",
    "    \n",
    "    # 3. Distance constraint: Service distance cannot exceed max_distance\n",
    "    model.addConstrs(\n",
    "        (y[i,j] * distance[i,j] <= max_distance for i,j in building_truck_spot_pairs),\n",
    "        name=\"Max_Distance\"\n",
    "    )\n",
    "    \n",
    "    # 4. Capacity constraint: Total demand at each location cannot exceed truck capacity\n",
    "    model.addConstrs(\n",
    "        (gp.quicksum(\n",
    "            scaled_demand[i,j] * y[i,j] \n",
    "            for i in buildings if (i,j) in building_truck_spot_pairs\n",
    "        ) <= gp.quicksum(\n",
    "            truck_types[k]['capacity'] * x[k,j] \n",
    "            for k in truck_types\n",
    "        ) for j in truck_spots),\n",
    "        name=\"Capacity\"\n",
    "    )\n",
    "    \n",
    "    # 5. Each location can deploy at most one truck type\n",
    "    model.addConstrs(\n",
    "        (x.sum('*',j) <= 1 for j in truck_spots),\n",
    "        name=\"Unique_Truck_Type\"\n",
    "    )\n",
    "    \n",
    "    # --- Model output ---\n",
    "    if write_lp_file:\n",
    "        model.write(f\"{work_name}.lp\")\n",
    "    \n",
    "    # --- Solve ---\n",
    "    model.optimize()\n",
    "    \n",
    "    # --- Results display ---\n",
    "    if show_model and model.status == GRB.OPTIMAL:\n",
    "        print(\"\\n=== Optimal Solution ===\")\n",
    "        print(f\"Total profit: ₲{model.objVal:.2f}\")\n",
    "        \n",
    "        # Truck deployment details\n",
    "        deployed_trucks = [(k,j) for k,j in x.keys() if x[k,j].X > 0.5]\n",
    "        for k,j in deployed_trucks:\n",
    "            truck_type = ['Small', 'Medium', 'Large'][k]\n",
    "            print(f\" - Deployed {truck_type} truck at location {j} (Capacity: {truck_types[k]['capacity']}, Cost: ₲{truck_types[k]['fixed_cost']})\")\n",
    "        \n",
    "        # Financial details\n",
    "        print(\"\\nFinancial breakdown:\")\n",
    "        print(f\"Total revenue: ₲{revenue.getValue():.2f}\")\n",
    "        print(f\"Total cost: ₲{cost.getValue():.2f}\")\n",
    "    \n",
    "    # --- Visualization ---\n",
    "    if is_show_map and model.status == GRB.OPTIMAL:\n",
    "        placed_trucks = [j for k,j in x.keys() if x[k,j].X > 0.5]  # Get all deployment locations\n",
    "        show_map(buildings, building_names, building_coordinates, demand, \n",
    "                truck_coordinates, placed_trucks=placed_trucks)\n",
    "    \n",
    "    return model.objVal"
   ]
  },
  {
   "cell_type": "markdown",
   "id": "08236c96",
   "metadata": {},
   "source": [
    "## 3.3 Running the Model"
   ]
  },
  {
   "cell_type": "code",
   "execution_count": 13,
   "id": "b75ce435",
   "metadata": {},
   "outputs": [
    {
     "name": "stdout",
     "output_type": "stream",
     "text": [
      "\n",
      "Solving the extanded model...\n",
      "Set parameter LicenseID to value 2652059\n",
      "Set parameter OutputFlag to value 1\n",
      "Gurobi Optimizer version 12.0.1 build v12.0.1rc0 (win64 - Windows 11.0 (26100.2))\n",
      "\n",
      "CPU model: AMD Ryzen 7 7840HS w/ Radeon 780M Graphics, instruction set [SSE2|AVX|AVX2|AVX512]\n",
      "Thread count: 8 physical cores, 16 logical processors, using up to 16 threads\n",
      "\n",
      "Optimize a model with 245 rows, 145 columns and 790 nonzeros\n",
      "Model fingerprint: 0x6a0fb15f\n",
      "Variable types: 0 continuous, 145 integer (145 binary)\n",
      "Coefficient statistics:\n",
      "  Matrix range     [1e+00, 3e+02]\n",
      "  Objective range  [5e+00, 3e+02]\n",
      "  Bounds range     [1e+00, 1e+00]\n",
      "  RHS range        [1e+00, 5e+02]\n",
      "Found heuristic solution: objective -0.0000000\n",
      "Presolve removed 126 rows and 30 columns\n",
      "Presolve time: 0.00s\n",
      "Presolved: 119 rows, 115 columns, 360 nonzeros\n",
      "Variable types: 0 continuous, 115 integer (115 binary)\n",
      "\n",
      "Root relaxation: objective 7.528571e+02, 62 iterations, 0.00 seconds (0.00 work units)\n",
      "\n",
      "    Nodes    |    Current Node    |     Objective Bounds      |     Work\n",
      " Expl Unexpl |  Obj  Depth IntInf | Incumbent    BestBd   Gap | It/Node Time\n",
      "\n",
      "     0     0  752.85714    0    2   -0.00000  752.85714      -     -    0s\n",
      "H    0     0                     515.0000000  752.85714  46.2%     -    0s\n",
      "H    0     0                     620.0000000  752.85714  21.4%     -    0s\n",
      "H    0     0                     655.0000000  752.85714  14.9%     -    0s\n",
      "H    0     0                     700.0000000  752.85714  7.55%     -    0s\n",
      "H    0     0                     715.0000000  752.85714  5.29%     -    0s\n",
      "H    0     0                     745.0000000  752.85714  1.05%     -    0s\n",
      "     0     0  752.85714    0    2  745.00000  752.85714  1.05%     -    0s\n",
      "\n",
      "Explored 1 nodes (62 simplex iterations) in 0.02 seconds (0.00 work units)\n",
      "Thread count was 16 (of 16 available processors)\n",
      "\n",
      "Solution count 7: 745 715 700 ... -0\n",
      "\n",
      "Optimal solution found (tolerance 1.00e-04)\n",
      "Best objective 7.450000000000e+02, best bound 7.450000000000e+02, gap 0.0000%\n",
      "\n",
      "=== Optimal Solution ===\n",
      "Total profit: ₲745.00\n",
      " - Deployed Small truck at location truck8 (Capacity: 100, Cost: ₲200)\n",
      " - Deployed Small truck at location truck17 (Capacity: 100, Cost: ₲200)\n",
      " - Deployed Small truck at location truck33 (Capacity: 100, Cost: ₲200)\n",
      " - Deployed Small truck at location truck37 (Capacity: 100, Cost: ₲200)\n",
      "\n",
      "Financial breakdown:\n",
      "Total revenue: ₲1545.00\n",
      "Total cost: ₲800.00\n"
     ]
    },
    {
     "data": {
      "application/vnd.plotly.v1+json": {
       "config": {
        "plotlyServerURL": "https://plot.ly"
       },
       "data": [
        {
         "hovertemplate": [
          "truck1",
          "truck6",
          "truck7",
          "truck8",
          "truck17",
          "truck27",
          "truck29",
          "truck33",
          "truck34",
          "truck35",
          "truck36",
          "truck37",
          "truck43",
          "truck49",
          "truck54"
         ],
         "marker": {
          "color": "rgba(135, 206, 250, 0.0)",
          "line": {
           "color": "darkblue",
           "width": 2
          },
          "size": 10
         },
         "mode": "markers",
         "name": "Open truck spots",
         "type": "scatter",
         "x": [
          112.75506445672193,
          56.22222222222222,
          113.0656844689994,
          164.62860650705954,
          310.62001227747083,
          173.94720687538367,
          296.0208717004297,
          393.2449355432781,
          337.9545733578883,
          288.8766114180479,
          303.16513198281154,
          209.35788827501537,
          290.42971147943524,
          492.6433394720688,
          320.5598526703499
         ],
         "y": [
          491.9332220367279,
          420.51419031719536,
          418.9616026711185,
          419.5826377295492,
          327.9799666110183,
          209.67278797996659,
          199.1151919866444,
          172.72120200333887,
          154.71118530884797,
          164.6477462437395,
          135.14858096828038,
          151.60601001669448,
          43.235392320534174,
          70.25041736227041,
          276.4340567612688
         ]
        },
        {
         "hovertemplate": [
          "truck8",
          "truck17",
          "truck33",
          "truck37"
         ],
         "marker": {
          "color": "darkblue",
          "line": {
           "color": "darkblue",
           "width": 2
          },
          "size": 10
         },
         "mode": "markers",
         "name": "Truck added to the map",
         "type": "scatter",
         "x": [
          164.62860650705954,
          310.62001227747083,
          393.2449355432781,
          209.35788827501537
         ],
         "y": [
          419.5826377295492,
          327.9799666110183,
          172.72120200333887,
          151.60601001669448
         ]
        },
        {
         "hovertemplate": [
          "ReLU Realty",
          "Reinforcement Learning Puppy Training",
          "KKT Air Conditioning",
          "George's Basic Diet Solutions",
          "Rothberg Tower",
          "Multimodal Distribution Center",
          "Callback Cat Café",
          "Vertex Tower",
          "Nonlinear Thinking Center",
          "Interior Point Decorating",
          "Scheduling Station",
          "Multi-Threads Thrift Store",
          "Land & Harcourt's B&B",
          "K-Fold Parking Validation",
          "Farkas' Lemma-nade"
         ],
         "marker": {
          "color": "red",
          "line": {
           "width": 0
          },
          "opacity": 0.5,
          "size": [
           30,
           5,
           50,
           35,
           30,
           5,
           50,
           10,
           5,
           40,
           5,
           50,
           25,
           30,
           50
          ]
         },
         "mode": "markers",
         "name": "Buildings with customer demand",
         "type": "scatter",
         "x": [
          190.72068753836712,
          284.8385512584408,
          256.57213014119094,
          213.70656844689995,
          129.21792510742787,
          68.02578268876611,
          187.6144874155924,
          342.92449355432785,
          356.2811540822591,
          267.1332105586249,
          359.3873542050338,
          416.2308164518109,
          375.2289748311848,
          233.89686924493557,
          391.38121546961327
         ],
         "y": [
          477.338898163606,
          361.20534223706176,
          391.9465776293823,
          389.46243739565944,
          381.38898163606007,
          320.21702838063436,
          327.3589315525876,
          318.6644407345576,
          232.9616026711185,
          187.93656093489147,
          186.0734557595993,
          107.20200333889812,
          58.761268781302135,
          69.31886477462433,
          364
         ]
        }
       ],
       "layout": {
        "images": [
         {
          "layer": "below",
          "opacity": 0.9,
          "sizex": 500,
          "sizey": 550,
          "sizing": "stretch",
          "source": "data:image/png;base64,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",
          "x": 0,
          "xref": "x",
          "y": 550,
          "yref": "y"
         }
        ],
        "showlegend": true,
        "template": {
         "data": {
          "bar": [
           {
            "error_x": {
             "color": "rgb(36,36,36)"
            },
            "error_y": {
             "color": "rgb(36,36,36)"
            },
            "marker": {
             "line": {
              "color": "white",
              "width": 0.5
             },
             "pattern": {
              "fillmode": "overlay",
              "size": 10,
              "solidity": 0.2
             }
            },
            "type": "bar"
           }
          ],
          "barpolar": [
           {
            "marker": {
             "line": {
              "color": "white",
              "width": 0.5
             },
             "pattern": {
              "fillmode": "overlay",
              "size": 10,
              "solidity": 0.2
             }
            },
            "type": "barpolar"
           }
          ],
          "carpet": [
           {
            "aaxis": {
             "endlinecolor": "rgb(36,36,36)",
             "gridcolor": "white",
             "linecolor": "white",
             "minorgridcolor": "white",
             "startlinecolor": "rgb(36,36,36)"
            },
            "baxis": {
             "endlinecolor": "rgb(36,36,36)",
             "gridcolor": "white",
             "linecolor": "white",
             "minorgridcolor": "white",
             "startlinecolor": "rgb(36,36,36)"
            },
            "type": "carpet"
           }
          ],
          "choropleth": [
           {
            "colorbar": {
             "outlinewidth": 1,
             "tickcolor": "rgb(36,36,36)",
             "ticks": "outside"
            },
            "type": "choropleth"
           }
          ],
          "contour": [
           {
            "colorbar": {
             "outlinewidth": 1,
             "tickcolor": "rgb(36,36,36)",
             "ticks": "outside"
            },
            "colorscale": [
             [
              0,
              "#440154"
             ],
             [
              0.1111111111111111,
              "#482878"
             ],
             [
              0.2222222222222222,
              "#3e4989"
             ],
             [
              0.3333333333333333,
              "#31688e"
             ],
             [
              0.4444444444444444,
              "#26828e"
             ],
             [
              0.5555555555555556,
              "#1f9e89"
             ],
             [
              0.6666666666666666,
              "#35b779"
             ],
             [
              0.7777777777777778,
              "#6ece58"
             ],
             [
              0.8888888888888888,
              "#b5de2b"
             ],
             [
              1,
              "#fde725"
             ]
            ],
            "type": "contour"
           }
          ],
          "contourcarpet": [
           {
            "colorbar": {
             "outlinewidth": 1,
             "tickcolor": "rgb(36,36,36)",
             "ticks": "outside"
            },
            "type": "contourcarpet"
           }
          ],
          "heatmap": [
           {
            "colorbar": {
             "outlinewidth": 1,
             "tickcolor": "rgb(36,36,36)",
             "ticks": "outside"
            },
            "colorscale": [
             [
              0,
              "#440154"
             ],
             [
              0.1111111111111111,
              "#482878"
             ],
             [
              0.2222222222222222,
              "#3e4989"
             ],
             [
              0.3333333333333333,
              "#31688e"
             ],
             [
              0.4444444444444444,
              "#26828e"
             ],
             [
              0.5555555555555556,
              "#1f9e89"
             ],
             [
              0.6666666666666666,
              "#35b779"
             ],
             [
              0.7777777777777778,
              "#6ece58"
             ],
             [
              0.8888888888888888,
              "#b5de2b"
             ],
             [
              1,
              "#fde725"
             ]
            ],
            "type": "heatmap"
           }
          ],
          "histogram": [
           {
            "marker": {
             "line": {
              "color": "white",
              "width": 0.6
             }
            },
            "type": "histogram"
           }
          ],
          "histogram2d": [
           {
            "colorbar": {
             "outlinewidth": 1,
             "tickcolor": "rgb(36,36,36)",
             "ticks": "outside"
            },
            "colorscale": [
             [
              0,
              "#440154"
             ],
             [
              0.1111111111111111,
              "#482878"
             ],
             [
              0.2222222222222222,
              "#3e4989"
             ],
             [
              0.3333333333333333,
              "#31688e"
             ],
             [
              0.4444444444444444,
              "#26828e"
             ],
             [
              0.5555555555555556,
              "#1f9e89"
             ],
             [
              0.6666666666666666,
              "#35b779"
             ],
             [
              0.7777777777777778,
              "#6ece58"
             ],
             [
              0.8888888888888888,
              "#b5de2b"
             ],
             [
              1,
              "#fde725"
             ]
            ],
            "type": "histogram2d"
           }
          ],
          "histogram2dcontour": [
           {
            "colorbar": {
             "outlinewidth": 1,
             "tickcolor": "rgb(36,36,36)",
             "ticks": "outside"
            },
            "colorscale": [
             [
              0,
              "#440154"
             ],
             [
              0.1111111111111111,
              "#482878"
             ],
             [
              0.2222222222222222,
              "#3e4989"
             ],
             [
              0.3333333333333333,
              "#31688e"
             ],
             [
              0.4444444444444444,
              "#26828e"
             ],
             [
              0.5555555555555556,
              "#1f9e89"
             ],
             [
              0.6666666666666666,
              "#35b779"
             ],
             [
              0.7777777777777778,
              "#6ece58"
             ],
             [
              0.8888888888888888,
              "#b5de2b"
             ],
             [
              1,
              "#fde725"
             ]
            ],
            "type": "histogram2dcontour"
           }
          ],
          "mesh3d": [
           {
            "colorbar": {
             "outlinewidth": 1,
             "tickcolor": "rgb(36,36,36)",
             "ticks": "outside"
            },
            "type": "mesh3d"
           }
          ],
          "parcoords": [
           {
            "line": {
             "colorbar": {
              "outlinewidth": 1,
              "tickcolor": "rgb(36,36,36)",
              "ticks": "outside"
             }
            },
            "type": "parcoords"
           }
          ],
          "pie": [
           {
            "automargin": true,
            "type": "pie"
           }
          ],
          "scatter": [
           {
            "fillpattern": {
             "fillmode": "overlay",
             "size": 10,
             "solidity": 0.2
            },
            "type": "scatter"
           }
          ],
          "scatter3d": [
           {
            "line": {
             "colorbar": {
              "outlinewidth": 1,
              "tickcolor": "rgb(36,36,36)",
              "ticks": "outside"
             }
            },
            "marker": {
             "colorbar": {
              "outlinewidth": 1,
              "tickcolor": "rgb(36,36,36)",
              "ticks": "outside"
             }
            },
            "type": "scatter3d"
           }
          ],
          "scattercarpet": [
           {
            "marker": {
             "colorbar": {
              "outlinewidth": 1,
              "tickcolor": "rgb(36,36,36)",
              "ticks": "outside"
             }
            },
            "type": "scattercarpet"
           }
          ],
          "scattergeo": [
           {
            "marker": {
             "colorbar": {
              "outlinewidth": 1,
              "tickcolor": "rgb(36,36,36)",
              "ticks": "outside"
             }
            },
            "type": "scattergeo"
           }
          ],
          "scattergl": [
           {
            "marker": {
             "colorbar": {
              "outlinewidth": 1,
              "tickcolor": "rgb(36,36,36)",
              "ticks": "outside"
             }
            },
            "type": "scattergl"
           }
          ],
          "scattermap": [
           {
            "marker": {
             "colorbar": {
              "outlinewidth": 1,
              "tickcolor": "rgb(36,36,36)",
              "ticks": "outside"
             }
            },
            "type": "scattermap"
           }
          ],
          "scattermapbox": [
           {
            "marker": {
             "colorbar": {
              "outlinewidth": 1,
              "tickcolor": "rgb(36,36,36)",
              "ticks": "outside"
             }
            },
            "type": "scattermapbox"
           }
          ],
          "scatterpolar": [
           {
            "marker": {
             "colorbar": {
              "outlinewidth": 1,
              "tickcolor": "rgb(36,36,36)",
              "ticks": "outside"
             }
            },
            "type": "scatterpolar"
           }
          ],
          "scatterpolargl": [
           {
            "marker": {
             "colorbar": {
              "outlinewidth": 1,
              "tickcolor": "rgb(36,36,36)",
              "ticks": "outside"
             }
            },
            "type": "scatterpolargl"
           }
          ],
          "scatterternary": [
           {
            "marker": {
             "colorbar": {
              "outlinewidth": 1,
              "tickcolor": "rgb(36,36,36)",
              "ticks": "outside"
             }
            },
            "type": "scatterternary"
           }
          ],
          "surface": [
           {
            "colorbar": {
             "outlinewidth": 1,
             "tickcolor": "rgb(36,36,36)",
             "ticks": "outside"
            },
            "colorscale": [
             [
              0,
              "#440154"
             ],
             [
              0.1111111111111111,
              "#482878"
             ],
             [
              0.2222222222222222,
              "#3e4989"
             ],
             [
              0.3333333333333333,
              "#31688e"
             ],
             [
              0.4444444444444444,
              "#26828e"
             ],
             [
              0.5555555555555556,
              "#1f9e89"
             ],
             [
              0.6666666666666666,
              "#35b779"
             ],
             [
              0.7777777777777778,
              "#6ece58"
             ],
             [
              0.8888888888888888,
              "#b5de2b"
             ],
             [
              1,
              "#fde725"
             ]
            ],
            "type": "surface"
           }
          ],
          "table": [
           {
            "cells": {
             "fill": {
              "color": "rgb(237,237,237)"
             },
             "line": {
              "color": "white"
             }
            },
            "header": {
             "fill": {
              "color": "rgb(217,217,217)"
             },
             "line": {
              "color": "white"
             }
            },
            "type": "table"
           }
          ]
         },
         "layout": {
          "annotationdefaults": {
           "arrowhead": 0,
           "arrowwidth": 1
          },
          "autotypenumbers": "strict",
          "coloraxis": {
           "colorbar": {
            "outlinewidth": 1,
            "tickcolor": "rgb(36,36,36)",
            "ticks": "outside"
           }
          },
          "colorscale": {
           "diverging": [
            [
             0,
             "rgb(103,0,31)"
            ],
            [
             0.1,
             "rgb(178,24,43)"
            ],
            [
             0.2,
             "rgb(214,96,77)"
            ],
            [
             0.3,
             "rgb(244,165,130)"
            ],
            [
             0.4,
             "rgb(253,219,199)"
            ],
            [
             0.5,
             "rgb(247,247,247)"
            ],
            [
             0.6,
             "rgb(209,229,240)"
            ],
            [
             0.7,
             "rgb(146,197,222)"
            ],
            [
             0.8,
             "rgb(67,147,195)"
            ],
            [
             0.9,
             "rgb(33,102,172)"
            ],
            [
             1,
             "rgb(5,48,97)"
            ]
           ],
           "sequential": [
            [
             0,
             "#440154"
            ],
            [
             0.1111111111111111,
             "#482878"
            ],
            [
             0.2222222222222222,
             "#3e4989"
            ],
            [
             0.3333333333333333,
             "#31688e"
            ],
            [
             0.4444444444444444,
             "#26828e"
            ],
            [
             0.5555555555555556,
             "#1f9e89"
            ],
            [
             0.6666666666666666,
             "#35b779"
            ],
            [
             0.7777777777777778,
             "#6ece58"
            ],
            [
             0.8888888888888888,
             "#b5de2b"
            ],
            [
             1,
             "#fde725"
            ]
           ],
           "sequentialminus": [
            [
             0,
             "#440154"
            ],
            [
             0.1111111111111111,
             "#482878"
            ],
            [
             0.2222222222222222,
             "#3e4989"
            ],
            [
             0.3333333333333333,
             "#31688e"
            ],
            [
             0.4444444444444444,
             "#26828e"
            ],
            [
             0.5555555555555556,
             "#1f9e89"
            ],
            [
             0.6666666666666666,
             "#35b779"
            ],
            [
             0.7777777777777778,
             "#6ece58"
            ],
            [
             0.8888888888888888,
             "#b5de2b"
            ],
            [
             1,
             "#fde725"
            ]
           ]
          },
          "colorway": [
           "#1F77B4",
           "#FF7F0E",
           "#2CA02C",
           "#D62728",
           "#9467BD",
           "#8C564B",
           "#E377C2",
           "#7F7F7F",
           "#BCBD22",
           "#17BECF"
          ],
          "font": {
           "color": "rgb(36,36,36)"
          },
          "geo": {
           "bgcolor": "white",
           "lakecolor": "white",
           "landcolor": "white",
           "showlakes": true,
           "showland": true,
           "subunitcolor": "white"
          },
          "hoverlabel": {
           "align": "left"
          },
          "hovermode": "closest",
          "mapbox": {
           "style": "light"
          },
          "paper_bgcolor": "white",
          "plot_bgcolor": "white",
          "polar": {
           "angularaxis": {
            "gridcolor": "rgb(232,232,232)",
            "linecolor": "rgb(36,36,36)",
            "showgrid": false,
            "showline": true,
            "ticks": "outside"
           },
           "bgcolor": "white",
           "radialaxis": {
            "gridcolor": "rgb(232,232,232)",
            "linecolor": "rgb(36,36,36)",
            "showgrid": false,
            "showline": true,
            "ticks": "outside"
           }
          },
          "scene": {
           "xaxis": {
            "backgroundcolor": "white",
            "gridcolor": "rgb(232,232,232)",
            "gridwidth": 2,
            "linecolor": "rgb(36,36,36)",
            "showbackground": true,
            "showgrid": false,
            "showline": true,
            "ticks": "outside",
            "zeroline": false,
            "zerolinecolor": "rgb(36,36,36)"
           },
           "yaxis": {
            "backgroundcolor": "white",
            "gridcolor": "rgb(232,232,232)",
            "gridwidth": 2,
            "linecolor": "rgb(36,36,36)",
            "showbackground": true,
            "showgrid": false,
            "showline": true,
            "ticks": "outside",
            "zeroline": false,
            "zerolinecolor": "rgb(36,36,36)"
           },
           "zaxis": {
            "backgroundcolor": "white",
            "gridcolor": "rgb(232,232,232)",
            "gridwidth": 2,
            "linecolor": "rgb(36,36,36)",
            "showbackground": true,
            "showgrid": false,
            "showline": true,
            "ticks": "outside",
            "zeroline": false,
            "zerolinecolor": "rgb(36,36,36)"
           }
          },
          "shapedefaults": {
           "fillcolor": "black",
           "line": {
            "width": 0
           },
           "opacity": 0.3
          },
          "ternary": {
           "aaxis": {
            "gridcolor": "rgb(232,232,232)",
            "linecolor": "rgb(36,36,36)",
            "showgrid": false,
            "showline": true,
            "ticks": "outside"
           },
           "baxis": {
            "gridcolor": "rgb(232,232,232)",
            "linecolor": "rgb(36,36,36)",
            "showgrid": false,
            "showline": true,
            "ticks": "outside"
           },
           "bgcolor": "white",
           "caxis": {
            "gridcolor": "rgb(232,232,232)",
            "linecolor": "rgb(36,36,36)",
            "showgrid": false,
            "showline": true,
            "ticks": "outside"
           }
          },
          "title": {
           "x": 0.05
          },
          "xaxis": {
           "automargin": true,
           "gridcolor": "rgb(232,232,232)",
           "linecolor": "rgb(36,36,36)",
           "showgrid": false,
           "showline": true,
           "ticks": "outside",
           "title": {
            "standoff": 15
           },
           "zeroline": false,
           "zerolinecolor": "rgb(36,36,36)"
          },
          "yaxis": {
           "automargin": true,
           "gridcolor": "rgb(232,232,232)",
           "linecolor": "rgb(36,36,36)",
           "showgrid": false,
           "showline": true,
           "ticks": "outside",
           "title": {
            "standoff": 15
           },
           "zeroline": false,
           "zerolinecolor": "rgb(36,36,36)"
          }
         }
        },
        "title": {
         "text": "Burrito Optimization Game Map"
        },
        "xaxis": {
         "range": [
          0,
          500
         ],
         "visible": false
        },
        "yaxis": {
         "range": [
          0,
          550
         ],
         "scaleanchor": "x",
         "scaleratio": 1,
         "visible": false
        }
       }
      }
     },
     "metadata": {},
     "output_type": "display_data"
    }
   ],
   "source": [
    "\n",
    "# ================== Application Example ==================\n",
    "print(\"\\nSolving the extanded model...\")\n",
    "optimal_value = extended_LP_solution(\n",
    "    burrito_price, ingredient_cost, truck_types,\n",
    "    truck_coordinates, truck_spots, buildings,\n",
    "    building_names, building_coordinates, demand,\n",
    "    building_truck_spot_pairs, distance, scaled_demand,\n",
    "    work_name=\"Extended_Solution\",\n",
    "    max_distance=500,\n",
    "    write_lp_file=True,\n",
    "    show_model=True,\n",
    "    is_show_map=True\n",
    ")"
   ]
  }
 ],
 "metadata": {
  "kernelspec": {
   "display_name": "Python (py39)",
   "language": "python",
   "name": "py39"
  },
  "language_info": {
   "codemirror_mode": {
    "name": "ipython",
    "version": 3
   },
   "file_extension": ".py",
   "mimetype": "text/x-python",
   "name": "python",
   "nbconvert_exporter": "python",
   "pygments_lexer": "ipython3",
   "version": "3.9.15"
  }
 },
 "nbformat": 4,
 "nbformat_minor": 5
}
